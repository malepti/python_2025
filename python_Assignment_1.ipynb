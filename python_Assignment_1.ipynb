{
 "cells": [
  {
   "cell_type": "code",
   "execution_count": 9,
   "id": "57ed993e-82f3-4065-bc51-53ff594b0afc",
   "metadata": {},
   "outputs": [
    {
     "name": "stdin",
     "output_type": "stream",
     "text": [
      "enter the number 5\n"
     ]
    },
    {
     "name": "stdout",
     "output_type": "stream",
     "text": [
      "square of the 5 is 25\n"
     ]
    }
   ],
   "source": [
    "# 1 que ans\n",
    "import math\n",
    "num=int(input('enter the number'))\n",
    "num1=num*num\n",
    "print(f'square of the {num} is {num1}')\n"
   ]
  },
  {
   "cell_type": "code",
   "execution_count": 11,
   "id": "fb0b3452-1a67-497e-a6b0-1a378826caa7",
   "metadata": {},
   "outputs": [
    {
     "name": "stdin",
     "output_type": "stream",
     "text": [
      "enter the number 7\n"
     ]
    },
    {
     "name": "stdout",
     "output_type": "stream",
     "text": [
      "7---14---21---28---35\n"
     ]
    }
   ],
   "source": [
    "# 2 que ans\n",
    "num=eval(input('enter the number'))\n",
    "print(f'{num*1}---{num*2}---{num*3}---{num*4}---{num*5}')\n",
    "    "
   ]
  },
  {
   "cell_type": "code",
   "execution_count": 15,
   "id": "21c0e3f0-57bf-4392-86d1-630db37be40a",
   "metadata": {},
   "outputs": [
    {
     "name": "stdin",
     "output_type": "stream",
     "text": [
      "enter your weight 50\n"
     ]
    },
    {
     "name": "stdout",
     "output_type": "stream",
     "text": [
      "kilogram=50== pounds=110.00000000000001\n"
     ]
    }
   ],
   "source": [
    "# 3 que ans\n",
    "weight=eval(input('enter your weight'))\n",
    "pounds=weight*2.2\n",
    "print(f'kilogram={weight}== pounds={pounds}')"
   ]
  },
  {
   "cell_type": "code",
   "execution_count": 17,
   "id": "a9d918b4-7965-4ff2-b16b-6ac05595af05",
   "metadata": {},
   "outputs": [
    {
     "name": "stdin",
     "output_type": "stream",
     "text": [
      "enter the number1 25\n",
      "enter the number2 45\n",
      "enter the number3 50\n"
     ]
    },
    {
     "name": "stdout",
     "output_type": "stream",
     "text": [
      "the total of values:120 and average40.0\n"
     ]
    }
   ],
   "source": [
    "# 4 que ans\n",
    "num1=eval(input('enter the number1'))\n",
    "num2=eval(input('enter the number2'))\n",
    "num3=eval(input('enter the number3'))\n",
    "total=num1+num2+num3\n",
    "avg=(num1+num2+num3)/3\n",
    "print(f'the total of values:{total} and average{avg}')"
   ]
  },
  {
   "cell_type": "code",
   "execution_count": 31,
   "id": "368b7adb-d003-4828-b55e-b563ad2d49bd",
   "metadata": {},
   "outputs": [
    {
     "name": "stdin",
     "output_type": "stream",
     "text": [
      "enter the bill amount 2500\n",
      "enter the tip percentage 12\n"
     ]
    },
    {
     "name": "stdout",
     "output_type": "stream",
     "text": [
      "the total bill amount include tip 2800.0\n"
     ]
    }
   ],
   "source": [
    "# 5 que ans\n",
    "bill_amount=eval(input('enter the bill amount'))\n",
    "tip_per=eval(input('enter the tip percentage'))\n",
    "tip_amount=tip_per/100*bill_amount\n",
    "total_amount=bill_amount+tip_amount\n",
    "print(f'the total bill amount include tip {total_amount}')"
   ]
  },
  {
   "cell_type": "code",
   "execution_count": 37,
   "id": "6b60e011-7ae3-434f-b8df-797ea9bad8c0",
   "metadata": {},
   "outputs": [
    {
     "name": "stdin",
     "output_type": "stream",
     "text": [
      "enter the number1 10\n",
      "enter the number2 5\n"
     ]
    },
    {
     "name": "stdout",
     "output_type": "stream",
     "text": [
      "sum of two numbers12\n",
      "sub of two numbers5\n",
      "mul of two numbers50\n",
      "div of two numbers2.0\n",
      "\n"
     ]
    }
   ],
   "source": [
    "# 6 que ans\n",
    "num1=eval(input('enter the number1'))\n",
    "num2=eval(input('enter the number2'))\n",
    "print(f'sum of two numbers{num+num2}\\nsub of two numbers{num1-num2}\\nmul of two numbers{num1*num2}\\ndiv of two numbers{num1/num2}\\n')"
   ]
  },
  {
   "cell_type": "code",
   "execution_count": 43,
   "id": "ef54adf0-cee2-42a1-9720-a41894548f30",
   "metadata": {},
   "outputs": [
    {
     "name": "stdin",
     "output_type": "stream",
     "text": [
      "enter the radius 5 \n",
      "enter pi value 3.14\n"
     ]
    },
    {
     "name": "stdout",
     "output_type": "stream",
     "text": [
      "area of circle78.5\n"
     ]
    }
   ],
   "source": [
    "# 7 que ans\n",
    "radius=eval(input('enter the radius'))\n",
    "pi=eval(input('enter pi value'))\n",
    "area=pi*radius*radius\n",
    "print(f'area of circle{area}')"
   ]
  },
  {
   "cell_type": "code",
   "execution_count": 47,
   "id": "8e3d77d4-9a7b-4410-b3c2-cbbb2b09b2c0",
   "metadata": {},
   "outputs": [
    {
     "name": "stdin",
     "output_type": "stream",
     "text": [
      "enter dollors amount 20\n"
     ]
    },
    {
     "name": "stdout",
     "output_type": "stream",
     "text": [
      "the amount in rupees 1682.6\n"
     ]
    }
   ],
   "source": [
    "# 8 que ans \n",
    "dollars=eval(input('enter dollors amount'))\n",
    "ind_rs=round(dollars*84.13,2)\n",
    "print(f'the amount in rupees {ind_rs}')"
   ]
  },
  {
   "cell_type": "code",
   "execution_count": 51,
   "id": "f9bb76c6-eb03-4831-8c92-444f87244f28",
   "metadata": {},
   "outputs": [
    {
     "name": "stdin",
     "output_type": "stream",
     "text": [
      "enter the base value 3\n",
      "enter the height value 5\n"
     ]
    },
    {
     "name": "stdout",
     "output_type": "stream",
     "text": [
      "area of rectangle 7.5\n"
     ]
    }
   ],
   "source": [
    "# 9 que ans\n",
    "base=eval(input('enter the base value'))\n",
    "height=eval(input('enter the height value'))\n",
    "area=(height*base)/2\n",
    "print(f'area of rectangle {area}')"
   ]
  },
  {
   "cell_type": "code",
   "execution_count": 53,
   "id": "0d0ffbeb-0861-452a-a957-e22a8bea6fff",
   "metadata": {},
   "outputs": [
    {
     "name": "stdin",
     "output_type": "stream",
     "text": [
      "enter length 4\n",
      "enter braedth 5\n"
     ]
    },
    {
     "name": "stdout",
     "output_type": "stream",
     "text": [
      "area of rectangle20\n"
     ]
    }
   ],
   "source": [
    "# 10 que ans\n",
    "length=eval(input('enter length'))\n",
    "breadth=eval(input('enter braedth'))\n",
    "area=length*breadth\n",
    "print(f'area of rectangle{area}')"
   ]
  },
  {
   "cell_type": "code",
   "execution_count": 61,
   "id": "7f44488d-8178-442b-97b6-ed3356628c7c",
   "metadata": {},
   "outputs": [
    {
     "name": "stdin",
     "output_type": "stream",
     "text": [
      "father:  hey baby\n",
      "daughter: hello daddy\n",
      "father: i heard your exams are over what about results\n",
      "daughter: yes dad! results are out\n",
      "father: what is the percentage\n",
      "daughter: i will give my marks subject wise yu tell me the percentage\n",
      "father: okay\n",
      "telugu 95\n",
      "hindi 98\n",
      "english 99\n",
      "maths 89\n",
      "science 100\n",
      "daughter: dad now tell me the percentage of my marks i got\n",
      "father: tell me the max marks in each subject\n",
      "daughter: 100\n"
     ]
    },
    {
     "name": "stdout",
     "output_type": "stream",
     "text": [
      "the total percentage is :96%\n"
     ]
    }
   ],
   "source": [
    "# 11 que ans\n",
    "input('father:')\n",
    "input('daughter:')\n",
    "input('father:')\n",
    "input('daughter:')\n",
    "input('father:')\n",
    "input('daughter:')\n",
    "input('father:')\n",
    "tel=eval(input('telugu'))\n",
    "hin=eval(input('hindi'))\n",
    "eng=eval(input('english'))\n",
    "mat=eval(input('maths'))\n",
    "sc=eval(input('science'))\n",
    "input('daughter:')\n",
    "input('father:')\n",
    "max_marks=eval(input(\"daughter:\"))\n",
    "total_per=round((tel+hin+eng+mat+sc)/5)\n",
    "print(f'the total percentage is :{total_per}%')"
   ]
  },
  {
   "cell_type": "raw",
   "id": "38f3b05c-e6a4-4af9-a9ff-51c719afb0da",
   "metadata": {},
   "source": []
  }
 ],
 "metadata": {
  "kernelspec": {
   "display_name": "Python 3 (ipykernel)",
   "language": "python",
   "name": "python3"
  },
  "language_info": {
   "codemirror_mode": {
    "name": "ipython",
    "version": 3
   },
   "file_extension": ".py",
   "mimetype": "text/x-python",
   "name": "python",
   "nbconvert_exporter": "python",
   "pygments_lexer": "ipython3",
   "version": "3.12.4"
  }
 },
 "nbformat": 4,
 "nbformat_minor": 5
}
