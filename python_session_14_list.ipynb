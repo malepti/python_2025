{
 "cells": [
  {
   "cell_type": "markdown",
   "id": "fb9e4b89-30cb-4c60-a3da-75ec522be7df",
   "metadata": {},
   "source": [
    "# **List**\n",
    "- how to intialize the strings\n",
    "- in built sunctions\n",
    "  - type\n",
    "  - print\n",
    "  - len\n",
    "  - max\n",
    "  - min\n",
    "  - reversed\n",
    "  - sorted\n",
    "- index operations\n",
    "- concatenation\n",
    "- mutable / immutable\n",
    "- slicingble\r\n",
    "slicing"
   ]
  },
  {
   "cell_type": "markdown",
   "id": "373f53c3-e9d3-4c2b-9706-a6dc72d3de2c",
   "metadata": {},
   "source": [
    "- list means array of element\n",
    "- list can access any data type together\n",
    "- list can represent with any data type of elements\n",
    "- duplicates are allowedin the list"
   ]
  },
  {
   "cell_type": "markdown",
   "id": "55cb408a-f0f9-4e91-90a8-d123e630c1d5",
   "metadata": {},
   "source": [
    "# create as many as lists with different data types\n"
   ]
  },
  {
   "cell_type": "code",
   "execution_count": 5,
   "id": "46c7cc42-a794-48bc-88c4-4f29d91064da",
   "metadata": {},
   "outputs": [
    {
     "data": {
      "text/plain": [
       "list"
      ]
     },
     "execution_count": 5,
     "metadata": {},
     "output_type": "execute_result"
    }
   ],
   "source": [
    "l1=[1,2,3]\n",
    "type(l1)"
   ]
  },
  {
   "cell_type": "code",
   "execution_count": 7,
   "id": "9eccd199-2230-4e69-a889-e6e624bd81d2",
   "metadata": {},
   "outputs": [
    {
     "data": {
      "text/plain": [
       "['a', 'b']"
      ]
     },
     "execution_count": 7,
     "metadata": {},
     "output_type": "execute_result"
    }
   ],
   "source": [
    "l2=[\"a\",\"b\"]\n",
    "l2"
   ]
  },
  {
   "cell_type": "code",
   "execution_count": 9,
   "id": "0b437178-4e8e-4b5e-8eae-9ee76799fe22",
   "metadata": {},
   "outputs": [
    {
     "data": {
      "text/plain": [
       "[1, 2, 3, 'a', 'b']"
      ]
     },
     "execution_count": 9,
     "metadata": {},
     "output_type": "execute_result"
    }
   ],
   "source": [
    "l3=[1,2,3,\"a\",\"b\"]\n",
    "l3"
   ]
  },
  {
   "cell_type": "code",
   "execution_count": 11,
   "id": "d8891077-88dd-4041-91eb-15a1b37567d2",
   "metadata": {},
   "outputs": [
    {
     "data": {
      "text/plain": [
       "list"
      ]
     },
     "execution_count": 11,
     "metadata": {},
     "output_type": "execute_result"
    }
   ],
   "source": [
    "l4=[1,\"a\",True,False,5.5]\n",
    "type(l4)"
   ]
  },
  {
   "cell_type": "code",
   "execution_count": 13,
   "id": "7fe8c914-8013-4778-ac99-5c63eb49ad2f",
   "metadata": {},
   "outputs": [
    {
     "ename": "SyntaxError",
     "evalue": "invalid syntax (2857416314.py, line 1)",
     "output_type": "error",
     "traceback": [
      "\u001b[1;36m  Cell \u001b[1;32mIn[13], line 1\u001b[1;36m\u001b[0m\n\u001b[1;33m    l5=[False,@,$,4]\u001b[0m\n\u001b[1;37m              ^\u001b[0m\n\u001b[1;31mSyntaxError\u001b[0m\u001b[1;31m:\u001b[0m invalid syntax\n"
     ]
    }
   ],
   "source": [
    "l5=[False,@,$,4]\n",
    "l5\n",
    "type(l5)"
   ]
  },
  {
   "cell_type": "code",
   "execution_count": 21,
   "id": "9a880d65-a1ef-47a8-a1ca-8124c2d6fb3b",
   "metadata": {},
   "outputs": [
    {
     "data": {
      "text/plain": [
       "list"
      ]
     },
     "execution_count": 21,
     "metadata": {},
     "output_type": "execute_result"
    }
   ],
   "source": [
    "l5=['a',False,2,5.8,2+3j]\n",
    "type(l5)"
   ]
  },
  {
   "cell_type": "code",
   "execution_count": 23,
   "id": "cea2c2ef-9f97-4136-9e47-0d8611a5555f",
   "metadata": {},
   "outputs": [
    {
     "data": {
      "text/plain": [
       "[10, 10, 10]"
      ]
     },
     "execution_count": 23,
     "metadata": {},
     "output_type": "execute_result"
    }
   ],
   "source": [
    "l5=[10,10,10]\n",
    "l5"
   ]
  },
  {
   "cell_type": "code",
   "execution_count": 25,
   "id": "d0daf7d0-ce5f-402b-a01f-f76fa23a7822",
   "metadata": {},
   "outputs": [
    {
     "data": {
      "text/plain": [
       "[10, 20, 30, ['a', 'b']]"
      ]
     },
     "execution_count": 25,
     "metadata": {},
     "output_type": "execute_result"
    }
   ],
   "source": [
    "l6=[10,20,30,[\"a\",\"b\"]]\n",
    "l6"
   ]
  },
  {
   "cell_type": "code",
   "execution_count": 27,
   "id": "f7f5dd43-160d-4788-9baa-6eb314764443",
   "metadata": {},
   "outputs": [
    {
     "data": {
      "text/plain": [
       "[]"
      ]
     },
     "execution_count": 27,
     "metadata": {},
     "output_type": "execute_result"
    }
   ],
   "source": [
    "l7=[]\n",
    "l7"
   ]
  },
  {
   "cell_type": "code",
   "execution_count": 41,
   "id": "a4d4b43e-ab7c-4070-8bf6-5d0612f52eee",
   "metadata": {},
   "outputs": [
    {
     "data": {
      "text/plain": [
       "['{\"dataframes\": [], \"user\": \"prasanna\"}']"
      ]
     },
     "execution_count": 41,
     "metadata": {},
     "output_type": "execute_result"
    }
   ],
   "source": [
    "l8=[_]\n",
    "l8\n",
    "# _ underscore means a varibale "
   ]
  },
  {
   "cell_type": "code",
   "execution_count": null,
   "id": "f922516e-41b3-45c9-97c5-c8d0962076bd",
   "metadata": {},
   "outputs": [],
   "source": [
    "[python] # it gives error\n",
    "[_] # it works "
   ]
  },
  {
   "cell_type": "code",
   "execution_count": null,
   "id": "8e0f8e80-ef14-4940-86b0-df987f9db2ef",
   "metadata": {},
   "outputs": [],
   "source": [
    "l1=[1,2,3]\n",
    "l2=[\"a\",\"b\"]\n",
    "l3=[1,2,3,\"a\",\"b\"]\n",
    "l4=[1,\"a\",True,False,5.5]\n",
    "l5=['a',False,2,5.8,2+3j]\n",
    "l6=[10,20,30,[\"a\",\"b\"]]\n",
    "l7=[]\n",
    "l8=[_]"
   ]
  },
  {
   "cell_type": "markdown",
   "id": "8d5be7ba-d312-496c-ac88-1dda0d19ba31",
   "metadata": {},
   "source": [
    "- list can access with square brackets\n",
    "- list can have any data type of elements\n",
    "  - heterogenius means not same data types\n",
    "  - homogenius means same data type\n",
    "- list can have duplicates\n",
    "- list in list is possible\n",
    "- empty list can also possible\n",
    "- the values inside the list is called elements"
   ]
  },
  {
   "cell_type": "code",
   "execution_count": 46,
   "id": "2ce181db-1f6e-426c-bb2f-8ac8ba4810a8",
   "metadata": {},
   "outputs": [
    {
     "data": {
      "text/plain": [
       "3"
      ]
     },
     "execution_count": 46,
     "metadata": {},
     "output_type": "execute_result"
    }
   ],
   "source": [
    "l1=[1,2,3]\n",
    "len(l1)"
   ]
  },
  {
   "cell_type": "code",
   "execution_count": 48,
   "id": "156fb8e6-fc1e-42c5-9b05-f81deed0e176",
   "metadata": {},
   "outputs": [
    {
     "data": {
      "text/plain": [
       "3"
      ]
     },
     "execution_count": 48,
     "metadata": {},
     "output_type": "execute_result"
    }
   ],
   "source": [
    "max(l1)"
   ]
  },
  {
   "cell_type": "code",
   "execution_count": 50,
   "id": "4705ed09-bc55-4b94-9df2-1581f0f92777",
   "metadata": {},
   "outputs": [
    {
     "data": {
      "text/plain": [
       "1"
      ]
     },
     "execution_count": 50,
     "metadata": {},
     "output_type": "execute_result"
    }
   ],
   "source": [
    "min(l1)"
   ]
  },
  {
   "cell_type": "code",
   "execution_count": 52,
   "id": "71046d80-276a-43fa-9cc7-5cb4ee105fb3",
   "metadata": {},
   "outputs": [
    {
     "data": {
      "text/plain": [
       "<list_reverseiterator at 0x2400a44aa10>"
      ]
     },
     "execution_count": 52,
     "metadata": {},
     "output_type": "execute_result"
    }
   ],
   "source": [
    "reversed(l1)"
   ]
  },
  {
   "cell_type": "code",
   "execution_count": 54,
   "id": "95a6ff92-bb24-42b2-928c-a3c327e5302b",
   "metadata": {},
   "outputs": [
    {
     "name": "stdout",
     "output_type": "stream",
     "text": [
      "[3, 2, 1]\n"
     ]
    }
   ],
   "source": [
    "a=reversed(l1)\n",
    "b=list(a)\n",
    "print(b)"
   ]
  },
  {
   "cell_type": "code",
   "execution_count": 56,
   "id": "a9c1c044-8e60-4144-878b-e45f4b1975a1",
   "metadata": {},
   "outputs": [
    {
     "data": {
      "text/plain": [
       "[1, 2, 3]"
      ]
     },
     "execution_count": 56,
     "metadata": {},
     "output_type": "execute_result"
    }
   ],
   "source": [
    "sorted(l1)"
   ]
  },
  {
   "cell_type": "code",
   "execution_count": 58,
   "id": "4db3349e-b503-413d-b15c-7a6196fde202",
   "metadata": {},
   "outputs": [
    {
     "data": {
      "text/plain": [
       "[3, 2, 1]"
      ]
     },
     "execution_count": 58,
     "metadata": {},
     "output_type": "execute_result"
    }
   ],
   "source": [
    "sorted(l1,reverse=True)"
   ]
  },
  {
   "cell_type": "code",
   "execution_count": 62,
   "id": "c3f15cb7-860a-4448-8a5d-65516969a463",
   "metadata": {},
   "outputs": [
    {
     "name": "stdout",
     "output_type": "stream",
     "text": [
      "2\n",
      "b\n",
      "a\n",
      "['b', 'a']\n"
     ]
    },
    {
     "data": {
      "text/plain": [
       "['a', 'b']"
      ]
     },
     "execution_count": 62,
     "metadata": {},
     "output_type": "execute_result"
    }
   ],
   "source": [
    "l2=[\"a\",\"b\"]\n",
    "print(len(l2))\n",
    "print(max(l2))\n",
    "print(min(l2))\n",
    "a=reversed(l2)\n",
    "print(list(a))\n",
    "sorted(l2)"
   ]
  },
  {
   "cell_type": "code",
   "execution_count": 81,
   "id": "e32f99f5-21c5-4f5a-a123-3f73901f5dbd",
   "metadata": {},
   "outputs": [
    {
     "data": {
      "text/plain": [
       "(3, 2, 5, 5, 3, 4, 0)"
      ]
     },
     "execution_count": 81,
     "metadata": {},
     "output_type": "execute_result"
    }
   ],
   "source": [
    "# shortest way\n",
    "len(l1),len(l2),len(l3),len(l4),len(l5),len(l6),len(l7)"
   ]
  },
  {
   "cell_type": "code",
   "execution_count": 83,
   "id": "ba3dc8e7-3109-430e-9292-5fc3fd913c4d",
   "metadata": {},
   "outputs": [
    {
     "ename": "TypeError",
     "evalue": "'>' not supported between instances of 'str' and 'int'",
     "output_type": "error",
     "traceback": [
      "\u001b[1;31m---------------------------------------------------------------------------\u001b[0m",
      "\u001b[1;31mTypeError\u001b[0m                                 Traceback (most recent call last)",
      "Cell \u001b[1;32mIn[83], line 1\u001b[0m\n\u001b[1;32m----> 1\u001b[0m \u001b[38;5;28mmax\u001b[39m(l3)\n",
      "\u001b[1;31mTypeError\u001b[0m: '>' not supported between instances of 'str' and 'int'"
     ]
    }
   ],
   "source": [
    "max(l3) # same data type should be compare\n",
    "# \"A\" ===== some level\n"
   ]
  },
  {
   "cell_type": "code",
   "execution_count": 85,
   "id": "d71a45b5-a5e6-437f-ad71-2144eb8bfb0b",
   "metadata": {},
   "outputs": [
    {
     "data": {
      "text/plain": [
       "1"
      ]
     },
     "execution_count": 85,
     "metadata": {},
     "output_type": "execute_result"
    }
   ],
   "source": [
    "len(['']) # is list has element atleast empty string are there "
   ]
  },
  {
   "cell_type": "code",
   "execution_count": 87,
   "id": "9cba4df6-f7be-4c2d-a250-ed5a9691f4e5",
   "metadata": {},
   "outputs": [
    {
     "data": {
      "text/plain": [
       "''"
      ]
     },
     "execution_count": 87,
     "metadata": {},
     "output_type": "execute_result"
    }
   ],
   "source": [
    "min(['',\"a\"])"
   ]
  },
  {
   "cell_type": "code",
   "execution_count": 90,
   "id": "73aff6f3-0f93-4b9f-8e1c-d9638dd6e524",
   "metadata": {},
   "outputs": [
    {
     "data": {
      "text/plain": [
       "[]"
      ]
     },
     "execution_count": 90,
     "metadata": {},
     "output_type": "execute_result"
    }
   ],
   "source": [
    "sorted(l7)"
   ]
  },
  {
   "cell_type": "code",
   "execution_count": null,
   "id": "01716eea-97c9-4fe6-9dff-9dd41c29982c",
   "metadata": {},
   "outputs": [],
   "source": [
    "# empty  list means\n",
    "# does not has any values"
   ]
  },
  {
   "cell_type": "code",
   "execution_count": 92,
   "id": "0d2f6642-4e52-4f02-86e8-d3d58321c88d",
   "metadata": {},
   "outputs": [
    {
     "ename": "ValueError",
     "evalue": "min() iterable argument is empty",
     "output_type": "error",
     "traceback": [
      "\u001b[1;31m---------------------------------------------------------------------------\u001b[0m",
      "\u001b[1;31mValueError\u001b[0m                                Traceback (most recent call last)",
      "Cell \u001b[1;32mIn[92], line 1\u001b[0m\n\u001b[1;32m----> 1\u001b[0m \u001b[38;5;28mmin\u001b[39m([])\n",
      "\u001b[1;31mValueError\u001b[0m: min() iterable argument is empty"
     ]
    }
   ],
   "source": [
    "min([])"
   ]
  },
  {
   "cell_type": "code",
   "execution_count": 94,
   "id": "5ad06ad6-99a3-43f2-8b0a-2aab79ce494a",
   "metadata": {},
   "outputs": [
    {
     "name": "stdout",
     "output_type": "stream",
     "text": [
      "3\n",
      "2\n",
      "1\n"
     ]
    }
   ],
   "source": [
    "for i in reversed(l1):\n",
    "    print(i)"
   ]
  },
  {
   "cell_type": "code",
   "execution_count": 96,
   "id": "ad753e06-0e92-46b4-871d-99f10d32caaa",
   "metadata": {},
   "outputs": [
    {
     "data": {
      "text/plain": [
       "[3, 2, 1]"
      ]
     },
     "execution_count": 96,
     "metadata": {},
     "output_type": "execute_result"
    }
   ],
   "source": [
    "list(reversed(l1))"
   ]
  },
  {
   "cell_type": "code",
   "execution_count": 98,
   "id": "3095d862-d957-4664-bf77-f63d9df80f76",
   "metadata": {},
   "outputs": [
    {
     "data": {
      "text/plain": [
       "[<list_reverseiterator at 0x24008316aa0>]"
      ]
     },
     "execution_count": 98,
     "metadata": {},
     "output_type": "execute_result"
    }
   ],
   "source": [
    "[reversed(l1)]"
   ]
  },
  {
   "cell_type": "code",
   "execution_count": 100,
   "id": "bb45cfb2-eb89-4376-a2d0-67c1a9a00c14",
   "metadata": {},
   "outputs": [
    {
     "data": {
      "text/plain": [
       "[['a', 'b'], 30, 20, 10]"
      ]
     },
     "execution_count": 100,
     "metadata": {},
     "output_type": "execute_result"
    }
   ],
   "source": [
    "list(reversed(l6))"
   ]
  },
  {
   "cell_type": "markdown",
   "id": "0c8f54d8-42d9-4bb0-88f0-e13d950a3d73",
   "metadata": {},
   "source": [
    "- sorted will compare the elements \n",
    "- the same rules applicable for min and max\n",
    "- but sorted never return any error even though we have empty list\n",
    "- but min and max will give error if it has empty list\n",
    "- reverse only do reverse the elements "
   ]
  },
  {
   "cell_type": "code",
   "execution_count": 103,
   "id": "9feb7868-b586-4a26-801b-d98163d50764",
   "metadata": {},
   "outputs": [
    {
     "data": {
      "text/plain": [
       "6"
      ]
     },
     "execution_count": 103,
     "metadata": {},
     "output_type": "execute_result"
    }
   ],
   "source": [
    "sum(l1)"
   ]
  },
  {
   "cell_type": "code",
   "execution_count": 105,
   "id": "a5960fdf-a820-483b-bce7-83a9d48b04ac",
   "metadata": {},
   "outputs": [
    {
     "ename": "TypeError",
     "evalue": "unsupported operand type(s) for +: 'int' and 'str'",
     "output_type": "error",
     "traceback": [
      "\u001b[1;31m---------------------------------------------------------------------------\u001b[0m",
      "\u001b[1;31mTypeError\u001b[0m                                 Traceback (most recent call last)",
      "Cell \u001b[1;32mIn[105], line 1\u001b[0m\n\u001b[1;32m----> 1\u001b[0m \u001b[38;5;28msum\u001b[39m(l2)\n",
      "\u001b[1;31mTypeError\u001b[0m: unsupported operand type(s) for +: 'int' and 'str'"
     ]
    }
   ],
   "source": [
    "sum(l2)"
   ]
  },
  {
   "cell_type": "code",
   "execution_count": 107,
   "id": "44b8263b-9ab8-485c-8287-a976bda1e41b",
   "metadata": {},
   "outputs": [
    {
     "ename": "TypeError",
     "evalue": "unsupported operand type(s) for +: 'int' and 'str'",
     "output_type": "error",
     "traceback": [
      "\u001b[1;31m---------------------------------------------------------------------------\u001b[0m",
      "\u001b[1;31mTypeError\u001b[0m                                 Traceback (most recent call last)",
      "Cell \u001b[1;32mIn[107], line 1\u001b[0m\n\u001b[1;32m----> 1\u001b[0m \u001b[38;5;28msum\u001b[39m(l3)\n",
      "\u001b[1;31mTypeError\u001b[0m: unsupported operand type(s) for +: 'int' and 'str'"
     ]
    }
   ],
   "source": [
    "sum(l3)"
   ]
  },
  {
   "cell_type": "code",
   "execution_count": 111,
   "id": "7404f16e-1a2a-482e-91da-1be190bb6660",
   "metadata": {},
   "outputs": [
    {
     "data": {
      "text/plain": [
       "106"
      ]
     },
     "execution_count": 111,
     "metadata": {},
     "output_type": "execute_result"
    }
   ],
   "source": [
    "sum(l1,start=100)"
   ]
  },
  {
   "cell_type": "markdown",
   "id": "3d6838f2-782e-441b-bc9b-bf87c01e4846",
   "metadata": {},
   "source": [
    "# index"
   ]
  },
  {
   "cell_type": "code",
   "execution_count": 114,
   "id": "1919cad8-6c13-4e18-ac3b-40ef7f6ae1e5",
   "metadata": {},
   "outputs": [
    {
     "data": {
      "text/plain": [
       "1"
      ]
     },
     "execution_count": 114,
     "metadata": {},
     "output_type": "execute_result"
    }
   ],
   "source": [
    "l=[1,2,3,4,'a','b','c']\n",
    "#  -7-6-5-4-3   -2  -1\n",
    "# [1,2,3,4,'a','b','c']\n",
    "#  0 1 2 3  4  5    6\n",
    "l1[0]"
   ]
  },
  {
   "cell_type": "code",
   "execution_count": 118,
   "id": "0fd78118-b3ff-402a-93a6-9ecad11c2a09",
   "metadata": {},
   "outputs": [
    {
     "name": "stdout",
     "output_type": "stream",
     "text": [
      "the -7 is (-) index and 0 is (+) index of 1\n",
      "the -6 is (-) index and 1 is (+) index of 2\n",
      "the -5 is (-) index and 2 is (+) index of 3\n",
      "the -4 is (-) index and 3 is (+) index of 4\n",
      "the -3 is (-) index and 4 is (+) index of a\n",
      "the -2 is (-) index and 5 is (+) index of b\n",
      "the -1 is (-) index and 6 is (+) index of c\n"
     ]
    }
   ],
   "source": [
    "l1=len(l)\n",
    "for i in range(l1):\n",
    "    print(f'the {i-l1} is (-) index and {i} is (+) index of {l[i]}')"
   ]
  },
  {
   "cell_type": "code",
   "execution_count": 140,
   "id": "5407a1bf-5726-431e-9ca7-1d5ad7e60d07",
   "metadata": {},
   "outputs": [
    {
     "data": {
      "text/plain": [
       "1"
      ]
     },
     "execution_count": 140,
     "metadata": {},
     "output_type": "execute_result"
    }
   ],
   "source": [
    "l2=[[10,20,30]]\n",
    "# how to access the 10\n",
    "len(l2)"
   ]
  },
  {
   "cell_type": "code",
   "execution_count": 144,
   "id": "12421cc8-7d42-4883-8707-fc35fe165ce4",
   "metadata": {},
   "outputs": [
    {
     "data": {
      "text/plain": [
       "[10, 20, 30]"
      ]
     },
     "execution_count": 144,
     "metadata": {},
     "output_type": "execute_result"
    }
   ],
   "source": [
    "l2[0]"
   ]
  },
  {
   "cell_type": "code",
   "execution_count": 148,
   "id": "1234b556-2e9d-4d55-9951-3c6828e9c765",
   "metadata": {},
   "outputs": [
    {
     "data": {
      "text/plain": [
       "10"
      ]
     },
     "execution_count": 148,
     "metadata": {},
     "output_type": "execute_result"
    }
   ],
   "source": [
    "l2[0][0 # this is the way sub list element access using double square brackets"
   ]
  },
  {
   "cell_type": "code",
   "execution_count": 152,
   "id": "219564ba-c9b9-4ea0-8d6c-f876f9faa522",
   "metadata": {},
   "outputs": [
    {
     "data": {
      "text/plain": [
       "(20, 30)"
      ]
     },
     "execution_count": 152,
     "metadata": {},
     "output_type": "execute_result"
    }
   ],
   "source": [
    "l2[0][1],l2[0][2]"
   ]
  },
  {
   "cell_type": "code",
   "execution_count": 154,
   "id": "52b22450-1ab2-44d6-af2a-c2576fb8e754",
   "metadata": {},
   "outputs": [
    {
     "data": {
      "text/plain": [
       "(10, 20, 'a', 'b')"
      ]
     },
     "execution_count": 154,
     "metadata": {},
     "output_type": "execute_result"
    }
   ],
   "source": [
    "l3=[10,20,['a','b']]\n",
    "l3[0],l3[1],l3[2][0],l3[2][1]"
   ]
  },
  {
   "cell_type": "code",
   "execution_count": 158,
   "id": "86ac9e80-e99d-428b-a5b5-d743e30d3a12",
   "metadata": {},
   "outputs": [
    {
     "data": {
      "text/plain": [
       "'apple'"
      ]
     },
     "execution_count": 158,
     "metadata": {},
     "output_type": "execute_result"
    }
   ],
   "source": [
    "l1=[1,2,3,4,[5,6,[\"apple\"]]]\n",
    "l1[4][2][0]"
   ]
  },
  {
   "cell_type": "code",
   "execution_count": 170,
   "id": "37c22621-321d-4d37-8041-fb23c3e3f165",
   "metadata": {},
   "outputs": [
    {
     "data": {
      "text/plain": [
       "'cherry'"
      ]
     },
     "execution_count": 170,
     "metadata": {},
     "output_type": "execute_result"
    }
   ],
   "source": [
    "l1=[1,2,3,[4,[5,['cherry']]]]\n",
    "l1[3][1][1][0]"
   ]
  },
  {
   "cell_type": "code",
   "execution_count": 210,
   "id": "2d0368b7-ee19-4a7d-930a-565067a4d6cb",
   "metadata": {},
   "outputs": [
    {
     "data": {
      "text/plain": [
       "'i'"
      ]
     },
     "execution_count": 210,
     "metadata": {},
     "output_type": "execute_result"
    }
   ],
   "source": [
    "l1=[[[[[[[[['onion']]]]]]]]]\n",
    "l1[0][0][0][0][0][0][0][0][0]"
   ]
  },
  {
   "cell_type": "code",
   "execution_count": 208,
   "id": "cc2cf91a-06fd-48f9-806b-c622ef93b2b5",
   "metadata": {},
   "outputs": [
    {
     "data": {
      "text/plain": [
       "'DDLJ'"
      ]
     },
     "execution_count": 208,
     "metadata": {},
     "output_type": "execute_result"
    }
   ],
   "source": [
    "l1=['Apple',['Kashmir',['India',['Mumbai',['Sharuk',['Film',['DDLJ']]]]]]]\n",
    "l1[1][1][1][1][1][1][0]"
   ]
  },
  {
   "cell_type": "markdown",
   "id": "51d1b245-9cb4-4b64-9ad8-94979505efbc",
   "metadata": {},
   "source": [
    " # Mutable vs Immutable"
   ]
  },
  {
   "cell_type": "code",
   "execution_count": 6,
   "id": "c6e24197-492c-4e29-8471-cf58c9ff5981",
   "metadata": {},
   "outputs": [
    {
     "name": "stdout",
     "output_type": "stream",
     "text": [
      "[1, 2, 3, 'hai', 5]\n"
     ]
    }
   ],
   "source": [
    "list=[1,2,3,4,5,]\n",
    "list[3]=\"hai\"\n",
    "print(list)"
   ]
  },
  {
   "cell_type": "markdown",
   "id": "3bd8f08c-dac6-40d0-b3b4-b01d46626d66",
   "metadata": {},
   "source": [
    "- we can change the list elements using index "
   ]
  },
  {
   "cell_type": "markdown",
   "id": "d435a33f-1af6-4a14-8700-4d373dd7b33e",
   "metadata": {},
   "source": [
    "# concatination"
   ]
  },
  {
   "cell_type": "code",
   "execution_count": 11,
   "id": "dbc207c2-e347-4163-a112-f79dc401be55",
   "metadata": {},
   "outputs": [
    {
     "name": "stdout",
     "output_type": "stream",
     "text": [
      "[1, 2, 3, 4, 5, 'hai', 'hello']\n"
     ]
    }
   ],
   "source": [
    "list=[1,2,3,4,5,]\n",
    "list1=[\"hai\",\"hello\"]\n",
    "print(list+list1)"
   ]
  },
  {
   "cell_type": "code",
   "execution_count": 13,
   "id": "cf26ed62-dfc1-4807-a041-55d01edff896",
   "metadata": {},
   "outputs": [
    {
     "name": "stdout",
     "output_type": "stream",
     "text": [
      "[1, 2, 3, 4, 5, 1, 2, 3, 4, 5]\n"
     ]
    }
   ],
   "source": [
    "list=[1,2,3,4,5,]\n",
    "list1=2\n",
    "print(list*list1)"
   ]
  },
  {
   "cell_type": "markdown",
   "id": "2c695882-dd6f-40d9-8234-f4eeb4f3153b",
   "metadata": {},
   "source": [
    "# slicing"
   ]
  },
  {
   "cell_type": "code",
   "execution_count": 16,
   "id": "2afd8b89-f555-4d26-818d-b745358aa14f",
   "metadata": {},
   "outputs": [],
   "source": [
    "list=[1,2,3,4,5,'a','b','c','d','10.5',True,10.5,100,200]"
   ]
  },
  {
   "cell_type": "code",
   "execution_count": 18,
   "id": "baa9243e-d1da-48e0-8146-558a57e18f6d",
   "metadata": {},
   "outputs": [
    {
     "data": {
      "text/plain": [
       "[1, 2, 3, 4, 5, 'a', 'b', 'c', 'd', '10.5', True, 10.5, 100, 200]"
      ]
     },
     "execution_count": 18,
     "metadata": {},
     "output_type": "execute_result"
    }
   ],
   "source": [
    "list[:]"
   ]
  },
  {
   "cell_type": "code",
   "execution_count": 20,
   "id": "6c4fc9b7-5067-4ad4-a02c-514b9959bca3",
   "metadata": {},
   "outputs": [
    {
     "data": {
      "text/plain": [
       "[1, 2, 3, 4, 5, 'a', 'b', 'c', 'd', '10.5', True, 10.5, 100, 200]"
      ]
     },
     "execution_count": 20,
     "metadata": {},
     "output_type": "execute_result"
    }
   ],
   "source": [
    "list[::]"
   ]
  },
  {
   "cell_type": "code",
   "execution_count": 22,
   "id": "11c04e6c-b58c-4045-97ef-d01d76e37541",
   "metadata": {},
   "outputs": [
    {
     "data": {
      "text/plain": [
       "[200, 100, 10.5, True, '10.5', 'd', 'c', 'b', 'a', 5, 4, 3, 2, 1]"
      ]
     },
     "execution_count": 22,
     "metadata": {},
     "output_type": "execute_result"
    }
   ],
   "source": [
    "list[::-1]"
   ]
  },
  {
   "cell_type": "code",
   "execution_count": 24,
   "id": "e0ab3196-2476-4d13-a451-6f09018f2406",
   "metadata": {},
   "outputs": [
    {
     "data": {
      "text/plain": [
       "[3, 5, 'b', 'd', True, 100]"
      ]
     },
     "execution_count": 24,
     "metadata": {},
     "output_type": "execute_result"
    }
   ],
   "source": [
    "list[2:14:2]"
   ]
  },
  {
   "cell_type": "code",
   "execution_count": 26,
   "id": "d9450c91-e381-4e5f-a54d-13017cd98aa8",
   "metadata": {},
   "outputs": [
    {
     "data": {
      "text/plain": [
       "[]"
      ]
     },
     "execution_count": 26,
     "metadata": {},
     "output_type": "execute_result"
    }
   ],
   "source": [
    "list[2:14:-2]"
   ]
  },
  {
   "cell_type": "code",
   "execution_count": 28,
   "id": "1a840a72-35f6-46bd-a879-6526b55bdbfb",
   "metadata": {},
   "outputs": [
    {
     "data": {
      "text/plain": [
       "[]"
      ]
     },
     "execution_count": 28,
     "metadata": {},
     "output_type": "execute_result"
    }
   ],
   "source": [
    "list[2:-14:2]"
   ]
  },
  {
   "cell_type": "code",
   "execution_count": 30,
   "id": "759cfceb-be09-49b6-a002-f9740182a3f5",
   "metadata": {},
   "outputs": [
    {
     "data": {
      "text/plain": [
       "[100]"
      ]
     },
     "execution_count": 30,
     "metadata": {},
     "output_type": "execute_result"
    }
   ],
   "source": [
    "list[-2:14:2]"
   ]
  },
  {
   "cell_type": "code",
   "execution_count": 32,
   "id": "8c17163d-51c5-4577-b1cf-079f02846a0d",
   "metadata": {},
   "outputs": [
    {
     "data": {
      "text/plain": [
       "[100, True, 'd', 'b', 5, 3]"
      ]
     },
     "execution_count": 32,
     "metadata": {},
     "output_type": "execute_result"
    }
   ],
   "source": [
    "list[-2:-14:-2]"
   ]
  },
  {
   "cell_type": "code",
   "execution_count": 34,
   "id": "a1cfd505-c8a4-4ab6-81dd-6f0773e432a8",
   "metadata": {},
   "outputs": [
    {
     "data": {
      "text/plain": [
       "[200, 10.5, '10.5', 'c', 'a', 4]"
      ]
     },
     "execution_count": 34,
     "metadata": {},
     "output_type": "execute_result"
    }
   ],
   "source": [
    "list[14:2:-2]"
   ]
  },
  {
   "cell_type": "code",
   "execution_count": 36,
   "id": "c768082d-691e-4a78-8b7c-66cf6c8b91fb",
   "metadata": {},
   "outputs": [
    {
     "data": {
      "text/plain": [
       "[]"
      ]
     },
     "execution_count": 36,
     "metadata": {},
     "output_type": "execute_result"
    }
   ],
   "source": [
    "list[14:-2:2]"
   ]
  },
  {
   "cell_type": "code",
   "execution_count": 38,
   "id": "70c941fc-df74-4b51-ba31-f07e4d16e845",
   "metadata": {},
   "outputs": [
    {
     "data": {
      "text/plain": [
       "[1]"
      ]
     },
     "execution_count": 38,
     "metadata": {},
     "output_type": "execute_result"
    }
   ],
   "source": [
    "list[-14:2:2]"
   ]
  },
  {
   "cell_type": "code",
   "execution_count": 40,
   "id": "c012e880-8fc3-4be5-9982-352b441a076b",
   "metadata": {},
   "outputs": [
    {
     "data": {
      "text/plain": [
       "[]"
      ]
     },
     "execution_count": 40,
     "metadata": {},
     "output_type": "execute_result"
    }
   ],
   "source": [
    "list[-14:-2:-2]"
   ]
  },
  {
   "cell_type": "markdown",
   "id": "dae40e01-4370-471e-ac21-cb7a43352638",
   "metadata": {},
   "source": [
    "**methods**"
   ]
  },
  {
   "cell_type": "code",
   "execution_count": 45,
   "id": "57e7e3b6-a2c8-4f41-803a-3e70f8f6bc0e",
   "metadata": {},
   "outputs": [
    {
     "data": {
      "text/plain": [
       "['__add__',\n",
       " '__class__',\n",
       " '__class_getitem__',\n",
       " '__contains__',\n",
       " '__delattr__',\n",
       " '__delitem__',\n",
       " '__dir__',\n",
       " '__doc__',\n",
       " '__eq__',\n",
       " '__format__',\n",
       " '__ge__',\n",
       " '__getattribute__',\n",
       " '__getitem__',\n",
       " '__getstate__',\n",
       " '__gt__',\n",
       " '__hash__',\n",
       " '__iadd__',\n",
       " '__imul__',\n",
       " '__init__',\n",
       " '__init_subclass__',\n",
       " '__iter__',\n",
       " '__le__',\n",
       " '__len__',\n",
       " '__lt__',\n",
       " '__mul__',\n",
       " '__ne__',\n",
       " '__new__',\n",
       " '__reduce__',\n",
       " '__reduce_ex__',\n",
       " '__repr__',\n",
       " '__reversed__',\n",
       " '__rmul__',\n",
       " '__setattr__',\n",
       " '__setitem__',\n",
       " '__sizeof__',\n",
       " '__str__',\n",
       " '__subclasshook__',\n",
       " 'append',\n",
       " 'clear',\n",
       " 'copy',\n",
       " 'count',\n",
       " 'extend',\n",
       " 'index',\n",
       " 'insert',\n",
       " 'pop',\n",
       " 'remove',\n",
       " 'reverse',\n",
       " 'sort']"
      ]
     },
     "execution_count": 45,
     "metadata": {},
     "output_type": "execute_result"
    }
   ],
   "source": [
    "dir([])"
   ]
  },
  {
   "cell_type": "code",
   "execution_count": null,
   "id": "52030eda-6ae8-4166-9fc4-3b9f6d566668",
   "metadata": {},
   "outputs": [],
   "source": [
    "#'append',\n",
    "# 'clear',\n",
    "# 'copy',\n",
    "# 'count',\n",
    "# 'extend',\n",
    "# 'index',\n",
    "# 'insert',\n",
    "# 'pop',\n",
    "# 'remove',\n",
    "# 'reverse',\n",
    "# 'sort']"
   ]
  },
  {
   "cell_type": "code",
   "execution_count": 49,
   "id": "22561917-483c-4302-9902-a372741f76d6",
   "metadata": {},
   "outputs": [
    {
     "name": "stdout",
     "output_type": "stream",
     "text": [
      "[]\n"
     ]
    }
   ],
   "source": [
    "l1=[1,2,3,4,5,6]\n",
    "l1.clear()\n",
    "print(l1)"
   ]
  },
  {
   "cell_type": "code",
   "execution_count": 53,
   "id": "9048e8b0-e719-45b5-8104-8b3baa776cd6",
   "metadata": {},
   "outputs": [
    {
     "name": "stdout",
     "output_type": "stream",
     "text": [
      "[4, 5, 6, 7, 8, 9]\n"
     ]
    }
   ],
   "source": [
    "l2=[4,5,6,7,8,9]\n",
    "l3=l2.copy()\n",
    "print(l3)"
   ]
  },
  {
   "cell_type": "code",
   "execution_count": 59,
   "id": "1fc57e82-05a8-49ab-9811-7e46b1b8e054",
   "metadata": {},
   "outputs": [
    {
     "data": {
      "text/plain": [
       "7"
      ]
     },
     "execution_count": 59,
     "metadata": {},
     "output_type": "execute_result"
    }
   ],
   "source": [
    "l2=[4,5,6,7,8,9,6,6,6,6,6,6]\n",
    "l2.count(6)\n"
   ]
  },
  {
   "cell_type": "code",
   "execution_count": 63,
   "id": "546e4137-1ea1-460e-bcad-e9b1f4c07346",
   "metadata": {},
   "outputs": [
    {
     "name": "stdout",
     "output_type": "stream",
     "text": [
      "[6, 5, 4, 3, 2, 1]\n"
     ]
    }
   ],
   "source": [
    "l1=[1,2,3,4,5,6]\n",
    "l1.reverse()\n",
    "print(l1)"
   ]
  },
  {
   "cell_type": "code",
   "execution_count": 73,
   "id": "e96ff873-7e1a-4e5c-9dff-5695ee5210bf",
   "metadata": {},
   "outputs": [
    {
     "name": "stdout",
     "output_type": "stream",
     "text": [
      "[6, 5, 4, 3, 2, 1]\n"
     ]
    }
   ],
   "source": [
    "l1=[1,2,3,4,5,6]\n",
    "l1.sort(reverse=True)\n",
    "print(l1)"
   ]
  },
  {
   "cell_type": "code",
   "execution_count": 87,
   "id": "907fa68d-11d1-4c64-9637-b7dfb96c9188",
   "metadata": {},
   "outputs": [
    {
     "name": "stdout",
     "output_type": "stream",
     "text": [
      "[1, 2, 3, 4, 5, 6]\n"
     ]
    }
   ],
   "source": [
    "l5=[6, 5, 4, 3, 2, 1]\n",
    "l5.sort()\n",
    "print(l5)\n"
   ]
  },
  {
   "cell_type": "code",
   "execution_count": 83,
   "id": "806d75e1-1fa5-47a2-b961-c34907fe5114",
   "metadata": {},
   "outputs": [
    {
     "ename": "SyntaxError",
     "evalue": "unterminated string literal (detected at line 1) (1779496220.py, line 1)",
     "output_type": "error",
     "traceback": [
      "\u001b[1;36m  Cell \u001b[1;32mIn[83], line 1\u001b[1;36m\u001b[0m\n\u001b[1;33m    l5=[6, 5, 4, 3, 2, 1,'hai','hello]\u001b[0m\n\u001b[1;37m                               ^\u001b[0m\n\u001b[1;31mSyntaxError\u001b[0m\u001b[1;31m:\u001b[0m unterminated string literal (detected at line 1)\n"
     ]
    }
   ],
   "source": [
    "l5=[6, 5, 4, 3, 2, 1,'hai','hello]\n",
    "l5.sort()\n",
    "#print(l5) "
   ]
  },
  {
   "cell_type": "markdown",
   "id": "9e2e0c7b-57e5-4844-be87-bee24662c02e",
   "metadata": {},
   "source": [
    "**reversed vs reverse**\n",
    "- reversed is a inbuilt function\n",
    "\n",
    "- reversed can be applicable all **iterable**\n",
    "- reversed applicable for **string,list,tuple,dict**\n",
    "- reversed(string),reversed(list),reversed(tuple)...etc\n",
    "\n",
    "**reverse**\n",
    "- reverse is a method is belongs to only list\n",
    "- reverse method cannot be applicable for string,tupleand dict\n",
    "- list.reverse()"
   ]
  },
  {
   "cell_type": "code",
   "execution_count": 94,
   "id": "a29e0e45-4bda-4e72-a8fe-e9523830277c",
   "metadata": {},
   "outputs": [
    {
     "data": {
      "text/plain": [
       "[8, 7, 6, 5, 2, 4, 3]"
      ]
     },
     "execution_count": 94,
     "metadata": {},
     "output_type": "execute_result"
    }
   ],
   "source": [
    "l1=[3,4,2,5,6,7,8]\n",
    "l1.reverse()\n",
    "l1\n",
    "# reverse the elements save the output in same variable\n",
    "# it is indicates as **INPLACE**\n",
    "# some times inplace=True available"
   ]
  },
  {
   "cell_type": "markdown",
   "id": "85fa0163-38d6-4692-9d39-094e16323eda",
   "metadata": {},
   "source": [
    "# **sorted vs sort**\n",
    "- sorted is a inbuilt function\n",
    "- sorted can be applicable all **iterable**\n",
    "- sorted applicable for **string,list,tuple,dict**\n",
    "- sorted(string),reversed(list),reversed(tuple)...etc\n",
    "\n",
    "**sort**\n",
    "- sort is a method is belongs to only list\n",
    "- sort method cannot be applicable for string,tupleand dict\n",
    "- list.sort()"
   ]
  },
  {
   "cell_type": "markdown",
   "id": "f180ff5e-b025-4a05-85c8-aaa0da603d5d",
   "metadata": {},
   "source": [
    "# **append**\n",
    "- append means add the element at the end of the list\n",
    "- append is a method very important\n",
    "- append is useed to store the outputs in a list\n",
    "- till last class we just  printed all the outputs\n",
    "- if we want to save the outputs we need to do append only\n",
    "- append method we will use very very frequently"
   ]
  },
  {
   "cell_type": "code",
   "execution_count": 99,
   "id": "4a373c71-fd7e-4efe-b31d-e86302aaf5d3",
   "metadata": {},
   "outputs": [
    {
     "data": {
      "text/plain": [
       "[10]"
      ]
     },
     "execution_count": 99,
     "metadata": {},
     "output_type": "execute_result"
    }
   ],
   "source": [
    "l1=[] # empty list\n",
    "l1.append(10) #add the element\n",
    "l1\n"
   ]
  },
  {
   "cell_type": "code",
   "execution_count": 101,
   "id": "c67a5c70-659a-4f7e-be9a-e4eebf8e4ef0",
   "metadata": {},
   "outputs": [
    {
     "ename": "TypeError",
     "evalue": "list.append() takes exactly one argument (4 given)",
     "output_type": "error",
     "traceback": [
      "\u001b[1;31m---------------------------------------------------------------------------\u001b[0m",
      "\u001b[1;31mTypeError\u001b[0m                                 Traceback (most recent call last)",
      "Cell \u001b[1;32mIn[101], line 1\u001b[0m\n\u001b[1;32m----> 1\u001b[0m l1\u001b[38;5;241m.\u001b[39mappend(\u001b[38;5;124m\"\u001b[39m\u001b[38;5;124mhai\u001b[39m\u001b[38;5;124m\"\u001b[39m,\u001b[38;5;241m1\u001b[39m,\u001b[38;5;241m2\u001b[39m,\u001b[38;5;241m3\u001b[39m)\n",
      "\u001b[1;31mTypeError\u001b[0m: list.append() takes exactly one argument (4 given)"
     ]
    }
   ],
   "source": [
    "l1.append(\"hai\",1,2,3)"
   ]
  },
  {
   "cell_type": "code",
   "execution_count": 103,
   "id": "78c207e0-065c-462b-af49-be2c0ba2695d",
   "metadata": {},
   "outputs": [
    {
     "data": {
      "text/plain": [
       "[1, 2, 3, 'apple']"
      ]
     },
     "execution_count": 103,
     "metadata": {},
     "output_type": "execute_result"
    }
   ],
   "source": [
    "l2=[1,2,3]\n",
    "l2.append(\"apple\")\n",
    "l2"
   ]
  },
  {
   "cell_type": "code",
   "execution_count": 105,
   "id": "90a8fb3d-0da8-4683-9a36-e3796b309915",
   "metadata": {},
   "outputs": [
    {
     "data": {
      "text/plain": [
       "[1, 2, 3, 'apple', 'banana', [True, False]]"
      ]
     },
     "execution_count": 105,
     "metadata": {},
     "output_type": "execute_result"
    }
   ],
   "source": [
    "l2=[1,2,3]\n",
    "l2.append(\"apple\")\n",
    "l2.append(\"banana\")\n",
    "l2.append([True,False])\n",
    "l2"
   ]
  },
  {
   "cell_type": "code",
   "execution_count": 107,
   "id": "395025a0-2bfe-4c53-84cc-f1008d41d5ec",
   "metadata": {},
   "outputs": [
    {
     "data": {
      "text/plain": [
       "[0, 1, 2, 3, 4, 5, 6, 7, 8, 9]"
      ]
     },
     "execution_count": 107,
     "metadata": {},
     "output_type": "execute_result"
    }
   ],
   "source": [
    "# Q) create a list of 10 numbers using for loop\n",
    "l1=[]\n",
    "for i in range(10):\n",
    "    l1.append(i)\n",
    "l1"
   ]
  },
  {
   "cell_type": "code",
   "execution_count": 116,
   "id": "248bcb18-0814-4b3e-912b-b0feb623d5f6",
   "metadata": {},
   "outputs": [
    {
     "name": "stdout",
     "output_type": "stream",
     "text": [
      "the square of the 11 is  [441, 4, 2209, 64, 121]\n"
     ]
    }
   ],
   "source": [
    "#Q)2 wap ask the user get 5 random numbers perform the square of the random numbers and save in a list\n",
    "from random import randint\n",
    "l=[]\n",
    "for i in range(5):\n",
    "    a=randint(1,50)\n",
    "    b=a*a\n",
    "    l.append(b)\n",
    "print(f'the square of the numbers is  {l}')"
   ]
  },
  {
   "cell_type": "code",
   "execution_count": 118,
   "id": "3e86afe1-ba42-43e3-8a25-098a0b83e851",
   "metadata": {},
   "outputs": [
    {
     "name": "stdout",
     "output_type": "stream",
     "text": [
      "the square of the numbers is  [144, 1156, 144, 256, 49]\n"
     ]
    }
   ],
   "source": [
    "l=[]\n",
    "for i in range(5):\n",
    "    a=randint(1,50)\n",
    "    l.append(a*a)\n",
    "print(f'the square of the numbers is  {l}')"
   ]
  },
  {
   "cell_type": "code",
   "execution_count": 124,
   "id": "78ef602c-9b06-4b98-9368-e393ebb0b2f7",
   "metadata": {},
   "outputs": [
    {
     "data": {
      "text/plain": [
       "['33:1089', '37:1369', '25:625', '33:1089', '9:81']"
      ]
     },
     "execution_count": 124,
     "metadata": {},
     "output_type": "execute_result"
    }
   ],
   "source": [
    "l=[]\n",
    "for i in range(5):\n",
    "    a=randint(1,50)\n",
    "    l.append(f'{a}:{a*a}') # another way we use in append can print format also instead of print\n",
    "l"
   ]
  },
  {
   "cell_type": "code",
   "execution_count": 140,
   "id": "0d57d534-976d-4640-8eec-30b7458e3564",
   "metadata": {},
   "outputs": [
    {
     "name": "stdout",
     "output_type": "stream",
     "text": [
      "even list is [20, 38, 52, 100]\n",
      "odd list is [27, 47, 87]\n"
     ]
    }
   ],
   "source": [
    "# Q)3 list1=[100,20,27,38,47,52,87]\n",
    "# we need to print even and odd separately\n",
    "# and the output will be sorted\n",
    "list1=[100,20,27,38,47,52,87]\n",
    "l1=[]\n",
    "l2=[]\n",
    "for i in list1:\n",
    "    if i%2==0:\n",
    "        l1.append(i)\n",
    "    else:\n",
    "        l2.append(i)\n",
    "l1.sort()\n",
    "l2.sort()\n",
    "\n",
    "print(f'even list is {l1}')\n",
    "print(f'odd list is {l2}')"
   ]
  },
  {
   "cell_type": "code",
   "execution_count": 148,
   "id": "c98758cb-e7f2-4996-ab72-c9fc8351f2aa",
   "metadata": {},
   "outputs": [
    {
     "data": {
      "text/plain": [
       "['hello', 'hai', 'how', 'are', 'you']"
      ]
     },
     "execution_count": 148,
     "metadata": {},
     "output_type": "execute_result"
    }
   ],
   "source": [
    "# Q)4 l1=['hyd','chennai','mumbai','pune']\n",
    "# ans=['Hyd','Chennai','Mumbai','Pune']\n",
    "\n",
    "str1=\"hello hai how are you\"\n",
    "str1.title()\n",
    "str1.split()\n"
   ]
  },
  {
   "cell_type": "markdown",
   "id": "66c2ae48-7080-40b3-b83e-ec3a724b2e6f",
   "metadata": {},
   "source": [
    "# join\n",
    "- joining the list of elements"
   ]
  },
  {
   "cell_type": "markdown",
   "id": "b92dfd07-c5e0-4de2-8382-88f6d1ff8c67",
   "metadata": {},
   "source": [
    "- we can convert string to list by using string.split()\n",
    "- we can convert list to string using join.(list)"
   ]
  },
  {
   "cell_type": "code",
   "execution_count": 5,
   "id": "a3fd80b9-170a-4c37-ba0d-8bdb3cfa72b7",
   "metadata": {},
   "outputs": [
    {
     "data": {
      "text/plain": [
       "'hai how are you'"
      ]
     },
     "execution_count": 5,
     "metadata": {},
     "output_type": "execute_result"
    }
   ],
   "source": [
    "a=['hai','how','are','you']\n",
    "str1=' '\n",
    "str1.join(a)"
   ]
  },
  {
   "cell_type": "code",
   "execution_count": 15,
   "id": "ee647b21-0ad8-4c03-ab52-bde06afb036a",
   "metadata": {},
   "outputs": [
    {
     "data": {
      "text/plain": [
       "'hai how are you'"
      ]
     },
     "execution_count": 15,
     "metadata": {},
     "output_type": "execute_result"
    }
   ],
   "source": [
    "' '.join(a) # as a parameter we can give any thing to join with the character"
   ]
  },
  {
   "cell_type": "code",
   "execution_count": 13,
   "id": "45dcb9dc-8905-4bc6-a9d9-62813e9e1044",
   "metadata": {},
   "outputs": [
    {
     "data": {
      "text/plain": [
       "['', 'ai ', 'ow are you']"
      ]
     },
     "execution_count": 13,
     "metadata": {},
     "output_type": "execute_result"
    }
   ],
   "source": [
    "str2='hai how are you'\n",
    "str2.split('h')   # split parameter also any thing where you split the sentence"
   ]
  },
  {
   "cell_type": "code",
   "execution_count": 21,
   "id": "85591d76-766e-47a9-923f-1ed8c926cafe",
   "metadata": {},
   "outputs": [],
   "source": [
    "#Q9) str1='virat.kohli@rcb.com; rohit.sharma@mi.com; dhoni.ms@csk.com'\n",
    "#    fname=['virat','rohit','dhoni']\n",
    "#    sname=['kohli','sharma','ms']\n",
    "#    cname=['rcb','mi','csk']\n",
    "str1='virat.kohli@rcb.com; rohit.sharma@mi.com; dhoni.ms@csk.com'\n",
    "l=str1.split(';')\n",
    "f_name,s_name,c_name=[],[],[]\n",
    "for i in l:\n",
    "    f_dot=i.find(\".\")\n",
    "    s_dot=i.find(\".\",f_dot+1)\n",
    "    at_index=i.find(\"@\")\n",
    "    f_name.append(i[:f_dot])\n",
    "    s_name.append(i[f_dot+1:at_index])\n",
    "    c_name.append(i[at_index+1:s_dot])"
   ]
  },
  {
   "cell_type": "code",
   "execution_count": 25,
   "id": "54cc0550-5406-4910-916c-e5b3830bc980",
   "metadata": {},
   "outputs": [
    {
     "name": "stdout",
     "output_type": "stream",
     "text": [
      "['virat', ' rohit', ' dhoni']\n",
      "['kohli', 'sharma', 'ms']\n",
      "['rcb', 'mi', 'csk']\n"
     ]
    }
   ],
   "source": [
    "print(f_name)\n",
    "print(s_name)\n",
    "print(c_name)"
   ]
  },
  {
   "cell_type": "code",
   "execution_count": 27,
   "id": "d761ad00-37f4-4999-841f-bbf6715e6e82",
   "metadata": {},
   "outputs": [],
   "source": [
    "str1='virat.kohli@rcb.com; rohit.sharma@mi.com; dhoni.ms@csk.com'\n",
    "l=str1.split(';')\n",
    "f_name,s_name,c_name=[],[],[]\n",
    "for i in l:\n",
    "    f_dot=i.find(\".\")\n",
    "    s_dot=i.find(\".\",f_dot+1)\n",
    "    a_index=i.find('@')\n",
    "    f_name.append(i[:f_dot])\n",
    "    s_name.append(i[f_dot+1:at_index])\n",
    "    c_name.append(i[at_index+1:s_dot])"
   ]
  },
  {
   "cell_type": "code",
   "execution_count": 35,
   "id": "29a0bcb1-2773-4336-9b81-1893036fcae7",
   "metadata": {},
   "outputs": [
    {
     "data": {
      "text/plain": [
       "['can-6', 'canner-2', 'not-2', 'you-2', 'be-1']"
      ]
     },
     "execution_count": 35,
     "metadata": {},
     "output_type": "execute_result"
    }
   ],
   "source": [
    "str1='can canner can not can you canner can be can you can not'\n",
    "l=[]\n",
    "can=0\n",
    "count=0\n",
    "NOT=0\n",
    "you=0\n",
    "be=0\n",
    "for i in range(len(str1)):\n",
    "    if str1[i:i+4]==\"can \":\n",
    "        can+=1\n",
    "l.append(f'can-{can}')\n",
    "for i in range(len(str1)):\n",
    "    if str1[i:i+6]==\"canner\":\n",
    "        count+=1\n",
    "l.append(f'canner-{count}')\n",
    "\n",
    "for j in range(len(str1)):\n",
    "    if str1[j:j+3]==\"not\":\n",
    "        NOT+=1\n",
    "l.append(f'not-{NOT}')\n",
    "\n",
    "for j in range(len(str1)):\n",
    "    if str1[j:j+3]==\"you\":\n",
    "        you+=1\n",
    "l.append(f'you-{you}')\n",
    "\n",
    "for j in range(len(str1)):\n",
    "    if str1[j:j+2]==\"be\":\n",
    "        be+=1\n",
    "l.append(f'be-{be}')\n",
    "l"
   ]
  },
  {
   "cell_type": "code",
   "execution_count": 40,
   "id": "44f4fb76-e7f2-42b3-b7eb-d653d1363765",
   "metadata": {},
   "outputs": [
    {
     "name": "stdout",
     "output_type": "stream",
     "text": [
      "[70, 56, 25, 94, 76, 97, 17]\n",
      "minimum number in list 17\n",
      "maximum number in list 97\n"
     ]
    }
   ],
   "source": [
    "# q10) get the 7 random numbers in a list between 1 to 100\n",
    "#      find the min and max value with using min and max function\n",
    "\n",
    "from random import randint\n",
    "l1=[]\n",
    "for i in range(7):\n",
    "    num=randint(1,100)\n",
    "    l1.append(num)\n",
    "print(l1)\n",
    "minimum=l1[0]\n",
    "maximum=l1[0]\n",
    "for i in l1[1:]:\n",
    "    if i<minimum:\n",
    "        minimum=i\n",
    "    if i>maximum:\n",
    "        maximum=i\n",
    "print(f'minimum number in list {minimum}') \n",
    "print(f'maximum number in list {maximum}')"
   ]
  },
  {
   "cell_type": "markdown",
   "id": "2fabfa05-df1f-4871-ae1f-4b7b00a04420",
   "metadata": {},
   "source": [
    "- assume that first value is a maximum value\n",
    "- then iterate the loop from next value onwards\n",
    "- apply the condition if any value greater than assumed value\n",
    "- then replace maximum value with iterated value"
   ]
  },
  {
   "cell_type": "code",
   "execution_count": null,
   "id": "3d9ce66e-57cf-424e-862a-eb6e439cefa5",
   "metadata": {},
   "outputs": [],
   "source": [
    "# find the second min and second max is home work"
   ]
  },
  {
   "cell_type": "code",
   "execution_count": 46,
   "id": "25d67649-5fef-473a-be3d-f1e02e18803e",
   "metadata": {},
   "outputs": [
    {
     "name": "stdout",
     "output_type": "stream",
     "text": [
      "can 6\n",
      "canner 2\n",
      "not 2\n",
      "you 2\n",
      "be 1\n"
     ]
    }
   ],
   "source": [
    "# q11) str1='can canner can not can you canner can be can you can not'\n",
    "#      list=['can-6','canner-2','not-2','you-2','be-1']\n",
    "str1='can canner can not can you canner can be can you can not'\n",
    "l=str1.split()\n",
    "l1=[]\n",
    "for i in l:\n",
    "    if i not in l1:\n",
    "        print(i,l.count(i))\n",
    "        l1.append(i)"
   ]
  },
  {
   "cell_type": "code",
   "execution_count": 54,
   "id": "da9ee901-c69b-46b7-9851-c6ccbbea7ed3",
   "metadata": {},
   "outputs": [
    {
     "data": {
      "text/plain": [
       "['can--6', 'canner--2', 'not--2', 'you--2', 'be--1']"
      ]
     },
     "execution_count": 54,
     "metadata": {},
     "output_type": "execute_result"
    }
   ],
   "source": [
    "str1='can canner can not can you canner can be can you can not'\n",
    "l=str1.split()\n",
    "l1=[]\n",
    "l2=[]\n",
    "for i in l:\n",
    "    if i not in l2:\n",
    "        l2.append(i)\n",
    "        l1.append(f\"{i}--{l.count(i)}\")\n",
    "l1"
   ]
  },
  {
   "cell_type": "code",
   "execution_count": 62,
   "id": "dc63a34e-69ec-4051-8fd1-1eb0d4bae089",
   "metadata": {},
   "outputs": [
    {
     "name": "stdin",
     "output_type": "stream",
     "text": [
      "who is pm of india modi\n",
      "who is ICT captain rokrf\n",
      "what is the capital of india gsds\n"
     ]
    },
    {
     "name": "stdout",
     "output_type": "stream",
     "text": [
      "total correct answers 1\n"
     ]
    }
   ],
   "source": [
    "# q12) qns= ['who is pm of india','who is ICT captain',\n",
    "#             'what is the capital of india']\n",
    "#      ans=['modi','rohit','delhi']\n",
    "#     step-1: iterate through each qn\n",
    "#     step-2: user will enter the answer\n",
    "#           check-1: the user given 'MODI' correct answer\n",
    "#           check-2: qn index and ans index should be\n",
    "#    step-3: count_marks=0 at the top\n",
    "#    step-4:  for every correct answer 1 marks\n",
    "#    step-5: how many correct answers and how many marks\n",
    "\n",
    "\n",
    "qns= ['who is pm of india','who is ICT captain','what is the capital of india']\n",
    "ans=['modi','rohit','delhi']\n",
    "count=0\n",
    "for i in range(len(qns)):\n",
    "    answer=input(qns[i])\n",
    "    if answer.lower()==ans[i].lower():\n",
    "        count+=1\n",
    "print(f'total correct answers {count}')"
   ]
  },
  {
   "cell_type": "markdown",
   "id": "4b51fcb2-018e-4d84-af44-463b1fa2609b",
   "metadata": {},
   "source": [
    "# pop vs romove\n",
    "- pop will remove the element based on the index\n",
    "- if we donot give any index by default it will remove the last value\n",
    "- the default value index=-\n",
    "- pop expect a index value\n",
    "\n",
    "# remove\n",
    "- remove expect the value\n",
    "- remove will remove the element based on the value\n",
    "- it should return the output remaining in  list "
   ]
  },
  {
   "cell_type": "code",
   "execution_count": 67,
   "id": "0bfde89c-847b-4afe-be0c-fe75729638d6",
   "metadata": {},
   "outputs": [],
   "source": [
    "l3=[100,200,300,'a','b','c']"
   ]
  },
  {
   "cell_type": "code",
   "execution_count": 69,
   "id": "0e5f4ed9-3a46-41e5-80d6-96acb0410e03",
   "metadata": {},
   "outputs": [
    {
     "data": {
      "text/plain": [
       "'c'"
      ]
     },
     "execution_count": 69,
     "metadata": {},
     "output_type": "execute_result"
    }
   ],
   "source": [
    "l3.pop()"
   ]
  },
  {
   "cell_type": "code",
   "execution_count": 71,
   "id": "90ba59c0-6158-4861-873c-9400035733f4",
   "metadata": {},
   "outputs": [
    {
     "data": {
      "text/plain": [
       "'a'"
      ]
     },
     "execution_count": 71,
     "metadata": {},
     "output_type": "execute_result"
    }
   ],
   "source": [
    "l3.pop(3)"
   ]
  },
  {
   "cell_type": "code",
   "execution_count": 79,
   "id": "2f82d799-5ab0-4270-90e2-9f65dc6d7002",
   "metadata": {},
   "outputs": [],
   "source": [
    "l3.remove(200)"
   ]
  },
  {
   "cell_type": "code",
   "execution_count": 81,
   "id": "9f460bb0-3a09-42bd-b83e-3c3019697e4d",
   "metadata": {},
   "outputs": [
    {
     "data": {
      "text/plain": [
       "[300, 'b']"
      ]
     },
     "execution_count": 81,
     "metadata": {},
     "output_type": "execute_result"
    }
   ],
   "source": [
    "l3"
   ]
  },
  {
   "cell_type": "code",
   "execution_count": 85,
   "id": "457f80ca-3763-45d5-845f-6dbed6b09776",
   "metadata": {},
   "outputs": [],
   "source": [
    "l4=[100,200,300,1000,100,100,'a','b','c']"
   ]
  },
  {
   "cell_type": "code",
   "execution_count": null,
   "id": "5f3b7ebd-3fb9-42e5-b3cd-eb4732e5ff6d",
   "metadata": {},
   "outputs": [],
   "source": [
    "l4.pop()"
   ]
  },
  {
   "cell_type": "code",
   "execution_count": 87,
   "id": "3c3cab26-d23f-4f66-a8c8-04dc1a206e06",
   "metadata": {},
   "outputs": [
    {
     "data": {
      "text/plain": [
       "['__add__',\n",
       " '__class__',\n",
       " '__class_getitem__',\n",
       " '__contains__',\n",
       " '__delattr__',\n",
       " '__delitem__',\n",
       " '__dir__',\n",
       " '__doc__',\n",
       " '__eq__',\n",
       " '__format__',\n",
       " '__ge__',\n",
       " '__getattribute__',\n",
       " '__getitem__',\n",
       " '__getstate__',\n",
       " '__gt__',\n",
       " '__hash__',\n",
       " '__iadd__',\n",
       " '__imul__',\n",
       " '__init__',\n",
       " '__init_subclass__',\n",
       " '__iter__',\n",
       " '__le__',\n",
       " '__len__',\n",
       " '__lt__',\n",
       " '__mul__',\n",
       " '__ne__',\n",
       " '__new__',\n",
       " '__reduce__',\n",
       " '__reduce_ex__',\n",
       " '__repr__',\n",
       " '__reversed__',\n",
       " '__rmul__',\n",
       " '__setattr__',\n",
       " '__setitem__',\n",
       " '__sizeof__',\n",
       " '__str__',\n",
       " '__subclasshook__',\n",
       " 'append',\n",
       " 'clear',\n",
       " 'copy',\n",
       " 'count',\n",
       " 'extend',\n",
       " 'index',\n",
       " 'insert',\n",
       " 'pop',\n",
       " 'remove',\n",
       " 'reverse',\n",
       " 'sort']"
      ]
     },
     "execution_count": 87,
     "metadata": {},
     "output_type": "execute_result"
    }
   ],
   "source": [
    "dir(list)"
   ]
  },
  {
   "cell_type": "markdown",
   "id": "be8f117a-3a18-49a7-9042-c33f7b081384",
   "metadata": {},
   "source": [
    "- here pop is correct ans \n",
    "- pop wants a index\n",
    "- here only 8 letters so we count the index\n",
    "- imagine the list have 8k of words so we are unable to count\n",
    "- when you are counting and giving: it means hard coded\n",
    "- python code should give automatically\n",
    "- for that we need to use index"
   ]
  },
  {
   "cell_type": "code",
   "execution_count": 92,
   "id": "325c097f-c656-4a52-a916-9055e099785b",
   "metadata": {},
   "outputs": [
    {
     "data": {
      "text/plain": [
       "100"
      ]
     },
     "execution_count": 92,
     "metadata": {},
     "output_type": "execute_result"
    }
   ],
   "source": [
    "l5=[100,200,300,1000,100,100,'a','b','c']\n",
    "i1=l5.index(100)\n",
    "i2=l5.index(100,i1+1)\n",
    "l5.pop(i2)"
   ]
  },
  {
   "cell_type": "code",
   "execution_count": 94,
   "id": "76465b5d-204e-46e2-9e4e-850aac9c9f2f",
   "metadata": {},
   "outputs": [
    {
     "data": {
      "text/plain": [
       "[100, 200, 300, 1000, 100, 'a', 'b', 'c']"
      ]
     },
     "execution_count": 94,
     "metadata": {},
     "output_type": "execute_result"
    }
   ],
   "source": [
    "l5"
   ]
  },
  {
   "cell_type": "markdown",
   "id": "8d9d8bf6-a85d-48e7-848a-b24f5ae4f4fd",
   "metadata": {},
   "source": [
    "# extend\n",
    "- difference between concatenation vs append vs extend\n",
    "- concatination not overwrited but add the list\n",
    "- append add the word and overwrited in the list last of the list\n",
    "- extend extend the list and overwrited"
   ]
  },
  {
   "cell_type": "code",
   "execution_count": 8,
   "id": "478af6a3-a741-42ef-a582-9946ad24beb6",
   "metadata": {},
   "outputs": [
    {
     "data": {
      "text/plain": [
       "['hai', 'hello', 12, 2, 3, 5, 6, 6, 'class', 'd', 's', '&', 'a', 'i']"
      ]
     },
     "execution_count": 8,
     "metadata": {},
     "output_type": "execute_result"
    }
   ],
   "source": [
    "l1=['hai','hello',12,2,3,5,6,6,'class']\n",
    "l1.extend('ds&ai')\n",
    "l1"
   ]
  },
  {
   "cell_type": "code",
   "execution_count": 14,
   "id": "fd85fb0e-4268-4844-9f47-ab5b519e9b3e",
   "metadata": {},
   "outputs": [
    {
     "data": {
      "text/plain": [
       "['hai', 'hello', 12, 2, 3, 5, 6, 6, 'class', 'ds&ai']"
      ]
     },
     "execution_count": 14,
     "metadata": {},
     "output_type": "execute_result"
    }
   ],
   "source": [
    "l1=['hai','hello',12,2,3,5,6,6,'class']\n",
    "l1.append('ds&ai')\n",
    "l1"
   ]
  },
  {
   "cell_type": "markdown",
   "id": "b8e35b84-f565-4d7e-8c8e-8b0dc0c44ae2",
   "metadata": {},
   "source": [
    "# imp diff\n",
    "- extend and concatenation both have same behaviour\n",
    "- means add the two lists\n",
    "- but extend overwrite the list"
   ]
  },
  {
   "cell_type": "markdown",
   "id": "d6b0bba8-c38e-4dda-b2de-70ef27829549",
   "metadata": {},
   "source": [
    "\n",
    "# difference between insert and append"
   ]
  },
  {
   "cell_type": "code",
   "execution_count": 18,
   "id": "fbb74e1b-5222-459b-a456-fd9a2b9fa5fd",
   "metadata": {},
   "outputs": [
    {
     "data": {
      "text/plain": [
       "[1, 2, 3, 4, 'hai']"
      ]
     },
     "execution_count": 18,
     "metadata": {},
     "output_type": "execute_result"
    }
   ],
   "source": [
    "l1=[1,2,3,4]\n",
    "l1.append('hai')\n",
    "l1"
   ]
  },
  {
   "cell_type": "code",
   "execution_count": 22,
   "id": "13a6c00f-8579-4fe8-9775-19af5fbad77c",
   "metadata": {},
   "outputs": [
    {
     "data": {
      "text/plain": [
       "[1, 2, 'hai', 3, 4]"
      ]
     },
     "execution_count": 22,
     "metadata": {},
     "output_type": "execute_result"
    }
   ],
   "source": [
    "l1=[1,2,3,4]\n",
    "l1.insert(2,'hai')\n",
    "l1"
   ]
  },
  {
   "cell_type": "markdown",
   "id": "541cdb10-4bd0-468a-9c87-9c3d5cafabff",
   "metadata": {},
   "source": [
    "# insert\n",
    "- insert the object before the index value\n",
    "- we can insert value any where in the list \n",
    "- we need index value to insert the value"
   ]
  },
  {
   "cell_type": "code",
   "execution_count": 30,
   "id": "5fe91f25-5308-4f97-a4a8-65c15ba93b31",
   "metadata": {},
   "outputs": [
    {
     "data": {
      "text/plain": [
       "[1, 2, 'hello', 'hai', 3, 4]"
      ]
     },
     "execution_count": 30,
     "metadata": {},
     "output_type": "execute_result"
    }
   ],
   "source": [
    "l2=[1, 2, 'hai', 3, 4] \n",
    "b=l2.index(\"hai\")\n",
    "l2.insert(b,\"hello\")\n",
    "l2"
   ]
  },
  {
   "cell_type": "code",
   "execution_count": 36,
   "id": "542e205c-84f4-4260-a4a0-f5fe2792896e",
   "metadata": {},
   "outputs": [
    {
     "name": "stdin",
     "output_type": "stream",
     "text": [
      "enter the insert number hai\n"
     ]
    },
    {
     "data": {
      "text/plain": [
       "[1, 2, 'hello', 'class', 'hai', 3, 4]"
      ]
     },
     "execution_count": 36,
     "metadata": {},
     "output_type": "execute_result"
    }
   ],
   "source": [
    "l4=[1, 2, 'hello', 'hai', 3, 4]\n",
    "c=input('enter the insert number')\n",
    "d=l4.index(c)\n",
    "l4.insert(d,\"class\")\n",
    "l4"
   ]
  },
  {
   "cell_type": "code",
   "execution_count": 76,
   "id": "e8d108fe-e53f-4209-98d0-3e47d8f2f569",
   "metadata": {},
   "outputs": [
    {
     "name": "stdin",
     "output_type": "stream",
     "text": [
      "enter the insert index number hai\n",
      "enter the insert value class\n"
     ]
    },
    {
     "data": {
      "text/plain": [
       "[1, 2, 'hello', 'class', 'hai', 3, 4]"
      ]
     },
     "execution_count": 76,
     "metadata": {},
     "output_type": "execute_result"
    }
   ],
   "source": [
    "l4=[1, 2, 'hello', 'hai', 3, 4]\n",
    "c=input('enter the insert index number')\n",
    "e=input(\"enter the insert value\")\n",
    "d=l4.index(c)\n",
    "l4.insert(d,e)\n",
    "l4"
   ]
  },
  {
   "cell_type": "code",
   "execution_count": 48,
   "id": "44cd2d66-47d6-4910-98ba-cec9973eaa95",
   "metadata": {},
   "outputs": [
    {
     "name": "stdout",
     "output_type": "stream",
     "text": [
      "[110, 220, 330]\n"
     ]
    }
   ],
   "source": [
    "l1=[100,200,300]\n",
    "l2=[10,20,30]\n",
    "ans=[]\n",
    "for i in range(len(l1)):\n",
    "    ans.append(l1[i]+l2[i])\n",
    "print(ans)"
   ]
  },
  {
   "cell_type": "code",
   "execution_count": 74,
   "id": "b25e375b-ea25-4ea2-bf9f-6e68d79616f1",
   "metadata": {},
   "outputs": [
    {
     "name": "stdout",
     "output_type": "stream",
     "text": [
      "[110, 220, 330, 400]\n"
     ]
    }
   ],
   "source": [
    "l1=[100,200,300,400]\n",
    "l2=[10,20,30]\n",
    "ans=[]\n",
    "for i in range(len(l1)):\n",
    "    if i <len(l2):\n",
    "        ans.append(l1[i]+l2[i])\n",
    "    else:\n",
    "        ans.append(l1[i])\n",
    "print(ans)\n",
    "    "
   ]
  },
  {
   "cell_type": "code",
   "execution_count": 78,
   "id": "cee3b94d-3b22-46b4-9df5-4b82dc175cd5",
   "metadata": {},
   "outputs": [
    {
     "name": "stdout",
     "output_type": "stream",
     "text": [
      "[110, 220, 330, 400]\n"
     ]
    }
   ],
   "source": [
    "# another way\n",
    "l1=[100,200,300,400]\n",
    "l2=[10,20,30]\n",
    "len1=len(l1)\n",
    "len2=len(l2)\n",
    "max_val=max(len1,len2)\n",
    "ans=[]\n",
    "for i in range(max_val):\n",
    "    if i <len(l2):\n",
    "        ans.append(l1[i]+l2[i])\n",
    "    else:\n",
    "        ans.append(l1[i])\n",
    "print(ans)\n",
    "    "
   ]
  },
  {
   "cell_type": "markdown",
   "id": "89e8d79f-453f-436f-a1cf-b76068d25f63",
   "metadata": {},
   "source": [
    "# Distance between two points formula is \n",
    "- d=root([x2-x1]**2+[y2-y1]**2)"
   ]
  },
  {
   "cell_type": "code",
   "execution_count": 91,
   "id": "af4625eb-5813-421b-aa94-da0eb5ca640f",
   "metadata": {},
   "outputs": [
    {
     "data": {
      "text/plain": [
       "4.47213595499958"
      ]
     },
     "execution_count": 91,
     "metadata": {},
     "output_type": "execute_result"
    }
   ],
   "source": [
    "import math\n",
    "l1=[2,5]\n",
    "l2=[4,9]\n",
    "c=l1[0],l2[0]\n",
    "d=l1[1],l2[1]\n",
    "e=(c[1]-c[0])**2\n",
    "f=(d[1]-d[0])**2\n",
    "g=e+f\n",
    "math.sqrt(g)"
   ]
  },
  {
   "cell_type": "code",
   "execution_count": 105,
   "id": "5d1fd948-d541-48f6-a17d-cf57a0b53b97",
   "metadata": {},
   "outputs": [
    {
     "data": {
      "text/plain": [
       "4.47213595499958"
      ]
     },
     "execution_count": 105,
     "metadata": {},
     "output_type": "execute_result"
    }
   ],
   "source": [
    "# the above all program in single line example\n",
    "# math.sqrt(g) it can be write as math.sqrt(e+f) here g comes from e and f so we direct\n",
    "# math.sqrt(e+f) it can be write as math.sqrt((c[1]-c[0])**2+(d[1]-d[0])**2) here is also same e means (c[1]-c[0])**2 and f means (d[1]-d[0])**2\n",
    "#math.sqrt((c[1]-c[0])**2+(d[1]-d[0])**2) it can be written as math.sqrt((l2[0]-l1[0])**2+(l2[1]-l1[1])**2)\n",
    "# math.sqrt((l2[0]-l1[0])**2+(l2[1]-l1[1])**2) this is the single line answer \n",
    "import math\n",
    "l1=[2,5]\n",
    "l2=[4,9]\n",
    "math.sqrt((l2[0]-l1[0])**2+(l2[1]-l1[1])**2)"
   ]
  },
  {
   "cell_type": "code",
   "execution_count": null,
   "id": "7a16f2fc-1583-4418-a8dc-e225545bd319",
   "metadata": {},
   "outputs": [],
   "source": [
    "# find the max and min distance points\n",
    "#a=[(1,3),(7,8),(2,6)(9,3)]\n",
    "#b=(5,9)\n",
    "# # find all the distance points\n",
    "#a=[(1,3),(7,8),(2,6)(9,3)]\n",
    "# (1,3) with all the above \n",
    "# (7,8) with all the above"
   ]
  },
  {
   "cell_type": "code",
   "execution_count": 9,
   "id": "4fef5aff-8b3a-4058-91d5-cf21536ce0d4",
   "metadata": {},
   "outputs": [
    {
     "name": "stdout",
     "output_type": "stream",
     "text": [
      "the min distance points 2.23606797749979\n",
      "the max distance points 7.211102550927978\n"
     ]
    }
   ],
   "source": [
    "# find the max and min distance points\n",
    "import math\n",
    "a=[(1,3),(7,8),(2,6),(9,3)]\n",
    "b=(5,9)\n",
    "l=[]\n",
    "#math.sqrt((b[0]-l1[0])**2+(b[1]-l1[1])**2)\n",
    "for i in a:\n",
    "    l1=i\n",
    "    c=math.sqrt((b[0]-l1[0])**2+(b[1]-l1[1])**2)\n",
    "    l.append(c)\n",
    "min_=min(l)\n",
    "max_=max(l)\n",
    "print(f'the min distance points {min_}')\n",
    "print(f'the max distance points {max_}')"
   ]
  },
  {
   "cell_type": "code",
   "execution_count": 33,
   "id": "f53359f7-5ab6-414d-88c4-57979af285d0",
   "metadata": {},
   "outputs": [
    {
     "name": "stdout",
     "output_type": "stream",
     "text": [
      "the distance between these two points-(9, 3),(7, 8) is 7.810249675906654\n",
      "the distance between these two points-(9, 3),(2, 6) is 3.1622776601683795\n",
      "the distance between these two points-(9, 3),(9, 3) is 8.0\n",
      "the distance between these two points-(9, 3),(2, 9) is 6.082762530298219\n",
      "the distance between these two points-(9, 3),(10, 12) is 12.727922061357855\n",
      "the distance between these two points-(9, 3),(7, 8) is 0.0\n",
      "the distance between these two points-(9, 3),(2, 6) is 5.385164807134504\n",
      "the distance between these two points-(9, 3),(9, 3) is 5.385164807134504\n",
      "the distance between these two points-(9, 3),(2, 9) is 5.0990195135927845\n",
      "the distance between these two points-(9, 3),(10, 12) is 5.0\n",
      "the distance between these two points-(9, 3),(7, 8) is 5.385164807134504\n",
      "the distance between these two points-(9, 3),(2, 6) is 0.0\n",
      "the distance between these two points-(9, 3),(9, 3) is 7.615773105863909\n",
      "the distance between these two points-(9, 3),(2, 9) is 3.0\n",
      "the distance between these two points-(9, 3),(10, 12) is 10.0\n",
      "the distance between these two points-(9, 3),(7, 8) is 5.385164807134504\n",
      "the distance between these two points-(9, 3),(2, 6) is 7.615773105863909\n",
      "the distance between these two points-(9, 3),(9, 3) is 0.0\n",
      "the distance between these two points-(9, 3),(2, 9) is 9.219544457292887\n",
      "the distance between these two points-(9, 3),(10, 12) is 9.055385138137417\n",
      "the distance between these two points-(9, 3),(7, 8) is 5.0990195135927845\n",
      "the distance between these two points-(9, 3),(2, 6) is 3.0\n",
      "the distance between these two points-(9, 3),(9, 3) is 9.219544457292887\n",
      "the distance between these two points-(9, 3),(2, 9) is 0.0\n",
      "the distance between these two points-(9, 3),(10, 12) is 8.54400374531753\n",
      "the distance between these two points-(9, 3),(7, 8) is 5.0\n",
      "the distance between these two points-(9, 3),(2, 6) is 10.0\n",
      "the distance between these two points-(9, 3),(9, 3) is 9.055385138137417\n",
      "the distance between these two points-(9, 3),(2, 9) is 8.54400374531753\n",
      "the distance between these two points-(9, 3),(10, 12) is 0.0\n"
     ]
    }
   ],
   "source": [
    "a=[(1,3),(7,8),(2,6),(9,3),(2,9),(10,12)]\n",
    "for p in a:\n",
    "    for j in a[1:]:\n",
    "        #print(p,j)\n",
    "        print(f'the distance between these two points-{i},{j} is {math.sqrt((p[0]-j[0])**2+(p[1]-j[1])**2)}')\n"
   ]
  },
  {
   "cell_type": "code",
   "execution_count": 5,
   "id": "8ff6ec83-3c23-4314-93da-c47ccd5101b6",
   "metadata": {},
   "outputs": [
    {
     "name": "stdout",
     "output_type": "stream",
     "text": [
      "maximum value is 7.211102550927978\n",
      "minimum value is 2.23606797749979\n"
     ]
    }
   ],
   "source": [
    "from math import sqrt\n",
    "a=[(1,3),(7,8),(2,6),(9,3)]\n",
    "b=(5,9)\n",
    "l1=[]\n",
    "for i in a:\n",
    "    l=i\n",
    "    l1.append(sqrt((b[0]-l[0])**2+(b[1]-l[1])**2))\n",
    "max_val=max(l1)\n",
    "min_val=min(l1)\n",
    "print(f'maximum value is {max_val}')\n",
    "print(f'minimum value is {min_val}')"
   ]
  },
  {
   "cell_type": "code",
   "execution_count": 40,
   "id": "df4c6e28-43c4-4e6b-9535-d46ce4ab18b8",
   "metadata": {},
   "outputs": [
    {
     "name": "stdout",
     "output_type": "stream",
     "text": [
      "the distance between these two points-(1, 3),(7, 8) is 7.810249675906654\n",
      "the distance between these two points-(1, 3),(2, 6) is 3.1622776601683795\n",
      "the distance between these two points-(1, 3),(9, 3) is 8.0\n",
      "the distance between these two points-(1, 3),(2, 9) is 6.082762530298219\n",
      "the distance between these two points-(1, 3),(10, 12) is 12.727922061357855\n",
      "the distance between these two points-(7, 8),(1, 3) is 7.810249675906654\n",
      "the distance between these two points-(7, 8),(2, 6) is 5.385164807134504\n",
      "the distance between these two points-(7, 8),(9, 3) is 5.385164807134504\n",
      "the distance between these two points-(7, 8),(2, 9) is 5.0990195135927845\n",
      "the distance between these two points-(7, 8),(10, 12) is 5.0\n",
      "the distance between these two points-(2, 6),(1, 3) is 3.1622776601683795\n",
      "the distance between these two points-(2, 6),(7, 8) is 5.385164807134504\n",
      "the distance between these two points-(2, 6),(9, 3) is 7.615773105863909\n",
      "the distance between these two points-(2, 6),(2, 9) is 3.0\n",
      "the distance between these two points-(2, 6),(10, 12) is 10.0\n",
      "the distance between these two points-(9, 3),(1, 3) is 8.0\n",
      "the distance between these two points-(9, 3),(7, 8) is 5.385164807134504\n",
      "the distance between these two points-(9, 3),(2, 6) is 7.615773105863909\n",
      "the distance between these two points-(9, 3),(2, 9) is 9.219544457292887\n",
      "the distance between these two points-(9, 3),(10, 12) is 9.055385138137417\n",
      "the distance between these two points-(2, 9),(1, 3) is 6.082762530298219\n",
      "the distance between these two points-(2, 9),(7, 8) is 5.0990195135927845\n",
      "the distance between these two points-(2, 9),(2, 6) is 3.0\n",
      "the distance between these two points-(2, 9),(9, 3) is 9.219544457292887\n",
      "the distance between these two points-(2, 9),(10, 12) is 8.54400374531753\n",
      "the distance between these two points-(10, 12),(1, 3) is 12.727922061357855\n",
      "the distance between these two points-(10, 12),(7, 8) is 5.0\n",
      "the distance between these two points-(10, 12),(2, 6) is 10.0\n",
      "the distance between these two points-(10, 12),(9, 3) is 9.055385138137417\n",
      "the distance between these two points-(10, 12),(2, 9) is 8.54400374531753\n"
     ]
    }
   ],
   "source": [
    "a=[(1,3),(7,8),(2,6),(9,3),(2,9),(10,12)]\n",
    "b=[]\n",
    "c=0\n",
    "for p in a:\n",
    "    #print(i)\n",
    "    for j in a:\n",
    "        if p==j:\n",
    "           c+=1 \n",
    "        else:\n",
    "            print(f'the distance between these two points-{p},{j} is {math.sqrt((p[0]-j[0])**2+(p[1]-j[1])**2)}')"
   ]
  },
  {
   "cell_type": "code",
   "execution_count": null,
   "id": "7bdbd284-6fc0-46de-a0cf-52904e2c5da4",
   "metadata": {},
   "outputs": [],
   "source": []
  }
 ],
 "metadata": {
  "kernelspec": {
   "display_name": "Python 3 (ipykernel)",
   "language": "python",
   "name": "python3"
  },
  "language_info": {
   "codemirror_mode": {
    "name": "ipython",
    "version": 3
   },
   "file_extension": ".py",
   "mimetype": "text/x-python",
   "name": "python",
   "nbconvert_exporter": "python",
   "pygments_lexer": "ipython3",
   "version": "3.12.4"
  }
 },
 "nbformat": 4,
 "nbformat_minor": 5
}
