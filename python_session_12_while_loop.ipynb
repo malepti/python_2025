{
 "cells": [
  {
   "cell_type": "markdown",
   "id": "9069d463-dcbc-4327-b160-ebe47c68cd93",
   "metadata": {},
   "source": [
    "# **while Loop**\n",
    "- Intialization\n",
    "- increment or decrement\n",
    "- condition to stop"
   ]
  },
  {
   "cell_type": "markdown",
   "id": "7a9ed82d-96f6-4e02-a1d1-cd553ab14937",
   "metadata": {},
   "source": [
    "**in the for loop all the above 3 will be happen in a single statement**"
   ]
  },
  {
   "cell_type": "code",
   "execution_count": 7,
   "id": "ca499758-8346-4231-8fc8-5feab9ac0cdb",
   "metadata": {},
   "outputs": [
    {
     "name": "stdout",
     "output_type": "stream",
     "text": [
      "2 4 6 8 10 12 14 16 18 "
     ]
    }
   ],
   "source": [
    "for i in range(2,20,2): # intiaalization=2,increment=2,condition stop=20\n",
    "    print(i,end=' ')"
   ]
  },
  {
   "cell_type": "markdown",
   "id": "0b861319-bc1d-45c2-a7a5-b2d69a8e93fe",
   "metadata": {},
   "source": [
    "**but in while loop all three are happen in each line**"
   ]
  },
  {
   "cell_type": "code",
   "execution_count": null,
   "id": "075bdb93-832c-4198-8480-937d63fe7b1d",
   "metadata": {},
   "outputs": [],
   "source": [
    "# intial value   inthe first line\n",
    "# condition          in the second line\n",
    "    # write your code     in the third line inside the loop\n",
    "    # increment or decrement\n",
    "<intial value>\n",
    "while <condition>:\n",
    "    <write your code here>\n",
    "    <incremet or decrement>\n",
    "# we need to write a condition the while should give enter inside the loop\n",
    "    # after some time whenever the condition satisfies\n",
    "    #      the code should stop"
   ]
  },
  {
   "cell_type": "code",
   "execution_count": null,
   "id": "d02fed9d-eaf3-4dc9-8efa-c959af679751",
   "metadata": {},
   "outputs": [],
   "source": [
    "i=2\n",
    "while i>=2:\n",
    "    print(i,end=' ')\n",
    "    i=i+2\n",
    "# step-1: i=2 while 2>=2 true print(2) i=2+2=4\n",
    "# step-2: i=4 while 4>=2 true print(4) i=4+2=6\n",
    "# step-3: i=6 while 6>=2 true print(6) i=6+2=8\n",
    "# step-4: i=8 while 8>=2 true print(8) i=8+2=10\n",
    "# it prints infinity loop so we give the condition to stop"
   ]
  },
  {
   "cell_type": "code",
   "execution_count": 12,
   "id": "5581b70a-e948-4722-b0ba-42ff4e3a1b34",
   "metadata": {},
   "outputs": [
    {
     "name": "stdout",
     "output_type": "stream",
     "text": [
      "2 4 6 8 10 12 14 16 18 "
     ]
    }
   ],
   "source": [
    "# this condition stops when condition fails and it is the correct way to stops the loop\n",
    "i=2\n",
    "while i<=18:\n",
    "    print(i,end=' ')\n",
    "    i=i+2\n",
    "# step-1: i=2 while 2<=18 true print(2) i=2+2=4\n",
    "# step-2: i=4 while 4<=18 true print(4) i=4+2=6\n",
    "# step-3: i=6 while 6<=18 true print(6) i=6+2=8\n",
    "# step-4: i=8 while 8<=18 true print(8) i=8+2=10\n",
    "    # and so on\n",
    "# step 9: i=18 while 18<=18 true print(18) i=18+2=20\n",
    "# this step the condition fails so the condition stops here"
   ]
  },
  {
   "cell_type": "code",
   "execution_count": 14,
   "id": "7a63019d-94ea-472e-81cf-f1f0ba4493a8",
   "metadata": {},
   "outputs": [
    {
     "name": "stdout",
     "output_type": "stream",
     "text": [
      "2 4 6 8 10 12 14 16 "
     ]
    }
   ],
   "source": [
    "# we change the condition the output also change instantly\n",
    "i=2\n",
    "while i<18:  # here we give 18 18-1 range will be print it prints 2 to 16\n",
    "    print(i,end=' ')\n",
    "    i=i+2"
   ]
  },
  {
   "cell_type": "code",
   "execution_count": 16,
   "id": "d4baa5ba-df98-400e-b4be-8533278a70ea",
   "metadata": {},
   "outputs": [
    {
     "name": "stdout",
     "output_type": "stream",
     "text": [
      "2 4 6 8 10 12 14 16 "
     ]
    }
   ],
   "source": [
    "i=2\n",
    "while i!=18:  # same here we give 18 18-1 range will be print it prints 2 to 16 because stops the loop 18==18\n",
    "    print(i,end=' ')\n",
    "    i=i+2"
   ]
  },
  {
   "cell_type": "code",
   "execution_count": 20,
   "id": "37c6b560-2bfe-4628-a4ad-bf6c567d48dc",
   "metadata": {},
   "outputs": [
    {
     "name": "stdout",
     "output_type": "stream",
     "text": [
      "10 9 8 7 6 5 4 3 2 1 "
     ]
    }
   ],
   "source": [
    "for  i in range(10,0,-1):\n",
    "    print(i,end=' ')"
   ]
  },
  {
   "cell_type": "code",
   "execution_count": 30,
   "id": "3ee3ac77-1faf-441b-a560-324e0163f2db",
   "metadata": {},
   "outputs": [
    {
     "name": "stdout",
     "output_type": "stream",
     "text": [
      "10 9 8 7 6 5 4 3 2 1 "
     ]
    }
   ],
   "source": [
    "i=10\n",
    "while i>0: # here we print reverse 10 to 1 numbers so condition to enter while loop is 10 is greater than 0 stops the condition is when i becomes 0 \n",
    "    print(i,end=' ')\n",
    "    i=i-1 # here we decrease the value 10-1,9-1,8-1"
   ]
  },
  {
   "cell_type": "code",
   "execution_count": 34,
   "id": "710eb342-8f2e-4bb9-a842-c70bec66f64a",
   "metadata": {},
   "outputs": [
    {
     "name": "stdout",
     "output_type": "stream",
     "text": [
      "-10 -9 -8 -7 -6 -5 -4 -3 -2 -1 "
     ]
    }
   ],
   "source": [
    "i=-10\n",
    "while i<0: # here we print reverse 10 to 1 numbers so condition to enter while loop is 10 is greater than 0 stops the condition is when i becomes 0 \n",
    "    print(i,end=' ')\n",
    "    i=i+1 "
   ]
  },
  {
   "cell_type": "code",
   "execution_count": 36,
   "id": "e267611f-4f94-43b2-b542-4b96e14bd96d",
   "metadata": {},
   "outputs": [
    {
     "name": "stdout",
     "output_type": "stream",
     "text": [
      "-1 -2 -3 -4 -5 -6 -7 -8 -9 -10 "
     ]
    }
   ],
   "source": [
    "i=-1\n",
    "while i>=-10: # here we print reverse 10 to 1 numbers so condition to enter while loop is 10 is greater than 0 stops the condition is when i becomes 0 \n",
    "    print(i,end=' ')\n",
    "    i=i-1"
   ]
  },
  {
   "cell_type": "markdown",
   "id": "73077b70-7a13-4b77-ae20-1353e477b46a",
   "metadata": {},
   "source": [
    "# True\n",
    "- True is condition gives always a permission to enter the inside the loop\n",
    "- some time we can not fix the condition to enter inside the loop\n",
    "- but we know stops the condition\n",
    "- we put if condition to stop the loop and break "
   ]
  },
  {
   "cell_type": "markdown",
   "id": "dde8c8f4-16f0-497a-a759-00f5472cb3a2",
   "metadata": {},
   "source": [
    " **situation where condition stop**"
   ]
  },
  {
   "cell_type": "code",
   "execution_count": 41,
   "id": "63573b20-5576-460e-9eb1-511c78719080",
   "metadata": {},
   "outputs": [
    {
     "name": "stdout",
     "output_type": "stream",
     "text": [
      "2 4 6 8 10 12 14 16 "
     ]
    }
   ],
   "source": [
    "i=2\n",
    "while True:  # here we donot know the condition but loop continues so enter True\n",
    "    print(i,end=' ')\n",
    "    i=i+2\n",
    "    if i>=18:   # this if condition gets true the condition enter in to if condition\n",
    "        break    # here the condition break it means it breaks the loop"
   ]
  },
  {
   "cell_type": "code",
   "execution_count": 43,
   "id": "8f13e73b-2d49-4c69-8761-b29dc2a92c38",
   "metadata": {},
   "outputs": [
    {
     "name": "stdout",
     "output_type": "stream",
     "text": [
      "10 9 8 7 6 5 4 3 2 1 "
     ]
    }
   ],
   "source": [
    "i=10\n",
    "while True: \n",
    "    print(i,end=' ')\n",
    "    i=i-1\n",
    "    if i==0:\n",
    "        break"
   ]
  },
  {
   "cell_type": "code",
   "execution_count": 45,
   "id": "ab02b0f3-5c3a-4d4a-add0-67a11d952791",
   "metadata": {},
   "outputs": [
    {
     "name": "stdout",
     "output_type": "stream",
     "text": [
      "-1 -2 -3 -4 -5 -6 -7 -8 -9 -10 "
     ]
    }
   ],
   "source": [
    "i=-1\n",
    "while True: \n",
    "    print(i,end=' ')\n",
    "    i=i-1\n",
    "    if i==-11:\n",
    "        break"
   ]
  },
  {
   "cell_type": "markdown",
   "id": "c7d77e7c-6925-4d21-b636-2d217cf63bae",
   "metadata": {},
   "source": [
    "**when we use while and for**\n",
    "- if we observe for loop have **start stop step**\n",
    "- there is no infinite loop situation\n",
    "- if we want to give infinite loop situation\n",
    "  - based on correct value we want to stop the loop then we go for while loop\n",
    "  - live example: we upload the data every minute then we use while loop it upload works every minite at infinity times\n",
    "  - human life is based on while loop keep try try untill you success  "
   ]
  },
  {
   "cell_type": "code",
   "execution_count": 52,
   "id": "22003529-40df-4ed9-8714-e9df7a25263f",
   "metadata": {},
   "outputs": [
    {
     "name": "stdin",
     "output_type": "stream",
     "text": [
      "enter the number between 1 to 5 1\n"
     ]
    },
    {
     "name": "stdout",
     "output_type": "stream",
     "text": [
      "you lost try again\n"
     ]
    },
    {
     "name": "stdin",
     "output_type": "stream",
     "text": [
      "enter the number between 1 to 5 5\n"
     ]
    },
    {
     "name": "stdout",
     "output_type": "stream",
     "text": [
      "congrats you won the game\n"
     ]
    }
   ],
   "source": [
    "# wap ask the user get a random number n1\n",
    "# wap ask the user enter number n2\n",
    "# if bothe are match print won\n",
    "# give infinity chances\n",
    "# the loop will stop when values are match\n",
    "from random import randint\n",
    "while True:\n",
    "    n1=randint(1,5)\n",
    "    n2=int(input('enter the number between 1 to 5'))\n",
    "    if n1==n2:\n",
    "        print('congrats you won the game')\n",
    "        break\n",
    "    else:\n",
    "        print('you lost try again')\n",
    "        \n",
    "    "
   ]
  },
  {
   "cell_type": "code",
   "execution_count": null,
   "id": "b24cb58a-32f5-4755-9817-ddb736a9b491",
   "metadata": {},
   "outputs": [],
   "source": []
  }
 ],
 "metadata": {
  "kernelspec": {
   "display_name": "Python 3 (ipykernel)",
   "language": "python",
   "name": "python3"
  },
  "language_info": {
   "codemirror_mode": {
    "name": "ipython",
    "version": 3
   },
   "file_extension": ".py",
   "mimetype": "text/x-python",
   "name": "python",
   "nbconvert_exporter": "python",
   "pygments_lexer": "ipython3",
   "version": "3.12.4"
  }
 },
 "nbformat": 4,
 "nbformat_minor": 5
}
