{
 "cells": [
  {
   "cell_type": "code",
   "execution_count": null,
   "id": "d026d928-e404-4d2b-843a-09edc9261e19",
   "metadata": {},
   "outputs": [],
   "source": [
    "# tuple\n",
    "- tuple is immutable\n",
    "- tuple can accept the duplicate values\n",
    "- index and slicing operation is allow\n",
    "- to create a empty tuple using symbol '()' or tuple()\n"
   ]
  },
  {
   "cell_type": "code",
   "execution_count": 1,
   "id": "87124ced-3527-4a70-9b3a-f14075165c9a",
   "metadata": {},
   "outputs": [
    {
     "ename": "TypeError",
     "evalue": "'tuple' object does not support item assignment",
     "output_type": "error",
     "traceback": [
      "\u001b[1;31m---------------------------------------------------------------------------\u001b[0m",
      "\u001b[1;31mTypeError\u001b[0m                                 Traceback (most recent call last)",
      "Cell \u001b[1;32mIn[1], line 2\u001b[0m\n\u001b[0;32m      1\u001b[0m t\u001b[38;5;241m=\u001b[39m(\u001b[38;5;241m1\u001b[39m,\u001b[38;5;241m2\u001b[39m,\u001b[38;5;241m3\u001b[39m,\u001b[38;5;241m4\u001b[39m,\u001b[38;5;241m5\u001b[39m)\n\u001b[1;32m----> 2\u001b[0m t[\u001b[38;5;241m3\u001b[39m]\u001b[38;5;241m=\u001b[39m\u001b[38;5;124m'\u001b[39m\u001b[38;5;124ma\u001b[39m\u001b[38;5;124m'\u001b[39m\n",
      "\u001b[1;31mTypeError\u001b[0m: 'tuple' object does not support item assignment"
     ]
    }
   ],
   "source": [
    "t=(1,2,3,4,5)\n",
    "t[3]='a'"
   ]
  },
  {
   "cell_type": "markdown",
   "id": "20afc672-7b86-4cd2-aea8-db29be198f5b",
   "metadata": {},
   "source": [
    "- intialization\n",
    "- inbuilt-in-functions\n",
    "- min\n",
    "- max\n",
    "- len\n",
    "- sorted\n",
    "- reversed\n",
    "- print\n",
    "- type\n",
    "- index operation (for loop range vs in)\n",
    "- mutable vs immutable\n",
    "- concatenation\n",
    "- slicing\n",
    "- tuple methods"
   ]
  },
  {
   "cell_type": "markdown",
   "id": "cec811f9-9abd-49c6-bba0-59bcc812f180",
   "metadata": {},
   "source": [
    "# create a tuple with different methods "
   ]
  },
  {
   "cell_type": "markdown",
   "id": "5ff52815-05c0-40b2-84d2-b2b71176a82d",
   "metadata": {},
   "source": [
    "# min\n",
    "- it is a function it gives the min value from the tuple\n",
    "- incase the tuple is empty we give min function it raises valueError "
   ]
  },
  {
   "cell_type": "code",
   "execution_count": 17,
   "id": "aa57b234-9095-4720-83c0-4b133b58c255",
   "metadata": {},
   "outputs": [
    {
     "data": {
      "text/plain": [
       "1"
      ]
     },
     "execution_count": 17,
     "metadata": {},
     "output_type": "execute_result"
    }
   ],
   "source": [
    "t=(1,1,3,4,5,5,8,4,9,10)\n",
    "min(t)"
   ]
  },
  {
   "cell_type": "code",
   "execution_count": 19,
   "id": "f071099d-3b4e-4271-9af2-12a30ef29813",
   "metadata": {},
   "outputs": [
    {
     "data": {
      "text/plain": [
       "1"
      ]
     },
     "execution_count": 19,
     "metadata": {},
     "output_type": "execute_result"
    }
   ],
   "source": [
    "min(1,2,3,4,5)"
   ]
  },
  {
   "cell_type": "code",
   "execution_count": 21,
   "id": "7f23c74e-c872-4505-94a3-57d4c69416dc",
   "metadata": {},
   "outputs": [
    {
     "ename": "ValueError",
     "evalue": "min() iterable argument is empty",
     "output_type": "error",
     "traceback": [
      "\u001b[1;31m---------------------------------------------------------------------------\u001b[0m",
      "\u001b[1;31mValueError\u001b[0m                                Traceback (most recent call last)",
      "Cell \u001b[1;32mIn[21], line 2\u001b[0m\n\u001b[0;32m      1\u001b[0m tt\u001b[38;5;241m=\u001b[39m()\n\u001b[1;32m----> 2\u001b[0m \u001b[38;5;28mmin\u001b[39m(tt)\n",
      "\u001b[1;31mValueError\u001b[0m: min() iterable argument is empty"
     ]
    }
   ],
   "source": [
    "tt=()\n",
    "min(tt)"
   ]
  },
  {
   "cell_type": "markdown",
   "id": "19ab1489-5a31-4db9-ac01-5b972f8d416a",
   "metadata": {},
   "source": [
    "# max\n",
    "- it is a function it gives the max value from the tuple\n",
    "- incase the tuple is empty we give max function it raises valueError  "
   ]
  },
  {
   "cell_type": "code",
   "execution_count": 25,
   "id": "a03e5e17-2884-4eed-89cb-c974844d3a23",
   "metadata": {},
   "outputs": [
    {
     "data": {
      "text/plain": [
       "10"
      ]
     },
     "execution_count": 25,
     "metadata": {},
     "output_type": "execute_result"
    }
   ],
   "source": [
    "t=(1,1,3,4,5,5,8,4,9,10)\n",
    "max(t)"
   ]
  },
  {
   "cell_type": "code",
   "execution_count": 27,
   "id": "ee994b2e-efc9-488f-a027-753a904b14ca",
   "metadata": {},
   "outputs": [
    {
     "data": {
      "text/plain": [
       "90"
      ]
     },
     "execution_count": 27,
     "metadata": {},
     "output_type": "execute_result"
    }
   ],
   "source": [
    "t1=(87,90,56,43,12)\n",
    "max(t1)"
   ]
  },
  {
   "cell_type": "code",
   "execution_count": 29,
   "id": "a8dc26ad-43d7-4f02-b5e4-45517eb8a5b0",
   "metadata": {},
   "outputs": [
    {
     "ename": "ValueError",
     "evalue": "max() iterable argument is empty",
     "output_type": "error",
     "traceback": [
      "\u001b[1;31m---------------------------------------------------------------------------\u001b[0m",
      "\u001b[1;31mValueError\u001b[0m                                Traceback (most recent call last)",
      "Cell \u001b[1;32mIn[29], line 2\u001b[0m\n\u001b[0;32m      1\u001b[0m t2\u001b[38;5;241m=\u001b[39m()\n\u001b[1;32m----> 2\u001b[0m \u001b[38;5;28mmax\u001b[39m(t2)\n",
      "\u001b[1;31mValueError\u001b[0m: max() iterable argument is empty"
     ]
    }
   ],
   "source": [
    "t2=()\n",
    "max(t2)"
   ]
  },
  {
   "cell_type": "markdown",
   "id": "0e804ecb-1519-414e-9eff-13637b915daf",
   "metadata": {},
   "source": [
    "# len\n",
    "- len gives the length of the function \n",
    "- it gives the totl length of the tuple\n",
    "- incase the list is empty it does not raise error it gives 0"
   ]
  },
  {
   "cell_type": "code",
   "execution_count": 32,
   "id": "e9c784a8-3305-4fc6-84b7-dd351edbe474",
   "metadata": {},
   "outputs": [
    {
     "data": {
      "text/plain": [
       "5"
      ]
     },
     "execution_count": 32,
     "metadata": {},
     "output_type": "execute_result"
    }
   ],
   "source": [
    "t1=(87,90,56,43,12)\n",
    "len(t1)"
   ]
  },
  {
   "cell_type": "code",
   "execution_count": 34,
   "id": "ee553ef4-b4d4-49c3-a96d-5ba1e0922fc5",
   "metadata": {},
   "outputs": [
    {
     "data": {
      "text/plain": [
       "5"
      ]
     },
     "execution_count": 34,
     "metadata": {},
     "output_type": "execute_result"
    }
   ],
   "source": [
    "t2=(54,3,4,6,(6,7,8,9))\n",
    "len(t2)"
   ]
  },
  {
   "cell_type": "code",
   "execution_count": 36,
   "id": "611dfad9-8f13-4d78-89f6-2f5ae4b4b3f7",
   "metadata": {},
   "outputs": [
    {
     "data": {
      "text/plain": [
       "0"
      ]
     },
     "execution_count": 36,
     "metadata": {},
     "output_type": "execute_result"
    }
   ],
   "source": [
    "t3=()\n",
    "len(t3)"
   ]
  },
  {
   "cell_type": "markdown",
   "id": "2e09970c-ead8-45c9-95a7-dfe4ea6cdbd6",
   "metadata": {},
   "source": [
    "# sorted\n",
    "- it sorted the tuple as ascending order or decending order\n",
    "- by default it gives ascending order \n",
    "- if we give return reversed=True then it gives decending order\n",
    "- tuple in tuple it does give the output it raises type error"
   ]
  },
  {
   "cell_type": "code",
   "execution_count": 40,
   "id": "6c8ead32-bea3-4902-8960-40c6f8deb235",
   "metadata": {},
   "outputs": [
    {
     "ename": "TypeError",
     "evalue": "'<' not supported between instances of 'tuple' and 'int'",
     "output_type": "error",
     "traceback": [
      "\u001b[1;31m---------------------------------------------------------------------------\u001b[0m",
      "\u001b[1;31mTypeError\u001b[0m                                 Traceback (most recent call last)",
      "Cell \u001b[1;32mIn[40], line 2\u001b[0m\n\u001b[0;32m      1\u001b[0m t2\u001b[38;5;241m=\u001b[39m(\u001b[38;5;241m54\u001b[39m,\u001b[38;5;241m3\u001b[39m,\u001b[38;5;241m4\u001b[39m,\u001b[38;5;241m6\u001b[39m,(\u001b[38;5;241m6\u001b[39m,\u001b[38;5;241m7\u001b[39m,\u001b[38;5;241m8\u001b[39m,\u001b[38;5;241m9\u001b[39m))\n\u001b[1;32m----> 2\u001b[0m \u001b[38;5;28msorted\u001b[39m(t2)\n",
      "\u001b[1;31mTypeError\u001b[0m: '<' not supported between instances of 'tuple' and 'int'"
     ]
    }
   ],
   "source": [
    "t2=(54,3,4,6,(6,7,8,9))\n",
    "sorted(t2)"
   ]
  },
  {
   "cell_type": "code",
   "execution_count": 42,
   "id": "ecacab65-ef92-4918-a55c-6ac40132dbb5",
   "metadata": {},
   "outputs": [
    {
     "data": {
      "text/plain": [
       "[3, 4, 6, 6, 7, 8, 9, 54]"
      ]
     },
     "execution_count": 42,
     "metadata": {},
     "output_type": "execute_result"
    }
   ],
   "source": [
    "t2=(54,3,4,6,6,7,8,9)\n",
    "sorted(t2)"
   ]
  },
  {
   "cell_type": "code",
   "execution_count": 47,
   "id": "d4da60f1-f88a-44d6-b67d-61abc793a084",
   "metadata": {},
   "outputs": [
    {
     "data": {
      "text/plain": [
       "[54, 9, 8, 7, 6, 6, 4, 3]"
      ]
     },
     "execution_count": 47,
     "metadata": {},
     "output_type": "execute_result"
    }
   ],
   "source": [
    "t2=(54,3,4,6,6,7,8,9)\n",
    "sorted(t2,reverse=True)"
   ]
  },
  {
   "cell_type": "code",
   "execution_count": null,
   "id": "0ba41d69-3181-42f5-ae9a-0ce41848f6c9",
   "metadata": {},
   "outputs": [],
   "source": [
    "# reversed\n",
    "- it reverses the tuple from -1\n",
    "- "
   ]
  },
  {
   "cell_type": "code",
   "execution_count": 59,
   "id": "f9197465-93bf-448f-ab6f-612bb2f2e540",
   "metadata": {},
   "outputs": [],
   "source": [
    "t2=(54,3,4,6,(6,7,8,9))\n",
    "l1=reversed(t2)"
   ]
  },
  {
   "cell_type": "code",
   "execution_count": 61,
   "id": "0816f6bd-9103-4436-9697-53bf2b293332",
   "metadata": {},
   "outputs": [
    {
     "name": "stdout",
     "output_type": "stream",
     "text": [
      "(6, 7, 8, 9)\n",
      "6\n",
      "4\n",
      "3\n",
      "54\n"
     ]
    }
   ],
   "source": [
    "for i in l1:\n",
    "    print(i)"
   ]
  },
  {
   "cell_type": "markdown",
   "id": "5a41f777-25ac-4dc6-bda9-1a5bdc88b1d8",
   "metadata": {},
   "source": [
    "# print\n",
    "- it prints the output "
   ]
  },
  {
   "cell_type": "code",
   "execution_count": 4,
   "id": "f24f16fd-b65c-4d98-9eba-0d7abcb50bc8",
   "metadata": {},
   "outputs": [
    {
     "name": "stdout",
     "output_type": "stream",
     "text": [
      "(54, 3, 4, 6, (6, 7, 8, 9))\n"
     ]
    }
   ],
   "source": [
    "t2=(54,3,4,6,(6,7,8,9))\n",
    "\n",
    "print(t2)"
   ]
  },
  {
   "cell_type": "markdown",
   "id": "bceae2c4-911a-43ed-b6d1-c378b082fc2c",
   "metadata": {},
   "source": [
    "# type\n",
    "- it shows the type of the variable \n"
   ]
  },
  {
   "cell_type": "code",
   "execution_count": 9,
   "id": "0cc13ceb-3b16-454d-912c-ee654adaa44c",
   "metadata": {},
   "outputs": [
    {
     "name": "stdout",
     "output_type": "stream",
     "text": [
      "(54, 3, 4, 6, (6, 7, 8, 9))\n"
     ]
    },
    {
     "data": {
      "text/plain": [
       "tuple"
      ]
     },
     "execution_count": 9,
     "metadata": {},
     "output_type": "execute_result"
    }
   ],
   "source": [
    "t2=(54,3,4,6,(6,7,8,9))\n",
    "\n",
    "print(t2)\n",
    "type(t2)"
   ]
  },
  {
   "cell_type": "markdown",
   "id": "659e9dd3-515a-4d1b-b972-e782302d6c81",
   "metadata": {},
   "source": [
    "# index operations\n",
    "- it works on the index value as a input\n",
    "- and gives the output as a value in the tuple\n",
    "- incase the index value is not in tuple it raises error value outof range"
   ]
  },
  {
   "cell_type": "code",
   "execution_count": 12,
   "id": "ced78761-14df-444a-a928-163f16a99361",
   "metadata": {},
   "outputs": [
    {
     "data": {
      "text/plain": [
       "1"
      ]
     },
     "execution_count": 12,
     "metadata": {},
     "output_type": "execute_result"
    }
   ],
   "source": [
    "t=(1,2,3,4,'a','b','c')\n",
    "#  -7-6-5-4-3   -2  -1\n",
    "# (1,2,3,4,'a','b','c')\n",
    "#  0 1 2 3  4  5    6\n",
    "t[0]"
   ]
  },
  {
   "cell_type": "code",
   "execution_count": 14,
   "id": "19e6a248-04d6-4016-96f8-492ed3b823ad",
   "metadata": {},
   "outputs": [
    {
     "name": "stdout",
     "output_type": "stream",
     "text": [
      "the -7 is (-) index and 0 is (+) index of 1\n",
      "the -6 is (-) index and 1 is (+) index of 2\n",
      "the -5 is (-) index and 2 is (+) index of 3\n",
      "the -4 is (-) index and 3 is (+) index of 4\n",
      "the -3 is (-) index and 4 is (+) index of a\n",
      "the -2 is (-) index and 5 is (+) index of b\n",
      "the -1 is (-) index and 6 is (+) index of c\n"
     ]
    }
   ],
   "source": [
    "t1=len(t)\n",
    "for i in range(t1):\n",
    "    print(f'the {i-t1} is (-) index and {i} is (+) index of {t[i]}')"
   ]
  },
  {
   "cell_type": "code",
   "execution_count": 18,
   "id": "dc14d7bd-2633-438f-97b5-eaa37ad7f7e9",
   "metadata": {},
   "outputs": [
    {
     "data": {
      "text/plain": [
       "(6, 7, 8, 9)"
      ]
     },
     "execution_count": 18,
     "metadata": {},
     "output_type": "execute_result"
    }
   ],
   "source": [
    "t2=(54,3,4,6,(6,7,8,9))\n",
    "t2[4]"
   ]
  },
  {
   "cell_type": "code",
   "execution_count": 88,
   "id": "befdc5b9-3b79-49b7-b80a-52061db9269e",
   "metadata": {},
   "outputs": [
    {
     "name": "stdout",
     "output_type": "stream",
     "text": [
      "the -5 is (-) index and 0 is (+) index of a\n",
      "the -4 is (-) index and 1 is (+) index of b\n",
      "the -3 is (-) index and 2 is (+) index of c\n",
      "the -2 is (-) index and 3 is (+) index of red\n",
      "the -1 is (-) index and 4 is (+) index of blue\n"
     ]
    }
   ],
   "source": [
    "t2=('a','b','c','red','blue')\n",
    "for i in t2:\n",
    "    a=t2.index(i)\n",
    "    print(f'the {a-len(t2)} is (-) index and {a} is (+) index of {i}')"
   ]
  },
  {
   "cell_type": "code",
   "execution_count": 20,
   "id": "31401ec2-8307-4e4e-971a-b3676a0c3665",
   "metadata": {},
   "outputs": [
    {
     "ename": "IndexError",
     "evalue": "tuple index out of range",
     "output_type": "error",
     "traceback": [
      "\u001b[1;31m---------------------------------------------------------------------------\u001b[0m",
      "\u001b[1;31mIndexError\u001b[0m                                Traceback (most recent call last)",
      "Cell \u001b[1;32mIn[20], line 2\u001b[0m\n\u001b[0;32m      1\u001b[0m t2\u001b[38;5;241m=\u001b[39m(\u001b[38;5;241m54\u001b[39m,\u001b[38;5;241m3\u001b[39m,\u001b[38;5;241m4\u001b[39m,\u001b[38;5;241m6\u001b[39m,(\u001b[38;5;241m6\u001b[39m,\u001b[38;5;241m7\u001b[39m,\u001b[38;5;241m8\u001b[39m,\u001b[38;5;241m9\u001b[39m))\n\u001b[1;32m----> 2\u001b[0m t2[\u001b[38;5;241m5\u001b[39m]\n",
      "\u001b[1;31mIndexError\u001b[0m: tuple index out of range"
     ]
    }
   ],
   "source": [
    "t2=(54,3,4,6,(6,7,8,9))\n",
    "t2[5]"
   ]
  },
  {
   "cell_type": "code",
   "execution_count": 23,
   "id": "c3e833c9-0cee-4bc3-ac1f-f1995cbb3925",
   "metadata": {},
   "outputs": [
    {
     "data": {
      "text/plain": [
       "'c'"
      ]
     },
     "execution_count": 23,
     "metadata": {},
     "output_type": "execute_result"
    }
   ],
   "source": [
    "l1=(1,2,3,(4,(5,('cherry'))))\n",
    "l1[3][1][1][0]"
   ]
  },
  {
   "cell_type": "code",
   "execution_count": 25,
   "id": "2817b0d5-c56a-42a2-9719-33e91e978479",
   "metadata": {},
   "outputs": [
    {
     "data": {
      "text/plain": [
       "'cherry'"
      ]
     },
     "execution_count": 25,
     "metadata": {},
     "output_type": "execute_result"
    }
   ],
   "source": [
    "l1=(1,2,3,(4,(5,('cherry'))))\n",
    "l1[3][1][1]"
   ]
  },
  {
   "cell_type": "markdown",
   "id": "d5df9bf7-b28c-46c4-b021-92d7c6757723",
   "metadata": {},
   "source": [
    "# concatenation\n",
    "- means it add the two tuple in to one list\n",
    "- and it repeats the tuple with number"
   ]
  },
  {
   "cell_type": "code",
   "execution_count": 30,
   "id": "fa0dee4e-9ff6-4275-a502-75fb32065396",
   "metadata": {},
   "outputs": [
    {
     "name": "stdout",
     "output_type": "stream",
     "text": [
      "(1, 2, 3, 4, 5, 'hai', 'hello')\n"
     ]
    }
   ],
   "source": [
    "t=(1,2,3,4,5,)\n",
    "t1=(\"hai\",\"hello\")\n",
    "print(t+t1)"
   ]
  },
  {
   "cell_type": "code",
   "execution_count": 34,
   "id": "4428c382-0a8a-49ab-bed6-0ddd42f102e5",
   "metadata": {},
   "outputs": [
    {
     "name": "stdout",
     "output_type": "stream",
     "text": [
      "('hai', 'hello', 'hai', 'hello', 'hai', 'hello')\n"
     ]
    }
   ],
   "source": [
    "t1=(\"hai\",\"hello\")\n",
    "t2=3\n",
    "print(t1*t2)"
   ]
  },
  {
   "cell_type": "markdown",
   "id": "7f5b2cc0-6eab-4dcf-b58e-a409940c6603",
   "metadata": {},
   "source": [
    "# slicing\n",
    "-  is used to access the elements\n",
    "- we used index values to acess the elements\n",
    "- in index only one element can access \n",
    "- in slicing we access multiple elements\n",
    "- slicing does not give error it prints till last "
   ]
  },
  {
   "cell_type": "code",
   "execution_count": 37,
   "id": "49c163d8-0c3b-4360-b4da-1ceec80fd9a7",
   "metadata": {},
   "outputs": [
    {
     "data": {
      "text/plain": [
       "(1, 2, 3, 4, 5, 'a', 'b', 'c', 'd', '10.5', True, 10.5, 100, 200)"
      ]
     },
     "execution_count": 37,
     "metadata": {},
     "output_type": "execute_result"
    }
   ],
   "source": [
    "tup=(1,2,3,4,5,'a','b','c','d','10.5',True,10.5,100,200)\n",
    "tup[:]"
   ]
  },
  {
   "cell_type": "code",
   "execution_count": 39,
   "id": "2214def3-64db-49c2-96f4-de59bfc7d6af",
   "metadata": {},
   "outputs": [
    {
     "data": {
      "text/plain": [
       "(200,)"
      ]
     },
     "execution_count": 39,
     "metadata": {},
     "output_type": "execute_result"
    }
   ],
   "source": [
    "tup[-1:]"
   ]
  },
  {
   "cell_type": "code",
   "execution_count": 41,
   "id": "f4a5edbf-a299-4c44-a9d4-b126db1daa21",
   "metadata": {},
   "outputs": [
    {
     "data": {
      "text/plain": [
       "(200, 100, 10.5, True, '10.5', 'd', 'c', 'b', 'a', 5, 4, 3, 2, 1)"
      ]
     },
     "execution_count": 41,
     "metadata": {},
     "output_type": "execute_result"
    }
   ],
   "source": [
    "tup[-1::-1]"
   ]
  },
  {
   "cell_type": "code",
   "execution_count": 43,
   "id": "169bc72f-33b5-4e2d-aa32-0a6645910a8a",
   "metadata": {},
   "outputs": [
    {
     "data": {
      "text/plain": [
       "(4, 'a', 'c', '10.5', 10.5, 200)"
      ]
     },
     "execution_count": 43,
     "metadata": {},
     "output_type": "execute_result"
    }
   ],
   "source": [
    "tup[3:20:2]"
   ]
  },
  {
   "cell_type": "code",
   "execution_count": 47,
   "id": "732d820f-a3ae-45ea-ac92-09c82caa1ae3",
   "metadata": {},
   "outputs": [
    {
     "data": {
      "text/plain": [
       "(1, 2, 3, 4, 5, 'a', 'b', 'c', 'd', '10.5', True, 10.5, 100, 200)"
      ]
     },
     "execution_count": 47,
     "metadata": {},
     "output_type": "execute_result"
    }
   ],
   "source": [
    "tup[:200]"
   ]
  },
  {
   "cell_type": "code",
   "execution_count": 50,
   "id": "14ed141d-86d4-4821-a44f-f14518e61b6f",
   "metadata": {},
   "outputs": [
    {
     "data": {
      "text/plain": [
       "['__add__',\n",
       " '__class__',\n",
       " '__class_getitem__',\n",
       " '__contains__',\n",
       " '__delattr__',\n",
       " '__dir__',\n",
       " '__doc__',\n",
       " '__eq__',\n",
       " '__format__',\n",
       " '__ge__',\n",
       " '__getattribute__',\n",
       " '__getitem__',\n",
       " '__getnewargs__',\n",
       " '__getstate__',\n",
       " '__gt__',\n",
       " '__hash__',\n",
       " '__init__',\n",
       " '__init_subclass__',\n",
       " '__iter__',\n",
       " '__le__',\n",
       " '__len__',\n",
       " '__lt__',\n",
       " '__mul__',\n",
       " '__ne__',\n",
       " '__new__',\n",
       " '__reduce__',\n",
       " '__reduce_ex__',\n",
       " '__repr__',\n",
       " '__rmul__',\n",
       " '__setattr__',\n",
       " '__sizeof__',\n",
       " '__str__',\n",
       " '__subclasshook__',\n",
       " 'count',\n",
       " 'index']"
      ]
     },
     "execution_count": 50,
     "metadata": {},
     "output_type": "execute_result"
    }
   ],
   "source": [
    "dir(tuple)"
   ]
  },
  {
   "cell_type": "markdown",
   "id": "2a88aa4b-431a-41c8-8c4a-92d9a3aea48f",
   "metadata": {},
   "source": [
    "# count\n",
    "- it is a method in tupe it gives the no of accurence the vlaue\n",
    "- it takes the input as value in tuple \n",
    "- and tells the no of it occured in the tuple"
   ]
  },
  {
   "cell_type": "code",
   "execution_count": 53,
   "id": "4ee307b5-50fd-49f5-8609-581e365a506d",
   "metadata": {},
   "outputs": [
    {
     "data": {
      "text/plain": [
       "4"
      ]
     },
     "execution_count": 53,
     "metadata": {},
     "output_type": "execute_result"
    }
   ],
   "source": [
    "l5=(12,34,5,6,76,34,21,65,78,12,12,12)\n",
    "l5.count(12)"
   ]
  },
  {
   "cell_type": "code",
   "execution_count": 55,
   "id": "fcd1f306-ab27-41bd-a18b-4e51c3169372",
   "metadata": {},
   "outputs": [
    {
     "data": {
      "text/plain": [
       "3"
      ]
     },
     "execution_count": 55,
     "metadata": {},
     "output_type": "execute_result"
    }
   ],
   "source": [
    "l5=(12,34,5,6,76,34,21,65,78,12,12,12,'a','a','a')\n",
    "l5.count('a')"
   ]
  },
  {
   "cell_type": "markdown",
   "id": "0d5a478a-7383-4d72-b793-eefcaa10f0a0",
   "metadata": {},
   "source": [
    "# index\n",
    "- it is a method in tuple\n",
    "- and it takes the value as input and givees the index number"
   ]
  },
  {
   "cell_type": "code",
   "execution_count": 72,
   "id": "65fd7a46-d7ca-4f7c-b08c-d15cacfaca0c",
   "metadata": {},
   "outputs": [
    {
     "data": {
      "text/plain": [
       "12"
      ]
     },
     "execution_count": 72,
     "metadata": {},
     "output_type": "execute_result"
    }
   ],
   "source": [
    "l5=(12,34,5,6,76,34,21,65,78,12,12,12,'a','a','a')\n",
    "t=l5.index('a')\n",
    "t"
   ]
  },
  {
   "cell_type": "code",
   "execution_count": 68,
   "id": "8733c362-65e8-4c6f-b08d-888556265e33",
   "metadata": {},
   "outputs": [
    {
     "data": {
      "text/plain": [
       "0"
      ]
     },
     "execution_count": 68,
     "metadata": {},
     "output_type": "execute_result"
    }
   ],
   "source": [
    "l5.index(12)"
   ]
  },
  {
   "cell_type": "code",
   "execution_count": 70,
   "id": "5d2c02bf-2c71-4a0e-8a66-893535e48995",
   "metadata": {},
   "outputs": [
    {
     "data": {
      "text/plain": [
       "13"
      ]
     },
     "execution_count": 70,
     "metadata": {},
     "output_type": "execute_result"
    }
   ],
   "source": [
    "t1=l5.index('a',t+1)\n",
    "t1"
   ]
  },
  {
   "cell_type": "code",
   "execution_count": null,
   "id": "14afa7b2-1d20-4ed2-97db-dd997de448dd",
   "metadata": {},
   "outputs": [],
   "source": []
  }
 ],
 "metadata": {
  "kernelspec": {
   "display_name": "Python 3 (ipykernel)",
   "language": "python",
   "name": "python3"
  },
  "language_info": {
   "codemirror_mode": {
    "name": "ipython",
    "version": 3
   },
   "file_extension": ".py",
   "mimetype": "text/x-python",
   "name": "python",
   "nbconvert_exporter": "python",
   "pygments_lexer": "ipython3",
   "version": "3.12.4"
  }
 },
 "nbformat": 4,
 "nbformat_minor": 5
}
