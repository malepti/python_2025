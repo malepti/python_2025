{
 "cells": [
  {
   "cell_type": "code",
   "execution_count": 13,
   "id": "21c3b8ae-df37-48f4-b746-02a4fded1694",
   "metadata": {
    "jp-MarkdownHeadingCollapsed": true
   },
   "outputs": [
    {
     "name": "stdout",
     "output_type": "stream",
     "text": [
      "ramesh age is 20\n",
      "suresh age is 30\n",
      "sathish age is 40\n"
     ]
    }
   ],
   "source": [
    "l1=['ramesh','suresh','sathish']\n",
    "l2=[20,30,40]\n",
    "for i in range(len(l1)):\n",
    "    print(f'{l1[i]} age is {l2[i]}')"
   ]
  },
  {
   "cell_type": "markdown",
   "id": "00384549-df5d-4a77-9212-f303a1875039",
   "metadata": {},
   "source": [
    "$zip$\n",
    "- zip is used to combine two lists"
   ]
  },
  {
   "cell_type": "code",
   "execution_count": 21,
   "id": "00865f35-6fd1-48c5-b1b0-a78c51f4cbe0",
   "metadata": {},
   "outputs": [
    {
     "name": "stdout",
     "output_type": "stream",
     "text": [
      "ramesh age is 20\n",
      "suresh age is 30\n",
      "sathish age is 40\n"
     ]
    }
   ],
   "source": [
    "l1=['ramesh','suresh','sathish']\n",
    "l2=[20,30,40]\n",
    "for i,j in zip(l1,l2):    # here i for loop we use zip i is variable of l1 and j is represent l2 variable \n",
    "    print(f'{i} age is {j}')"
   ]
  },
  {
   "cell_type": "code",
   "execution_count": 23,
   "id": "373b6e7a-8acc-4a69-96da-f9cb17729d8d",
   "metadata": {},
   "outputs": [
    {
     "name": "stdout",
     "output_type": "stream",
     "text": [
      "('ramesh', 20) age is ('ramesh', 20)\n",
      "('suresh', 30) age is ('suresh', 30)\n",
      "('sathish', 40) age is ('sathish', 40)\n"
     ]
    }
   ],
   "source": [
    "l1=['ramesh','suresh','sathish']\n",
    "l2=[20,30,40]\n",
    "for i in zip(l1,l2):    # here i for loop we use zipincase we use only i variable i is represent as both variables\n",
    "    print(f'{i} age is {i}')"
   ]
  },
  {
   "cell_type": "code",
   "execution_count": 25,
   "id": "2e3a4ecb-2814-43ce-982a-9f96a058bed5",
   "metadata": {},
   "outputs": [
    {
     "name": "stdout",
     "output_type": "stream",
     "text": [
      "ramesh age is 20 from hyd\n",
      "suresh age is 30 from chennai\n",
      "sathish age is 40 from pune\n"
     ]
    }
   ],
   "source": [
    "l1=['ramesh','suresh','sathish']\n",
    "l2=[20,30,40]\n",
    "l3=['hyd','chennai','pune']\n",
    "for i,j,k in zip(l1,l2,l3):    # here i for loop we use zipincase we use only i variable i is represent as both variables\n",
    "    print(f'{i} age is {j} from {k}')"
   ]
  },
  {
   "cell_type": "markdown",
   "id": "799689c4-0041-49f0-bb3d-eceb906a2db4",
   "metadata": {},
   "source": [
    "# **dictionary**\n",
    "- strings represent in quotes\n",
    "- list represent in square brackets\n",
    "- tuple represents in paranthesis\n",
    "- sets represents in curly braces with only one value\n",
    "- dictionary is also represent in curly braces with two variables\n",
    "- dictionary has key:value pair\n",
    "  - one element is called : key\n",
    "  - another element is called : value"
   ]
  },
  {
   "cell_type": "code",
   "execution_count": null,
   "id": "19a6fb22-0e9f-44dc-895b-b83031dfda7a",
   "metadata": {},
   "outputs": [],
   "source": [
    "l1=['ramesh','suresh','sathish']\n",
    "l2=[20,30,40]\n",
    "\n",
    "{key:value}\n",
    "{key1:value1,key2:value2,key3:value3}\n"
   ]
  },
  {
   "cell_type": "code",
   "execution_count": 31,
   "id": "951abd76-1751-4433-8dba-d40ecaa8b67d",
   "metadata": {},
   "outputs": [
    {
     "data": {
      "text/plain": [
       "{'ramesh': 20, 'suresh': 30, 'sathish': 40}"
      ]
     },
     "execution_count": 31,
     "metadata": {},
     "output_type": "execute_result"
    }
   ],
   "source": [
    "dict1={'ramesh':20,\"suresh\":30,\"sathish\":40}\n",
    "dict1"
   ]
  },
  {
   "cell_type": "code",
   "execution_count": 33,
   "id": "7a1fe549-0df6-49e2-b888-491353d571f7",
   "metadata": {},
   "outputs": [
    {
     "data": {
      "text/plain": [
       "dict"
      ]
     },
     "execution_count": 33,
     "metadata": {},
     "output_type": "execute_result"
    }
   ],
   "source": [
    "type(dict1)"
   ]
  },
  {
   "cell_type": "markdown",
   "id": "012cb219-b166-456d-953a-b7169dd85214",
   "metadata": {},
   "source": [
    "- intialization\n",
    "- inbuilt-functions\n",
    "- max\n",
    "- min\n",
    "- len\n",
    "- sum\n",
    "- sorted\n",
    "- reversed\n",
    "- index\n",
    "- mutable vs immutable\n",
    "- concatenation\n",
    "- slicing\n",
    "- methods"
   ]
  },
  {
   "cell_type": "markdown",
   "id": "d0940f8d-7e6d-4dd8-91f9-fe8c0acbe85d",
   "metadata": {},
   "source": [
    "# intialization"
   ]
  },
  {
   "cell_type": "code",
   "execution_count": 49,
   "id": "63fa4936-05a4-413a-a6bf-e8e99db19b52",
   "metadata": {},
   "outputs": [
    {
     "data": {
      "text/plain": [
       "{20: 'ramesh', 30: 'suresh', 40: 'sathish'}"
      ]
     },
     "execution_count": 49,
     "metadata": {},
     "output_type": "execute_result"
    }
   ],
   "source": [
    "dict2={20:'ramesh',30:\"suresh\",40:\"sathish\"}\n",
    "dict2"
   ]
  },
  {
   "cell_type": "code",
   "execution_count": 39,
   "id": "d5478a7f-1fbb-4068-ba1e-34ef7f55c098",
   "metadata": {},
   "outputs": [
    {
     "data": {
      "text/plain": [
       "{'hello': [1, 2, 3]}"
      ]
     },
     "execution_count": 39,
     "metadata": {},
     "output_type": "execute_result"
    }
   ],
   "source": [
    "dict3={\"hello\":[1,2,3]}\n",
    "dict3"
   ]
  },
  {
   "cell_type": "code",
   "execution_count": 41,
   "id": "b96a0f3f-9118-4099-a301-60f88cc8a597",
   "metadata": {},
   "outputs": [
    {
     "ename": "TypeError",
     "evalue": "unhashable type: 'list'",
     "output_type": "error",
     "traceback": [
      "\u001b[1;31m---------------------------------------------------------------------------\u001b[0m",
      "\u001b[1;31mTypeError\u001b[0m                                 Traceback (most recent call last)",
      "Cell \u001b[1;32mIn[41], line 1\u001b[0m\n\u001b[1;32m----> 1\u001b[0m dict4\u001b[38;5;241m=\u001b[39m{[\u001b[38;5;241m1\u001b[39m,\u001b[38;5;241m2\u001b[39m,\u001b[38;5;241m3\u001b[39m]:\u001b[38;5;124m\"\u001b[39m\u001b[38;5;124mhello\u001b[39m\u001b[38;5;124m\"\u001b[39m}\n",
      "\u001b[1;31mTypeError\u001b[0m: unhashable type: 'list'"
     ]
    }
   ],
   "source": [
    "dict4={[1,2,3]:\"hello\"}"
   ]
  },
  {
   "cell_type": "code",
   "execution_count": 43,
   "id": "14fd7092-4492-4cad-b833-1f5ef3b379ac",
   "metadata": {},
   "outputs": [
    {
     "data": {
      "text/plain": [
       "{'name': 'venkatesh'}"
      ]
     },
     "execution_count": 43,
     "metadata": {},
     "output_type": "execute_result"
    }
   ],
   "source": [
    "dict5={\"name\":\"venkatesh\"}\n",
    "dict5"
   ]
  },
  {
   "cell_type": "code",
   "execution_count": 45,
   "id": "6c914b57-8148-4ffd-8822-02efcb41b6cd",
   "metadata": {},
   "outputs": [
    {
     "data": {
      "text/plain": [
       "{'20': 30}"
      ]
     },
     "execution_count": 45,
     "metadata": {},
     "output_type": "execute_result"
    }
   ],
   "source": [
    "dict6={\"20\":30}\n",
    "dict6"
   ]
  },
  {
   "cell_type": "code",
   "execution_count": 47,
   "id": "2d99e9ec-9eb6-468c-a098-6af3428c583e",
   "metadata": {},
   "outputs": [
    {
     "data": {
      "text/plain": [
       "{20: 30}"
      ]
     },
     "execution_count": 47,
     "metadata": {},
     "output_type": "execute_result"
    }
   ],
   "source": [
    "dict7={20:30}\n",
    "dict7"
   ]
  },
  {
   "cell_type": "markdown",
   "id": "9aaf24c8-d5f1-4dad-bb0d-06e7a120972a",
   "metadata": {},
   "source": [
    "- keys are important\n",
    "- when same keys but different value\n",
    "- it will take the latest value"
   ]
  },
  {
   "cell_type": "code",
   "execution_count": 54,
   "id": "5a1f3a65-70c4-4d28-a07b-2ec77e93c411",
   "metadata": {},
   "outputs": [
    {
     "data": {
      "text/plain": [
       "{'class': 20}"
      ]
     },
     "execution_count": 54,
     "metadata": {},
     "output_type": "execute_result"
    }
   ],
   "source": [
    "d6={\"class\":20,\"class\":20}\n",
    "d6\n",
    "# duplicate values are allowed in the dictionary"
   ]
  },
  {
   "cell_type": "markdown",
   "id": "1817ae61-8cec-4b47-8d41-cc241942ae2c",
   "metadata": {},
   "source": [
    "# - list is mutable \n",
    "- tuple is immutable\n",
    "- so list can not be a key\n",
    "**keys are importand**"
   ]
  },
  {
   "cell_type": "code",
   "execution_count": 59,
   "id": "5504594c-0cd3-49c4-a9e2-817e751327db",
   "metadata": {},
   "outputs": [
    {
     "ename": "SyntaxError",
     "evalue": "invalid syntax. Perhaps you forgot a comma? (504034804.py, line 1)",
     "output_type": "error",
     "traceback": [
      "\u001b[1;36m  Cell \u001b[1;32mIn[59], line 1\u001b[1;36m\u001b[0m\n\u001b[1;33m    dict4={(1,2,3)\"hello\"}\u001b[0m\n\u001b[1;37m           ^\u001b[0m\n\u001b[1;31mSyntaxError\u001b[0m\u001b[1;31m:\u001b[0m invalid syntax. Perhaps you forgot a comma?\n"
     ]
    }
   ],
   "source": [
    " "
   ]
  },
  {
   "cell_type": "code",
   "execution_count": 73,
   "id": "d2570c3d-695b-48d6-ae71-2b13b4bd1f3f",
   "metadata": {},
   "outputs": [
    {
     "ename": "TypeError",
     "evalue": "'type' object is not iterable",
     "output_type": "error",
     "traceback": [
      "\u001b[1;31m---------------------------------------------------------------------------\u001b[0m",
      "\u001b[1;31mTypeError\u001b[0m                                 Traceback (most recent call last)",
      "Cell \u001b[1;32mIn[73], line 3\u001b[0m\n\u001b[0;32m      1\u001b[0m dict1\u001b[38;5;241m=\u001b[39m{\u001b[38;5;124m'\u001b[39m\u001b[38;5;124mramesh\u001b[39m\u001b[38;5;124m'\u001b[39m:\u001b[38;5;241m20\u001b[39m,\u001b[38;5;124m\"\u001b[39m\u001b[38;5;124msuresh\u001b[39m\u001b[38;5;124m\"\u001b[39m:\u001b[38;5;241m30\u001b[39m,\u001b[38;5;124m\"\u001b[39m\u001b[38;5;124msathish\u001b[39m\u001b[38;5;124m\"\u001b[39m:\u001b[38;5;241m40\u001b[39m}\n\u001b[0;32m      2\u001b[0m len_\u001b[38;5;241m=\u001b[39m\u001b[38;5;28mlen\u001b[39m(dict1)\n\u001b[1;32m----> 3\u001b[0m min_\u001b[38;5;241m=\u001b[39m\u001b[38;5;28mmin\u001b[39m(\u001b[38;5;28mdict\u001b[39m)\n\u001b[0;32m      4\u001b[0m max_\u001b[38;5;241m=\u001b[39m\u001b[38;5;28mmax\u001b[39m(dict1)\n\u001b[0;32m      5\u001b[0m sorted_\u001b[38;5;241m=\u001b[39m\u001b[38;5;28msorted\u001b[39m()\n",
      "\u001b[1;31mTypeError\u001b[0m: 'type' object is not iterable"
     ]
    }
   ],
   "source": [
    "dict1={'ramesh':20,\"suresh\":30,\"sathish\":40}\n",
    "len_=len(dict1)\n",
    "min_=min(dict)\n",
    "max_=max(dict1)\n",
    "sorted_=sorted()\n",
    "reversed_=reversed()\n",
    "len_,min_,max_,sorted_,reversed"
   ]
  },
  {
   "cell_type": "code",
   "execution_count": 69,
   "id": "b584355d-bd51-4d0b-b912-82a0cdfd856b",
   "metadata": {},
   "outputs": [
    {
     "name": "stdout",
     "output_type": "stream",
     "text": [
      "suresh\n"
     ]
    }
   ],
   "source": [
    "d=max(dict1)\n",
    "print(d)\n"
   ]
  },
  {
   "cell_type": "markdown",
   "id": "b5a3a91e-75ba-49cc-97a7-ca6347337011",
   "metadata": {},
   "source": [
    "- max/min/sorted can work for homogeneous\n",
    "- reversed is work in heterogenious\n",
    "- sum is only work for numbers only"
   ]
  },
  {
   "cell_type": "markdown",
   "id": "470ad0cd-5d4e-4b14-89fd-c152e196cefb",
   "metadata": {},
   "source": [
    "# index"
   ]
  },
  {
   "cell_type": "code",
   "execution_count": 82,
   "id": "d1cf3da7-db98-4d62-96ff-c0640565122e",
   "metadata": {},
   "outputs": [
    {
     "ename": "KeyError",
     "evalue": "0",
     "output_type": "error",
     "traceback": [
      "\u001b[1;31m---------------------------------------------------------------------------\u001b[0m",
      "\u001b[1;31mKeyError\u001b[0m                                  Traceback (most recent call last)",
      "Cell \u001b[1;32mIn[82], line 2\u001b[0m\n\u001b[0;32m      1\u001b[0m dict1\u001b[38;5;241m=\u001b[39m{\u001b[38;5;124m'\u001b[39m\u001b[38;5;124mramesh\u001b[39m\u001b[38;5;124m'\u001b[39m:\u001b[38;5;241m20\u001b[39m,\u001b[38;5;124m\"\u001b[39m\u001b[38;5;124msuresh\u001b[39m\u001b[38;5;124m\"\u001b[39m:\u001b[38;5;241m30\u001b[39m,\u001b[38;5;124m\"\u001b[39m\u001b[38;5;124msathish\u001b[39m\u001b[38;5;124m\"\u001b[39m:\u001b[38;5;241m40\u001b[39m}\n\u001b[1;32m----> 2\u001b[0m dict1[\u001b[38;5;241m0\u001b[39m]\n",
      "\u001b[1;31mKeyError\u001b[0m: 0"
     ]
    }
   ],
   "source": [
    "dict1={'ramesh':20,\"suresh\":30,\"sathish\":40}\n",
    "dict1[0] # it not workd with index value \n",
    "# it only access by using keys"
   ]
  },
  {
   "cell_type": "code",
   "execution_count": 84,
   "id": "1e11bf23-ebc3-473b-a05f-5d580385f30e",
   "metadata": {},
   "outputs": [
    {
     "data": {
      "text/plain": [
       "20"
      ]
     },
     "execution_count": 84,
     "metadata": {},
     "output_type": "execute_result"
    }
   ],
   "source": [
    "dict1={'ramesh':20,\"suresh\":30,\"sathish\":40}\n",
    "dict1['ramesh']"
   ]
  },
  {
   "cell_type": "code",
   "execution_count": 96,
   "id": "87f2c487-9ce5-442a-8994-861f9731c372",
   "metadata": {},
   "outputs": [
    {
     "name": "stdout",
     "output_type": "stream",
     "text": [
      "ramesh has age is 20\n",
      "suresh has age is 30\n",
      "sathish has age is 40\n"
     ]
    }
   ],
   "source": [
    "dict1={'ramesh':20,\"suresh\":30,\"sathish\":40}\n",
    "for i in dict1:    # in for loop also keys are stored in i\n",
    "    print(f'{i} has age is {dict1[i]}')"
   ]
  },
  {
   "cell_type": "markdown",
   "id": "597bfe0d-d4ed-4584-b8aa-6aed835610ea",
   "metadata": {},
   "source": [
    "- whenwver we iterate using dictionary for loop in operator it will give you keys\n",
    "- if we want to get value we will access through keys only\n",
    "- key will work as index"
   ]
  },
  {
   "cell_type": "code",
   "execution_count": 101,
   "id": "36be8a3e-83b6-4ca2-9147-85d5aea1687c",
   "metadata": {},
   "outputs": [
    {
     "data": {
      "text/plain": [
       "'cherry'"
      ]
     },
     "execution_count": 101,
     "metadata": {},
     "output_type": "execute_result"
    }
   ],
   "source": [
    "d1={\"fruits\":['apple','banana','cherry']}\n",
    "d1['fruits'][2]"
   ]
  },
  {
   "cell_type": "code",
   "execution_count": 115,
   "id": "5cea8491-451e-4bba-8d7b-df4cc6028db9",
   "metadata": {},
   "outputs": [
    {
     "data": {
      "text/plain": [
       "'Green'"
      ]
     },
     "execution_count": 115,
     "metadata": {},
     "output_type": "execute_result"
    }
   ],
   "source": [
    "d1={'Fruites':{'Appple':['Sweet','Green','custred']}}\n",
    "d1['Fruites']['Appple'][1]"
   ]
  },
  {
   "cell_type": "code",
   "execution_count": 131,
   "id": "a013e160-876d-481d-a2df-c7e0881c2763",
   "metadata": {},
   "outputs": [
    {
     "data": {
      "text/plain": [
       "'None'"
      ]
     },
     "execution_count": 131,
     "metadata": {},
     "output_type": "execute_result"
    }
   ],
   "source": [
    "d1={'Fruites':['Apple'],'Cost':[{'1kg':[300,500],\n",
    "                               '2kg':['None']}]}\n",
    "d1['Cost'][0]['2kg'][0]"
   ]
  },
  {
   "cell_type": "code",
   "execution_count": 151,
   "id": "1bd06701-70e9-4087-8750-3a15d1e62627",
   "metadata": {},
   "outputs": [
    {
     "data": {
      "text/plain": [
       "{'Shambaji'}"
      ]
     },
     "execution_count": 151,
     "metadata": {},
     "output_type": "execute_result"
    }
   ],
   "source": [
    "\n",
    "d1={'Fruites':{'Mango':{'Nagpur':{'MH':{'King':{'Shivaji':{'Shambaji'}}}}}}}\n",
    "d1['Fruites']['Mango']['Nagpur']['MH']['King']['Shivaji']"
   ]
  },
  {
   "cell_type": "code",
   "execution_count": 153,
   "id": "4f000af5-6be4-49fe-82e9-73e03ce68c4b",
   "metadata": {},
   "outputs": [
    {
     "data": {
      "text/plain": [
       "['__class__',\n",
       " '__class_getitem__',\n",
       " '__contains__',\n",
       " '__delattr__',\n",
       " '__delitem__',\n",
       " '__dir__',\n",
       " '__doc__',\n",
       " '__eq__',\n",
       " '__format__',\n",
       " '__ge__',\n",
       " '__getattribute__',\n",
       " '__getitem__',\n",
       " '__getstate__',\n",
       " '__gt__',\n",
       " '__hash__',\n",
       " '__init__',\n",
       " '__init_subclass__',\n",
       " '__ior__',\n",
       " '__iter__',\n",
       " '__le__',\n",
       " '__len__',\n",
       " '__lt__',\n",
       " '__ne__',\n",
       " '__new__',\n",
       " '__or__',\n",
       " '__reduce__',\n",
       " '__reduce_ex__',\n",
       " '__repr__',\n",
       " '__reversed__',\n",
       " '__ror__',\n",
       " '__setattr__',\n",
       " '__setitem__',\n",
       " '__sizeof__',\n",
       " '__str__',\n",
       " '__subclasshook__',\n",
       " 'clear',\n",
       " 'copy',\n",
       " 'fromkeys',\n",
       " 'get',\n",
       " 'items',\n",
       " 'keys',\n",
       " 'pop',\n",
       " 'popitem',\n",
       " 'setdefault',\n",
       " 'update',\n",
       " 'values']"
      ]
     },
     "execution_count": 153,
     "metadata": {},
     "output_type": "execute_result"
    }
   ],
   "source": [
    "dir({})"
   ]
  },
  {
   "cell_type": "markdown",
   "id": "f4b448b7-d959-4ed9-b2ba-4b3016cb5999",
   "metadata": {},
   "source": [
    "- clear\n",
    "- copy\n",
    "- items\n",
    "- values\n",
    "- keys\n",
    "- get\n",
    "- pop"
   ]
  },
  {
   "cell_type": "markdown",
   "id": "96e4fc75-2293-43a3-af02-718a96d9f727",
   "metadata": {},
   "source": [
    "# **dictionary methods**\n",
    "\r\n",
    "pop\n",
    "## clear\n",
    "- remove all the elements from the list"
   ]
  },
  {
   "cell_type": "code",
   "execution_count": 11,
   "id": "5974bc06-6383-46ba-915a-91f506d6aeb2",
   "metadata": {},
   "outputs": [
    {
     "data": {
      "text/plain": [
       "{}"
      ]
     },
     "execution_count": 11,
     "metadata": {},
     "output_type": "execute_result"
    }
   ],
   "source": [
    "dict1={'ramesh':20,\"suresh\":30,\"sathish\":40}\n",
    "dict1.clear()\n",
    "dict1"
   ]
  },
  {
   "cell_type": "code",
   "execution_count": 5,
   "id": "87a9f098-cf31-4ee2-a79d-589e6b3c8d6e",
   "metadata": {},
   "outputs": [
    {
     "data": {
      "text/plain": [
       "{2: 20, 3: 30, 4: 40}"
      ]
     },
     "execution_count": 5,
     "metadata": {},
     "output_type": "execute_result"
    }
   ],
   "source": [
    "dict2={2:20,3:30,4:40}\n",
    "dict2"
   ]
  },
  {
   "cell_type": "code",
   "execution_count": 9,
   "id": "a94ce4a4-6eb3-454c-9373-057193065a24",
   "metadata": {},
   "outputs": [
    {
     "data": {
      "text/plain": [
       "{}"
      ]
     },
     "execution_count": 9,
     "metadata": {},
     "output_type": "execute_result"
    }
   ],
   "source": [
    "dict2.clear()\n",
    "dict2"
   ]
  },
  {
   "cell_type": "markdown",
   "id": "795a45eb-dd43-4d2a-a94d-a2ffeef31573",
   "metadata": {},
   "source": [
    "# copy\n",
    "- it copy the dictionary in to another variable\n",
    "- it shallow copy the elements"
   ]
  },
  {
   "cell_type": "code",
   "execution_count": 19,
   "id": "5f5cffb5-746f-4d17-a95a-97184e850015",
   "metadata": {},
   "outputs": [
    {
     "name": "stdout",
     "output_type": "stream",
     "text": [
      "{2: 20, 3: 30, 4: 40}\n",
      "{2: 20, 3: 30, 4: 40}\n"
     ]
    }
   ],
   "source": [
    "dict2={2:20,3:30,4:40}\n",
    "dict3=dict2.copy()\n",
    "print(dict2)\n",
    "print(dict3)"
   ]
  },
  {
   "cell_type": "code",
   "execution_count": 21,
   "id": "047326c5-95ef-4d76-b511-95717f54d495",
   "metadata": {},
   "outputs": [],
   "source": [
    "# from above we observe that the keys and values in the two dictionary are same"
   ]
  },
  {
   "cell_type": "markdown",
   "id": "df22785f-7193-408a-8fe7-706e12eeb717",
   "metadata": {},
   "source": [
    "# items\n",
    "- a set-like object providing a view on D's item\n",
    "- it returns all the keys with values in the dictionary\n",
    "  "
   ]
  },
  {
   "cell_type": "code",
   "execution_count": 29,
   "id": "53c5593e-e97e-4ca4-a079-b28526a9083d",
   "metadata": {},
   "outputs": [
    {
     "name": "stdout",
     "output_type": "stream",
     "text": [
      "dict_items([('name', 'venkatesh'), ('age', 20), ('location', 'hyd')])\n"
     ]
    }
   ],
   "source": [
    "d={'name':\"venkatesh\",'age':20,'location':'hyd'}\n",
    "c=d.items()\n",
    "print(c)"
   ]
  },
  {
   "cell_type": "markdown",
   "id": "75711692-6a9c-4abd-a204-51e472f76f72",
   "metadata": {},
   "source": [
    "# values\n",
    "- it returns the values present in the dictionary\n",
    "- it gives all the values with out keys "
   ]
  },
  {
   "cell_type": "code",
   "execution_count": 32,
   "id": "3b3bfb86-5a21-43eb-b9c3-b512484a63fd",
   "metadata": {},
   "outputs": [
    {
     "data": {
      "text/plain": [
       "dict_values(['venkatesh', 20, 'hyd'])"
      ]
     },
     "execution_count": 32,
     "metadata": {},
     "output_type": "execute_result"
    }
   ],
   "source": [
    "d={'name':\"venkatesh\",'age':20,'location':'hyd'}\n",
    "d.values()"
   ]
  },
  {
   "cell_type": "code",
   "execution_count": 37,
   "id": "2ac0af1b-6828-4271-9536-e11376add519",
   "metadata": {},
   "outputs": [
    {
     "data": {
      "text/plain": [
       "dict_values([20, 30, 40])"
      ]
     },
     "execution_count": 37,
     "metadata": {},
     "output_type": "execute_result"
    }
   ],
   "source": [
    "dict2={2:20,3:30,4:40}\n",
    "dict2.values()"
   ]
  },
  {
   "cell_type": "markdown",
   "id": "e91978a5-567f-414c-885d-7dba69a05023",
   "metadata": {},
   "source": [
    "# keys \n",
    "- it returns the only keys in dictionary"
   ]
  },
  {
   "cell_type": "code",
   "execution_count": 42,
   "id": "add981b1-44d0-4c4b-9324-1a135d551b81",
   "metadata": {},
   "outputs": [
    {
     "data": {
      "text/plain": [
       "dict_keys(['name', 'age', 'location'])"
      ]
     },
     "execution_count": 42,
     "metadata": {},
     "output_type": "execute_result"
    }
   ],
   "source": [
    "d={'name':\"venkatesh\",'age':20,'location':'hyd'}\n",
    "d.keys()"
   ]
  },
  {
   "cell_type": "code",
   "execution_count": 44,
   "id": "7e045301-0d60-4d20-a4ea-02944f8280ff",
   "metadata": {},
   "outputs": [
    {
     "data": {
      "text/plain": [
       "dict_keys([2, 3, 4])"
      ]
     },
     "execution_count": 44,
     "metadata": {},
     "output_type": "execute_result"
    }
   ],
   "source": [
    "dict2={2:20,3:30,4:40}\n",
    "dict2.keys()"
   ]
  },
  {
   "cell_type": "markdown",
   "id": "8f0552c3-0e79-4b7a-840e-561a8a810f02",
   "metadata": {},
   "source": [
    "# get \n",
    "- it returns the values in the dictionary\n",
    "- we give the key element \n",
    "- it gives the value for the key"
   ]
  },
  {
   "cell_type": "code",
   "execution_count": null,
   "id": "bdbc52bb-3c06-4816-922d-3f69e2cd85ee",
   "metadata": {},
   "outputs": [],
   "source": []
  },
  {
   "cell_type": "code",
   "execution_count": null,
   "id": "7f02016f-001d-4ef3-b4b4-224dd3acf5d9",
   "metadata": {},
   "outputs": [],
   "source": []
  },
  {
   "cell_type": "code",
   "execution_count": 46,
   "id": "165bc270-9120-42d3-b266-8eb1be8a5df6",
   "metadata": {},
   "outputs": [
    {
     "data": {
      "text/plain": [
       "30"
      ]
     },
     "execution_count": 46,
     "metadata": {},
     "output_type": "execute_result"
    }
   ],
   "source": [
    "dict2={2:20,3:30,4:40}\n",
    "dict2.get(3)"
   ]
  },
  {
   "cell_type": "code",
   "execution_count": 51,
   "id": "3ad1ddbf-1412-4a47-8548-d76e83663d47",
   "metadata": {},
   "outputs": [
    {
     "data": {
      "text/plain": [
       "'venkatesh'"
      ]
     },
     "execution_count": 51,
     "metadata": {},
     "output_type": "execute_result"
    }
   ],
   "source": [
    "d={'name':\"venkatesh\",'age':20,'location':'hyd'}\n",
    "d.get(\"name\")"
   ]
  },
  {
   "cell_type": "code",
   "execution_count": 53,
   "id": "f84e9237-2216-41f9-bcc3-17ec103dae59",
   "metadata": {},
   "outputs": [
    {
     "data": {
      "text/plain": [
       "'hyd'"
      ]
     },
     "execution_count": 53,
     "metadata": {},
     "output_type": "execute_result"
    }
   ],
   "source": [
    "d.get('location')"
   ]
  },
  {
   "cell_type": "code",
   "execution_count": 55,
   "id": "27aedaea-d1d7-47c4-8ff1-db7a60b07c43",
   "metadata": {},
   "outputs": [
    {
     "data": {
      "text/plain": [
       "20"
      ]
     },
     "execution_count": 55,
     "metadata": {},
     "output_type": "execute_result"
    }
   ],
   "source": [
    "d.get('age')"
   ]
  },
  {
   "cell_type": "markdown",
   "id": "c6179951-4913-490b-a468-105b97260572",
   "metadata": {},
   "source": [
    "# pop\n",
    "- it removes the elements from the dictionary\n",
    "- remove specified key and return the corresponding value.\n",
    "- If the key is not found, return the default if given; otherwise,\n",
    "raise a KeyError.\n",
    "- at least one argument we can provide otherwise it gives error\n",
    "- - remove the key and return value as output"
   ]
  },
  {
   "cell_type": "code",
   "execution_count": 57,
   "id": "5f0d3ce7-7de6-4166-9529-033ad3c72f14",
   "metadata": {},
   "outputs": [
    {
     "data": {
      "text/plain": [
       "'venkatesh'"
      ]
     },
     "execution_count": 57,
     "metadata": {},
     "output_type": "execute_result"
    }
   ],
   "source": [
    "d={'name':\"venkatesh\",'age':20,'location':'hyd'}\n",
    "d.pop(\"name\")"
   ]
  },
  {
   "cell_type": "code",
   "execution_count": 60,
   "id": "e91ed3ea-6477-4133-b51f-668c3555fd51",
   "metadata": {},
   "outputs": [
    {
     "ename": "TypeError",
     "evalue": "pop expected at least 1 argument, got 0",
     "output_type": "error",
     "traceback": [
      "\u001b[1;31m---------------------------------------------------------------------------\u001b[0m",
      "\u001b[1;31mTypeError\u001b[0m                                 Traceback (most recent call last)",
      "Cell \u001b[1;32mIn[60], line 2\u001b[0m\n\u001b[0;32m      1\u001b[0m d\u001b[38;5;241m=\u001b[39m{\u001b[38;5;124m'\u001b[39m\u001b[38;5;124mname\u001b[39m\u001b[38;5;124m'\u001b[39m:\u001b[38;5;124m\"\u001b[39m\u001b[38;5;124mvenkatesh\u001b[39m\u001b[38;5;124m\"\u001b[39m,\u001b[38;5;124m'\u001b[39m\u001b[38;5;124mage\u001b[39m\u001b[38;5;124m'\u001b[39m:\u001b[38;5;241m20\u001b[39m,\u001b[38;5;124m'\u001b[39m\u001b[38;5;124mlocation\u001b[39m\u001b[38;5;124m'\u001b[39m:\u001b[38;5;124m'\u001b[39m\u001b[38;5;124mhyd\u001b[39m\u001b[38;5;124m'\u001b[39m}\n\u001b[1;32m----> 2\u001b[0m d\u001b[38;5;241m.\u001b[39mpop()\n",
      "\u001b[1;31mTypeError\u001b[0m: pop expected at least 1 argument, got 0"
     ]
    }
   ],
   "source": [
    "d={'name':\"venkatesh\",'age':20,'location':'hyd'}\n",
    "d.pop()"
   ]
  },
  {
   "cell_type": "code",
   "execution_count": 63,
   "id": "400ad104-de86-406e-b6ed-1885f95a4638",
   "metadata": {},
   "outputs": [
    {
     "data": {
      "text/plain": [
       "20"
      ]
     },
     "execution_count": 63,
     "metadata": {},
     "output_type": "execute_result"
    }
   ],
   "source": [
    "d={'name':\"venkatesh\",'age':20,'location':'hyd'}\n",
    "d.pop(\"age\")"
   ]
  },
  {
   "cell_type": "markdown",
   "id": "7a4646ed-ff0a-46af-8113-2cf22fd46aff",
   "metadata": {},
   "source": [
    "# zip\n",
    "- it combines the lists in to dictionary\n",
    "- it contains two sets to change"
   ]
  },
  {
   "cell_type": "code",
   "execution_count": 3,
   "id": "0ad550cf-5bd5-4d77-a71d-2e8dfc68659a",
   "metadata": {},
   "outputs": [
    {
     "data": {
      "text/plain": [
       "{'ramesh': 20, 'suresh': 30, 'rakesh': 55}"
      ]
     },
     "execution_count": 3,
     "metadata": {},
     "output_type": "execute_result"
    }
   ],
   "source": [
    "names=[\"ramesh\",\"suresh\",\"rakesh\"]\n",
    "age=[20,30,55]\n",
    "dict1={} # create a empty dictionary to insert keys and values from above lists\n",
    "dict1[\"ramesh\"]=20\n",
    "dict1[\"suresh\"]=30\n",
    "dict1[\"rakesh\"]=55\n",
    "dict1"
   ]
  },
  {
   "cell_type": "code",
   "execution_count": 7,
   "id": "0d1dde35-a10a-4baa-89c7-84b95476049f",
   "metadata": {},
   "outputs": [
    {
     "data": {
      "text/plain": [
       "{'ramesh': 20, 'suresh': 30, 'rakesh': 55}"
      ]
     },
     "execution_count": 7,
     "metadata": {},
     "output_type": "execute_result"
    }
   ],
   "source": [
    "# from the above code is hard coded so make it simple by using zip\n",
    "names=[\"ramesh\",\"suresh\",\"rakesh\"]\n",
    "age=[20,30,55]\n",
    "dict1={}\n",
    "for i,j in zip(names,age):\n",
    "    dict1[i]=j\n",
    "dict1"
   ]
  },
  {
   "cell_type": "markdown",
   "id": "8dcaf5e0-0fce-4993-a9cd-00380e1bf39e",
   "metadata": {},
   "source": [
    "**how to convert dictionary to list**\n"
   ]
  },
  {
   "cell_type": "code",
   "execution_count": 28,
   "id": "bda5b489-9f8c-4800-9479-884f076828ee",
   "metadata": {},
   "outputs": [
    {
     "name": "stdout",
     "output_type": "stream",
     "text": [
      "['ramesh', 'suresh', 'rakesh']\n",
      "[20, 30, 55]\n"
     ]
    }
   ],
   "source": [
    "d={'ramesh': 20, 'suresh': 30, 'rakesh': 55}\n",
    "l=[]\n",
    "l1=[]\n",
    "for keys in d:\n",
    "    l.append(keys)\n",
    "    l1.append(d[keys])\n",
    "print(l)\n",
    "print(l1)"
   ]
  },
  {
   "cell_type": "code",
   "execution_count": 30,
   "id": "0cc21489-881c-42b6-9cb2-a2e362a8e5aa",
   "metadata": {},
   "outputs": [],
   "source": [
    "# string to list # split\n",
    "# list to string # join\n",
    "# list to dictionary (zip)\n",
    "# dict to list# "
   ]
  },
  {
   "cell_type": "code",
   "execution_count": null,
   "id": "91b3c76d-5c4f-4a5b-9959-3724c7eba286",
   "metadata": {},
   "outputs": [],
   "source": []
  },
  {
   "cell_type": "code",
   "execution_count": 34,
   "id": "b22b32dd-8dd6-4736-b25b-b495e4cd5e61",
   "metadata": {},
   "outputs": [
    {
     "data": {
      "text/plain": [
       "(['ramesh', 'suresh', 'rakesh'], [20, 30, 55])"
      ]
     },
     "execution_count": 34,
     "metadata": {},
     "output_type": "execute_result"
    }
   ],
   "source": [
    "# make the simple code for above\n",
    "d={'ramesh': 20, 'suresh': 30, 'rakesh': 55}\n",
    "l=[keys for keys in d]\n",
    "l1=[d[keys] for keys in d]\n",
    "l,l1"
   ]
  },
  {
   "cell_type": "markdown",
   "id": "07f6856e-e732-4511-9d58-e00112194d02",
   "metadata": {},
   "source": [
    "# dictionary comprehension\n",
    "- same as list comprehension\n",
    "- but difference is dict contains two values\n",
    "- so we take i,j as two variables one is keys and another is values"
   ]
  },
  {
   "cell_type": "code",
   "execution_count": 37,
   "id": "ae5cb4b5-816f-4337-b18f-5cfe8c9e519c",
   "metadata": {},
   "outputs": [
    {
     "data": {
      "text/plain": [
       "{'ramesh': 20, 'suresh': 30, 'rakesh': 55}"
      ]
     },
     "execution_count": 37,
     "metadata": {},
     "output_type": "execute_result"
    }
   ],
   "source": [
    "names=[\"ramesh\",\"suresh\",\"rakesh\"]\n",
    "age=[20,30,55]\n",
    "d={i:j for i,j in zip(names,age)}\n",
    "d"
   ]
  },
  {
   "cell_type": "code",
   "execution_count": 40,
   "id": "c53b9715-eb4c-457e-aa4f-d6378230f025",
   "metadata": {},
   "outputs": [
    {
     "data": {
      "text/plain": [
       "{20: 'ramesh', 30: 'suresh', 55: 'rakesh'}"
      ]
     },
     "execution_count": 40,
     "metadata": {},
     "output_type": "execute_result"
    }
   ],
   "source": [
    "names=[\"ramesh\",\"suresh\",\"rakesh\"]\n",
    "age=[20,30,55]\n",
    "d={i:j for i,j in zip(age,names)}\n",
    "d"
   ]
  },
  {
   "cell_type": "code",
   "execution_count": 42,
   "id": "144f83a2-024d-4cd5-be97-ea7ae40d96c2",
   "metadata": {},
   "outputs": [
    {
     "data": {
      "text/plain": [
       "{20: 'ramesh', 30: 'suresh', 55: 'rakesh'}"
      ]
     },
     "execution_count": 42,
     "metadata": {},
     "output_type": "execute_result"
    }
   ],
   "source": [
    "names=[\"ramesh\",\"suresh\",\"rakesh\"]\n",
    "age=[20,30,55]\n",
    "d={j:i for i,j in zip(names,age)}\n",
    "d"
   ]
  },
  {
   "cell_type": "code",
   "execution_count": 46,
   "id": "5883ff10-9dc1-44ae-8d8d-f2db019ff883",
   "metadata": {},
   "outputs": [
    {
     "data": {
      "text/plain": [
       "{'ramesh': 20, 'suresh': 30, 'rakesh': 55}"
      ]
     },
     "execution_count": 46,
     "metadata": {},
     "output_type": "execute_result"
    }
   ],
   "source": [
    "names=[\"ramesh\",\"suresh\",\"rakesh\"]\n",
    "age=[20,30,55]\n",
    "d={i:j for j,i in zip(age,names)}\n",
    "d"
   ]
  },
  {
   "cell_type": "markdown",
   "id": "c40064e2-5c04-4579-85e1-046043587cca",
   "metadata": {},
   "source": [
    "**mutable-immutable**\n",
    "- lists are mutaable\n",
    "- strings are mutable\n",
    "- tuple are immutable\n",
    "- dictionary also modify we can modify the value of a dictionary"
   ]
  },
  {
   "cell_type": "code",
   "execution_count": 51,
   "id": "03274d5b-5cc9-4e70-8d10-8b8d18f4cad5",
   "metadata": {},
   "outputs": [
    {
     "data": {
      "text/plain": [
       "{'ramesh': 40, 'suresh': 30, 'rakesh': 55}"
      ]
     },
     "execution_count": 51,
     "metadata": {},
     "output_type": "execute_result"
    }
   ],
   "source": [
    "d={'ramesh': 20, 'suresh': 30, 'rakesh': 55}\n",
    "d[\"ramesh\"]=40\n",
    "d"
   ]
  },
  {
   "cell_type": "markdown",
   "id": "8d2a5b18-d092-46b1-b9f4-c65b6c17ae5d",
   "metadata": {},
   "source": [
    "- dictionary is similar to data base operations\n",
    "- keys are always unique but values can change"
   ]
  },
  {
   "cell_type": "markdown",
   "id": "683bb104-b8b3-4442-ac10-928ac5cae7fa",
   "metadata": {},
   "source": [
    "# concatenation"
   ]
  },
  {
   "cell_type": "code",
   "execution_count": 61,
   "id": "7280ba2e-432f-4bb2-9849-2c1c0b657917",
   "metadata": {},
   "outputs": [
    {
     "ename": "TypeError",
     "evalue": "unsupported operand type(s) for +: 'dict' and 'dict'",
     "output_type": "error",
     "traceback": [
      "\u001b[1;31m---------------------------------------------------------------------------\u001b[0m",
      "\u001b[1;31mTypeError\u001b[0m                                 Traceback (most recent call last)",
      "Cell \u001b[1;32mIn[61], line 3\u001b[0m\n\u001b[0;32m      1\u001b[0m d\u001b[38;5;241m=\u001b[39m{\u001b[38;5;124m'\u001b[39m\u001b[38;5;124mramesh\u001b[39m\u001b[38;5;124m'\u001b[39m: \u001b[38;5;241m20\u001b[39m, \u001b[38;5;124m'\u001b[39m\u001b[38;5;124msuresh\u001b[39m\u001b[38;5;124m'\u001b[39m: \u001b[38;5;241m30\u001b[39m, \u001b[38;5;124m'\u001b[39m\u001b[38;5;124mrakesh\u001b[39m\u001b[38;5;124m'\u001b[39m: \u001b[38;5;241m55\u001b[39m}\n\u001b[0;32m      2\u001b[0m d1\u001b[38;5;241m=\u001b[39m{\u001b[38;5;124m\"\u001b[39m\u001b[38;5;124mfruit\u001b[39m\u001b[38;5;124m\"\u001b[39m:\u001b[38;5;124m\"\u001b[39m\u001b[38;5;124mapple\u001b[39m\u001b[38;5;124m\"\u001b[39m}\n\u001b[1;32m----> 3\u001b[0m d\u001b[38;5;241m+\u001b[39md1\n",
      "\u001b[1;31mTypeError\u001b[0m: unsupported operand type(s) for +: 'dict' and 'dict'"
     ]
    }
   ],
   "source": [
    "d={'ramesh': 20, 'suresh': 30, 'rakesh': 55}\n",
    "d1={\"fruit\":\"apple\"}\n",
    "d+d1 # it fails to concatenate but works inmethods"
   ]
  },
  {
   "cell_type": "markdown",
   "id": "76fec508-1710-4a59-a0f1-c2f314b1536e",
   "metadata": {},
   "source": [
    "# items-values-keys"
   ]
  },
  {
   "cell_type": "code",
   "execution_count": 64,
   "id": "87c0c23c-1808-4daa-88fc-44213301e5f6",
   "metadata": {},
   "outputs": [
    {
     "data": {
      "text/plain": [
       "dict_items([('ramesh', 20), ('suresh', 30), ('rakesh', 55)])"
      ]
     },
     "execution_count": 64,
     "metadata": {},
     "output_type": "execute_result"
    }
   ],
   "source": [
    "d={'ramesh': 20, 'suresh': 30, 'rakesh': 55}\n",
    "d.items()"
   ]
  },
  {
   "cell_type": "code",
   "execution_count": 66,
   "id": "a39c0597-cf70-401e-ac92-444b2cabfae9",
   "metadata": {},
   "outputs": [
    {
     "data": {
      "text/plain": [
       "dict_keys(['ramesh', 'suresh', 'rakesh'])"
      ]
     },
     "execution_count": 66,
     "metadata": {},
     "output_type": "execute_result"
    }
   ],
   "source": [
    "d.keys()"
   ]
  },
  {
   "cell_type": "code",
   "execution_count": 68,
   "id": "9bdf5fe5-8753-47c2-b6b4-8c06db1eed98",
   "metadata": {},
   "outputs": [
    {
     "data": {
      "text/plain": [
       "dict_values([20, 30, 55])"
      ]
     },
     "execution_count": 68,
     "metadata": {},
     "output_type": "execute_result"
    }
   ],
   "source": [
    "d.values()"
   ]
  },
  {
   "cell_type": "markdown",
   "id": "63bfa37a-144e-4b51-b124-c3402e4bf4d0",
   "metadata": {},
   "source": [
    "- dict keys is a type has keys\n",
    "- it is looks like list but has not list\n",
    "- we cannot use list methods here\n",
    "- for that we need convert dict keys to list"
   ]
  },
  {
   "cell_type": "code",
   "execution_count": 73,
   "id": "4debf3cf-b55e-46b2-a87f-f7533551d863",
   "metadata": {},
   "outputs": [
    {
     "data": {
      "text/plain": [
       "['ramesh', 'suresh', 'rakesh']"
      ]
     },
     "execution_count": 73,
     "metadata": {},
     "output_type": "execute_result"
    }
   ],
   "source": [
    "d={'ramesh': 20, 'suresh': 30, 'rakesh': 55}\n",
    "list(d.keys()) # now it convert in to list"
   ]
  },
  {
   "cell_type": "code",
   "execution_count": 75,
   "id": "fcc3279e-9685-4fae-b1b0-112f590c86c5",
   "metadata": {},
   "outputs": [
    {
     "data": {
      "text/plain": [
       "['ramesh', 'suresh', 'rakesh']"
      ]
     },
     "execution_count": 75,
     "metadata": {},
     "output_type": "execute_result"
    }
   ],
   "source": [
    "d={'ramesh': 20, 'suresh': 30, 'rakesh': 55}\n",
    "d.keys() # it is dict type\n",
    "list(d.keys()) # now it convert in to list"
   ]
  },
  {
   "cell_type": "code",
   "execution_count": 77,
   "id": "a021a3a3-b95e-4cf8-a7ea-0083bae99e9e",
   "metadata": {},
   "outputs": [
    {
     "name": "stdout",
     "output_type": "stream",
     "text": [
      "['ramesh', 'suresh', 'rakesh'] [20, 30, 55]\n"
     ]
    }
   ],
   "source": [
    "# dict to list with three method \n",
    "# 1st one with out using methods\n",
    "d={'ramesh': 20, 'suresh': 30, 'rakesh': 55}\n",
    "l=[]\n",
    "l1=[]\n",
    "for i in d:\n",
    "    l.append(i)\n",
    "    l1.append(d[i])\n",
    "print(l,l1)"
   ]
  },
  {
   "cell_type": "code",
   "execution_count": 79,
   "id": "b6e598f3-701c-4a6e-8af0-72fdd1d6de3c",
   "metadata": {},
   "outputs": [
    {
     "data": {
      "text/plain": [
       "(['ramesh', 'suresh', 'rakesh'], [20, 30, 55])"
      ]
     },
     "execution_count": 79,
     "metadata": {},
     "output_type": "execute_result"
    }
   ],
   "source": [
    "# 2nd method using dict comprehension\n",
    "d={'ramesh': 20, 'suresh': 30, 'rakesh': 55}\n",
    "l3=[i for i in d]\n",
    "l4=[d[i] for i in d]\n",
    "l3,l4"
   ]
  },
  {
   "cell_type": "code",
   "execution_count": 81,
   "id": "5eb0db65-9fae-4260-a7a9-c25a215c803d",
   "metadata": {},
   "outputs": [
    {
     "data": {
      "text/plain": [
       "(['ramesh', 'suresh', 'rakesh'], [20, 30, 55])"
      ]
     },
     "execution_count": 81,
     "metadata": {},
     "output_type": "execute_result"
    }
   ],
   "source": [
    "# 3rd method using method list directly\n",
    "d={'ramesh': 20, 'suresh': 30, 'rakesh': 55}\n",
    "keys=list(d.keys())\n",
    "value=list(d.values())\n",
    "keys,value"
   ]
  },
  {
   "cell_type": "code",
   "execution_count": 85,
   "id": "1fcda9cc-6cb3-4808-a4db-9cf151d46e49",
   "metadata": {},
   "outputs": [
    {
     "data": {
      "text/plain": [
       "{'ramesh': '20', 'suresh': '30', 'rakesh': '55'}"
      ]
     },
     "execution_count": 85,
     "metadata": {},
     "output_type": "execute_result"
    }
   ],
   "source": [
    "# Q) d={'Ramesh': 20, 'Suresh': 30, 'Rakesh': 55}\n",
    "# ans={'ramesh': '20', 'suresh': '30', 'rakesh': '55'}\n",
    "d={'Ramesh': 20, 'Suresh': 30, 'Rakesh': 55}\n",
    "key=[i.lower() for i in list(d.keys())]\n",
    "val=[str(i) for i in list(d.values())]\n",
    "ans={key:val for key,val in zip(key,val)}\n",
    "ans"
   ]
  },
  {
   "cell_type": "code",
   "execution_count": 87,
   "id": "532c575f-e4e0-426e-a24d-0f5eaaa01fe1",
   "metadata": {},
   "outputs": [
    {
     "data": {
      "text/plain": [
       "{'RAMESH': 20, 'SURESH': 30, 'RAKESH': 55}"
      ]
     },
     "execution_count": 87,
     "metadata": {},
     "output_type": "execute_result"
    }
   ],
   "source": [
    "d3={'ramesh': '20', 'suresh': '30', 'rakesh': '55'}\n",
    "# convert in to all keys are capital and all values are int\n",
    "k=[i.upper() for i in list(d.keys())]\n",
    "v=[int(i) for i in list(d.values())]\n",
    "d4={k:v for k,v in zip(k,v)}\n",
    "d4"
   ]
  },
  {
   "cell_type": "markdown",
   "id": "6d73310c-e7a7-4d71-aa7c-cf4c7aa17e6a",
   "metadata": {},
   "source": [
    "# get method\n",
    "- Return the value for key if key is in the dictionary, else default\n",
    "- key is not present it will give nothing"
   ]
  },
  {
   "cell_type": "code",
   "execution_count": 90,
   "id": "1ae9d58b-7c41-4c73-adf5-686a331f283c",
   "metadata": {},
   "outputs": [
    {
     "data": {
      "text/plain": [
       "55"
      ]
     },
     "execution_count": 90,
     "metadata": {},
     "output_type": "execute_result"
    }
   ],
   "source": [
    "d={'Ramesh': 20, 'Suresh': 30, 'Rakesh': 55}\n",
    "d.get(\"Rakesh\") "
   ]
  },
  {
   "cell_type": "code",
   "execution_count": null,
   "id": "993c47ae-00ed-40ad-86b6-dc07fea502af",
   "metadata": {},
   "outputs": [],
   "source": [
    "d={'Ramesh': 20, 'Suresh': 30, 'Rakesh': 55}\n",
    "d.get(\"Rakesh\") # ans \n",
    "d.get(\"r\")  # no ans and no error \n",
    "#######################################################\n",
    "# in normal way  we get value using key\n",
    "# but the element is not in dict it gives error\n",
    "# so we use get method()\n",
    "d={'Ramesh': 20, 'Suresh': 30, 'Rakesh': 55}\n",
    "d[\"r\"] # it gives error"
   ]
  },
  {
   "cell_type": "markdown",
   "id": "09b3cca8-6d85-4c73-9690-fd31100e387a",
   "metadata": {},
   "source": [
    "# update\n",
    "- it update the dictionary and over write the dictionary"
   ]
  },
  {
   "cell_type": "code",
   "execution_count": 95,
   "id": "b1de4d45-a207-4406-be23-49f7cdcde722",
   "metadata": {},
   "outputs": [
    {
     "data": {
      "text/plain": [
       "{'Ramesh': 20, 'Suresh': 30, 'Rakesh': 55, 'fruits': 'apple'}"
      ]
     },
     "execution_count": 95,
     "metadata": {},
     "output_type": "execute_result"
    }
   ],
   "source": [
    "d={'Ramesh': 20, 'Suresh': 30, 'Rakesh': 55}\n",
    "d1={\"fruits\":\"apple\"}\n",
    "d.update(d1)\n",
    "d"
   ]
  },
  {
   "cell_type": "code",
   "execution_count": 110,
   "id": "4f4a80bc-0aa0-499d-b4ac-401ef2f13373",
   "metadata": {},
   "outputs": [
    {
     "data": {
      "text/plain": [
       "{'Ramesh': 20, 'Suresh': 30, 'Rakesh': 55, 'fruits': 'apple', 'apple': 200}"
      ]
     },
     "execution_count": 110,
     "metadata": {},
     "output_type": "execute_result"
    }
   ],
   "source": [
    "d.update(apple=200)\n",
    "d"
   ]
  },
  {
   "cell_type": "code",
   "execution_count": 116,
   "id": "c8055022-0a1c-4e25-942c-9e1b83813aa5",
   "metadata": {},
   "outputs": [
    {
     "data": {
      "text/plain": [
       "{'Ramesh': 20,\n",
       " 'Suresh': 30,\n",
       " 'Rakesh': 55,\n",
       " 'fruits': 'apple',\n",
       " 'apple': 200,\n",
       " 200: 'marks'}"
      ]
     },
     "execution_count": 116,
     "metadata": {},
     "output_type": "execute_result"
    }
   ],
   "source": [
    "d.update([(200,\"marks\")])\n",
    "d"
   ]
  },
  {
   "cell_type": "code",
   "execution_count": 118,
   "id": "cfeff499-efd3-4cb6-82b9-df078b06c644",
   "metadata": {},
   "outputs": [
    {
     "data": {
      "text/plain": [
       "{'Ramesh': 20,\n",
       " 'Suresh': 30,\n",
       " 'Rakesh': 55,\n",
       " 'fruits': 'apple',\n",
       " 'apple': 200,\n",
       " 200: 'marks',\n",
       " 40: 'mango'}"
      ]
     },
     "execution_count": 118,
     "metadata": {},
     "output_type": "execute_result"
    }
   ],
   "source": [
    "t=(40,\"mango\")\n",
    "l=[t]\n",
    "d.update(l)\n",
    "d"
   ]
  },
  {
   "cell_type": "markdown",
   "id": "ab2294dc-2e64-4e66-bf6f-e1629b780efd",
   "metadata": {},
   "source": [
    "- concatenation of two dictionary fails\n",
    "- but we can combine two dictionary using update() method\n"
   ]
  },
  {
   "cell_type": "code",
   "execution_count": 125,
   "id": "a343a87c-9cec-4992-9037-0e83cb47d70f",
   "metadata": {},
   "outputs": [
    {
     "data": {
      "text/plain": [
       "{'Ramesh': 20,\n",
       " 'Suresh': 30,\n",
       " 'Rakesh': 55,\n",
       " 'fruits': 'guavva',\n",
       " 'guava': 20,\n",
       " 'kg': 55}"
      ]
     },
     "execution_count": 125,
     "metadata": {},
     "output_type": "execute_result"
    }
   ],
   "source": [
    "d={'Ramesh': 20, 'Suresh': 30, 'Rakesh': 55}\n",
    "d1={\"fruits\":\"guavva\"}\n",
    "d.update(d1) # 1st method\n",
    "d.update(guava=20) # 2nd method\n",
    "d.update([('kg',55)]) # 3rdmethod\n",
    "d"
   ]
  },
  {
   "cell_type": "markdown",
   "id": "c9e5ca6f-0aa6-411e-a51c-c6ea695916cb",
   "metadata": {},
   "source": [
    "**pop vs pop_item**\n",
    "- pop expected a key, corresponding value will be removed\n",
    "    - pop will return the value which is removing\n",
    "- po-item has no arguments ,last key-value pair will be removed\n",
    "    - popitem return the last key-value pair\n",
    "    - by default it removes last in first out"
   ]
  },
  {
   "cell_type": "code",
   "execution_count": 132,
   "id": "ec2c7812-5426-4361-b07e-8f0ad95553b4",
   "metadata": {},
   "outputs": [
    {
     "data": {
      "text/plain": [
       "55"
      ]
     },
     "execution_count": 132,
     "metadata": {},
     "output_type": "execute_result"
    }
   ],
   "source": [
    "d={'Ramesh': 20,'Suresh': 30,'Rakesh': 55,'fruits': 'guavva','guava': 20,'kg': 55}\n",
    "d.pop(\"kg\") # pop here expecting a key and return value"
   ]
  },
  {
   "cell_type": "code",
   "execution_count": 134,
   "id": "d0c831b1-70cb-4bbb-b71b-71027d9e3ac6",
   "metadata": {},
   "outputs": [
    {
     "data": {
      "text/plain": [
       "('kg', 55)"
      ]
     },
     "execution_count": 134,
     "metadata": {},
     "output_type": "execute_result"
    }
   ],
   "source": [
    "d={'Ramesh': 20,'Suresh': 30,'Rakesh': 55,'fruits': 'guavva','guava': 20,'kg': 55}\n",
    "d.popitem()"
   ]
  },
  {
   "cell_type": "markdown",
   "id": "c3160cf8-1c24-425f-b9a4-2a58df3dfa21",
   "metadata": {},
   "source": [
    "# del"
   ]
  },
  {
   "cell_type": "code",
   "execution_count": 141,
   "id": "ed7bfe51-9508-40be-972d-9bc106f2e488",
   "metadata": {},
   "outputs": [
    {
     "data": {
      "text/plain": [
       "[222, 333, 44, 55]"
      ]
     },
     "execution_count": 141,
     "metadata": {},
     "output_type": "execute_result"
    }
   ],
   "source": [
    "l=[111,222,333,44,55]\n",
    "del l[0]\n",
    "l"
   ]
  },
  {
   "cell_type": "code",
   "execution_count": 143,
   "id": "63085e79-805f-49f4-8268-45ee87615fb7",
   "metadata": {},
   "outputs": [
    {
     "ename": "NameError",
     "evalue": "name 'l' is not defined",
     "output_type": "error",
     "traceback": [
      "\u001b[1;31m---------------------------------------------------------------------------\u001b[0m",
      "\u001b[1;31mNameError\u001b[0m                                 Traceback (most recent call last)",
      "Cell \u001b[1;32mIn[143], line 2\u001b[0m\n\u001b[0;32m      1\u001b[0m \u001b[38;5;28;01mdel\u001b[39;00m l\n\u001b[1;32m----> 2\u001b[0m l\n",
      "\u001b[1;31mNameError\u001b[0m: name 'l' is not defined"
     ]
    }
   ],
   "source": [
    "del l # here l is deleted\n",
    "l"
   ]
  },
  {
   "cell_type": "code",
   "execution_count": 147,
   "id": "2cbd8e7d-0592-4dca-9b53-2ccd11769886",
   "metadata": {},
   "outputs": [],
   "source": [
    "d={'Ramesh': 20,'Suresh': 30,'Rakesh': 55,'fruits': 'guavva','guava': 20,'kg': 55}\n",
    "del d[\"fruits\"]"
   ]
  },
  {
   "cell_type": "code",
   "execution_count": 149,
   "id": "a28898db-ea07-45bc-a2b3-8b5a32b65bc0",
   "metadata": {},
   "outputs": [
    {
     "data": {
      "text/plain": [
       "{'Ramesh': 20, 'Suresh': 30, 'Rakesh': 55, 'guava': 20, 'kg': 55}"
      ]
     },
     "execution_count": 149,
     "metadata": {},
     "output_type": "execute_result"
    }
   ],
   "source": [
    "d"
   ]
  },
  {
   "cell_type": "code",
   "execution_count": 153,
   "id": "e318c386-e609-41b0-872d-737e5634c6ed",
   "metadata": {},
   "outputs": [
    {
     "ename": "NameError",
     "evalue": "name 'd' is not defined",
     "output_type": "error",
     "traceback": [
      "\u001b[1;31m---------------------------------------------------------------------------\u001b[0m",
      "\u001b[1;31mNameError\u001b[0m                                 Traceback (most recent call last)",
      "Cell \u001b[1;32mIn[153], line 1\u001b[0m\n\u001b[1;32m----> 1\u001b[0m \u001b[38;5;28;01mdel\u001b[39;00m d\n\u001b[0;32m      2\u001b[0m d\n",
      "\u001b[1;31mNameError\u001b[0m: name 'd' is not defined"
     ]
    }
   ],
   "source": [
    "del d # here d is deleted here\n",
    "d"
   ]
  },
  {
   "cell_type": "code",
   "execution_count": 157,
   "id": "542b0701-d64b-4495-9bda-fb2dcda4dcbc",
   "metadata": {},
   "outputs": [
    {
     "ename": "NameError",
     "evalue": "name 'd' is not defined",
     "output_type": "error",
     "traceback": [
      "\u001b[1;31m---------------------------------------------------------------------------\u001b[0m",
      "\u001b[1;31mNameError\u001b[0m                                 Traceback (most recent call last)",
      "Cell \u001b[1;32mIn[157], line 3\u001b[0m\n\u001b[0;32m      1\u001b[0m d\u001b[38;5;241m=\u001b[39m{\u001b[38;5;124m'\u001b[39m\u001b[38;5;124mRamesh\u001b[39m\u001b[38;5;124m'\u001b[39m: \u001b[38;5;241m20\u001b[39m,\u001b[38;5;124m'\u001b[39m\u001b[38;5;124mSuresh\u001b[39m\u001b[38;5;124m'\u001b[39m: \u001b[38;5;241m30\u001b[39m,\u001b[38;5;124m'\u001b[39m\u001b[38;5;124mRakesh\u001b[39m\u001b[38;5;124m'\u001b[39m: \u001b[38;5;241m55\u001b[39m,\u001b[38;5;124m'\u001b[39m\u001b[38;5;124mfruits\u001b[39m\u001b[38;5;124m'\u001b[39m: \u001b[38;5;124m'\u001b[39m\u001b[38;5;124mguavva\u001b[39m\u001b[38;5;124m'\u001b[39m,\u001b[38;5;124m'\u001b[39m\u001b[38;5;124mguava\u001b[39m\u001b[38;5;124m'\u001b[39m: \u001b[38;5;241m20\u001b[39m,\u001b[38;5;124m'\u001b[39m\u001b[38;5;124mkg\u001b[39m\u001b[38;5;124m'\u001b[39m: \u001b[38;5;241m55\u001b[39m}\n\u001b[0;32m      2\u001b[0m \u001b[38;5;28;01mdel\u001b[39;00m(d)\n\u001b[1;32m----> 3\u001b[0m d\n",
      "\u001b[1;31mNameError\u001b[0m: name 'd' is not defined"
     ]
    }
   ],
   "source": [
    "d={'Ramesh': 20,'Suresh': 30,'Rakesh': 55,'fruits': 'guavva','guava': 20,'kg': 55}\n",
    "del(d)\n",
    "d"
   ]
  },
  {
   "cell_type": "code",
   "execution_count": 161,
   "id": "34842724-7164-4b56-864b-2d02461388ac",
   "metadata": {},
   "outputs": [
    {
     "data": {
      "text/plain": [
       "{'Ramesh': 20, 'Rakesh': 55, 'fruits': 'guavva', 'guava': 20, 'kg': 55}"
      ]
     },
     "execution_count": 161,
     "metadata": {},
     "output_type": "execute_result"
    }
   ],
   "source": [
    "d={'Ramesh': 20,'Suresh': 30,'Rakesh': 55,'fruits': 'guavva','guava': 20,'kg': 55}\n",
    "del(d[\"Suresh\"])\n",
    "d"
   ]
  },
  {
   "cell_type": "code",
   "execution_count": null,
   "id": "d654bd93-ec7b-4fc7-a89b-af3118d66858",
   "metadata": {},
   "outputs": [],
   "source": [
    "count in strings also list\n",
    "\n",
    "index in string also list\n",
    "\n",
    "find in string but not in list\n",
    "\n",
    "pop in list also in dictionary\n",
    "\n",
    "remove in list but in dictionary popitem\n",
    "\n",
    "concatenaton in list======extend in list\n",
    "\n",
    "access value using key in dict====get method\n",
    "\n",
    "del for list and dictionary\n",
    "\n",
    "sorted and reversed for all data types\n",
    "\n"
   ]
  }
 ],
 "metadata": {
  "kernelspec": {
   "display_name": "Python 3 (ipykernel)",
   "language": "python",
   "name": "python3"
  },
  "language_info": {
   "codemirror_mode": {
    "name": "ipython",
    "version": 3
   },
   "file_extension": ".py",
   "mimetype": "text/x-python",
   "name": "python",
   "nbconvert_exporter": "python",
   "pygments_lexer": "ipython3",
   "version": "3.12.4"
  }
 },
 "nbformat": 4,
 "nbformat_minor": 5
}
