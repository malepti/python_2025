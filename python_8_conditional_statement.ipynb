{
 "cells": [
  {
   "cell_type": "markdown",
   "id": "6e2f35b9-0e45-499b-aab6-fcb87327aa8a",
   "metadata": {},
   "source": [
    "- conditional statements refers to execute the code based on some conditions\n",
    "- we have mainly three types\n",
    "  - if\n",
    "  - if else\n",
    "  - if elif else"
   ]
  },
  {
   "cell_type": "code",
   "execution_count": 4,
   "id": "e25be3cd-090c-4983-95d7-49a654bd4119",
   "metadata": {},
   "outputs": [
    {
     "name": "stdout",
     "output_type": "stream",
     "text": [
      "hello good morning\n"
     ]
    }
   ],
   "source": [
    "print('hello good morning')"
   ]
  },
  {
   "cell_type": "code",
   "execution_count": null,
   "id": "9a65ff0b-3568-448a-ae42-f3963ba4ed2d",
   "metadata": {},
   "outputs": [],
   "source": [
    "# i want to say good morning\n",
    "# if your name is python\n"
   ]
  },
  {
   "cell_type": "code",
   "execution_count": null,
   "id": "e278b0d4-d0de-4a58-acf5-2e5d52b2640b",
   "metadata": {},
   "outputs": [],
   "source": [
    "# syntax\n",
    "if <cndition>:\n",
    "    <write your code here> # if below space is called intendation\n"
   ]
  },
  {
   "cell_type": "code",
   "execution_count": 8,
   "id": "87404132-57e0-489f-ac89-0d460d7c9542",
   "metadata": {},
   "outputs": [
    {
     "name": "stdout",
     "output_type": "stream",
     "text": [
      "correct condition\n",
      "hell0\n"
     ]
    }
   ],
   "source": [
    "num=10\n",
    "if num>0: # 10>0 true if true then only the below code will run\n",
    "    print('correct condition')\n",
    "    print('hell0')"
   ]
  },
  {
   "cell_type": "code",
   "execution_count": 10,
   "id": "6b4d102e-8541-4819-80fa-7c50f3a6199c",
   "metadata": {},
   "outputs": [
    {
     "ename": "IndentationError",
     "evalue": "expected an indented block after 'if' statement on line 2 (999551906.py, line 3)",
     "output_type": "error",
     "traceback": [
      "\u001b[1;36m  Cell \u001b[1;32mIn[10], line 3\u001b[1;36m\u001b[0m\n\u001b[1;33m    print('correct condition')\u001b[0m\n\u001b[1;37m    ^\u001b[0m\n\u001b[1;31mIndentationError\u001b[0m\u001b[1;31m:\u001b[0m expected an indented block after 'if' statement on line 2\n"
     ]
    }
   ],
   "source": [
    "num=10\n",
    "if num>0: # 10>0 true if true then only the below code will run\n",
    "print('correct condition')"
   ]
  },
  {
   "cell_type": "code",
   "execution_count": 12,
   "id": "88f4e896-d518-42f5-b5b3-5a2cd8e885f7",
   "metadata": {},
   "outputs": [
    {
     "name": "stdout",
     "output_type": "stream",
     "text": [
      "correct condition\n"
     ]
    }
   ],
   "source": [
    "# if intendation error occurs enter tab it will correct \n",
    "num=10\n",
    "if num>0:\n",
    "    print('correct condition')"
   ]
  },
  {
   "cell_type": "code",
   "execution_count": 1,
   "id": "323e5a0b-d9ee-4a35-b58e-eaf77d3b16cb",
   "metadata": {},
   "outputs": [
    {
     "data": {
      "text/plain": [
       "True"
      ]
     },
     "execution_count": 1,
     "metadata": {},
     "output_type": "execute_result"
    }
   ],
   "source": [
    "name='python'\n",
    "name=='python'"
   ]
  },
  {
   "cell_type": "code",
   "execution_count": 3,
   "id": "6b1e9cf1-84a2-4609-a21a-fbc90fe214c7",
   "metadata": {},
   "outputs": [
    {
     "data": {
      "text/plain": [
       "False"
      ]
     },
     "execution_count": 3,
     "metadata": {},
     "output_type": "execute_result"
    }
   ],
   "source": [
    "name!='python'"
   ]
  },
  {
   "cell_type": "code",
   "execution_count": 5,
   "id": "de3c6ab3-b410-43fb-8a0c-f43c4a70b4d5",
   "metadata": {},
   "outputs": [
    {
     "name": "stdout",
     "output_type": "stream",
     "text": [
      "hello\n",
      "30\n"
     ]
    }
   ],
   "source": [
    "name='python'\n",
    "if name=='python':\n",
    "    print('hello')\n",
    "    a=10\n",
    "    b=20\n",
    "    print(a+b)\n",
    "# step 1= name='pyhton'asign python to name using equal\n",
    "# step 2=if name=='python' here we check or comparitive using ==\n",
    "# step 3 = print('hello')\n",
    "# step 4= a=10\n",
    "# step 5= b=20\n",
    "# step 6= a+b 10+20=30"
   ]
  },
  {
   "cell_type": "code",
   "execution_count": 9,
   "id": "99f731aa-0bf6-41c2-8291-ef53116d16d5",
   "metadata": {},
   "outputs": [
    {
     "name": "stdout",
     "output_type": "stream",
     "text": [
      "bye\n"
     ]
    }
   ],
   "source": [
    "if 100<0:\n",
    "    print('correct') # here we observe condition is false then it does not go inside it print only out side of if\n",
    "print('bye')"
   ]
  },
  {
   "cell_type": "code",
   "execution_count": 11,
   "id": "28fdfec7-847f-4a01-a04c-1586f522c65e",
   "metadata": {},
   "outputs": [
    {
     "name": "stdout",
     "output_type": "stream",
     "text": [
      "correct\n",
      "bye\n"
     ]
    }
   ],
   "source": [
    "if 100>0:\n",
    "    print('correct')#here we observe if condition is true so print inside if and outside if both are print\n",
    "print('bye')"
   ]
  },
  {
   "cell_type": "markdown",
   "id": "e9fdbda0-f370-41cb-b12b-543ca4738393",
   "metadata": {},
   "source": [
    "# if-else\n",
    "- whenever if condition false automatically it goes down to else part\n",
    "- so else don't require any condition\n",
    "- always maintain intendation for both if part and else part"
   ]
  },
  {
   "cell_type": "code",
   "execution_count": 13,
   "id": "8c612e69-7ce5-4617-9a5a-8997fa9ac81b",
   "metadata": {},
   "outputs": [
    {
     "name": "stdout",
     "output_type": "stream",
     "text": [
      "correct\n"
     ]
    }
   ],
   "source": [
    "if 100>10:\n",
    "    print('correct')\n",
    "else:\n",
    "    print('wrong')"
   ]
  },
  {
   "cell_type": "code",
   "execution_count": 15,
   "id": "a9a6f6b2-4aa8-4200-9a02-c9a5b24ad945",
   "metadata": {},
   "outputs": [
    {
     "name": "stdout",
     "output_type": "stream",
     "text": [
      "wrong\n"
     ]
    }
   ],
   "source": [
    "if 100<10:\n",
    "    print('correct')\n",
    "else:\n",
    "    print('wrong')"
   ]
  },
  {
   "cell_type": "code",
   "execution_count": 19,
   "id": "be2fbff1-c7cb-4d1f-8b15-58227eea9754",
   "metadata": {},
   "outputs": [
    {
     "name": "stdout",
     "output_type": "stream",
     "text": [
      "101\n",
      "wrong\n",
      "20\n"
     ]
    }
   ],
   "source": [
    "print(101)\n",
    "if 100<10:\n",
    "    print('correct')\n",
    "else:\n",
    "    print('wrong')\n",
    "print(20)"
   ]
  },
  {
   "cell_type": "code",
   "execution_count": 21,
   "id": "d34eb931-7b76-4665-8814-6846839dd5cd",
   "metadata": {},
   "outputs": [
    {
     "name": "stdout",
     "output_type": "stream",
     "text": [
      "101\n",
      "correct\n",
      "20\n"
     ]
    }
   ],
   "source": [
    "print(101)\n",
    "if 100>10:\n",
    "    print('correct')\n",
    "else:\n",
    "    print('wrong')\n",
    "print(20)"
   ]
  },
  {
   "cell_type": "code",
   "execution_count": 23,
   "id": "94670871-328e-4fee-a079-b5e07ac51804",
   "metadata": {},
   "outputs": [
    {
     "name": "stdout",
     "output_type": "stream",
     "text": [
      "101\n",
      "correct\n",
      "okay\n",
      "20\n"
     ]
    }
   ],
   "source": [
    "print(101)\n",
    "if 100>10:\n",
    "    print('correct')\n",
    "    print('okay')\n",
    "else:\n",
    "    print('wrong')\n",
    "print(20)"
   ]
  },
  {
   "cell_type": "code",
   "execution_count": 25,
   "id": "850cb04d-d110-4fb5-bf50-1e9ed1c7af16",
   "metadata": {},
   "outputs": [
    {
     "ename": "SyntaxError",
     "evalue": "invalid syntax (3800818012.py, line 6)",
     "output_type": "error",
     "traceback": [
      "\u001b[1;36m  Cell \u001b[1;32mIn[25], line 6\u001b[1;36m\u001b[0m\n\u001b[1;33m    else:\u001b[0m\n\u001b[1;37m    ^\u001b[0m\n\u001b[1;31mSyntaxError\u001b[0m\u001b[1;31m:\u001b[0m invalid syntax\n"
     ]
    }
   ],
   "source": [
    "print(101)\n",
    "if 100>10:\n",
    "    print('correct')\n",
    "    print('okay')\n",
    "print('why are u come in middle') # both if and else will always together any statement does not enter in middle \n",
    "else:\n",
    "    print('wrong')\n",
    "print(20)"
   ]
  },
  {
   "cell_type": "markdown",
   "id": "330ae3d1-54ed-41f3-818a-e0b5f70e1c7e",
   "metadata": {},
   "source": [
    "**if and else always together**"
   ]
  },
  {
   "cell_type": "code",
   "execution_count": 29,
   "id": "da660595-3600-4b5f-8214-1c2243563364",
   "metadata": {},
   "outputs": [
    {
     "name": "stdin",
     "output_type": "stream",
     "text": [
      "enter the number1 25\n",
      "enter the number2 24\n"
     ]
    },
    {
     "name": "stdout",
     "output_type": "stream",
     "text": [
      "we lose\n"
     ]
    }
   ],
   "source": [
    "#wap ask the user take two numbers\n",
    "#num1 and num2\n",
    "# if both numbers are matched then print we are won\n",
    "# other wise welost\n",
    "n1=eval(input('enter the number1'))\n",
    "n2=eval(input('enter the number2'))\n",
    "if n1==n2:\n",
    "    print('we are won')\n",
    "else:\n",
    "    print('we lose')"
   ]
  },
  {
   "cell_type": "code",
   "execution_count": 43,
   "id": "8c816c6d-4627-4ca7-959d-9a1d5f8833f2",
   "metadata": {},
   "outputs": [
    {
     "name": "stdin",
     "output_type": "stream",
     "text": [
      "enter the number1 23\n",
      "enter the number2 23\n"
     ]
    },
    {
     "name": "stdout",
     "output_type": "stream",
     "text": [
      "we are won\n"
     ]
    }
   ],
   "source": [
    "#wap ask the user take one numbers\n",
    "\n",
    "#num1 and num2\n",
    "# if both numbers are matched then print we are won\n",
    "# other wise welost\n",
    "n1=eval(input('enter the number1'))\n",
    "n2=eval(input('enter the number2'))\n",
    "if n1==n2:\n",
    "    print('we are won')\n",
    "else:\n",
    "    print('we lose')"
   ]
  },
  {
   "cell_type": "code",
   "execution_count": 41,
   "id": "6a75df3a-08c3-455a-acd2-177611a8ac89",
   "metadata": {},
   "outputs": [
    {
     "name": "stdin",
     "output_type": "stream",
     "text": [
      "enter the number1 5\n"
     ]
    },
    {
     "name": "stdout",
     "output_type": "stream",
     "text": [
      "7\n",
      "we lose\n"
     ]
    }
   ],
   "source": [
    "# here we use in casino game\n",
    "#wap ask the user take two numbers\n",
    "# another num is random\n",
    "#num1 and num2\n",
    "# if both numbers are matched then print we are won\n",
    "# other wise welost\n",
    "from random import randint\n",
    "n1=eval(input('enter the number1'))\n",
    "n2=randint(1,10)\n",
    "print(n2)\n",
    "if n1==n2:\n",
    "    print('we are won')\n",
    "else:\n",
    "    print('we lose')"
   ]
  },
  {
   "cell_type": "code",
   "execution_count": 67,
   "id": "c167c910-5369-42e9-973f-29dd8c4ac7a8",
   "metadata": {},
   "outputs": [
    {
     "name": "stdin",
     "output_type": "stream",
     "text": [
      "enter the number 9\n"
     ]
    },
    {
     "name": "stdout",
     "output_type": "stream",
     "text": [
      "the num 9 is odd \n"
     ]
    }
   ],
   "source": [
    "#wap ask the user enter a number\n",
    "#print if the number is even or odd\n",
    "num=eval(input('enter the number'))\n",
    "if num%2==0:\n",
    "    print(f'the num {num} is even')\n",
    "else:\n",
    "    print(f'the num {num} is odd ')\n",
    "    "
   ]
  },
  {
   "cell_type": "code",
   "execution_count": 51,
   "id": "ab3f59f7-a982-4153-9f66-503c63ab77cb",
   "metadata": {},
   "outputs": [
    {
     "data": {
      "text/plain": [
       "2.5"
      ]
     },
     "execution_count": 51,
     "metadata": {},
     "output_type": "execute_result"
    }
   ],
   "source": [
    "5/2# division"
   ]
  },
  {
   "cell_type": "code",
   "execution_count": 53,
   "id": "fe339ba3-4302-4e7b-ab74-f3dfb993906d",
   "metadata": {},
   "outputs": [
    {
     "data": {
      "text/plain": [
       "2"
      ]
     },
     "execution_count": 53,
     "metadata": {},
     "output_type": "execute_result"
    }
   ],
   "source": [
    "5//2 # floor division"
   ]
  },
  {
   "cell_type": "code",
   "execution_count": 55,
   "id": "0778a5d5-2a62-470e-85dd-e1bc96ffe284",
   "metadata": {},
   "outputs": [
    {
     "data": {
      "text/plain": [
       "1"
      ]
     },
     "execution_count": 55,
     "metadata": {},
     "output_type": "execute_result"
    }
   ],
   "source": [
    "5%2 # modulus operator"
   ]
  },
  {
   "cell_type": "code",
   "execution_count": 81,
   "id": "9cd7caf7-687d-4934-8d33-ad2bd4b37fa7",
   "metadata": {},
   "outputs": [
    {
     "name": "stdin",
     "output_type": "stream",
     "text": [
      "enter the distance 100\n",
      "charge 10\n"
     ]
    },
    {
     "name": "stdout",
     "output_type": "stream",
     "text": [
      "total charge for your ride 750\n"
     ]
    }
   ],
   "source": [
    "# program for a ride \n",
    "# if the  first  25km is free ride \n",
    "# after that every km charge rupees \n",
    "# incase below 25it will give free ride\n",
    "dis=eval(input('enter the distance'))\n",
    "if dis>25:\n",
    "    charge=eval(input('charge')) # here we use charge in local variable if loop is true then only charge ask\n",
    "    total_charge=(dis-25)*charge\n",
    "    print(f'total charge for your ride {total_charge}')\n",
    "else:\n",
    "    print(f'enjoy free ride for {dis}')"
   ]
  },
  {
   "cell_type": "code",
   "execution_count": 77,
   "id": "b79226e0-b5a9-4fd8-9328-72cb96ded3d6",
   "metadata": {},
   "outputs": [
    {
     "name": "stdin",
     "output_type": "stream",
     "text": [
      "enter the distance 10\n",
      "charge 10\n"
     ]
    },
    {
     "name": "stdout",
     "output_type": "stream",
     "text": [
      "free ride\n"
     ]
    }
   ],
   "source": [
    "dis=eval(input('enter the distance'))\n",
    "charge=eval(input('charge')) # incase charge is in universe variable then we ask charge for free ride also this is wrog so we use charge in local  variable\n",
    "if dis>25:\n",
    "    total_charge=(dis-25)*charge\n",
    "    print(total_charge)\n",
    "else:\n",
    "    print('free ride')"
   ]
  },
  {
   "cell_type": "code",
   "execution_count": 83,
   "id": "a8036bc2-882c-4ba7-936f-d1d1916f9354",
   "metadata": {},
   "outputs": [
    {
     "name": "stdin",
     "output_type": "stream",
     "text": [
      "enter the distance 100\n",
      "enter the cut_distance 30\n"
     ]
    },
    {
     "name": "stdout",
     "output_type": "stream",
     "text": [
      "the charge for your ride nly on 70 kms\n"
     ]
    },
    {
     "name": "stdin",
     "output_type": "stream",
     "text": [
      "charge 25\n"
     ]
    },
    {
     "name": "stdout",
     "output_type": "stream",
     "text": [
      "total charge for your ride 1875\n"
     ]
    }
   ],
   "source": [
    "dis=eval(input('enter the distance'))\n",
    "cut_dis=eval(input('enter the cut_distance'))\n",
    "if dis>cut_dis:\n",
    "    print(f'the charge for your ride nly on {dis-cut_dis} kms')\n",
    "    charge=eval(input('charge')) # here we use charge in local variable if loop is true then only charge ask\n",
    "    total_charge=(dis-25)*charge\n",
    "    print(f'total charge for your ride {total_charge}')\n",
    "else:\n",
    "    print(f'enjoy free ride for {dis}')"
   ]
  },
  {
   "cell_type": "code",
   "execution_count": 85,
   "id": "b5bd8651-943e-40d3-8799-7d25388f6187",
   "metadata": {},
   "outputs": [
    {
     "name": "stdin",
     "output_type": "stream",
     "text": [
      "enter the distance 25\n",
      "enter the cut_distance 50\n"
     ]
    },
    {
     "name": "stdout",
     "output_type": "stream",
     "text": [
      "enjoy free ride for 25\n"
     ]
    }
   ],
   "source": [
    "dis=eval(input('enter the distance'))\n",
    "cut_dis=eval(input('enter the cut_distance'))\n",
    "if dis>cut_dis:\n",
    "    print(f'the charge for your ride nly on {dis-cut_dis} kms')\n",
    "    charge=eval(input('charge')) # here we use charge in local variable if loop is true then only charge ask\n",
    "    total_charge=(dis-25)*charge\n",
    "    print(f'total charge for your ride {total_charge}')\n",
    "else:\n",
    "    print(f'enjoy free ride for {dis}')"
   ]
  },
  {
   "cell_type": "code",
   "execution_count": 91,
   "id": "d8f2d6d0-3739-4123-b849-55f7acd8380c",
   "metadata": {},
   "outputs": [
    {
     "name": "stdin",
     "output_type": "stream",
     "text": [
      "enter the number1 26\n",
      "enter the number2 30\n"
     ]
    },
    {
     "name": "stdout",
     "output_type": "stream",
     "text": [
      "30 is greater\n"
     ]
    }
   ],
   "source": [
    "# wap ask the user take two numbers\n",
    "# print which is greater number\n",
    "n1=eval(input('enter the number1'))\n",
    "n2=eval(input('enter the number2'))\n",
    "if n1>n2:\n",
    "    print(f'{n1} is greater')\n",
    "else:\n",
    "    print(f'{n2} is greater')"
   ]
  },
  {
   "cell_type": "code",
   "execution_count": 95,
   "id": "5e331a31-4a0b-4f99-b40d-9a48339ef26e",
   "metadata": {},
   "outputs": [
    {
     "name": "stdout",
     "output_type": "stream",
     "text": [
      "87\n",
      "50\n",
      "87 is greater\n"
     ]
    }
   ],
   "source": [
    "from random import randint\n",
    "n1=randint(1,100)\n",
    "print(n1)\n",
    "n2=randint(1,100)\n",
    "print(n2)\n",
    "if n1>n2:\n",
    "    print(f'{n1} is greater')\n",
    "else:\n",
    "    print(f'{n2} is greater')"
   ]
  },
  {
   "cell_type": "code",
   "execution_count": 107,
   "id": "5054b477-85f1-4e3a-816d-d2b56dcbf989",
   "metadata": {},
   "outputs": [
    {
     "name": "stdin",
     "output_type": "stream",
     "text": [
      "course name data science\n",
      "institute name naresh it\n"
     ]
    },
    {
     "name": "stdout",
     "output_type": "stream",
     "text": [
      "we are good\n"
     ]
    }
   ],
   "source": [
    "course_name=input('course name')\n",
    "institute_name=input('institute name')\n",
    "if course_name=='data science' and institute_name=='naresh it':\n",
    "    print('we are good')\n",
    "else:\n",
    "    print('not good')\n",
    "# here we are using and statement it means both the conditins are true then only it will ture \n",
    "# incase we use or statement it means any one condition is true it will be true "
   ]
  },
  {
   "cell_type": "markdown",
   "id": "c9c5cd83-e1a6-4bb6-8d85-ed7d08fda6ec",
   "metadata": {},
   "source": [
    "**if-elif-else**\n",
    "- when we have two solutions based on one condition\n",
    "- then we go for if-else\n",
    "- when we have 3 solutions based on two conditions\n",
    "- then we go for if-elif-else\n",
    "- if needs condition\n",
    "- elif needs condition\n",
    "- if and elif both are wrong then we will get else output"
   ]
  },
  {
   "cell_type": "code",
   "execution_count": null,
   "id": "64b3879c-06af-4d4d-9d3e-cac1cc8e80ad",
   "metadata": {},
   "outputs": [],
   "source": [
    "tw0 conditions: if elif else\n",
    "three conditions: if elif elif else\n",
    "four conditions: if elif elif elif else"
   ]
  },
  {
   "cell_type": "code",
   "execution_count": 9,
   "id": "8a33a4a2-df09-45e7-ba12-8bbae2d3b818",
   "metadata": {},
   "outputs": [
    {
     "name": "stdin",
     "output_type": "stream",
     "text": [
      "enter a number 27\n"
     ]
    },
    {
     "name": "stdout",
     "output_type": "stream",
     "text": [
      "enter a valid number\n"
     ]
    }
   ],
   "source": [
    "#wap ask the user enter a number\n",
    "# if the number equal to 1 then print one\n",
    "#if the number equal to 2 then print two\n",
    "#if the number equal to 3 then print three\n",
    "# therwise print a valid number\n",
    "num=eval(input('enter a number'))\n",
    "if num==1:\n",
    "    print('one')\n",
    "elif num==2:\n",
    "    print('two')\n",
    "elif num==3:\n",
    "    print('three')\n",
    "else:\n",
    "    print('enter a valid number')"
   ]
  },
  {
   "cell_type": "code",
   "execution_count": 23,
   "id": "8e822f87-caaf-4dee-9d44-430a91d27a32",
   "metadata": {},
   "outputs": [
    {
     "name": "stdin",
     "output_type": "stream",
     "text": [
      "enter a marks percentage 75\n"
     ]
    },
    {
     "name": "stdout",
     "output_type": "stream",
     "text": [
      "A Grade\n"
     ]
    }
   ],
   "source": [
    "# wap ask the user enter per of marks \n",
    "# if marks greater than 75 then print A grade\n",
    "# if marks are in between then 60 to 75 then print B grade\n",
    "# if marks are in between then 45 to 60 then print c grade\n",
    "#if marks are in between then 35 to 45 then print D grade\n",
    "# otherwise print fail\n",
    "num=eval(input('enter a marks percentage'))\n",
    "if num>=75:\n",
    "    print('A Grade')\n",
    "elif num>=60 and num<75:\n",
    "    print('B grade')\n",
    "elif num>=45 and num<60:\n",
    "    print('C Grade')\n",
    "elif num>=35 and num<45:\n",
    "    print('D Grade')\n",
    "else:\n",
    "    print('fail')"
   ]
  },
  {
   "cell_type": "code",
   "execution_count": 33,
   "id": "d91668a6-96aa-4b34-8b16-bf45f3c7ec7e",
   "metadata": {},
   "outputs": [
    {
     "name": "stdin",
     "output_type": "stream",
     "text": [
      "enter a marks percentage 34.9\n"
     ]
    },
    {
     "name": "stdout",
     "output_type": "stream",
     "text": [
      "fail\n"
     ]
    }
   ],
   "source": [
    "# another easy way to write\n",
    "# here elif is when the statement is true elif stops the statement and print it \n",
    "# this process attracts the people\n",
    "num=eval(input('enter a marks percentage'))\n",
    "if num>=75:\n",
    "    print('A Grade')\n",
    "elif num>=60:\n",
    "    print('B grade')\n",
    "elif num>=45:\n",
    "    print('C Grade')\n",
    "elif num>=35:\n",
    "    print('D Grade')\n",
    "else:\n",
    "    print('fail')\n"
   ]
  },
  {
   "cell_type": "code",
   "execution_count": 45,
   "id": "3fb55477-a1b2-40fb-9bb3-f6bb83ead506",
   "metadata": {},
   "outputs": [
    {
     "name": "stdin",
     "output_type": "stream",
     "text": [
      "enter your age 22\n"
     ]
    },
    {
     "name": "stdout",
     "output_type": "stream",
     "text": [
      "young\n"
     ]
    }
   ],
   "source": [
    "#wap ask the user enter age\n",
    "# if age greater than 100 print unlucky guy\n",
    "# if age between 80 to 100 print super senior citizen\n",
    "# if age between 60 to 80 print  senior citizen\n",
    "#if age between 40 to 60 print aged person\n",
    "#if age between 25 to 40 print middle aged person\n",
    "#if age between 15 to 25 print young\n",
    "# other wise print kid\n",
    "age=eval(input('enter your age'))\n",
    "if age>=100:\n",
    "    print('A un lucky guy')\n",
    "elif age>=80:\n",
    "    print('super senior citizen')\n",
    "elif age>=60:\n",
    "    print('senior citizen')\n",
    "elif age>=40:\n",
    "    print('aged person')\n",
    "elif age>=25:\n",
    "    print('middle aged person')\n",
    "elif age>=15:\n",
    "    print('young')\n",
    "else:\n",
    "    print('kid')"
   ]
  },
  {
   "cell_type": "code",
   "execution_count": 55,
   "id": "e0514e74-d023-45ef-9165-5097bcce297b",
   "metadata": {},
   "outputs": [
    {
     "name": "stdin",
     "output_type": "stream",
     "text": [
      "enter the distance 50\n"
     ]
    },
    {
     "name": "stdout",
     "output_type": "stream",
     "text": [
      "charge is 20 rs for more than 100km\n",
      "charge is 10 rs in betwen 50 to 100km\n",
      "charge is 5 rs in betwen 25 to 50km\n",
      "enter free ride up to 25km\n"
     ]
    },
    {
     "name": "stdin",
     "output_type": "stream",
     "text": [
      "enter charge in rs 5\n"
     ]
    },
    {
     "name": "stdout",
     "output_type": "stream",
     "text": [
      "the total charge is 250\n"
     ]
    }
   ],
   "source": [
    "# wap,ask the user enter a distance \n",
    "# if the dis greater than 100\n",
    "    # ask the user enter the charge # 20 rs\n",
    "    # print total charge\n",
    "# if the distance between 50 to 100\n",
    "    #ask the user enter the charge # 10 rs\n",
    "     # print total charge\n",
    "# if the dis greater 25 to 50\n",
    "    # ask the user enter the charge # 5 rs\n",
    "    # print total charge\n",
    "# otherwise free charge\n",
    "dis=eval(input('enter the distance'))\n",
    "print('charge is 20 rs for more than 100km')\n",
    "print('charge is 10 rs in betwen 50 to 100km')\n",
    "print('charge is 5 rs in betwen 25 to 50km')\n",
    "print('enter free ride up to 25km')\n",
    "if dis>=100:\n",
    "    charge=eval(input('enter charge in rs'))\n",
    "    total_charge=dis*charge\n",
    "    print(f'the total charge is {total_charge}')\n",
    "elif dis>=50:\n",
    "    charge=eval(input('enter charge in rs'))\n",
    "    total_charge=dis*charge\n",
    "    print(f'the total charge is {total_charge}')\n",
    "elif dis>=25:\n",
    "    charge=eval(input('enter charge in rs'))\n",
    "    total_charge=dis*charge\n",
    "    print(f'the total charge is {total_charge}')\n",
    "else:\n",
    "    print('enjoy the free ride')"
   ]
  },
  {
   "cell_type": "code",
   "execution_count": 69,
   "id": "33671442-32e3-4cc3-a811-3f827cbd4e39",
   "metadata": {},
   "outputs": [
    {
     "name": "stdin",
     "output_type": "stream",
     "text": [
      "enter the numbers between 1 to 4\n",
      "1 for addition\n",
      "2 for subraction\n",
      "3 for multiplication\n",
      "4 for division 2\n"
     ]
    },
    {
     "name": "stdout",
     "output_type": "stream",
     "text": [
      "you chose subration\n"
     ]
    },
    {
     "name": "stdin",
     "output_type": "stream",
     "text": [
      "enter number 1 15\n",
      "enter number 2 25\n"
     ]
    },
    {
     "name": "stdout",
     "output_type": "stream",
     "text": [
      "subraction of 15 and 25 is -10\n"
     ]
    }
   ],
   "source": [
    "# you need to print some statements\n",
    "# print enter 1 for addition\n",
    "# print enter 2 for sub\n",
    "# print enter 3 for mul\n",
    "# print enter 4 for div\n",
    "# operation=eval(input('enter the numbers between 1 to 4'))\n",
    "from time import sleep\n",
    "operation=eval(input('enter the numbers between 1 to 4\\n1 for addition\\n2 for subraction\\n3 for multiplication\\n4 for division'))\n",
    "sleep(2)\n",
    "if operation==1:\n",
    "    print('you chose addition')\n",
    "    n1=eval(input('enter number 1'))\n",
    "    sleep(1)\n",
    "    n2=eval(input('enter number 2'))\n",
    "    sleep(1)\n",
    "    print(f'addition of {n1} and {n2} is {n1+n2}')\n",
    "elif operation==2:\n",
    "    print('you chose subration')\n",
    "    n1=eval(input('enter number 1'))\n",
    "    sleep(1)\n",
    "    n2=eval(input('enter number 2'))\n",
    "    sleep(1)\n",
    "    print(f'subraction of {n1} and {n2} is {n1-n2}')\n",
    "elif operation==3:\n",
    "    print('you chose multiplication')\n",
    "    n1=eval(input('enter number 1'))\n",
    "    sleep(1)\n",
    "    n2=eval(input('enter number 2'))\n",
    "    sleep(1)\n",
    "    print(f'multiplication of {n1} and {n2} is {n1*n2}')\n",
    "elif operation==4:\n",
    "    print('you chose division')\n",
    "    n1=eval(input('enter number 1'))\n",
    "    sleep(1)\n",
    "    n2=eval(input('enter number 2'))\n",
    "    sleep(1)\n",
    "    print(f'division of {n1} and {n2} is {n1/n2}')\n",
    "else: \n",
    "    print('enter a valid number between 1 to 4')\n"
   ]
  },
  {
   "cell_type": "markdown",
   "id": "bcffb69b-5fc1-42aa-b530-0e678b281830",
   "metadata": {},
   "source": [
    "**nested if-else**"
   ]
  },
  {
   "cell_type": "code",
   "execution_count": 24,
   "id": "d81ccdf1-f5cf-43db-818f-645765c6254b",
   "metadata": {},
   "outputs": [
    {
     "name": "stdin",
     "output_type": "stream",
     "text": [
      "enter the number -5\n"
     ]
    },
    {
     "name": "stdout",
     "output_type": "stream",
     "text": [
      "given -5 is negative\n"
     ]
    }
   ],
   "source": [
    "#wap ask the user enter a number\n",
    "# if number greater than zero then print positive number\n",
    "# if number less than  zero then print negative number\n",
    "# otherwise it prints zero\n",
    "num=eval(input('enter the number'))\n",
    "if num>0:\n",
    "    print(f'given {num} is positive')\n",
    "elif num<0:\n",
    "    print(f'given {num} is negative')\n",
    "else:\n",
    "    print('it is a zero')"
   ]
  },
  {
   "cell_type": "code",
   "execution_count": 22,
   "id": "61eb2e78-4f6b-46a4-a060-fa2aa5cbb9a7",
   "metadata": {},
   "outputs": [
    {
     "name": "stdin",
     "output_type": "stream",
     "text": [
      "enter the number -25\n"
     ]
    },
    {
     "name": "stdout",
     "output_type": "stream",
     "text": [
      "given -25 is negative\n"
     ]
    }
   ],
   "source": [
    "num=eval(input('enter the number'))\n",
    "if num>=0:\n",
    "    if num==0:\n",
    "        print('zero')\n",
    "    else:\n",
    "        print(f'given {num} is positive')\n",
    "else:\n",
    "    print(f'given {num} is negative')"
   ]
  },
  {
   "cell_type": "code",
   "execution_count": 32,
   "id": "f100e112-ed30-4e0d-8b23-e9bc29b472d4",
   "metadata": {},
   "outputs": [
    {
     "name": "stdin",
     "output_type": "stream",
     "text": [
      "enter your gender female\n",
      "enter your age 23\n"
     ]
    },
    {
     "name": "stdout",
     "output_type": "stream",
     "text": [
      "young girl\n"
     ]
    }
   ],
   "source": [
    "# wap ask the user enter a gender \n",
    "# if gender equal to male \n",
    "    # ask the user enter age\n",
    "    #if age is greateer than or equal to 60 print senior citizen\n",
    "    # if age between 30 to 60 print MA\n",
    "    # if age between 10 to 30 print young man\n",
    "    # otherwise a boy\n",
    "# if gender equal to female \n",
    "    # ask the user enter age\n",
    "    #if age is greateer than or equal to 60 print senior citizen\n",
    "    # if age between 30 to 60 print MA\n",
    "    # if age between 10 to 30 print young girl\n",
    "    # otherwise a girl\n",
    "gender=input('enter your gender')\n",
    "if gender==\"male\":\n",
    "    age=eval(input('enter your age'))\n",
    "    if age>=60:\n",
    "        print('senior citizen')\n",
    "    elif age>=30:\n",
    "        print('middle aged man')\n",
    "    elif age>=10:\n",
    "        print('young man')\n",
    "    else:\n",
    "        print('boy')\n",
    "el if gender==\"female\":\n",
    "    age=eval(input('enter your age'))\n",
    "    if age>=60:\n",
    "        print('senior citizen')\n",
    "    elif age>=30:\n",
    "        print('middle aged woman')\n",
    "    elif age>=10:\n",
    "        print('young girl')\n",
    "    else:\n",
    "        print('girl')\n",
    "else:\n",
    "    print('enter a valid gender either male or female')"
   ]
  },
  {
   "cell_type": "code",
   "execution_count": 36,
   "id": "1a7c5e6d-18af-4d63-8fa0-1b31a4065642",
   "metadata": {},
   "outputs": [
    {
     "name": "stdin",
     "output_type": "stream",
     "text": [
      "enter your gender male\n",
      "enter your age 22\n"
     ]
    },
    {
     "name": "stdout",
     "output_type": "stream",
     "text": [
      "young man\n"
     ]
    }
   ],
   "source": [
    "# another way we use print \n",
    "# we use beside of the colon print statement gives it will work as given below\n",
    "gender=input('enter your gender')\n",
    "if gender==\"male\":\n",
    "    age=eval(input('enter your age'))\n",
    "    if age>=60:print('senior citizen')\n",
    "    elif age>=30:print('middle aged man')\n",
    "    elif age>=10:print('young man')\n",
    "    else:print('boy')\n",
    "elif gender==\"female\":\n",
    "    age=eval(input('enter your age'))\n",
    "    if age>=60:print('senior citizen')\n",
    "    elif age>=30:print('middle aged woman')\n",
    "    elif age>=10:print('young girl')\n",
    "    else:print('girl')\n",
    "else:print('enter a valid gender either male or female')"
   ]
  },
  {
   "cell_type": "code",
   "execution_count": 48,
   "id": "e9362993-44e4-4941-8bb6-c5b731fd0be0",
   "metadata": {},
   "outputs": [
    {
     "name": "stdin",
     "output_type": "stream",
     "text": [
      "enter a number 1 50\n",
      "enter a number 2 45\n",
      "enter a number 3 75\n"
     ]
    },
    {
     "name": "stdout",
     "output_type": "stream",
     "text": [
      "75 is greater\n"
     ]
    }
   ],
   "source": [
    " # wapask the user take three numbers\n",
    "#  find the biggest number\n",
    "n1=eval(input('enter a number 1'))\n",
    "n2=eval(input('enter a number 2'))\n",
    "n3=eval(input('enter a number 3'))\n",
    "if n1>n2 and n1>n3:\n",
    "    print(f'{n1} is greater')\n",
    "elif n2>n3:\n",
    "    print(f'{n2} is greater')\n",
    "else:\n",
    "    print(f'{n3} is greater')"
   ]
  },
  {
   "cell_type": "code",
   "execution_count": 54,
   "id": "ccb0d3fa-0314-40d9-b8b9-17d21bad84b7",
   "metadata": {},
   "outputs": [
    {
     "name": "stdin",
     "output_type": "stream",
     "text": [
      "enter a number 1 75\n",
      "enter a number 2 45\n",
      "enter a number 3 50\n"
     ]
    },
    {
     "name": "stdout",
     "output_type": "stream",
     "text": [
      "75 is greater\n"
     ]
    }
   ],
   "source": [
    "n1=eval(input('enter a number 1'))\n",
    "n2=eval(input('enter a number 2'))\n",
    "n3=eval(input('enter a number 3'))\n",
    "if n1>n2:\n",
    "    if n1>n3:\n",
    "        print(f'{n1} is greater')\n",
    "    else:\n",
    "        print(f'{n3} is greater') \n",
    "elif n2>n3:\n",
    "     print(f'{n2} is greater')\n",
    "else:\n",
    "     print(f'{n3} is greater')"
   ]
  },
  {
   "cell_type": "markdown",
   "id": "4127614d-3280-422e-bbd1-944658634c6c",
   "metadata": {},
   "source": [
    "# **turnary operator is used tomsimple single line conditions"
   ]
  },
  {
   "cell_type": "code",
   "execution_count": 20,
   "id": "2652221f-68d8-4ffe-a196-d8a93d1e9658",
   "metadata": {},
   "outputs": [
    {
     "name": "stdin",
     "output_type": "stream",
     "text": [
      "enter n1 90\n",
      "enter n2 54\n",
      "enter n3 64\n"
     ]
    },
    {
     "name": "stdout",
     "output_type": "stream",
     "text": [
      "90\n"
     ]
    }
   ],
   "source": [
    "# take three num from key board \n",
    "n1=eval(input('enter n1'))\n",
    "n2=eval(input('enter n2'))\n",
    "n3=eval(input('enter n3'))\n",
    "# we use turnary operator to give max num of the above three numbers\n",
    "max=(n1 if(n1>n2 and n1>n3) else(n2 if n2>n3 else n3))\n",
    "print(max)"
   ]
  },
  {
   "cell_type": "code",
   "execution_count": 12,
   "id": "bcde6c02-1632-4321-8abf-6a627dffacba",
   "metadata": {},
   "outputs": [
    {
     "name": "stdin",
     "output_type": "stream",
     "text": [
      "enter n1 65\n",
      "enter n2 77\n",
      "enter n3 5\n",
      "enter n4 64\n"
     ]
    },
    {
     "name": "stdout",
     "output_type": "stream",
     "text": [
      "77\n"
     ]
    }
   ],
   "source": [
    "# take four num from key board \n",
    "n1=eval(input('enter n1'))\n",
    "n2=eval(input('enter n2'))\n",
    "n3=eval(input('enter n3'))\n",
    "n4=eval(input('enter n4'))\n",
    "# we use turnary operator to give max num of the above three numbers\n",
    "max=(n1 if(n1>n2 and n1>n3 and n1>n4) else(n2 if ( n2>n3 and n2>n4) else (n3 if n3>n4 else n4)))\n",
    "print(max)"
   ]
  },
  {
   "cell_type": "code",
   "execution_count": null,
   "id": "65f256cd-a593-4234-943e-34816fd90284",
   "metadata": {},
   "outputs": [],
   "source": []
  }
 ],
 "metadata": {
  "kernelspec": {
   "display_name": "Python 3 (ipykernel)",
   "language": "python",
   "name": "python3"
  },
  "language_info": {
   "codemirror_mode": {
    "name": "ipython",
    "version": 3
   },
   "file_extension": ".py",
   "mimetype": "text/x-python",
   "name": "python",
   "nbconvert_exporter": "python",
   "pygments_lexer": "ipython3",
   "version": "3.12.4"
  }
 },
 "nbformat": 4,
 "nbformat_minor": 5
}
