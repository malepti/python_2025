{
 "cells": [
  {
   "cell_type": "code",
   "execution_count": 1,
   "id": "2c8b78c6-73d5-49b1-892c-a71afba7407d",
   "metadata": {},
   "outputs": [
    {
     "data": {
      "text/plain": [
       "100"
      ]
     },
     "execution_count": 1,
     "metadata": {},
     "output_type": "execute_result"
    }
   ],
   "source": [
    "def mul(a):\n",
    "    return(a*a)\n",
    "ans=mul(10)\n",
    "ans\n"
   ]
  },
  {
   "cell_type": "markdown",
   "id": "b76b7b67-4374-4472-8794-ade664d5be29",
   "metadata": {},
   "source": [
    "- lamda is a keyword used to write the function in a single line\n",
    "- in a list comprehension we will write in single line\n",
    "- it is same analogy\n",
    "- it will reduce the time complexity"
   ]
  },
  {
   "cell_type": "markdown",
   "id": "8f0bb612-36d9-4bd8-bd13-4a978201147d",
   "metadata": {},
   "source": [
    "$pattern-1$\n",
    "- function with 1-arugument"
   ]
  },
  {
   "cell_type": "code",
   "execution_count": 17,
   "id": "0377fab4-3d0c-4f48-b3de-1da94598f48f",
   "metadata": {},
   "outputs": [
    {
     "data": {
      "text/plain": [
       "10000000000"
      ]
     },
     "execution_count": 17,
     "metadata": {},
     "output_type": "execute_result"
    }
   ],
   "source": [
    "# sysntax\n",
    "# function name=lamda<argument name>:<return ouput>\n",
    "# in above\n",
    "# function name: mul\n",
    "# argument name: a\n",
    "# return output: a*a\n",
    "mul= lambda a : a*a\n",
    "mul(100000)"
   ]
  },
  {
   "cell_type": "code",
   "execution_count": 21,
   "id": "92b3bdde-47e0-4995-a01c-40ce86ce55f4",
   "metadata": {},
   "outputs": [
    {
     "data": {
      "text/plain": [
       "33"
      ]
     },
     "execution_count": 21,
     "metadata": {},
     "output_type": "execute_result"
    }
   ],
   "source": [
    "add= lambda a,b : a+b\n",
    "add(30,3)"
   ]
  },
  {
   "cell_type": "code",
   "execution_count": 1,
   "id": "35309947-e772-49a2-bebd-4b421d36ee71",
   "metadata": {},
   "outputs": [
    {
     "data": {
      "text/plain": [
       "3.0"
      ]
     },
     "execution_count": 1,
     "metadata": {},
     "output_type": "execute_result"
    }
   ],
   "source": [
    "div=lambda a,b:a/b\n",
    "div(9,3)"
   ]
  },
  {
   "cell_type": "code",
   "execution_count": 27,
   "id": "5bf6c428-cacc-4749-a273-843f545cca82",
   "metadata": {},
   "outputs": [
    {
     "data": {
      "text/plain": [
       "8000"
      ]
     },
     "execution_count": 27,
     "metadata": {},
     "output_type": "execute_result"
    }
   ],
   "source": [
    "def cube(x):   # insteed of this we use lambda function\n",
    "    return(x**3)\n",
    "cube(10)\n",
    "\n",
    "# this is lambda function we write i a single line \n",
    "cube1= lambda x: x**3\n",
    "cube1(20)"
   ]
  },
  {
   "cell_type": "markdown",
   "id": "a22bb549-ebb5-4e40-8c40-df89ae4699cb",
   "metadata": {},
   "source": [
    "$pattern-2$\n",
    "- function with two arguments"
   ]
  },
  {
   "cell_type": "code",
   "execution_count": 30,
   "id": "a069ea0f-0dcf-4593-b272-85eea8d0efbb",
   "metadata": {},
   "outputs": [
    {
     "data": {
      "text/plain": [
       "33"
      ]
     },
     "execution_count": 30,
     "metadata": {},
     "output_type": "execute_result"
    }
   ],
   "source": [
    "# syntax\n",
    "# <function name>= lambda <arg-1>,<arg2>: return(output)\n",
    "add= lambda a,b : a+b\n",
    "add(30,3)"
   ]
  },
  {
   "cell_type": "code",
   "execution_count": 34,
   "id": "1be8a785-4cce-4c9a-9270-063aa9b49490",
   "metadata": {},
   "outputs": [
    {
     "data": {
      "text/plain": [
       "18.67"
      ]
     },
     "execution_count": 34,
     "metadata": {},
     "output_type": "execute_result"
    }
   ],
   "source": [
    "avg=lambda a,b,c: round((a+b+c)/3,2)\n",
    "avg(10,20,26)"
   ]
  },
  {
   "cell_type": "markdown",
   "id": "16fa5810-5663-4cd5-ac71-347e669fb973",
   "metadata": {},
   "source": [
    "$pattern-3$\n",
    "- function with default arguments"
   ]
  },
  {
   "cell_type": "code",
   "execution_count": 37,
   "id": "9ca48999-544f-479c-b091-d7064c9e801d",
   "metadata": {},
   "outputs": [
    {
     "data": {
      "text/plain": [
       "5"
      ]
     },
     "execution_count": 37,
     "metadata": {},
     "output_type": "execute_result"
    }
   ],
   "source": [
    "sub= lambda a,b=4: a-b\n",
    "sub(9)"
   ]
  },
  {
   "cell_type": "markdown",
   "id": "fbc27e4b-8597-49b0-a46e-874c9351e006",
   "metadata": {},
   "source": [
    "$pattern-4$\n",
    "- if and else in function with lambda"
   ]
  },
  {
   "cell_type": "code",
   "execution_count": 40,
   "id": "ac854d3b-d6f7-430e-90ed-640717f71364",
   "metadata": {},
   "outputs": [
    {
     "data": {
      "text/plain": [
       "20"
      ]
     },
     "execution_count": 40,
     "metadata": {},
     "output_type": "execute_result"
    }
   ],
   "source": [
    "def max(a,b):\n",
    "    if a>b:\n",
    "        return(a)\n",
    "    else:\n",
    "        return(b)\n",
    "max(10,20)"
   ]
  },
  {
   "cell_type": "code",
   "execution_count": 44,
   "id": "2139dbdc-f0f6-47c8-b217-8a7046dc28ee",
   "metadata": {},
   "outputs": [],
   "source": [
    "# syntax\n",
    "# <function name>= lambda <arg-1>,<arg2>: if_output if_condition else else_output"
   ]
  },
  {
   "cell_type": "code",
   "execution_count": 42,
   "id": "5bc412d0-7a9a-4b14-be5f-493f41fbd064",
   "metadata": {},
   "outputs": [
    {
     "data": {
      "text/plain": [
       "40"
      ]
     },
     "execution_count": 42,
     "metadata": {},
     "output_type": "execute_result"
    }
   ],
   "source": [
    "max=lambda a,b: a if a>b else b\n",
    "max(40,30)"
   ]
  },
  {
   "cell_type": "code",
   "execution_count": 3,
   "id": "43f54c57-7af9-43a9-96e4-0f2d204d2464",
   "metadata": {},
   "outputs": [
    {
     "data": {
      "text/plain": [
       "55"
      ]
     },
     "execution_count": 3,
     "metadata": {},
     "output_type": "execute_result"
    }
   ],
   "source": [
    "min=lambda a,b: a if a<b else b\n",
    "min(55,88)"
   ]
  },
  {
   "cell_type": "markdown",
   "id": "4a2f5493-2cb1-4b15-964b-bdf51d42b176",
   "metadata": {},
   "source": [
    "$pattern_5$\n",
    "- list cases"
   ]
  },
  {
   "cell_type": "code",
   "execution_count": 47,
   "id": "4674d8cc-5130-448a-9e8d-8717b10d49ad",
   "metadata": {},
   "outputs": [
    {
     "data": {
      "text/plain": [
       "['Hyd', 'Mumbai', 'Pune']"
      ]
     },
     "execution_count": 47,
     "metadata": {},
     "output_type": "execute_result"
    }
   ],
   "source": [
    "list1=['hyd','mumbai','pune']\n",
    "ans=[]\n",
    "for i in list1:\n",
    "    ans.append(i.capitalize())\n",
    "ans"
   ]
  },
  {
   "cell_type": "code",
   "execution_count": 7,
   "id": "a9714627-5acf-4c3c-b4e9-bf135768005a",
   "metadata": {},
   "outputs": [
    {
     "data": {
      "text/plain": [
       "(<function __main__.<lambda>(i)>, ['hyd', 'mumbai', 'pune'])"
      ]
     },
     "execution_count": 7,
     "metadata": {},
     "output_type": "execute_result"
    }
   ],
   "source": [
    "list1=['hyd','mumbai','pune']\n",
    "lambda i:i.title(),list1"
   ]
  },
  {
   "cell_type": "code",
   "execution_count": 49,
   "id": "9ce1996c-1763-4c9c-a8a1-c0fcd5c8f897",
   "metadata": {},
   "outputs": [
    {
     "data": {
      "text/plain": [
       "<function __main__.<lambda>(i)>"
      ]
     },
     "execution_count": 49,
     "metadata": {},
     "output_type": "execute_result"
    }
   ],
   "source": [
    "# use lambda function\n",
    "#lambda <variable>:<output>\n",
    "lambda i : i.capitalize()"
   ]
  },
  {
   "cell_type": "code",
   "execution_count": 51,
   "id": "d9e2c301-ada0-4748-8d66-994292ff63af",
   "metadata": {},
   "outputs": [
    {
     "data": {
      "text/plain": [
       "(<function __main__.<lambda>(i)>, ['hyd', 'mumbai', 'pune'])"
      ]
     },
     "execution_count": 51,
     "metadata": {},
     "output_type": "execute_result"
    }
   ],
   "source": [
    "#lambda <variable>:<output>,<iterator>\n",
    "lambda i : i.capitalize(),list1"
   ]
  },
  {
   "cell_type": "code",
   "execution_count": 53,
   "id": "ef083afc-509a-4397-a24f-78e707899ab7",
   "metadata": {},
   "outputs": [
    {
     "data": {
      "text/plain": [
       "(<function __main__.<lambda>(i)>, ['hyd', 'mumbai', 'pune'])"
      ]
     },
     "execution_count": 53,
     "metadata": {},
     "output_type": "execute_result"
    }
   ],
   "source": [
    "#step1: #lambda <variable>:<output>\n",
    "lambda i : i.capitalize()\n",
    "# step-3 #lambda <variable>:<output>,<iterator>\n",
    "lambda i : i.capitalize(),list1"
   ]
  },
  {
   "cell_type": "markdown",
   "id": "92ee2f22-bb8a-4000-9012-79667291cdad",
   "metadata": {},
   "source": [
    "# **map**\n",
    "- map is used to combime the function and iterator"
   ]
  },
  {
   "cell_type": "code",
   "execution_count": 56,
   "id": "b81fef5f-a7a8-4343-afd1-c1fe37d9915c",
   "metadata": {},
   "outputs": [
    {
     "data": {
      "text/plain": [
       "<map at 0x14b0e3f0730>"
      ]
     },
     "execution_count": 56,
     "metadata": {},
     "output_type": "execute_result"
    }
   ],
   "source": [
    "# step-3\n",
    "# map(lambda <variable>:<output>,<iterator>)\n",
    "map(lambda i : i.capitalize(),list1)"
   ]
  },
  {
   "cell_type": "code",
   "execution_count": 58,
   "id": "becfc578-e87b-4dec-b8d3-f728dcf6a891",
   "metadata": {},
   "outputs": [
    {
     "data": {
      "text/plain": [
       "['Hyd', 'Mumbai', 'Pune']"
      ]
     },
     "execution_count": 58,
     "metadata": {},
     "output_type": "execute_result"
    }
   ],
   "source": [
    "# step-4: when we apply the output we will store at address \n",
    "#so apply the lsit or truple to see the answer \n",
    "# # list(map(lambda <variable>:<output>,<iterator>))\n",
    "list(map(lambda i : i.capitalize(),list1))"
   ]
  },
  {
   "cell_type": "code",
   "execution_count": 62,
   "id": "3a1b912a-d8f7-4487-955e-d697efae7c03",
   "metadata": {},
   "outputs": [
    {
     "data": {
      "text/plain": [
       "['HYD', 'CHENNAI', 'MUMBAI', 'PUNE']"
      ]
     },
     "execution_count": 62,
     "metadata": {},
     "output_type": "execute_result"
    }
   ],
   "source": [
    "list1=['hyd','chennai','mumbai','pune']\n",
    "list(map(lambda i : i.upper(),list1))"
   ]
  },
  {
   "cell_type": "code",
   "execution_count": 66,
   "id": "8e7e00a2-b4a5-4023-a862-d4f52db35d5b",
   "metadata": {},
   "outputs": [
    {
     "data": {
      "text/plain": [
       "[0, 10, 20, 30]"
      ]
     },
     "execution_count": 66,
     "metadata": {},
     "output_type": "execute_result"
    }
   ],
   "source": [
    "list1=['hyd','chennai','mumbai','pune']\n",
    "list(map(lambda i : list1.index(i)*10,list1))"
   ]
  },
  {
   "cell_type": "code",
   "execution_count": 87,
   "id": "ae6ad57a-a399-45a9-8ea5-ad5af2b4efd7",
   "metadata": {},
   "outputs": [
    {
     "data": {
      "text/plain": [
       "['Hi', 'Hello', 'How', 'Are', 'You']"
      ]
     },
     "execution_count": 87,
     "metadata": {},
     "output_type": "execute_result"
    }
   ],
   "source": [
    "str1=\"hi hello how are you\"\n",
    "ans=list(map(lambda i: i.title(),str1.split()))\n",
    "ans"
   ]
  },
  {
   "cell_type": "code",
   "execution_count": null,
   "id": "9de6b5b0-d50d-43e3-8766-f6e54b50df55",
   "metadata": {},
   "outputs": [],
   "source": [
    "lambda<variable>:<condition>\n",
    "# donot write if condition\n",
    "# don't write i"
   ]
  },
  {
   "cell_type": "code",
   "execution_count": 93,
   "id": "ba5cdc8d-f4b1-42c9-a743-5fc62f3ca7b1",
   "metadata": {},
   "outputs": [
    {
     "data": {
      "text/plain": [
       "[False, True, True, False]"
      ]
     },
     "execution_count": 93,
     "metadata": {},
     "output_type": "execute_result"
    }
   ],
   "source": [
    "list1=['hyd','chen#ai','mu#bai','pune']\n",
    "list(map(lambda i:'#' in i,list1)) # we need exact answer we go for filter"
   ]
  },
  {
   "cell_type": "markdown",
   "id": "5b2d9728-a2d6-4aed-8ebd-5a487173f9b3",
   "metadata": {},
   "source": [
    "# **filter**\n",
    "- whenever condition statement\n",
    "- which means we are filter the answers based on condition\n",
    "- map will give boolean outputs ,true or False\n",
    "- true answers we can see by applying filter only"
   ]
  },
  {
   "cell_type": "code",
   "execution_count": 95,
   "id": "e6efd4bc-a93c-4246-97c4-740850c7ddac",
   "metadata": {},
   "outputs": [
    {
     "data": {
      "text/plain": [
       "['chen#ai', 'mu#bai']"
      ]
     },
     "execution_count": 95,
     "metadata": {},
     "output_type": "execute_result"
    }
   ],
   "source": [
    "list1=['hyd','chen#ai','mu#bai','pune']\n",
    "list(filter(lambda i:'#' in i,list1))"
   ]
  },
  {
   "cell_type": "code",
   "execution_count": 99,
   "id": "bcdeaba7-0f8b-4ddb-ab2a-5ba4fd5dde92",
   "metadata": {},
   "outputs": [
    {
     "data": {
      "text/plain": [
       "['hyd', 'pune']"
      ]
     },
     "execution_count": 99,
     "metadata": {},
     "output_type": "execute_result"
    }
   ],
   "source": [
    "list1=['hyd','chen#ai','mu#bai','pune']\n",
    "list(filter(lambda i:'#' not in i,list1))"
   ]
  },
  {
   "cell_type": "code",
   "execution_count": 101,
   "id": "9d7b828e-0654-4826-8565-db50eff7f0e8",
   "metadata": {},
   "outputs": [],
   "source": [
    "# avoid these mistakes\n",
    "# mistake-1 don;t write if\n",
    "# list(filter(lambda i:'#' in i,list1))\n",
    "\n",
    "# mistake-2: don't write the out put i\n",
    "# list(filter(lambda i:'#' in i,list1))"
   ]
  },
  {
   "cell_type": "code",
   "execution_count": 105,
   "id": "7ed92827-171b-4359-89eb-95c0a069632d",
   "metadata": {},
   "outputs": [
    {
     "name": "stdout",
     "output_type": "stream",
     "text": [
      "15\n"
     ]
    }
   ],
   "source": [
    "# with out lambda function\n",
    "l1=[1,2,3,4,5]\n",
    "summ=0\n",
    "for i in l1:\n",
    "    summ+=i\n",
    "print(summ)"
   ]
  },
  {
   "cell_type": "markdown",
   "id": "72f3f31b-6b67-4348-9997-ae4f06b074d3",
   "metadata": {},
   "source": [
    "# **reduce operation**\n",
    "- reduce is a method to write all inbuilt functions using lambda method\n",
    "- it is available in a package called **func tools**"
   ]
  },
  {
   "cell_type": "markdown",
   "id": "49240500-4509-4953-b389-daf2885028fb",
   "metadata": {},
   "source": [
    "- level-1: reduce(lambda sum,i : sum+i,list1)\n",
    "- level-2:reduce(lambda sum,i: sum+i,list1,sum<privise intial value>)\n",
    "- in level-1 by default sum=0\n",
    "- in level-2 we provide some intial value"
   ]
  },
  {
   "cell_type": "code",
   "execution_count": 111,
   "id": "391d5c5b-4e9b-4a48-8e9f-280541f912a0",
   "metadata": {},
   "outputs": [],
   "source": [
    "import functools\n"
   ]
  },
  {
   "cell_type": "code",
   "execution_count": 113,
   "id": "6567ce83-eb31-4ff1-aaa8-9aeb361ece59",
   "metadata": {},
   "outputs": [
    {
     "data": {
      "text/plain": [
       "['GenericAlias',\n",
       " 'RLock',\n",
       " 'WRAPPER_ASSIGNMENTS',\n",
       " 'WRAPPER_UPDATES',\n",
       " '_CacheInfo',\n",
       " '_HashedSeq',\n",
       " '_NOT_FOUND',\n",
       " '__all__',\n",
       " '__builtins__',\n",
       " '__cached__',\n",
       " '__doc__',\n",
       " '__file__',\n",
       " '__loader__',\n",
       " '__name__',\n",
       " '__package__',\n",
       " '__spec__',\n",
       " '_c3_merge',\n",
       " '_c3_mro',\n",
       " '_compose_mro',\n",
       " '_convert',\n",
       " '_find_impl',\n",
       " '_ge_from_gt',\n",
       " '_ge_from_le',\n",
       " '_ge_from_lt',\n",
       " '_gt_from_ge',\n",
       " '_gt_from_le',\n",
       " '_gt_from_lt',\n",
       " '_initial_missing',\n",
       " '_le_from_ge',\n",
       " '_le_from_gt',\n",
       " '_le_from_lt',\n",
       " '_lru_cache_wrapper',\n",
       " '_lt_from_ge',\n",
       " '_lt_from_gt',\n",
       " '_lt_from_le',\n",
       " '_make_key',\n",
       " '_unwrap_partial',\n",
       " 'cache',\n",
       " 'cached_property',\n",
       " 'cmp_to_key',\n",
       " 'get_cache_token',\n",
       " 'lru_cache',\n",
       " 'namedtuple',\n",
       " 'partial',\n",
       " 'partialmethod',\n",
       " 'recursive_repr',\n",
       " 'reduce',\n",
       " 'singledispatch',\n",
       " 'singledispatchmethod',\n",
       " 'total_ordering',\n",
       " 'update_wrapper',\n",
       " 'wraps']"
      ]
     },
     "execution_count": 113,
     "metadata": {},
     "output_type": "execute_result"
    }
   ],
   "source": [
    "dir(functools)"
   ]
  },
  {
   "cell_type": "code",
   "execution_count": 121,
   "id": "8998f3dd-4ffe-4eb8-a11c-5c45b6da989e",
   "metadata": {},
   "outputs": [
    {
     "data": {
      "text/plain": [
       "15"
      ]
     },
     "execution_count": 121,
     "metadata": {},
     "output_type": "execute_result"
    }
   ],
   "source": [
    "import functools\n",
    "l1=[1,2,3,4,5]\n",
    "functools.reduce(lambda summ,i:summ+i,l1)"
   ]
  },
  {
   "cell_type": "code",
   "execution_count": 123,
   "id": "22e27191-7e3c-4651-8491-a9dbaaa984ae",
   "metadata": {},
   "outputs": [
    {
     "data": {
      "text/plain": [
       "315"
      ]
     },
     "execution_count": 123,
     "metadata": {},
     "output_type": "execute_result"
    }
   ],
   "source": [
    "# level-2 start with 300\n",
    "import functools\n",
    "l1=[1,2,3,4,5]\n",
    "functools.reduce(lambda summ,i:summ+i,l1,300)"
   ]
  },
  {
   "cell_type": "code",
   "execution_count": 125,
   "id": "5a9f4d23-4bc0-4f3a-afe0-f63a7eb71a79",
   "metadata": {},
   "outputs": [
    {
     "data": {
      "text/plain": [
       "120"
      ]
     },
     "execution_count": 125,
     "metadata": {},
     "output_type": "execute_result"
    }
   ],
   "source": [
    "import functools\n",
    "l1=[1,2,3,4,5]\n",
    "functools.reduce(lambda summ,i:summ*i,l1)"
   ]
  },
  {
   "cell_type": "code",
   "execution_count": 127,
   "id": "777ae53f-66d1-44b2-89dd-5861c04e54e6",
   "metadata": {},
   "outputs": [
    {
     "data": {
      "text/plain": [
       "120"
      ]
     },
     "execution_count": 127,
     "metadata": {},
     "output_type": "execute_result"
    }
   ],
   "source": [
    "import functools as ft\n",
    "l1=[1,2,3,4,5]\n",
    "ft.reduce(lambda summ,i:summ*i,l1)"
   ]
  },
  {
   "cell_type": "code",
   "execution_count": 129,
   "id": "34cd33df-8225-4e26-8441-34a0f5935d6f",
   "metadata": {},
   "outputs": [
    {
     "data": {
      "text/plain": [
       "120"
      ]
     },
     "execution_count": 129,
     "metadata": {},
     "output_type": "execute_result"
    }
   ],
   "source": [
    "from functools import reduce\n",
    "l1=[1,2,3,4,5]\n",
    "reduce(lambda summ,i:summ*i,l1)"
   ]
  },
  {
   "cell_type": "code",
   "execution_count": null,
   "id": "ca561096-41ca-407e-8e2e-8731d1fa6648",
   "metadata": {},
   "outputs": [],
   "source": [
    "# all types of lambda functions\n",
    "1) lambda <variable>:<output>\n",
    "2) lambda <variable>:<if_output><if_condition> else<else_output>\n",
    "3) map(lambda <variable>:<output>,iterator)\n",
    "4) filter(lambda<variable>:<condition>,iterator)\n",
    "5)reduce(lambda <var1><var2>:<output>,iterator)"
   ]
  }
 ],
 "metadata": {
  "kernelspec": {
   "display_name": "Python 3 (ipykernel)",
   "language": "python",
   "name": "python3"
  },
  "language_info": {
   "codemirror_mode": {
    "name": "ipython",
    "version": 3
   },
   "file_extension": ".py",
   "mimetype": "text/x-python",
   "name": "python",
   "nbconvert_exporter": "python",
   "pygments_lexer": "ipython3",
   "version": "3.12.4"
  }
 },
 "nbformat": 4,
 "nbformat_minor": 5
}
