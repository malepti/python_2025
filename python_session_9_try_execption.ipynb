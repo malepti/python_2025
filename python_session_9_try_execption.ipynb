{
 "cells": [
  {
   "cell_type": "markdown",
   "id": "bc77003d-197e-4b8b-9159-0767ddb53b9a",
   "metadata": {},
   "source": [
    "***try and except***\n",
    "- try and exception are two blocks original code \n",
    "- we will write under try block\n",
    "- if any error occurs in original code it will redirect to except block\n",
    "- except block will catch the errors in try block"
   ]
  },
  {
   "cell_type": "code",
   "execution_count": 6,
   "id": "0989771e-0a08-404f-864e-b93620c066d0",
   "metadata": {},
   "outputs": [
    {
     "name": "stdout",
     "output_type": "stream",
     "text": [
      "30\n"
     ]
    }
   ],
   "source": [
    "n1=10\n",
    "n2=20\n",
    "add=n1+n2\n",
    "print(add)"
   ]
  },
  {
   "cell_type": "code",
   "execution_count": 2,
   "id": "a8d1c144-c6f8-4675-98ce-58dd2a3ebe52",
   "metadata": {},
   "outputs": [
    {
     "ename": "SyntaxError",
     "evalue": "incomplete input (1159976593.py, line 5)",
     "output_type": "error",
     "traceback": [
      "\u001b[1;36m  Cell \u001b[1;32mIn[2], line 5\u001b[1;36m\u001b[0m\n\u001b[1;33m    print(add)\u001b[0m\n\u001b[1;37m              ^\u001b[0m\n\u001b[1;31mSyntaxError\u001b[0m\u001b[1;31m:\u001b[0m incomplete input\n"
     ]
    }
   ],
   "source": [
    "try:\n",
    "    n1=10\n",
    "    n2=20\n",
    "    add=n1+n2\n",
    "    print(add)"
   ]
  },
  {
   "cell_type": "code",
   "execution_count": 8,
   "id": "1484fd7f-2de3-4811-8329-bda70350d17b",
   "metadata": {},
   "outputs": [
    {
     "name": "stdout",
     "output_type": "stream",
     "text": [
      "30\n"
     ]
    }
   ],
   "source": [
    "try:\n",
    "    n1=10\n",
    "    n2=20\n",
    "    add=n1+n2\n",
    "    print(add)\n",
    "except:\n",
    "    print('hello the code is not good')"
   ]
  },
  {
   "cell_type": "markdown",
   "id": "5c3d93ab-20f2-485a-99aa-5925002febbe",
   "metadata": {},
   "source": [
    "# here we observe from the above when we add the code in try block then compalsary except block is there in the code"
   ]
  },
  {
   "cell_type": "code",
   "execution_count": 12,
   "id": "8d0d149f-6f54-48fe-9f88-cf9549401318",
   "metadata": {},
   "outputs": [
    {
     "name": "stdout",
     "output_type": "stream",
     "text": [
      "hello the code is not good\n"
     ]
    }
   ],
   "source": [
    "try:\n",
    "    n1=10\n",
    "    n2=20\n",
    "    add=n1+n22 # here we do the mistake then except the block gives the answer\n",
    "    print(add)\n",
    "except:\n",
    "    print('hello the code is not good')"
   ]
  },
  {
   "cell_type": "code",
   "execution_count": null,
   "id": "202006ad-2d46-4ed6-a60b-10a2151f256c",
   "metadata": {},
   "outputs": [],
   "source": [
    "try:\n",
    "    <write the original code here>\n",
    "except:\n",
    "    <catch the error here>"
   ]
  },
  {
   "cell_type": "markdown",
   "id": "5143fb22-8705-42a7-b267-12a9ca931e2f",
   "metadata": {},
   "source": [
    "# here we print the exact error in the code \n"
   ]
  },
  {
   "cell_type": "code",
   "execution_count": 19,
   "id": "d3f543dd-9ac1-4823-9b34-da3835c9d407",
   "metadata": {},
   "outputs": [
    {
     "name": "stdout",
     "output_type": "stream",
     "text": [
      "name 'n22' is not defined\n"
     ]
    }
   ],
   "source": [
    "try:\n",
    "    n1=10\n",
    "    n2=20\n",
    "    add=n1+n22 \n",
    "    print(add)\n",
    "except Exception as e: # this will give the error name\n",
    "    print(e)"
   ]
  },
  {
   "cell_type": "code",
   "execution_count": 23,
   "id": "f890714e-7f6e-4efa-bf09-a072a7e9ad39",
   "metadata": {},
   "outputs": [
    {
     "name": "stdin",
     "output_type": "stream",
     "text": [
      "enter n1 100\n",
      "enter n2 0\n"
     ]
    },
    {
     "ename": "ZeroDivisionError",
     "evalue": "division by zero",
     "output_type": "error",
     "traceback": [
      "\u001b[1;31m---------------------------------------------------------------------------\u001b[0m",
      "\u001b[1;31mZeroDivisionError\u001b[0m                         Traceback (most recent call last)",
      "Cell \u001b[1;32mIn[23], line 3\u001b[0m\n\u001b[0;32m      1\u001b[0m n1\u001b[38;5;241m=\u001b[39m\u001b[38;5;28meval\u001b[39m(\u001b[38;5;28minput\u001b[39m(\u001b[38;5;124m'\u001b[39m\u001b[38;5;124menter n1\u001b[39m\u001b[38;5;124m'\u001b[39m))\n\u001b[0;32m      2\u001b[0m n2\u001b[38;5;241m=\u001b[39m\u001b[38;5;28meval\u001b[39m(\u001b[38;5;28minput\u001b[39m(\u001b[38;5;124m'\u001b[39m\u001b[38;5;124menter n2\u001b[39m\u001b[38;5;124m'\u001b[39m))\n\u001b[1;32m----> 3\u001b[0m div\u001b[38;5;241m=\u001b[39mn1\u001b[38;5;241m/\u001b[39mn2\n\u001b[0;32m      4\u001b[0m \u001b[38;5;28mprint\u001b[39m(div)\n",
      "\u001b[1;31mZeroDivisionError\u001b[0m: division by zero"
     ]
    }
   ],
   "source": [
    "n1=eval(input('enter n1'))\n",
    "n2=eval(input('enter n2'))\n",
    "div=n1/n2\n",
    "print(div)"
   ]
  },
  {
   "cell_type": "code",
   "execution_count": 25,
   "id": "7ba31974-2dba-4a19-8fa8-d1dea6a2e8a4",
   "metadata": {},
   "outputs": [
    {
     "name": "stdin",
     "output_type": "stream",
     "text": [
      "enter n1 100\n",
      "enter n2 0\n"
     ]
    },
    {
     "name": "stdout",
     "output_type": "stream",
     "text": [
      "division by zero\n"
     ]
    }
   ],
   "source": [
    "try:\n",
    "    n1=eval(input('enter n1'))\n",
    "    n2=eval(input('enter n2'))\n",
    "    div=n1/n2\n",
    "    print(div)\n",
    "except Exception as e:\n",
    "    print(e)\n",
    "    "
   ]
  },
  {
   "cell_type": "code",
   "execution_count": 27,
   "id": "b31cba91-a9fa-4ee4-820b-77088e3e538e",
   "metadata": {},
   "outputs": [
    {
     "name": "stdin",
     "output_type": "stream",
     "text": [
      "enter a number 1 45\n",
      "enter a number 2 75\n",
      "enter a number 3 50\n"
     ]
    },
    {
     "name": "stdout",
     "output_type": "stream",
     "text": [
      "75 is greater\n"
     ]
    }
   ],
   "source": [
    "try:\n",
    "    n1=eval(input('enter a number 1'))\n",
    "    n2=eval(input('enter a number 2'))\n",
    "    n3=eval(input('enter a number 3'))\n",
    "    if n1>n2:\n",
    "        if n1>n3:\n",
    "            print(f'{n1} is greater')\n",
    "        else:\n",
    "            print(f'{n3} is greater') \n",
    "    elif n2>n3:\n",
    "         print(f'{n2} is greater')\n",
    "    else:\n",
    "         print(f'{n3} is greater')\n",
    "except Exception as e:\n",
    "    print(e)"
   ]
  },
  {
   "cell_type": "code",
   "execution_count": 29,
   "id": "ae388f19-c649-4401-86a0-c7a204bc9c43",
   "metadata": {},
   "outputs": [
    {
     "name": "stdin",
     "output_type": "stream",
     "text": [
      "enter a number 1 45\n",
      "enter a number 2 34\n",
      "enter a number 3 21\n"
     ]
    },
    {
     "name": "stdout",
     "output_type": "stream",
     "text": [
      "name 'n11' is not defined\n"
     ]
    }
   ],
   "source": [
    "try:\n",
    "    n1=eval(input('enter a number 1'))\n",
    "    n2=eval(input('enter a number 2'))\n",
    "    n3=eval(input('enter a number 3'))\n",
    "    if n1>n2:\n",
    "        if n11>n3:\n",
    "            print(f'{n1} is greater')\n",
    "        else:\n",
    "            print(f'{n3} is greater') \n",
    "    elif n2>n3:\n",
    "         print(f'{n2} is greater')\n",
    "    else:\n",
    "         print(f'{n3} is greater')\n",
    "except Exception as e:\n",
    "    print(e)"
   ]
  },
  {
   "cell_type": "code",
   "execution_count": 31,
   "id": "8c9cd0f4-f540-43f5-88da-ba4946bab31f",
   "metadata": {},
   "outputs": [
    {
     "name": "stdout",
     "output_type": "stream",
     "text": [
      "10\n",
      "20\n"
     ]
    },
    {
     "ename": "NameError",
     "evalue": "name 'n234' is not defined",
     "output_type": "error",
     "traceback": [
      "\u001b[1;31m---------------------------------------------------------------------------\u001b[0m",
      "\u001b[1;31mNameError\u001b[0m                                 Traceback (most recent call last)",
      "Cell \u001b[1;32mIn[31], line 5\u001b[0m\n\u001b[0;32m      3\u001b[0m n2\u001b[38;5;241m=\u001b[39m\u001b[38;5;241m20\u001b[39m\n\u001b[0;32m      4\u001b[0m \u001b[38;5;28mprint\u001b[39m(n2)\n\u001b[1;32m----> 5\u001b[0m n1\u001b[38;5;241m+\u001b[39mn234\n\u001b[0;32m      6\u001b[0m \u001b[38;5;28mprint\u001b[39m(\u001b[38;5;124m'\u001b[39m\u001b[38;5;124mhello\u001b[39m\u001b[38;5;124m'\u001b[39m)\n",
      "\u001b[1;31mNameError\u001b[0m: name 'n234' is not defined"
     ]
    }
   ],
   "source": [
    "n1=10\n",
    "print(n1)\n",
    "n2=20\n",
    "print(n2)\n",
    "n1+n234\n",
    "print('hello')   # here i want to  print hello but it not gives because the line by line it stops the code"
   ]
  },
  {
   "cell_type": "code",
   "execution_count": 39,
   "id": "c8defedd-caf9-4c03-ac0b-0fe1a062936a",
   "metadata": {},
   "outputs": [
    {
     "name": "stdout",
     "output_type": "stream",
     "text": [
      "10\n",
      "20\n",
      "name 'n234' is not defined \n",
      "hello\n"
     ]
    }
   ],
   "source": [
    "try:\n",
    "    n1=10\n",
    "    print(n1)\n",
    "    n2=20\n",
    "    print(n2)\n",
    "    n1+n234\n",
    "except Exception as e:\n",
    "    print(e,'\\nhello')    # here hello will print and its leave the error part and next part will print "
   ]
  },
  {
   "cell_type": "code",
   "execution_count": null,
   "id": "32c02abe-c8fd-4872-bb04-49ed553426fc",
   "metadata": {},
   "outputs": [],
   "source": []
  }
 ],
 "metadata": {
  "kernelspec": {
   "display_name": "Python 3 (ipykernel)",
   "language": "python",
   "name": "python3"
  },
  "language_info": {
   "codemirror_mode": {
    "name": "ipython",
    "version": 3
   },
   "file_extension": ".py",
   "mimetype": "text/x-python",
   "name": "python",
   "nbconvert_exporter": "python",
   "pygments_lexer": "ipython3",
   "version": "3.12.4"
  }
 },
 "nbformat": 4,
 "nbformat_minor": 5
}
