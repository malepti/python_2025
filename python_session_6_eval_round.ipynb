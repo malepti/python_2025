{
 "cells": [
  {
   "cell_type": "code",
   "execution_count": null,
   "id": "1dce9d6a",
   "metadata": {},
   "outputs": [],
   "source": [
    "- generally if you observe any application\n",
    "- use will provide the values\n",
    "- backend some programing languages will works \n",
    "- if any code that values we give is called **Hard code**"
   ]
  },
  {
   "cell_type": "code",
   "execution_count": 1,
   "id": "c54b5dcf",
   "metadata": {},
   "outputs": [
    {
     "name": "stdout",
     "output_type": "stream",
     "text": [
      "hello\n"
     ]
    },
    {
     "data": {
      "text/plain": [
       "'hello'"
      ]
     },
     "execution_count": 1,
     "metadata": {},
     "output_type": "execute_result"
    }
   ],
   "source": [
    "input()"
   ]
  },
  {
   "cell_type": "code",
   "execution_count": 2,
   "id": "72720c7d",
   "metadata": {},
   "outputs": [
    {
     "name": "stdout",
     "output_type": "stream",
     "text": [
      "20srinu\n",
      "3030\n"
     ]
    },
    {
     "ename": "NameError",
     "evalue": "name 'done' is not defined",
     "output_type": "error",
     "traceback": [
      "\u001b[1;31m---------------------------------------------------------------------------\u001b[0m",
      "\u001b[1;31mNameError\u001b[0m                                 Traceback (most recent call last)",
      "Cell \u001b[1;32mIn[2], line 3\u001b[0m\n\u001b[0;32m      1\u001b[0m \u001b[38;5;28minput\u001b[39m(\u001b[38;5;241m20\u001b[39m)\n\u001b[0;32m      2\u001b[0m \u001b[38;5;28minput\u001b[39m(\u001b[38;5;241m30\u001b[39m)\n\u001b[1;32m----> 3\u001b[0m \u001b[38;5;28minput\u001b[39m(\u001b[43mdone\u001b[49m)\n",
      "\u001b[1;31mNameError\u001b[0m: name 'done' is not defined"
     ]
    }
   ],
   "source": [
    "input(20)\n",
    "input(30)\n",
    "input()"
   ]
  },
  {
   "cell_type": "code",
   "execution_count": 3,
   "id": "cbef97f5",
   "metadata": {},
   "outputs": [
    {
     "name": "stdout",
     "output_type": "stream",
     "text": [
      "python\n"
     ]
    },
    {
     "data": {
      "text/plain": [
       "'python'"
      ]
     },
     "execution_count": 3,
     "metadata": {},
     "output_type": "execute_result"
    }
   ],
   "source": [
    "input()"
   ]
  },
  {
   "cell_type": "code",
   "execution_count": 4,
   "id": "7e3a2baa",
   "metadata": {},
   "outputs": [
    {
     "name": "stdout",
     "output_type": "stream",
     "text": [
      "enter a number1:30\n"
     ]
    },
    {
     "data": {
      "text/plain": [
       "'30'"
      ]
     },
     "execution_count": 4,
     "metadata": {},
     "output_type": "execute_result"
    }
   ],
   "source": [
    "input('enter a number1:')\n"
   ]
  },
  {
   "cell_type": "code",
   "execution_count": 1,
   "id": "e74dfabe",
   "metadata": {},
   "outputs": [
    {
     "name": "stdout",
     "output_type": "stream",
     "text": [
      "enter value:100\n",
      "enter value:200\n"
     ]
    },
    {
     "data": {
      "text/plain": [
       "'100200'"
      ]
     },
     "execution_count": 1,
     "metadata": {},
     "output_type": "execute_result"
    }
   ],
   "source": [
    "a=input('enter value:') #a=str('100')\n",
    "b=input('enter value:') # b=str('200')\n",
    "a+b"
   ]
  },
  {
   "cell_type": "code",
   "execution_count": 1,
   "id": "f6950f2f",
   "metadata": {},
   "outputs": [
    {
     "name": "stdout",
     "output_type": "stream",
     "text": [
      "enter value:100\n",
      "enter value:300\n"
     ]
    },
    {
     "data": {
      "text/plain": [
       "400"
      ]
     },
     "execution_count": 1,
     "metadata": {},
     "output_type": "execute_result"
    }
   ],
   "source": [
    "a=int(input('enter value:')) #a=int('100')\n",
    "b=int(input('enter value:'))# b=int('200')\n",
    "a+b"
   ]
  },
  {
   "cell_type": "markdown",
   "id": "d551e379",
   "metadata": {},
   "source": [
    "29/10/24"
   ]
  },
  {
   "cell_type": "markdown",
   "id": "0efaee74",
   "metadata": {},
   "source": [
    "methid1"
   ]
  },
  {
   "cell_type": "code",
   "execution_count": 2,
   "id": "210fdfdf",
   "metadata": {},
   "outputs": [
    {
     "name": "stdout",
     "output_type": "stream",
     "text": [
      "enter a number:100\n",
      "enter a number200\n"
     ]
    },
    {
     "data": {
      "text/plain": [
       "300"
      ]
     },
     "execution_count": 2,
     "metadata": {},
     "output_type": "execute_result"
    }
   ],
   "source": [
    "n1= int(input('enter a number:'))  #n1=int('100')=100\n",
    "n2=int(input('enter a number'))   # n2=int('200')=200\n",
    "n1+n2 #100+200"
   ]
  },
  {
   "cell_type": "code",
   "execution_count": null,
   "id": "0f58797b",
   "metadata": {},
   "outputs": [],
   "source": [
    "##another way input was used in the statements"
   ]
  },
  {
   "cell_type": "code",
   "execution_count": 3,
   "id": "bd0eb863",
   "metadata": {},
   "outputs": [
    {
     "name": "stdout",
     "output_type": "stream",
     "text": [
      "enter a number:100\n",
      "enter a number:200\n"
     ]
    },
    {
     "data": {
      "text/plain": [
       "300"
      ]
     },
     "execution_count": 3,
     "metadata": {},
     "output_type": "execute_result"
    }
   ],
   "source": [
    "n1=int(input('enter a number:'))\n",
    "n2= int(input('enter a number:'))\n",
    "add=int(n1)+int(n2)\n",
    "add"
   ]
  },
  {
   "cell_type": "markdown",
   "id": "400281c0-06de-4f2e-b582-39adda14987f",
   "metadata": {},
   "source": [
    "### eval\n",
    "- Whenever we listen about eval it represents math term**evaluate**\n",
    "- instaed of focus int and float every time\n",
    "- Simply we use **eval** conversion always\n",
    "- if you apply eval it will convert the value based on base data type\n",
    "- if user will provide the integer, it will convert into the integer value\n",
    "- if user will provide the float, it will convert into the float value\n",
    "- if user will provide the string it will give the eeror."
   ]
  },
  {
   "cell_type": "code",
   "execution_count": 6,
   "id": "63fb8606-e847-4c87-873a-bd0e3bf3dc13",
   "metadata": {},
   "outputs": [
    {
     "name": "stdin",
     "output_type": "stream",
     "text": [
      "enter a number: 10\n",
      "enter a number 10.5\n"
     ]
    },
    {
     "name": "stdout",
     "output_type": "stream",
     "text": [
      "the add of 10 and 10.5 is 20.5\n"
     ]
    }
   ],
   "source": [
    "n1= eval(input('enter a number:'))  # eval is used to convert the numbers based n the user requirement\n",
    "n2=eval(input('enter a number'))   \n",
    "n3=n1+n2 \n",
    "print(f'the add of {n1} and {n2} is {n3}')"
   ]
  },
  {
   "cell_type": "markdown",
   "id": "4a83d58f-1000-48bf-82ba-f64bc19fa40e",
   "metadata": {},
   "source": [
    "## suggest to avoid the error's\n",
    "- donot forget to close the brackets\n",
    "- check the last string of quotes provided or not"
   ]
  },
  {
   "cell_type": "markdown",
   "id": "778a1105-5a99-41b6-ac0b-bac08685a0c7",
   "metadata": {},
   "source": [
    "# write a program ask the user take the three numbers from the keyboard and print average \n",
    "# write a program ask the user take the Breadth and height from keyboard  \n",
    "        # calculate area of right angled triangle\n",
    "        # formulae = 0.5*b*h\n",
    "# wap ask the take the radius from the keyboard \n",
    "        # calculate the area of circle\n",
    "        # formulae = pi*r*r\n",
    "# write a program ask the user enter the bill amount\n",
    "        #ask the user provide how much tip amount he wants to give\n",
    "        #calculate the total bill\n",
    "# write a program ask the user enter the bill amount\n",
    "        #ask the user provide how much tip percentage he wants to give\n",
    "        #calculate the total bill"
   ]
  },
  {
   "cell_type": "code",
   "execution_count": 49,
   "id": "db845192-fda7-4642-8ff2-bc849eedb16a",
   "metadata": {},
   "outputs": [
    {
     "name": "stdin",
     "output_type": "stream",
     "text": [
      "enter the value 1.5\n",
      "enter the value 2.9\n",
      "enter the value 7\n"
     ]
    },
    {
     "name": "stdout",
     "output_type": "stream",
     "text": [
      "the avg value will be 3.8\n"
     ]
    }
   ],
   "source": [
    "n1=eval(input('enter the value'))\n",
    "n2=eval(input('enter the value'))\n",
    "n3=eval(input('enter the value'))\n",
    "total=(n1+n2+n3)/3\n",
    "print(f'the avg value will be {total}')"
   ]
  },
  {
   "cell_type": "code",
   "execution_count": 55,
   "id": "6b393463-92a9-4a8b-8985-4961fb7837cb",
   "metadata": {},
   "outputs": [
    {
     "name": "stdin",
     "output_type": "stream",
     "text": [
      "enter the breadth 20\n",
      "enter the height 30\n"
     ]
    },
    {
     "name": "stdout",
     "output_type": "stream",
     "text": [
      "the area of the right angle triangle300.0\n"
     ]
    }
   ],
   "source": [
    "#2 ans\n",
    "breadth=eval(input('enter the breadth'))\n",
    "height=eval(input('enter the height'))\n",
    "area=0.5*breadth*height\n",
    "print(f'the area of the right angle triangle{area}')"
   ]
  },
  {
   "cell_type": "code",
   "execution_count": 57,
   "id": "3ea04661-0cc1-49e3-81e2-578832bd8759",
   "metadata": {},
   "outputs": [
    {
     "name": "stdin",
     "output_type": "stream",
     "text": [
      "enter radius 30\n"
     ]
    },
    {
     "name": "stdout",
     "output_type": "stream",
     "text": [
      "the area of circle:2826.0\n"
     ]
    }
   ],
   "source": [
    "#3 ans\n",
    "r=eval(input('enter radius'))\n",
    "pi=3.14\n",
    "area=pi*r*r\n",
    "print(f'the area of circle:{area}')"
   ]
  },
  {
   "cell_type": "code",
   "execution_count": 59,
   "id": "d87149d3-7886-464a-b544-ef3dc559500b",
   "metadata": {},
   "outputs": [
    {
     "name": "stdin",
     "output_type": "stream",
     "text": [
      "enter the bill amount 1000\n",
      "enter the tip amount 200\n"
     ]
    },
    {
     "name": "stdout",
     "output_type": "stream",
     "text": [
      "the total bill:1200\n"
     ]
    }
   ],
   "source": [
    "# 4 ans\n",
    "amount=eval(input('enter the bill amount'))\n",
    "tip=eval(input('enter the tip amount'))\n",
    "total_bill=amount+tip\n",
    "print(f'the total bill:{total_bill}')"
   ]
  },
  {
   "cell_type": "code",
   "execution_count": 61,
   "id": "857a76e7-5ea0-4f76-bc51-e91377a5f9e3",
   "metadata": {},
   "outputs": [
    {
     "name": "stdin",
     "output_type": "stream",
     "text": [
      "enter the bill amount 1000\n",
      "enter the tip amount percentage 20\n"
     ]
    },
    {
     "name": "stdout",
     "output_type": "stream",
     "text": [
      "the total bill:1200.0\n"
     ]
    }
   ],
   "source": [
    "#5 ans\n",
    "amount=eval(input('enter the bill amount'))\n",
    "tip=eval(input('enter the tip amount percentage'))\n",
    "b=tip/100*amount\n",
    "total_bill=amount+b\n",
    "print(f'the total bill:{total_bill}')"
   ]
  },
  {
   "cell_type": "code",
   "execution_count": 63,
   "id": "4108a541-b811-40e1-b7cd-34277905f980",
   "metadata": {},
   "outputs": [
    {
     "name": "stdin",
     "output_type": "stream",
     "text": [
      "enter the bill amount 1000\n",
      "enter the tip amount percentage 20\n"
     ]
    },
    {
     "name": "stdout",
     "output_type": "stream",
     "text": [
      "the total bill:1200.0\n"
     ]
    }
   ],
   "source": [
    "#5 ans another way of answer \n",
    "amount=eval(input('enter the bill amount'))\n",
    "tip=eval(input('enter the tip amount percentage'))\n",
    "b=amount*tip/100     # here we change the formula\n",
    "total_bill=amount+b\n",
    "print(f'the total bill:{total_bill}')"
   ]
  },
  {
   "cell_type": "markdown",
   "id": "b6d082ba-d18e-47b6-bd5e-613cb75ef923",
   "metadata": {},
   "source": [
    "#### round \n",
    "- the input numerical value will get round\n",
    "- ex:1.22222 it gives 1"
   ]
  },
  {
   "cell_type": "code",
   "execution_count": 39,
   "id": "518612e8-7dda-4a27-8d76-0c1c9a2682b4",
   "metadata": {},
   "outputs": [
    {
     "data": {
      "text/plain": [
       "3"
      ]
     },
     "execution_count": 39,
     "metadata": {},
     "output_type": "execute_result"
    }
   ],
   "source": [
    "round(2.55554)"
   ]
  },
  {
   "cell_type": "code",
   "execution_count": 41,
   "id": "be5f2d46-dfdc-4ec5-8b87-39a2e2b68ed0",
   "metadata": {},
   "outputs": [
    {
     "data": {
      "text/plain": [
       "5"
      ]
     },
     "execution_count": 41,
     "metadata": {},
     "output_type": "execute_result"
    }
   ],
   "source": [
    "round(5.22222222)"
   ]
  },
  {
   "cell_type": "code",
   "execution_count": 45,
   "id": "5307890d-84bb-44ec-925b-6f2ad7bb8f85",
   "metadata": {},
   "outputs": [
    {
     "data": {
      "text/plain": [
       "5.222"
      ]
     },
     "execution_count": 45,
     "metadata": {},
     "output_type": "execute_result"
    }
   ],
   "source": [
    "round(5.22222222,3) # here after how many digits round will come we want after 3 decimals so we use ,3"
   ]
  },
  {
   "cell_type": "code",
   "execution_count": 51,
   "id": "b836a18c-5226-4142-8915-159f52d26557",
   "metadata": {},
   "outputs": [
    {
     "name": "stdin",
     "output_type": "stream",
     "text": [
      "enter the value 1.66\n",
      "enter the value 2.58\n",
      "enter the value 5.5\n"
     ]
    },
    {
     "name": "stdout",
     "output_type": "stream",
     "text": [
      "the avg value will be 3.25\n"
     ]
    }
   ],
   "source": [
    "n1=eval(input('enter the value'))\n",
    "n2=eval(input('enter the value'))\n",
    "n3=eval(input('enter the value'))\n",
    "total=round((n1+n2+n3)/3,2)\n",
    "print(f'the avg value will be {total}')"
   ]
  },
  {
   "cell_type": "markdown",
   "id": "d35aed91-df55-4635-a721-52badd598df5",
   "metadata": {},
   "source": [
    "# father and son\n",
    "# son has written the exam\n",
    "# the result got out\n",
    "# father percentage of marks to the son\n",
    "# so son says did i will give the marks\n",
    "# you calculate percentage\n"
   ]
  },
  {
   "cell_type": "code",
   "execution_count": 12,
   "id": "cba80340-3339-490a-b6be-d8392c019be8",
   "metadata": {},
   "outputs": [
    {
     "name": "stdin",
     "output_type": "stream",
     "text": [
      "father: hi son\n",
      "son: haidad\n",
      "father: your results came out\n",
      "son: yes dad\n",
      "father: great! how much percentage you get\n",
      "son: i will tell the marks you can calculate the percentage\n",
      "father: ok lets start\n",
      "telugu 99\n",
      "hindi 94\n",
      "english 98\n",
      "maths 100\n",
      "science 100\n",
      "social 100\n"
     ]
    },
    {
     "name": "stdout",
     "output_type": "stream",
     "text": [
      "the total percentage is :98%\n"
     ]
    }
   ],
   "source": [
    "input('father:')\n",
    "input('son:')\n",
    "input('father:')\n",
    "input('son:')\n",
    "input('father:')\n",
    "input('son:')\n",
    "input('father:')\n",
    "tel=eval(input('telugu'))\n",
    "hin=eval(input('hindi'))\n",
    "eng=eval(input('english'))\n",
    "mat=eval(input('maths'))\n",
    "sc=eval(input('science'))\n",
    "soc=eval(input('social'))\n",
    "total_per=round((tel+hin+eng+mat+sc+soc)/6)\n",
    "print(f'the total percentage is :{total_per}%')"
   ]
  },
  {
   "cell_type": "code",
   "execution_count": null,
   "id": "23b35dc1-f28c-48b1-9ee1-9949876c3b1c",
   "metadata": {},
   "outputs": [],
   "source": [
    "father: hi son\n",
    "son: hai dad\n",
    "father: your results came out right\n",
    "son: yes dad\n",
    "father: great! how much percentage you get\n",
    "son: i will tell the marks you tell per\n",
    "father: ok lets start"
   ]
  }
 ],
 "metadata": {
  "kernelspec": {
   "display_name": "Python 3 (ipykernel)",
   "language": "python",
   "name": "python3"
  },
  "language_info": {
   "codemirror_mode": {
    "name": "ipython",
    "version": 3
   },
   "file_extension": ".py",
   "mimetype": "text/x-python",
   "name": "python",
   "nbconvert_exporter": "python",
   "pygments_lexer": "ipython3",
   "version": "3.12.4"
  }
 },
 "nbformat": 4,
 "nbformat_minor": 5
}
