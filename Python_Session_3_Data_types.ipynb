{
 "cells": [
  {
   "cell_type": "markdown",
   "id": "1e998024-9581-4340-9991-e98951edf50a",
   "metadata": {},
   "source": [
    "## Data types"
   ]
  },
  {
   "cell_type": "markdown",
   "id": "17213bd3-77d8-4dc2-a0ff-29eada9930f1",
   "metadata": {},
   "source": [
    "- Python can say data type of the value with out intializing\n",
    "\n",
    "- Which means the data type automatically consider\n",
    "\n",
    "- Python has some inbulit datatype structure\n",
    "\n",
    "- int : integer\n",
    "\n",
    "- float\n",
    "\n",
    "- str : string\n",
    "\n",
    "- bool : boolean\n",
    "\n",
    "- complex\n",
    "\n",
    "- list\n",
    "\n",
    "- tuple\n",
    "\n",
    "- dict : dictionary\n",
    "\n",
    "- set\n",
    "\n",
    "- frozenset\n",
    "\n",
    "- bytes\n",
    "\n",
    "- bytearray\n",
    "\n",
    "- memoryview"
   ]
  },
  {
   "cell_type": "markdown",
   "id": "7e44c27f-699e-4ea9-b0b8-75e93dd4c204",
   "metadata": {},
   "source": [
    "**integer**"
   ]
  },
  {
   "cell_type": "code",
   "execution_count": 1,
   "id": "a0e67473-0b47-40c2-8720-dac4368f7f80",
   "metadata": {},
   "outputs": [
    {
     "data": {
      "text/plain": [
       "int"
      ]
     },
     "execution_count": 1,
     "metadata": {},
     "output_type": "execute_result"
    }
   ],
   "source": [
    "num=100\n",
    "type(num)"
   ]
  },
  {
   "cell_type": "code",
   "execution_count": 2,
   "id": "2076b487-a6b6-4b0e-9e29-8abac4917f7d",
   "metadata": {},
   "outputs": [
    {
     "name": "stdout",
     "output_type": "stream",
     "text": [
      "100\n"
     ]
    }
   ],
   "source": [
    "print(num)"
   ]
  },
  {
   "cell_type": "code",
   "execution_count": null,
   "id": "09738d66-7feb-4dd1-8222-a630c3bc8830",
   "metadata": {},
   "outputs": [],
   "source": [
    "# we have numerical langauge\n",
    "# age=20\n",
    "# distance=20\n",
    "# salry=20000\n",
    "# mars \n",
    "# mars ==== earth\n",
    "# how old are you = 7 years\n",
    "# earth ==== > mars\n",
    "# 0b111"
   ]
  },
  {
   "cell_type": "markdown",
   "id": "a809e3da-9131-47d2-abca-6b165f041a5b",
   "metadata": {},
   "source": [
    "**binary number system**\n",
    "\n",
    "- digits: 0,1,2,3,4,5,6,7,8,9\n",
    "\n",
    "- binary : bi means two  : 0 and 1\n",
    "\n",
    "- representation is :  0b001,0b111,0b101,0B111\n",
    "\n",
    "- wrong represntation is : o, 0b102\n",
    "\n"
   ]
  },
  {
   "cell_type": "code",
   "execution_count": 3,
   "id": "b6427c92-9cee-4cb8-9d2a-a47859843446",
   "metadata": {},
   "outputs": [
    {
     "data": {
      "text/plain": [
       "7"
      ]
     },
     "execution_count": 3,
     "metadata": {},
     "output_type": "execute_result"
    }
   ],
   "source": [
    "0b111"
   ]
  },
  {
   "cell_type": "code",
   "execution_count": 4,
   "id": "ed89d22a-cb6e-4909-8e0c-cd849830bd38",
   "metadata": {},
   "outputs": [
    {
     "data": {
      "text/plain": [
       "21"
      ]
     },
     "execution_count": 4,
     "metadata": {},
     "output_type": "execute_result"
    }
   ],
   "source": [
    "0b10101"
   ]
  },
  {
   "cell_type": "code",
   "execution_count": 5,
   "id": "4a7dde10-9c77-4c36-9dcf-11c5cd8733e2",
   "metadata": {},
   "outputs": [
    {
     "data": {
      "text/plain": [
       "10"
      ]
     },
     "execution_count": 5,
     "metadata": {},
     "output_type": "execute_result"
    }
   ],
   "source": [
    "0B1010"
   ]
  },
  {
   "cell_type": "code",
   "execution_count": 6,
   "id": "413a7f2e-e991-4628-a317-bb201878ac9e",
   "metadata": {},
   "outputs": [
    {
     "data": {
      "text/plain": [
       "15"
      ]
     },
     "execution_count": 6,
     "metadata": {},
     "output_type": "execute_result"
    }
   ],
   "source": [
    "0b1111"
   ]
  },
  {
   "cell_type": "code",
   "execution_count": null,
   "id": "4ae0492c-d860-403b-8fde-894737048a87",
   "metadata": {},
   "outputs": [],
   "source": [
    "2^2=4   2^1=2   2^0=1\n",
    "0         0       0       0\n",
    "0         0       1       1\n",
    "0         1       0       2\n",
    "0         1       1       3\n",
    "1         0       0       4\n",
    "1         0       1       5\n",
    "1         1       0       6\n",
    "1         1       1       7"
   ]
  },
  {
   "cell_type": "code",
   "execution_count": null,
   "id": "d847e526-3674-4102-82bd-d201f988a257",
   "metadata": {},
   "outputs": [],
   "source": [
    "2^3=8   2^2=4   2^1=2   2^0=1\n",
    "0       0         0       0       0\n",
    "0       0         0       1       1\n",
    "0       0         1       0       2\n",
    "0       0         1       1       3\n",
    "0       1         0       0       4\n",
    "0       1         0       1       5\n",
    "0       1         1       0       6\n",
    "0       1         1       1       7\n",
    "1       0         0       0       8\n",
    "1       0         0       1       9\n",
    "1       0         1       0       10\n",
    "1       0         1       1       11\n",
    "1       1         0       0       12\n",
    "1       1         0       1       13\n",
    "1       1         1       0       14\n",
    "1       1         1       1       15"
   ]
  },
  {
   "cell_type": "code",
   "execution_count": 9,
   "id": "c505dbcb-fafd-41d4-bd31-3656c01866bc",
   "metadata": {},
   "outputs": [
    {
     "data": {
      "text/plain": [
       "(12, 14)"
      ]
     },
     "execution_count": 9,
     "metadata": {},
     "output_type": "execute_result"
    }
   ],
   "source": [
    "0b1100,0b1110"
   ]
  },
  {
   "cell_type": "markdown",
   "id": "05723958-9c1a-475b-a989-54d8407795bd",
   "metadata": {},
   "source": [
    "**octal number system**\n",
    "\n",
    "- digits: 0,1,2,3,4,5,6,7,8,9\n",
    "\n",
    "- octa : octa means 8  : 0,1,2,3,4,5,6,7\n",
    "\n",
    "- representation is :  0o567,0o123,0O765\n",
    "\n",
    "- wrong represntation is : 'o' as start, 0o789"
   ]
  },
  {
   "cell_type": "code",
   "execution_count": 10,
   "id": "c5ffc360-ef43-4319-97bc-39f50b833aed",
   "metadata": {},
   "outputs": [
    {
     "data": {
      "text/plain": [
       "83"
      ]
     },
     "execution_count": 10,
     "metadata": {},
     "output_type": "execute_result"
    }
   ],
   "source": [
    "0o123"
   ]
  },
  {
   "cell_type": "code",
   "execution_count": 11,
   "id": "d45bfdaf-bebb-41de-a910-e37b980d834f",
   "metadata": {},
   "outputs": [
    {
     "data": {
      "text/plain": [
       "2196"
      ]
     },
     "execution_count": 11,
     "metadata": {},
     "output_type": "execute_result"
    }
   ],
   "source": [
    "0O4224"
   ]
  },
  {
   "cell_type": "markdown",
   "id": "a02b93dc-9c8e-4e27-8d67-636e6fa36566",
   "metadata": {},
   "source": [
    "**hexa number system**\n",
    "\n",
    "- digits: 0,1,2,3,4,5,6,7,8,9\n",
    "\n",
    "- hexa : hexa means 16  : 0,1,2,3,4,5,6,7,8,9,A=10,B=11,C=12,D=13,E=14,F=15\n",
    "\n",
    "- representation is :  0x567,0X123,0Xabc\n",
    "\n",
    "- wrong represntation is : 'o' as start, 0h67"
   ]
  },
  {
   "cell_type": "code",
   "execution_count": 12,
   "id": "aba86a61-f8d3-4ba4-8ac3-3f777344b312",
   "metadata": {},
   "outputs": [
    {
     "data": {
      "text/plain": [
       "291"
      ]
     },
     "execution_count": 12,
     "metadata": {},
     "output_type": "execute_result"
    }
   ],
   "source": [
    "0x123"
   ]
  },
  {
   "cell_type": "code",
   "execution_count": 13,
   "id": "b48caa47-bc03-4448-9bad-68a34adce43f",
   "metadata": {},
   "outputs": [
    {
     "data": {
      "text/plain": [
       "2748"
      ]
     },
     "execution_count": 13,
     "metadata": {},
     "output_type": "execute_result"
    }
   ],
   "source": [
    "0xabc"
   ]
  },
  {
   "cell_type": "markdown",
   "id": "c1c5e9de-107f-4b98-b671-63cafefe43b7",
   "metadata": {},
   "source": [
    "**float**\n",
    "- float numbers means continues point.\n",
    "- float numbers means having some decimals\n",
    "- intiger numbers means discrete points"
   ]
  },
  {
   "cell_type": "code",
   "execution_count": 4,
   "id": "7e49e937-e28d-4420-8a3f-13491334d4f0",
   "metadata": {},
   "outputs": [
    {
     "data": {
      "text/plain": [
       "float"
      ]
     },
     "execution_count": 4,
     "metadata": {},
     "output_type": "execute_result"
    }
   ],
   "source": [
    "number=100.25\n",
    "type(number)"
   ]
  },
  {
   "cell_type": "code",
   "execution_count": 8,
   "id": "a0067505-79e3-43b4-b2f8-bdd98703f4dc",
   "metadata": {},
   "outputs": [
    {
     "data": {
      "text/plain": [
       "float"
      ]
     },
     "execution_count": 8,
     "metadata": {},
     "output_type": "execute_result"
    }
   ],
   "source": [
    "num=1.5\n",
    "type(num)"
   ]
  },
  {
   "cell_type": "markdown",
   "id": "3a9db378-e48c-4f10-8060-fd656d7e4e60",
   "metadata": {},
   "source": [
    "- float point caan represent as exponential format  **e**"
   ]
  },
  {
   "cell_type": "code",
   "execution_count": 18,
   "id": "c24ed622-aa02-4d51-9159-3a1435fff043",
   "metadata": {},
   "outputs": [
    {
     "data": {
      "text/plain": [
       "1000.0"
      ]
     },
     "execution_count": 18,
     "metadata": {},
     "output_type": "execute_result"
    }
   ],
   "source": [
    "1e1 # 1*10\n",
    "1e2 # 1*100\n",
    "1e3 # 1*1000 # here e means exponetial of the number 1e1 as 1st one is num after denotes expnential after 3 denotes power of first number"
   ]
  },
  {
   "cell_type": "code",
   "execution_count": 16,
   "id": "ed277e8f-e8c9-43bf-8716-0859e839e966",
   "metadata": {},
   "outputs": [
    {
     "data": {
      "text/plain": [
       "200.0"
      ]
     },
     "execution_count": 16,
     "metadata": {},
     "output_type": "execute_result"
    }
   ],
   "source": [
    "2e2 # 2*100"
   ]
  },
  {
   "cell_type": "code",
   "execution_count": 20,
   "id": "79dd588d-f0a8-4217-9821-a14f23393126",
   "metadata": {},
   "outputs": [
    {
     "name": "stdout",
     "output_type": "stream",
     "text": [
      "10.0\n",
      "100.0\n",
      "1000.0\n"
     ]
    }
   ],
   "source": [
    "print(1e1)\n",
    "print(1e2) \n",
    "print(1e3)"
   ]
  },
  {
   "cell_type": "code",
   "execution_count": 26,
   "id": "064f8550-a995-4829-be62-b589602bbfa6",
   "metadata": {},
   "outputs": [
    {
     "name": "stdout",
     "output_type": "stream",
     "text": [
      "0.1\n",
      "10.0\n"
     ]
    }
   ],
   "source": [
    "print(1e-1) #1/10 here - denotes division\n",
    "print(1e+1) #1*10 here + denotes the multiplication"
   ]
  },
  {
   "cell_type": "code",
   "execution_count": 24,
   "id": "efb96beb-4e5f-4534-a67a-2cfb4619cca4",
   "metadata": {},
   "outputs": [
    {
     "data": {
      "text/plain": [
       "1.12e-10"
      ]
     },
     "execution_count": 24,
     "metadata": {},
     "output_type": "execute_result"
    }
   ],
   "source": [
    "1.12e-10 # it means 1.12/10000000000"
   ]
  },
  {
   "cell_type": "markdown",
   "id": "45a179cc-289f-47cd-b44d-ce0053eb7ec7",
   "metadata": {},
   "source": [
    "**Strings**"
   ]
  },
  {
   "cell_type": "markdown",
   "id": "0fc8be65-d92c-4bcc-bef9-4e42d86963cc",
   "metadata": {},
   "source": [
    "- Strings means english characters "
   ]
  },
  {
   "cell_type": "code",
   "execution_count": 46,
   "id": "f1b92aba-1c5d-46c1-a2af-84ddfab88946",
   "metadata": {},
   "outputs": [
    {
     "name": "stdout",
     "output_type": "stream",
     "text": [
      "venkatesh\n"
     ]
    },
    {
     "data": {
      "text/plain": [
       "str"
      ]
     },
     "execution_count": 46,
     "metadata": {},
     "output_type": "execute_result"
    }
   ],
   "source": [
    "name=\"venkatesh\"\n",
    "print(name)\n",
    "type(name)    # we observe print in up and then print type the two out put comes "
   ]
  },
  {
   "cell_type": "code",
   "execution_count": 48,
   "id": "7ddd7441-6b10-4672-bd96-daf35234d23e",
   "metadata": {},
   "outputs": [
    {
     "name": "stdout",
     "output_type": "stream",
     "text": [
      "venkatesh\n"
     ]
    }
   ],
   "source": [
    "name=\"venkatesh\"\n",
    "type(name) \n",
    "print(name)   # here we observe code is same but order is change print given in last it prints nly out put not givem type"
   ]
  },
  {
   "cell_type": "markdown",
   "id": "044e8105-e038-4882-abc2-ecd0284c4b4a",
   "metadata": {},
   "source": [
    "- entire english is in single quotes, then use double quotes to highlight the word\n",
    "- entire english is in double quotes, then use double single to highlight the word"
   ]
  },
  {
   "cell_type": "code",
   "execution_count": 55,
   "id": "059c9951-a0b6-4b8f-8fbb-ad0f66ec9239",
   "metadata": {},
   "outputs": [
    {
     "name": "stdout",
     "output_type": "stream",
     "text": [
      "hello good morning\n",
      "how are you \n"
     ]
    }
   ],
   "source": [
    "statement='''hello good morning\n",
    "how are you '''\n",
    "print(statement)   # multiple quotes are used as more lines considered as string"
   ]
  },
  {
   "cell_type": "markdown",
   "id": "2480af92-0b5f-4873-bed4-3ddcc9daf246",
   "metadata": {},
   "source": [
    "***Doc String***"
   ]
  },
  {
   "cell_type": "markdown",
   "id": "d8d04e75-1032-458e-9d02-c559a1573b3e",
   "metadata": {},
   "source": [
    "- if we want to convey information to the user\n",
    "- we will write a information before coading part\n",
    "- is called as Doc String\n",
    "- in jupiter note bokk only we use information in **markdown**\n",
    "- but in vscode or any pycharm we donot have **markdown**option\n",
    "- we can convey the information using **triple quoites**\n",
    "- if we see any where triple quotes means the user trying to convey the information"
   ]
  },
  {
   "cell_type": "markdown",
   "id": "ebb6f04f-1326-47c2-a003-4a884d6f2b98",
   "metadata": {},
   "source": [
    "**boolean**\n",
    "- in boolean 0 means False other than 0 any value becomes True"
   ]
  },
  {
   "cell_type": "code",
   "execution_count": 60,
   "id": "def1deb0-ed30-41c1-a356-38a301eb0e95",
   "metadata": {},
   "outputs": [
    {
     "data": {
      "text/plain": [
       "bool"
      ]
     },
     "execution_count": 60,
     "metadata": {},
     "output_type": "execute_result"
    }
   ],
   "source": [
    "value=True\n",
    "type(value)"
   ]
  },
  {
   "cell_type": "code",
   "execution_count": null,
   "id": "5bc2d02e-6a8b-4053-a3e4-b5f9b11f338d",
   "metadata": {},
   "outputs": [],
   "source": []
  }
 ],
 "metadata": {
  "kernelspec": {
   "display_name": "Python 3 (ipykernel)",
   "language": "python",
   "name": "python3"
  },
  "language_info": {
   "codemirror_mode": {
    "name": "ipython",
    "version": 3
   },
   "file_extension": ".py",
   "mimetype": "text/x-python",
   "name": "python",
   "nbconvert_exporter": "python",
   "pygments_lexer": "ipython3",
   "version": "3.12.4"
  }
 },
 "nbformat": 4,
 "nbformat_minor": 5
}
