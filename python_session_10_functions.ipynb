{
 "cells": [
  {
   "cell_type": "markdown",
   "id": "a1fa59ee-dc2d-45c3-8594-138adef19e27",
   "metadata": {},
   "source": [
    "# **functions or methods**\n",
    "- re use of the code"
   ]
  },
  {
   "cell_type": "markdown",
   "id": "b7318557-c5f2-4518-be71-0bf04672d597",
   "metadata": {},
   "source": [
    "- functions without arguments\n",
    "- functions with arguments\n",
    "- functions with default arguments\n",
    "- functions with return statements\n",
    "- global variable and local variables\n",
    "- functions with keyword arguments\n",
    "- functions in functions\n",
    "  # **function with out arguments**\n",
    "- the function we defined  does not have any values or variables\n",
    "- these is also called as arguments or parameters\n",
    "- simply it is a empty bracket()"
   ]
  },
  {
   "cell_type": "code",
   "execution_count": null,
   "id": "6e4768ec-3050-40b6-8335-b6a8c705fa20",
   "metadata": {},
   "outputs": [],
   "source": [
    "# syntax\n",
    "def <function name> ():\n",
    "    <write your code here>"
   ]
  },
  {
   "cell_type": "code",
   "execution_count": 3,
   "id": "45d7d5f3-e9ee-4a84-8e7c-a81db44851ce",
   "metadata": {},
   "outputs": [
    {
     "name": "stdin",
     "output_type": "stream",
     "text": [
      "enter number 1 54\n",
      "enter number 2 45\n"
     ]
    },
    {
     "name": "stdout",
     "output_type": "stream",
     "text": [
      "the addition of 54 and 45 is 99\n"
     ]
    }
   ],
   "source": [
    "n1=eval(input('enter number 1'))\n",
    "n2=eval(input('enter number 2'))\n",
    "add=n1+n2\n",
    "print(f'the addition of {n1} and {n2} is {add}')"
   ]
  },
  {
   "cell_type": "code",
   "execution_count": 5,
   "id": "6616f171-f2f6-4fb1-b144-c598b884ee0a",
   "metadata": {},
   "outputs": [],
   "source": [
    "def addition():\n",
    "    n1=eval(input('enter number 1'))\n",
    "    n2=eval(input('enter number 2'))\n",
    "    add=n1+n2\n",
    "    print(f'the addition of {n1} and {n2} is {add}')"
   ]
  },
  {
   "cell_type": "code",
   "execution_count": 7,
   "id": "b97d2d6e-6554-4151-a602-c254ead77ef0",
   "metadata": {},
   "outputs": [
    {
     "data": {
      "text/plain": [
       "<function __main__.addition()>"
      ]
     },
     "execution_count": 7,
     "metadata": {},
     "output_type": "execute_result"
    }
   ],
   "source": [
    "# function is ready  \n",
    "# creating a function means it will not give the answer\n",
    "# you need to call the function\n",
    "def addition():\n",
    "    n1=eval(input('enter number 1'))\n",
    "    n2=eval(input('enter number 2'))\n",
    "    add=n1+n2\n",
    "    print(f'the addition of {n1} and {n2} is {add}')\n",
    "addition"
   ]
  },
  {
   "cell_type": "code",
   "execution_count": 9,
   "id": "359b90e4-53a0-41f0-86a7-40a266a6799a",
   "metadata": {},
   "outputs": [
    {
     "name": "stdin",
     "output_type": "stream",
     "text": [
      "enter number 1 45\n",
      "enter number 2 78\n"
     ]
    },
    {
     "name": "stdout",
     "output_type": "stream",
     "text": [
      "the addition of 45 and 78 is 123\n"
     ]
    }
   ],
   "source": [
    "# above means you miss the brackets in the  calling function\n",
    "def addition():\n",
    "    n1=eval(input('enter number 1'))\n",
    "    n2=eval(input('enter number 2'))\n",
    "    add=n1+n2\n",
    "    print(f'the addition of {n1} and {n2} is {add}')\n",
    "addition()"
   ]
  },
  {
   "cell_type": "markdown",
   "id": "34941d0f-e75a-44b5-a8a8-37cc2be46d74",
   "metadata": {},
   "source": [
    "**note**\n",
    "- while calling the function we need to use the function name\n",
    "- also we need to provide brackets\n",
    "- in python brackets indicates the it is a function or method\n",
    "- if we miss the brackets, it will display as \n",
    "    - function\n",
    "    - bound method"
   ]
  },
  {
   "cell_type": "code",
   "execution_count": 14,
   "id": "b87788da-d5cc-4371-acac-cf863ad15a37",
   "metadata": {},
   "outputs": [
    {
     "name": "stdin",
     "output_type": "stream",
     "text": [
      "enter number 1 54\n",
      "enter number 2 78\n"
     ]
    },
    {
     "name": "stdout",
     "output_type": "stream",
     "text": [
      "the addition of 54 and 78 is 132\n"
     ]
    }
   ],
   "source": [
    "addition()"
   ]
  },
  {
   "cell_type": "code",
   "execution_count": 16,
   "id": "c39c5d1e-4a9c-4e27-8635-cfafa963ebcc",
   "metadata": {},
   "outputs": [
    {
     "ename": "NameError",
     "evalue": "name 'addition1' is not defined",
     "output_type": "error",
     "traceback": [
      "\u001b[1;31m---------------------------------------------------------------------------\u001b[0m",
      "\u001b[1;31mNameError\u001b[0m                                 Traceback (most recent call last)",
      "Cell \u001b[1;32mIn[16], line 1\u001b[0m\n\u001b[1;32m----> 1\u001b[0m addition1()\n\u001b[0;32m      2\u001b[0m \u001b[38;5;28;01mdef\u001b[39;00m \u001b[38;5;21maddition1\u001b[39m():\n\u001b[0;32m      3\u001b[0m     n1\u001b[38;5;241m=\u001b[39m\u001b[38;5;28meval\u001b[39m(\u001b[38;5;28minput\u001b[39m(\u001b[38;5;124m'\u001b[39m\u001b[38;5;124menter number 1\u001b[39m\u001b[38;5;124m'\u001b[39m))\n",
      "\u001b[1;31mNameError\u001b[0m: name 'addition1' is not defined"
     ]
    }
   ],
   "source": [
    "addition1()\n",
    "def addition1():\n",
    "    n1=eval(input('enter number 1'))\n",
    "    n2=eval(input('enter number 2'))\n",
    "    add=n1+n2\n",
    "    print(f'the addition of {n1} and {n2} is {add}')\n"
   ]
  },
  {
   "cell_type": "code",
   "execution_count": 18,
   "id": "da3b2e69-1d99-433d-81e3-6d3607ed2dff",
   "metadata": {},
   "outputs": [
    {
     "name": "stdin",
     "output_type": "stream",
     "text": [
      "enter number 1 58\n",
      "enter number 2 79\n"
     ]
    },
    {
     "name": "stdout",
     "output_type": "stream",
     "text": [
      "the addition of 58 and 79 is 137\n"
     ]
    }
   ],
   "source": [
    "# above code we have error because before calling the function we need to define the function\n",
    "# the correct way is in below\n",
    "def addition1():\n",
    "    n1=eval(input('enter number 1'))\n",
    "    n2=eval(input('enter number 2'))\n",
    "    add=n1+n2\n",
    "    print(f'the addition of {n1} and {n2} is {add}')\n",
    "addition1()"
   ]
  },
  {
   "cell_type": "code",
   "execution_count": 20,
   "id": "260b8387-deb6-49e2-b032-9950dc863019",
   "metadata": {},
   "outputs": [
    {
     "name": "stdin",
     "output_type": "stream",
     "text": [
      "enter number 1 45\n",
      "enter number 2 78\n",
      "enter number 3 99\n"
     ]
    },
    {
     "name": "stdout",
     "output_type": "stream",
     "text": [
      "the average of three numbers 45,78,99 is 74.0\n"
     ]
    }
   ],
   "source": [
    "def average():\n",
    "    n1=eval(input('enter number 1'))\n",
    "    n2=eval(input('enter number 2'))\n",
    "    n3=eval(input('enter number 3'))\n",
    "    avg=round((n1+n2+n3)/3,2)\n",
    "    print(f'the average of three numbers {n1},{n2},{n3} is {avg}')\n",
    "average()"
   ]
  },
  {
   "cell_type": "code",
   "execution_count": 24,
   "id": "eb5cb612-f873-4635-8681-a4e085c3ccef",
   "metadata": {},
   "outputs": [
    {
     "name": "stdin",
     "output_type": "stream",
     "text": [
      "enter length 8\n",
      "enter breadth 9\n"
     ]
    },
    {
     "name": "stdout",
     "output_type": "stream",
     "text": [
      "area of right angled triangle 36.0\n"
     ]
    }
   ],
   "source": [
    "def right_angled_triangle():\n",
    "    hei=eval(input('enter length'))\n",
    "    bre=eval(input('enter breadth'))\n",
    "    area=0.5*hei*bre\n",
    "    print(f'area of right angled triangle {area}')\n",
    "right_angled_triangle()\n",
    "    "
   ]
  },
  {
   "cell_type": "markdown",
   "id": "68a5c878-abb2-4f66-8277-078e2d191a40",
   "metadata": {},
   "source": [
    "**note**\n",
    "- always **try and except** apply for only code\n",
    "- not for the function\n",
    "- inside the function write **try-except**"
   ]
  },
  {
   "cell_type": "markdown",
   "id": "7539a9b1-6267-4ac9-abc0-ef08a76a419f",
   "metadata": {},
   "source": [
    "# **imp_point**\n",
    "- we give try and except out side the function it will catch the error\n",
    "- same code we will givw try and catch inside the function it shows the function\n",
    "  "
   ]
  },
  {
   "cell_type": "code",
   "execution_count": 32,
   "id": "d88c75fc-32db-4152-a083-45237abdc9a4",
   "metadata": {},
   "outputs": [
    {
     "name": "stdin",
     "output_type": "stream",
     "text": [
      "enter number 1 45\n",
      "enter number 2 45\n",
      "enter number 3 78\n"
     ]
    },
    {
     "ename": "NameError",
     "evalue": "name 'n34' is not defined",
     "output_type": "error",
     "traceback": [
      "\u001b[1;31m---------------------------------------------------------------------------\u001b[0m",
      "\u001b[1;31mNameError\u001b[0m                                 Traceback (most recent call last)",
      "Cell \u001b[1;32mIn[32], line 11\u001b[0m\n\u001b[0;32m      9\u001b[0m \u001b[38;5;28;01mexcept\u001b[39;00m \u001b[38;5;167;01mException\u001b[39;00m \u001b[38;5;28;01mas\u001b[39;00m e:\n\u001b[0;32m     10\u001b[0m     \u001b[38;5;28mprint\u001b[39m(e)\n\u001b[1;32m---> 11\u001b[0m average()\n",
      "Cell \u001b[1;32mIn[32], line 7\u001b[0m, in \u001b[0;36maverage\u001b[1;34m()\u001b[0m\n\u001b[0;32m      5\u001b[0m n2\u001b[38;5;241m=\u001b[39m\u001b[38;5;28meval\u001b[39m(\u001b[38;5;28minput\u001b[39m(\u001b[38;5;124m'\u001b[39m\u001b[38;5;124menter number 2\u001b[39m\u001b[38;5;124m'\u001b[39m))\n\u001b[0;32m      6\u001b[0m n3\u001b[38;5;241m=\u001b[39m\u001b[38;5;28meval\u001b[39m(\u001b[38;5;28minput\u001b[39m(\u001b[38;5;124m'\u001b[39m\u001b[38;5;124menter number 3\u001b[39m\u001b[38;5;124m'\u001b[39m))\n\u001b[1;32m----> 7\u001b[0m avg\u001b[38;5;241m=\u001b[39m\u001b[38;5;28mround\u001b[39m((n1\u001b[38;5;241m+\u001b[39mn2\u001b[38;5;241m+\u001b[39mn34)\u001b[38;5;241m/\u001b[39m\u001b[38;5;241m3\u001b[39m,\u001b[38;5;241m2\u001b[39m)\n\u001b[0;32m      8\u001b[0m \u001b[38;5;28mprint\u001b[39m(\u001b[38;5;124mf\u001b[39m\u001b[38;5;124m'\u001b[39m\u001b[38;5;124mthe average of three numbers \u001b[39m\u001b[38;5;132;01m{\u001b[39;00mn1\u001b[38;5;132;01m}\u001b[39;00m\u001b[38;5;124m,\u001b[39m\u001b[38;5;132;01m{\u001b[39;00mn2\u001b[38;5;132;01m}\u001b[39;00m\u001b[38;5;124m,\u001b[39m\u001b[38;5;132;01m{\u001b[39;00mn3\u001b[38;5;132;01m}\u001b[39;00m\u001b[38;5;124m is \u001b[39m\u001b[38;5;132;01m{\u001b[39;00mavg\u001b[38;5;132;01m}\u001b[39;00m\u001b[38;5;124m'\u001b[39m)\n",
      "\u001b[1;31mNameError\u001b[0m: name 'n34' is not defined"
     ]
    }
   ],
   "source": [
    "#example for catch the eeror\n",
    "try:\n",
    "    def average():\n",
    "        n1=eval(input('enter number 1'))\n",
    "        n2=eval(input('enter number 2'))\n",
    "        n3=eval(input('enter number 3'))\n",
    "        avg=round((n1+n2+n34)/3,2)\n",
    "        print(f'the average of three numbers {n1},{n2},{n3} is {avg}')\n",
    "except Exception as e:\n",
    "    print(e)\n",
    "average()"
   ]
  },
  {
   "cell_type": "code",
   "execution_count": 38,
   "id": "1425a4b1-2984-4747-9210-b13246f01bf0",
   "metadata": {},
   "outputs": [
    {
     "name": "stdin",
     "output_type": "stream",
     "text": [
      "enter number 1 48\n",
      "enter number 2 45\n",
      "enter number 3 45\n"
     ]
    },
    {
     "name": "stdout",
     "output_type": "stream",
     "text": [
      "name 'n34' is not defined\n"
     ]
    }
   ],
   "source": [
    "# example for showing the error this is the correct way to write the code\n",
    "def average():\n",
    "    try:\n",
    "        n1=eval(input('enter number 1'))\n",
    "        n2=eval(input('enter number 2'))\n",
    "        n3=eval(input('enter number 3'))\n",
    "        avg=round((n1+n2+n34)/3,2)\n",
    "        print(f'the average of three numbers {n1},{n2},{n3} is {avg}')\n",
    "    except Exception as e:\n",
    "        print(e)\n",
    "average()"
   ]
  },
  {
   "cell_type": "code",
   "execution_count": 40,
   "id": "85563374-36ca-4820-b562-4e60b3fc2c69",
   "metadata": {},
   "outputs": [
    {
     "name": "stdin",
     "output_type": "stream",
     "text": [
      "enter number 1 45\n",
      "enter number 2 54\n",
      "enter number 3 84\n"
     ]
    },
    {
     "name": "stdout",
     "output_type": "stream",
     "text": [
      "the average of three numbers 45,54,84 is 61.0\n"
     ]
    },
    {
     "name": "stdin",
     "output_type": "stream",
     "text": [
      "enter length 5\n",
      "enter breadth 4\n"
     ]
    },
    {
     "name": "stdout",
     "output_type": "stream",
     "text": [
      "area of right angled triangle 10.0\n"
     ]
    },
    {
     "name": "stdin",
     "output_type": "stream",
     "text": [
      "enter the radius 8\n"
     ]
    },
    {
     "name": "stdout",
     "output_type": "stream",
     "text": [
      "area of circle 201.06192982974676\n"
     ]
    },
    {
     "name": "stdin",
     "output_type": "stream",
     "text": [
      "enter the bill amount 45\n",
      "enter the tip percentage 15\n"
     ]
    },
    {
     "name": "stdout",
     "output_type": "stream",
     "text": [
      "the total bill amount include tip 51.75\n"
     ]
    }
   ],
   "source": [
    "from math import pi\n",
    "def average():\n",
    "    n1=eval(input('enter number 1'))\n",
    "    n2=eval(input('enter number 2'))\n",
    "    n3=eval(input('enter number 3'))\n",
    "    avg=round((n1+n2+n3)/3,2)\n",
    "    print(f'the average of three numbers {n1},{n2},{n3} is {avg}')\n",
    "average()\n",
    "def right_angled_triangle():\n",
    "    hei=eval(input('enter length'))\n",
    "    bre=eval(input('enter breadth'))\n",
    "    area=0.5*hei*bre\n",
    "    print(f'area of right angled triangle {area}')\n",
    "right_angled_triangle()\n",
    "def area_of_circle():\n",
    "    r=eval(input('enter the radius'))\n",
    "    area=pi*pow(r,2)\n",
    "    print(f'area of circle {area}')\n",
    "area_of_circle()\n",
    "def bill():\n",
    "    bill_amount=eval(input('enter the bill amount'))\n",
    "    tip_per=eval(input('enter the tip percentage'))\n",
    "    tip_amount=tip_per/100*bill_amount\n",
    "    total_amount=bill_amount+tip_amount\n",
    "    print(f'the total bill amount include tip {total_amount}')\n",
    "bill()"
   ]
  },
  {
   "cell_type": "code",
   "execution_count": null,
   "id": "5ac15a07-fd14-49ab-8049-3ef8539a8387",
   "metadata": {},
   "outputs": [],
   "source": [
    "# we will call the all functions at once\n",
    "from math import pi\n",
    "def average():\n",
    "    n1=eval(input('enter number 1'))\n",
    "    n2=eval(input('enter number 2'))\n",
    "    n3=eval(input('enter number 3'))\n",
    "    avg=round((n1+n2+n3)/3,2)\n",
    "    print(f'the average of three numbers {n1},{n2},{n3} is {avg}')\n",
    "\n",
    "def right_angled_triangle():\n",
    "    hei=eval(input('enter length'))\n",
    "    bre=eval(input('enter breadth'))\n",
    "    area=0.5*hei*bre\n",
    "    print(f'area of right angled triangle {area}')\n",
    "\n",
    "def area_of_circle():\n",
    "    r=eval(input('enter the radius'))\n",
    "    area=pi*pow(r,2)\n",
    "    print(f'area of circle {area}')\n",
    "\n",
    "def bill():\n",
    "    bill_amount=eval(input('enter the bill amount'))\n",
    "    tip_per=eval(input('enter the tip percentage'))\n",
    "    tip_amount=tip_per/100*bill_amount\n",
    "    total_amount=bill_amount+tip_amount\n",
    "    print(f'the total bill amount include tip {total_amount}')\n",
    "\n"
   ]
  },
  {
   "cell_type": "code",
   "execution_count": 43,
   "id": "8f8b2487-aa22-4833-92d5-3b40b95d156c",
   "metadata": {},
   "outputs": [
    {
     "name": "stdin",
     "output_type": "stream",
     "text": [
      "enter number 1 45\n",
      "enter number 2 45\n",
      "enter number 3 45\n"
     ]
    },
    {
     "name": "stdout",
     "output_type": "stream",
     "text": [
      "the average of three numbers 45,45,45 is 45.0\n"
     ]
    },
    {
     "name": "stdin",
     "output_type": "stream",
     "text": [
      "enter length 564646\n",
      "enter breadth 65+95\n"
     ]
    },
    {
     "name": "stdout",
     "output_type": "stream",
     "text": [
      "area of right angled triangle 45171680.0\n"
     ]
    },
    {
     "name": "stdin",
     "output_type": "stream",
     "text": [
      "enter the radius 66595\n"
     ]
    },
    {
     "name": "stdout",
     "output_type": "stream",
     "text": [
      "area of circle 13932630488.389269\n"
     ]
    },
    {
     "name": "stdin",
     "output_type": "stream",
     "text": [
      "enter the bill amount 49\n",
      "enter the tip percentage 98+5\n"
     ]
    },
    {
     "name": "stdout",
     "output_type": "stream",
     "text": [
      "the total bill amount include tip 99.47\n"
     ]
    }
   ],
   "source": [
    "average()\n",
    "right_angled_triangle()\n",
    "area_of_circle()\n",
    "bill()"
   ]
  },
  {
   "cell_type": "markdown",
   "id": "b6ab891b-f38d-4f10-a7cc-a72f8945ea12",
   "metadata": {},
   "source": [
    "**note**\n",
    "- when we define the function , it will not give any error or any answer\n",
    "- if we want to see the answer or error,untill we need to call the function"
   ]
  },
  {
   "cell_type": "markdown",
   "id": "167b2e40-dc93-4ba2-a67b-6d5b1fd87c72",
   "metadata": {},
   "source": [
    "# **functions with arguments**\n",
    "- here functions contain arguments "
   ]
  },
  {
   "cell_type": "code",
   "execution_count": 5,
   "id": "28174f93-e997-4c8c-a6c2-98c7fdfc8a47",
   "metadata": {},
   "outputs": [
    {
     "name": "stdin",
     "output_type": "stream",
     "text": [
      "enter a number 2 54\n",
      "enter a number 2 45\n"
     ]
    },
    {
     "name": "stdout",
     "output_type": "stream",
     "text": [
      "the addition of 54 and 45 is 99\n"
     ]
    }
   ],
   "source": [
    "def addition():\n",
    "    n1=eval(input('enter a number 1'))\n",
    "    n2=eval(input('enter a number 2'))\n",
    "    add=n1+n2\n",
    "    print(f'the addition of {n1} and {n2} is {add}')\n",
    "addition()"
   ]
  },
  {
   "cell_type": "markdown",
   "id": "19916a88-1909-49ae-9914-08f77fca8efc",
   "metadata": {},
   "source": [
    "- how many  variables are there in above code :3\n",
    "    - n1,n2,add\n",
    "- what are the input variables \n",
    "    - n1,n2\n",
    "- what are the output variables \n",
    "    - add\n",
    "- pass the input variables inside the function brackets\n",
    "    - pass n1,n2 imside the brackets these n1,n2 behave as function arguments\n",
    "- when we pass the n1,n2 above code input statements are not required\n",
    "- when we call the function enter values in calling palce"
   ]
  },
  {
   "cell_type": "code",
   "execution_count": 16,
   "id": "1965d1e3-07a3-4162-92b4-29cdb1303cd8",
   "metadata": {},
   "outputs": [
    {
     "name": "stdout",
     "output_type": "stream",
     "text": [
      "the addition of 10 and 20 is 30\n"
     ]
    }
   ],
   "source": [
    "def addition1(n1,n2):\n",
    "    add=n1+n2\n",
    "    print(f'the addition of {n1} and {n2} is {add}')\n",
    "addition1(10,20)"
   ]
  },
  {
   "cell_type": "code",
   "execution_count": 24,
   "id": "a4d2af01-909f-42ab-a237-d7638cac4dc9",
   "metadata": {},
   "outputs": [
    {
     "name": "stdout",
     "output_type": "stream",
     "text": [
      "the average of three numbers 54,66,87 is 69.0\n",
      "area of right angled triangle 31.5\n",
      "area of circle 201.06\n",
      "the total bill amount include tip 2875.0\n"
     ]
    }
   ],
   "source": [
    "from math import pi\n",
    "from math import pow\n",
    "def average(n1,n2,n3):\n",
    "    avg=round((n1+n2+n3)/3,2)\n",
    "    print(f'the average of three numbers {n1},{n2},{n3} is {avg}')\n",
    "average(54,66,87)\n",
    "def right_angled_triangle(hei,bre):\n",
    "    area=round(0.5*hei*bre,2)\n",
    "    print(f'area of right angled triangle {area}')\n",
    "right_angled_triangle(9,7)\n",
    "def area_of_circle(r):\n",
    "    area=round(pi*pow(r,2),2)\n",
    "    print(f'area of circle {area}')\n",
    "area_of_circle(8)\n",
    "def bill(b,t):\n",
    "    tip_amount=t/100*b\n",
    "    total_amount=b+tip_amount\n",
    "    print(f'the total bill amount include tip {total_amount}')\n",
    "bill(2500,15)\n"
   ]
  },
  {
   "cell_type": "code",
   "execution_count": 26,
   "id": "5105a127-448c-44d0-8e24-7e88dd7f7e61",
   "metadata": {},
   "outputs": [
    {
     "name": "stdin",
     "output_type": "stream",
     "text": [
      "enter the number 3 99\n"
     ]
    },
    {
     "name": "stdout",
     "output_type": "stream",
     "text": [
      "the average of three numbers 54,66,99 is 73.0\n"
     ]
    }
   ],
   "source": [
    "# while running the function we want to provide n3\n",
    "def average(n1,n2):\n",
    "    n3=eval(input('enter the number 3'))\n",
    "    avg=round((n1+n2+n3)/3,2)\n",
    "    print(f'the average of three numbers {n1},{n2},{n3} is {avg}')\n",
    "average(54,66)\n",
    "# here we give the n3 value as a input while code will running"
   ]
  },
  {
   "cell_type": "code",
   "execution_count": 32,
   "id": "b589d977-762c-43d7-b712-0035a8ed2afc",
   "metadata": {},
   "outputs": [
    {
     "name": "stdin",
     "output_type": "stream",
     "text": [
      "enter the number 2   54\n",
      "enter the number 3 98\n"
     ]
    },
    {
     "name": "stdout",
     "output_type": "stream",
     "text": [
      "the average of three numbers 54,54,98 is 68.67\n"
     ]
    }
   ],
   "source": [
    "def average(n1):\n",
    "    n2=eval(input('enter the number 2'))\n",
    "    n3=eval(input('enter the number 3'))\n",
    "    avg=round((n1+n2+n3)/3,2)\n",
    "    print(f'the average of three numbers {n1},{n2},{n3} is {avg}')\n",
    "average(54)"
   ]
  },
  {
   "cell_type": "code",
   "execution_count": 34,
   "id": "d7d76adf-2e47-41ab-8318-fef1818d1eba",
   "metadata": {},
   "outputs": [
    {
     "data": {
      "text/plain": [
       "16"
      ]
     },
     "execution_count": 34,
     "metadata": {},
     "output_type": "execute_result"
    }
   ],
   "source": [
    "2**2\n",
    "2**3\n",
    "2**4"
   ]
  },
  {
   "cell_type": "code",
   "execution_count": 42,
   "id": "66c49be0-260a-4a35-95e7-bdd45c320ea9",
   "metadata": {},
   "outputs": [],
   "source": [
    "def power():\n",
    "    a=eval(input('enter the number'))\n",
    "    b=eval(input('how much power do you want'))\n",
    "    p=a**b\n",
    "    print(f'power of {a},{b} is {p}')\n"
   ]
  },
  {
   "cell_type": "code",
   "execution_count": 46,
   "id": "355f7251-f747-45d2-94b7-2d2378a5aeda",
   "metadata": {},
   "outputs": [
    {
     "name": "stdin",
     "output_type": "stream",
     "text": [
      "enter the number 2\n",
      "how much power do you want 8\n"
     ]
    },
    {
     "name": "stdout",
     "output_type": "stream",
     "text": [
      "power of 2,8 is 256\n"
     ]
    }
   ],
   "source": [
    "power()"
   ]
  },
  {
   "cell_type": "code",
   "execution_count": 48,
   "id": "6a267079-ce6a-4654-993a-cbc938756fbe",
   "metadata": {},
   "outputs": [],
   "source": [
    "def power1(a,b):\n",
    "    p=a**b\n",
    "    print(f'power of {a},{b} is {p}')"
   ]
  },
  {
   "cell_type": "code",
   "execution_count": 50,
   "id": "2a35946c-cd87-417b-8f36-f7af0b85543f",
   "metadata": {},
   "outputs": [
    {
     "name": "stdout",
     "output_type": "stream",
     "text": [
      "power of 2,4 is 16\n"
     ]
    }
   ],
   "source": [
    "power1(2,4)"
   ]
  },
  {
   "cell_type": "markdown",
   "id": "bf558a75-8b5c-48f7-b1bf-a468938aabed",
   "metadata": {},
   "source": [
    "#  function with default argument\n",
    "- here we give defaultly give the value in functions"
   ]
  },
  {
   "cell_type": "code",
   "execution_count": 57,
   "id": "c6795b90-5ab5-4474-9894-1637f875bdf8",
   "metadata": {},
   "outputs": [],
   "source": [
    "def bill1(bill_amount,tip_amount=500):\n",
    "    total_bill=bill_amount+tip_amount\n",
    "    print(f'the total bill_amount{total_bill}')\n",
    "    "
   ]
  },
  {
   "cell_type": "code",
   "execution_count": 59,
   "id": "7efaaf2e-ec38-40d5-8993-c52ab43a9cd3",
   "metadata": {},
   "outputs": [
    {
     "name": "stdout",
     "output_type": "stream",
     "text": [
      "the total bill_amount3000\n"
     ]
    }
   ],
   "source": [
    "bill1(2500)"
   ]
  },
  {
   "cell_type": "code",
   "execution_count": 61,
   "id": "69c3fcd2-9046-4c02-9196-57d8e586af6f",
   "metadata": {},
   "outputs": [
    {
     "name": "stdout",
     "output_type": "stream",
     "text": [
      "the average of three numbers 54,55,10 is 39.67\n"
     ]
    }
   ],
   "source": [
    "def average(n1,n2,n3=10):\n",
    "    avg=round((n1+n2+n3)/3,2)\n",
    "    print(f'the average of three numbers {n1},{n2},{n3} is {avg}')\n",
    "average(54,55)"
   ]
  },
  {
   "cell_type": "code",
   "execution_count": 63,
   "id": "b2506f31-d15d-4324-a3a0-73e6bf4ab5fb",
   "metadata": {},
   "outputs": [
    {
     "ename": "SyntaxError",
     "evalue": "parameter without a default follows parameter with a default (3945114761.py, line 1)",
     "output_type": "error",
     "traceback": [
      "\u001b[1;36m  Cell \u001b[1;32mIn[63], line 1\u001b[1;36m\u001b[0m\n\u001b[1;33m    def average(n1,n2=25,n3):\u001b[0m\n\u001b[1;37m                         ^\u001b[0m\n\u001b[1;31mSyntaxError\u001b[0m\u001b[1;31m:\u001b[0m parameter without a default follows parameter with a default\n"
     ]
    }
   ],
   "source": [
    "def average(n1,n2=25,n3):\n",
    "    avg=round((n1+n2+n3)/3,2)\n",
    "    print(f'the average of three numbers {n1},{n2},{n3} is {avg}')\n",
    "average(54,55)\n",
    "# always write the default arguments at last"
   ]
  },
  {
   "cell_type": "code",
   "execution_count": 65,
   "id": "a585651d-71f8-476f-8e43-f42c4191c599",
   "metadata": {},
   "outputs": [
    {
     "name": "stdout",
     "output_type": "stream",
     "text": [
      "the average of three numbers 54,25,55 is 44.67\n"
     ]
    }
   ],
   "source": [
    "def average(n1,n3,n2=25):\n",
    "    avg=round((n1+n2+n3)/3,2)\n",
    "    print(f'the average of three numbers {n1},{n2},{n3} is {avg}')\n",
    "average(54,55)"
   ]
  },
  {
   "cell_type": "code",
   "execution_count": 67,
   "id": "ce387ada-325f-48c1-be93-5879d2f4439d",
   "metadata": {},
   "outputs": [
    {
     "name": "stdout",
     "output_type": "stream",
     "text": [
      "the average of three numbers 56,55,54 is 55.0\n"
     ]
    }
   ],
   "source": [
    "def average(n3,n2,n1=56):\n",
    "    avg=round((n1+n2+n3)/3,2)\n",
    "    print(f'the average of three numbers {n1},{n2},{n3} is {avg}')\n",
    "average(54,55)"
   ]
  },
  {
   "cell_type": "code",
   "execution_count": 71,
   "id": "2511007a-5a36-4122-8dff-bca8d11b1413",
   "metadata": {},
   "outputs": [
    {
     "name": "stdout",
     "output_type": "stream",
     "text": [
      "the average of three numbers 44,55,66 is 55.0\n"
     ]
    }
   ],
   "source": [
    "def average(n1=44,n2=55,n3=66):\n",
    "    avg=round((n1+n2+n3)/3,2)\n",
    "    print(f'the average of three numbers {n1},{n2},{n3} is {avg}')\n",
    "average()"
   ]
  },
  {
   "cell_type": "code",
   "execution_count": 1,
   "id": "eadc01ce-acbd-4f97-a4bb-cd199f3ef28f",
   "metadata": {},
   "outputs": [
    {
     "name": "stdin",
     "output_type": "stream",
     "text": [
      "enter number between 1 to 10 5\n"
     ]
    },
    {
     "name": "stdout",
     "output_type": "stream",
     "text": [
      "you lose the game\n"
     ]
    }
   ],
   "source": [
    "# wap with out arguments\n",
    "# wap with  arguments\n",
    "# wap default arguments\n",
    "# wap ask the user enter a number\n",
    "# ask the user get a random number\n",
    "# if both numbers are match print won\n",
    "\n",
    "# with out arguments\n",
    "from random import randint\n",
    "def cassino():\n",
    "    n1=int(input('enter number between 1 to 10'))\n",
    "    n2=randint(1,10)\n",
    "    if n1==n2:\n",
    "        print('congratulations you won')\n",
    "    else:\n",
    "        print('you lose the game')\n",
    "cassino()\n"
   ]
  },
  {
   "cell_type": "code",
   "execution_count": 3,
   "id": "eae223c6-4628-4412-86e1-9dc132c409c7",
   "metadata": {},
   "outputs": [],
   "source": [
    "# with  arguments\n",
    "from random import randint\n",
    "def cassino(n1):\n",
    "    n2=randint(1,10)\n",
    "    if n1==n2:\n",
    "        print('congratulations you won')\n",
    "    else:\n",
    "        print('you lose the game')"
   ]
  },
  {
   "cell_type": "code",
   "execution_count": 7,
   "id": "383d5758-20f7-4c8d-960d-4d9544c02ad1",
   "metadata": {},
   "outputs": [
    {
     "name": "stdout",
     "output_type": "stream",
     "text": [
      "you lose the game\n"
     ]
    }
   ],
   "source": [
    "cassino(6)"
   ]
  },
  {
   "cell_type": "code",
   "execution_count": 9,
   "id": "bb875664-99a9-4227-8caa-3779f6bc5e86",
   "metadata": {},
   "outputs": [
    {
     "name": "stdout",
     "output_type": "stream",
     "text": [
      "you lose the game\n"
     ]
    }
   ],
   "source": [
    "# default arguments\n",
    "from random import randint\n",
    "def cassino(n1=7):\n",
    "    n2=randint(1,10)\n",
    "    if n1==n2:\n",
    "        print('congratulations you won')\n",
    "    else:\n",
    "        print('you lose the game')\n",
    "cassino()"
   ]
  },
  {
   "cell_type": "markdown",
   "id": "2878a0fb-a5e8-47c3-959b-a40e92f8275d",
   "metadata": {},
   "source": [
    "### any function follows three rules \n",
    "- define the function\n",
    "- call the function\n",
    "- run the function"
   ]
  },
  {
   "cell_type": "code",
   "execution_count": 12,
   "id": "7945a81f-6919-4ba0-b1ec-79efe53d8453",
   "metadata": {},
   "outputs": [
    {
     "name": "stdout",
     "output_type": "stream",
     "text": [
      "n1: 20\n",
      "n2: 30\n",
      "n3: 100\n",
      "the average of the 20,30,100 is 50.0\n"
     ]
    }
   ],
   "source": [
    "# while defining n3=40\n",
    "# while calling n3=100\n",
    "# while running also takes the n3=100 because python takes the updates values\n",
    "# here we over riding the default argument\n",
    "def average(n1,n2,n3=40):\n",
    "    print('n1:',n1)\n",
    "    print('n2:',n2)\n",
    "    print('n3:',n3)\n",
    "    avg=(n1+n2+n3)/3\n",
    "    print(f'the average of the {n1},{n2},{n3} is {avg}')\n",
    "average(20,30,100)"
   ]
  },
  {
   "cell_type": "code",
   "execution_count": 14,
   "id": "1e2769e7-9c07-4586-b35f-dd795bc3cf70",
   "metadata": {},
   "outputs": [
    {
     "name": "stdout",
     "output_type": "stream",
     "text": [
      "a: 30\n",
      "b: 40\n",
      "c: 500\n",
      "570\n"
     ]
    }
   ],
   "source": [
    "def add(a,b,c=50):\n",
    "    c=500\n",
    "    print('a:',a)\n",
    "    print('b:',b)\n",
    "    print('c:',c)\n",
    "    d=a+b+c\n",
    "    print(d)\n",
    "c=100\n",
    "add(30,40,200)"
   ]
  },
  {
   "cell_type": "markdown",
   "id": "20498ec0-ac5d-43f2-b9a1-48f2e71488f3",
   "metadata": {},
   "source": [
    "**loacl variables vs Global variables**\n",
    "- local variables are used inside the function\n",
    "- global variables are used in out side the function\n",
    "- global variables are used at anywhere **inside the function** or **out side the function**"
   ]
  },
  {
   "cell_type": "code",
   "execution_count": 20,
   "id": "9f332606-6538-4362-a950-cde01700cdaa",
   "metadata": {},
   "outputs": [
    {
     "name": "stdin",
     "output_type": "stream",
     "text": [
      "enter number 1 54\n",
      "enter number 2 78\n",
      "enter number 3 99\n"
     ]
    },
    {
     "name": "stdout",
     "output_type": "stream",
     "text": [
      "the average of three numbers 54,78,99 is 77.0\n"
     ]
    }
   ],
   "source": [
    "n1=eval(input('enter number 1'))\n",
    "n2=eval(input('enter number 2'))\n",
    "n3=eval(input('enter number 3'))\n",
    "def average():\n",
    "    avg=round((n1+n2+n3)/3,2)\n",
    "    print(f'the average of three numbers {n1},{n2},{n3} is {avg}')\n",
    "average()"
   ]
  },
  {
   "cell_type": "code",
   "execution_count": 22,
   "id": "e7c14f65-19a2-4dd2-bdfd-1db7c3386fbe",
   "metadata": {},
   "outputs": [
    {
     "name": "stdout",
     "output_type": "stream",
     "text": [
      "54\n"
     ]
    }
   ],
   "source": [
    "print(n1)"
   ]
  },
  {
   "cell_type": "code",
   "execution_count": 24,
   "id": "6bfc33c2-d857-4a30-b9e2-c53ccf2123dd",
   "metadata": {},
   "outputs": [
    {
     "name": "stdin",
     "output_type": "stream",
     "text": [
      "enter number 1 45\n",
      "enter number 2 78\n",
      "enter number 3 99\n"
     ]
    },
    {
     "name": "stdout",
     "output_type": "stream",
     "text": [
      "the average of three numbers 45,78,99 is 74.0\n"
     ]
    }
   ],
   "source": [
    "\n",
    "def average():\n",
    "    N1=eval(input('enter number 1'))\n",
    "    N2=eval(input('enter number 2'))\n",
    "    N3=eval(input('enter number 3'))\n",
    "    avg=round((N1+N2+N3)/3,2)\n",
    "    print(f'the average of three numbers {N1},{N2},{N3} is {avg}')\n",
    "average()"
   ]
  },
  {
   "cell_type": "code",
   "execution_count": 26,
   "id": "815f12f9-59e6-49ca-b4bb-789995b14b5c",
   "metadata": {},
   "outputs": [
    {
     "ename": "NameError",
     "evalue": "name 'N2' is not defined",
     "output_type": "error",
     "traceback": [
      "\u001b[1;31m---------------------------------------------------------------------------\u001b[0m",
      "\u001b[1;31mNameError\u001b[0m                                 Traceback (most recent call last)",
      "Cell \u001b[1;32mIn[26], line 1\u001b[0m\n\u001b[1;32m----> 1\u001b[0m \u001b[38;5;28mprint\u001b[39m(N2)\n",
      "\u001b[1;31mNameError\u001b[0m: name 'N2' is not defined"
     ]
    }
   ],
   "source": [
    "# local variables cannot use out side the function in above code capital N2 we are trying to use out side the function \n",
    "# it throughs the error example\n",
    "print(N2)"
   ]
  },
  {
   "cell_type": "code",
   "execution_count": 28,
   "id": "674ba107-42ae-406a-88eb-bbe7355b628f",
   "metadata": {},
   "outputs": [
    {
     "name": "stdin",
     "output_type": "stream",
     "text": [
      "enter number 1 45\n",
      "enter number 2 78\n",
      "enter number 3 95\n"
     ]
    },
    {
     "name": "stdout",
     "output_type": "stream",
     "text": [
      "the average of three numbers 45,78,95 is 72.67\n"
     ]
    }
   ],
   "source": [
    "A=eval(input('enter number 1'))\n",
    "B=eval(input('enter number 2'))\n",
    "C=eval(input('enter number 3'))\n",
    "def average3():\n",
    "    avg=round((A+B+C)/3,2)\n",
    "    print(f'the average of three numbers {A},{B},{C} is {avg}')\n",
    "average3()"
   ]
  },
  {
   "cell_type": "code",
   "execution_count": 32,
   "id": "4fa51bac-20b6-4ec8-92e7-79f39d66f014",
   "metadata": {},
   "outputs": [
    {
     "ename": "NameError",
     "evalue": "name 'avg' is not defined",
     "output_type": "error",
     "traceback": [
      "\u001b[1;31m---------------------------------------------------------------------------\u001b[0m",
      "\u001b[1;31mNameError\u001b[0m                                 Traceback (most recent call last)",
      "Cell \u001b[1;32mIn[32], line 1\u001b[0m\n\u001b[1;32m----> 1\u001b[0m avg\n",
      "\u001b[1;31mNameError\u001b[0m: name 'avg' is not defined"
     ]
    }
   ],
   "source": [
    "avg # always local varibles write inside the function"
   ]
  },
  {
   "cell_type": "markdown",
   "id": "423bc466-ad8f-40a0-bbba-d6d22d4ea755",
   "metadata": {},
   "source": [
    "- global variables are intialized outside the function.\n",
    "- lobal variables are intialized inside the function.\n",
    "- global variables can be use any where.\n",
    "- local variables are can not use out side the function. \n"
   ]
  },
  {
   "cell_type": "code",
   "execution_count": 35,
   "id": "48548c7e-f695-4d83-8e13-dd2608460a7f",
   "metadata": {},
   "outputs": [
    {
     "name": "stdout",
     "output_type": "stream",
     "text": [
      "600\n"
     ]
    }
   ],
   "source": [
    "a=100\n",
    "b=200\n",
    "def summ():\n",
    "    c=300\n",
    "    add=a+b+c\n",
    "    print(add)\n",
    "summ()"
   ]
  },
  {
   "cell_type": "code",
   "execution_count": 37,
   "id": "79ebb687-fcbf-43d9-918a-088083f28080",
   "metadata": {},
   "outputs": [
    {
     "name": "stdout",
     "output_type": "stream",
     "text": [
      "900\n"
     ]
    }
   ],
   "source": [
    "a=100\n",
    "b=200\n",
    "def summ():\n",
    "    a=400   # here the new value shuld be updated a as 400\n",
    "    c=300\n",
    "    add=a+b+c\n",
    "    print(add)\n",
    "summ()"
   ]
  },
  {
   "cell_type": "code",
   "execution_count": 39,
   "id": "cf87a7f7-315c-4972-a78d-4996b4e04f9a",
   "metadata": {},
   "outputs": [
    {
     "name": "stdout",
     "output_type": "stream",
     "text": [
      "2500\n"
     ]
    }
   ],
   "source": [
    "a=100\n",
    "b=200\n",
    "def summ():\n",
    "    #a=400   # here the new value shuld be updated a as 400\n",
    "    c=300\n",
    "    add=a+b+c\n",
    "    print(add)\n",
    "a=2000  # here 2000 value should replace a=100\n",
    "summ()"
   ]
  },
  {
   "cell_type": "code",
   "execution_count": 47,
   "id": "b6c1389e-dbd5-4c17-a8b3-97d54848591c",
   "metadata": {},
   "outputs": [
    {
     "name": "stdout",
     "output_type": "stream",
     "text": [
      "900\n"
     ]
    }
   ],
   "source": [
    "a=100\n",
    "b=200\n",
    "def summ():\n",
    "    a=400   # here the new value shuld be updated a as 400\n",
    "    c=300\n",
    "    add=a+b+c\n",
    "    print(add)\n",
    "summ()"
   ]
  },
  {
   "cell_type": "code",
   "execution_count": 45,
   "id": "6d1cb7c8-e2e3-4c4b-8b7e-c920b5375782",
   "metadata": {},
   "outputs": [
    {
     "name": "stdout",
     "output_type": "stream",
     "text": [
      "<function add at 0x000001BD0B6DE840>\n"
     ]
    }
   ],
   "source": [
    "print(add)"
   ]
  },
  {
   "cell_type": "code",
   "execution_count": 49,
   "id": "ccc1599b-81eb-4548-8b38-0c9799bdbb02",
   "metadata": {},
   "outputs": [
    {
     "name": "stdout",
     "output_type": "stream",
     "text": [
      "600\n"
     ]
    }
   ],
   "source": [
    "A=100\n",
    "B=200\n",
    "C=300\n",
    "def add1():\n",
    "    global ADD# here we change local variable as global variable by using **global** keyword\n",
    "    ADD=A+B+C\n",
    "    print(ADD)\n",
    "add1()"
   ]
  },
  {
   "cell_type": "code",
   "execution_count": 51,
   "id": "5c9c51f9-a159-4874-9e0f-51acdd1b5ec6",
   "metadata": {},
   "outputs": [
    {
     "data": {
      "text/plain": [
       "600"
      ]
     },
     "execution_count": 51,
     "metadata": {},
     "output_type": "execute_result"
    }
   ],
   "source": [
    "ADD"
   ]
  },
  {
   "cell_type": "markdown",
   "id": "bb2beb27-96be-4fe0-bfea-b37552d6f728",
   "metadata": {},
   "source": [
    "- local variables can use the function in two ways\n",
    "- by making local variable as global variable by using **global** keyword\n",
    "- by using return statement also"
   ]
  },
  {
   "cell_type": "code",
   "execution_count": 3,
   "id": "67fb10d7-ad02-4848-bdaa-5a303b43d367",
   "metadata": {},
   "outputs": [
    {
     "name": "stdout",
     "output_type": "stream",
     "text": [
      "300\n",
      "-100\n"
     ]
    }
   ],
   "source": [
    "A=100\n",
    "B=200\n",
    "def add12():\n",
    "    global ADD,SUB# here we change local variable as global variable by using **global** keyword\n",
    "    ADD=A+B\n",
    "    SUB=A-B\n",
    "    print(ADD)\n",
    "    print(SUB) \n",
    "add12()"
   ]
  },
  {
   "cell_type": "code",
   "execution_count": 6,
   "id": "a023ce3d-a19a-4e76-b130-e6c9d819f731",
   "metadata": {},
   "outputs": [
    {
     "data": {
      "text/plain": [
       "-100"
      ]
     },
     "execution_count": 6,
     "metadata": {},
     "output_type": "execute_result"
    }
   ],
   "source": [
    "SUB\n"
   ]
  },
  {
   "cell_type": "markdown",
   "id": "9ecb86ec-e713-4d3f-8994-be330830acb3",
   "metadata": {},
   "source": [
    "# **unbound local error**\n",
    "- unbound local error means the variable is not defined\n",
    "- that varible is used as both input and output inside the function"
   ]
  },
  {
   "cell_type": "code",
   "execution_count": 10,
   "id": "69cf8c37-f60a-45d0-91e2-0d81be330638",
   "metadata": {},
   "outputs": [
    {
     "ename": "UnboundLocalError",
     "evalue": "cannot access local variable 'b' where it is not associated with a value",
     "output_type": "error",
     "traceback": [
      "\u001b[1;31m---------------------------------------------------------------------------\u001b[0m",
      "\u001b[1;31mUnboundLocalError\u001b[0m                         Traceback (most recent call last)",
      "Cell \u001b[1;32mIn[10], line 5\u001b[0m\n\u001b[0;32m      3\u001b[0m     b\u001b[38;5;241m=\u001b[39mb\u001b[38;5;241m+\u001b[39ma      \u001b[38;5;66;03m# here we b is not defined but we add b and save b so we get unbounded error\u001b[39;00m\n\u001b[0;32m      4\u001b[0m     \u001b[38;5;28mprint\u001b[39m(b)\n\u001b[1;32m----> 5\u001b[0m fun1()\n",
      "Cell \u001b[1;32mIn[10], line 3\u001b[0m, in \u001b[0;36mfun1\u001b[1;34m()\u001b[0m\n\u001b[0;32m      1\u001b[0m \u001b[38;5;28;01mdef\u001b[39;00m \u001b[38;5;21mfun1\u001b[39m():\n\u001b[0;32m      2\u001b[0m     a\u001b[38;5;241m=\u001b[39m\u001b[38;5;241m10\u001b[39m\n\u001b[1;32m----> 3\u001b[0m     b\u001b[38;5;241m=\u001b[39mb\u001b[38;5;241m+\u001b[39ma      \u001b[38;5;66;03m# here we b is not defined but we add b and save b so we get unbounded error\u001b[39;00m\n\u001b[0;32m      4\u001b[0m     \u001b[38;5;28mprint\u001b[39m(b)\n",
      "\u001b[1;31mUnboundLocalError\u001b[0m: cannot access local variable 'b' where it is not associated with a value"
     ]
    }
   ],
   "source": [
    "def fun1():\n",
    "    a=10\n",
    "    b=b+a      # here we b is not defined but we add b and save b so we get unbounded error\n",
    "    print(b)\n",
    "fun1()"
   ]
  },
  {
   "cell_type": "code",
   "execution_count": 12,
   "id": "d660991e-4dfa-4fa5-8c85-10c7d5cb7e90",
   "metadata": {},
   "outputs": [
    {
     "ename": "NameError",
     "evalue": "name 'b' is not defined",
     "output_type": "error",
     "traceback": [
      "\u001b[1;31m---------------------------------------------------------------------------\u001b[0m",
      "\u001b[1;31mNameError\u001b[0m                                 Traceback (most recent call last)",
      "Cell \u001b[1;32mIn[12], line 5\u001b[0m\n\u001b[0;32m      3\u001b[0m     c\u001b[38;5;241m=\u001b[39mb\u001b[38;5;241m+\u001b[39ma      \u001b[38;5;66;03m# here we b is not defined but we add b and save c so we get name error or b undefined\u001b[39;00m\n\u001b[0;32m      4\u001b[0m     \u001b[38;5;28mprint\u001b[39m(b)\n\u001b[1;32m----> 5\u001b[0m fun1()\n",
      "Cell \u001b[1;32mIn[12], line 3\u001b[0m, in \u001b[0;36mfun1\u001b[1;34m()\u001b[0m\n\u001b[0;32m      1\u001b[0m \u001b[38;5;28;01mdef\u001b[39;00m \u001b[38;5;21mfun1\u001b[39m():\n\u001b[0;32m      2\u001b[0m     a\u001b[38;5;241m=\u001b[39m\u001b[38;5;241m10\u001b[39m\n\u001b[1;32m----> 3\u001b[0m     c\u001b[38;5;241m=\u001b[39mb\u001b[38;5;241m+\u001b[39ma      \u001b[38;5;66;03m# here we b is not defined but we add b and save c so we get name error or b undefined\u001b[39;00m\n\u001b[0;32m      4\u001b[0m     \u001b[38;5;28mprint\u001b[39m(b)\n",
      "\u001b[1;31mNameError\u001b[0m: name 'b' is not defined"
     ]
    }
   ],
   "source": [
    "def fun1():\n",
    "    a=10\n",
    "    c=b+a      # here we b is not defined but we add b and save c so we get name error or b undefined\n",
    "    print(b)\n",
    "fun1()"
   ]
  },
  {
   "cell_type": "markdown",
   "id": "99b32071-8133-4e21-a0c5-e03b5ef3e35f",
   "metadata": {},
   "source": [
    "**return statement**\n",
    "- till now above we have created a function with print statements in order to see the output\n",
    "- the function output we are not able to use outside the function\n",
    "- because it is a local variable\n",
    "- one method we used to is global\n",
    "- another method is in return statement\n",
    "- return means something we are receiving\n",
    "- print means we are able to see something\n",
    "- variable order should be very important"
   ]
  },
  {
   "cell_type": "code",
   "execution_count": 17,
   "id": "9cd9eb60-c47e-4fd4-b947-22b63c3ccd25",
   "metadata": {},
   "outputs": [],
   "source": [
    "def add(a,b):\n",
    "    c=a+b\n",
    "    return(c)  # here return is used to store the output in variable to see the output anywhere\n",
    "val=add(20,30)"
   ]
  },
  {
   "cell_type": "code",
   "execution_count": 19,
   "id": "0e3f93e7-4ee9-4b1e-8dca-7a8c506a027d",
   "metadata": {},
   "outputs": [
    {
     "data": {
      "text/plain": [
       "50"
      ]
     },
     "execution_count": 19,
     "metadata": {},
     "output_type": "execute_result"
    }
   ],
   "source": [
    "val"
   ]
  },
  {
   "cell_type": "code",
   "execution_count": 22,
   "id": "70298b00-502a-4e0d-9af7-b5e92492e4d4",
   "metadata": {},
   "outputs": [],
   "source": [
    "def add(a,b):\n",
    "    c=a+b\n",
    "    d=a-b\n",
    "    return(c,d)  # here return is used to store the output in variable to see the output anywhere\n",
    "sum,sub=add(20,30)"
   ]
  },
  {
   "cell_type": "code",
   "execution_count": 24,
   "id": "a63d64ed-6935-4bdf-a9ec-06a9cbf7170d",
   "metadata": {},
   "outputs": [
    {
     "data": {
      "text/plain": [
       "50"
      ]
     },
     "execution_count": 24,
     "metadata": {},
     "output_type": "execute_result"
    }
   ],
   "source": [
    "sum\n"
   ]
  },
  {
   "cell_type": "code",
   "execution_count": 26,
   "id": "e192b61f-00bb-4042-b0ce-448f64920384",
   "metadata": {},
   "outputs": [
    {
     "data": {
      "text/plain": [
       "-10"
      ]
     },
     "execution_count": 26,
     "metadata": {},
     "output_type": "execute_result"
    }
   ],
   "source": [
    "sub"
   ]
  },
  {
   "cell_type": "code",
   "execution_count": 32,
   "id": "62e9f617-5b5b-437b-a296-70c50a2a1e37",
   "metadata": {},
   "outputs": [
    {
     "data": {
      "text/plain": [
       "54"
      ]
     },
     "execution_count": 32,
     "metadata": {},
     "output_type": "execute_result"
    }
   ],
   "source": [
    "def add(a,b):\n",
    "    c=a+b\n",
    "    d=a-b\n",
    "    return(c)\n",
    "    return(d)\n",
    "add(34,20)"
   ]
  },
  {
   "cell_type": "code",
   "execution_count": 41,
   "id": "459188f6-c28d-4413-a1d7-1fce96564f5f",
   "metadata": {},
   "outputs": [],
   "source": [
    "n1=100,200"
   ]
  },
  {
   "cell_type": "code",
   "execution_count": 43,
   "id": "6d542cce-51c8-45bf-8c94-b656c4d07114",
   "metadata": {},
   "outputs": [],
   "source": [
    "n1,n2=100,200"
   ]
  },
  {
   "cell_type": "code",
   "execution_count": 45,
   "id": "b9aef596-e18c-43e8-a349-8f70cc9a7177",
   "metadata": {},
   "outputs": [
    {
     "ename": "TypeError",
     "evalue": "cannot unpack non-iterable int object",
     "output_type": "error",
     "traceback": [
      "\u001b[1;31m---------------------------------------------------------------------------\u001b[0m",
      "\u001b[1;31mTypeError\u001b[0m                                 Traceback (most recent call last)",
      "Cell \u001b[1;32mIn[45], line 1\u001b[0m\n\u001b[1;32m----> 1\u001b[0m n1,n2\u001b[38;5;241m=\u001b[39m\u001b[38;5;241m100\u001b[39m\n",
      "\u001b[1;31mTypeError\u001b[0m: cannot unpack non-iterable int object"
     ]
    }
   ],
   "source": [
    "n1,n2=100"
   ]
  },
  {
   "cell_type": "code",
   "execution_count": 47,
   "id": "57da5bcd-25cf-4ede-8f8d-92116955d7ae",
   "metadata": {},
   "outputs": [],
   "source": [
    "def add(a,b):\n",
    "    c=a+b\n",
    "    d=a-b\n",
    "    return(c,d)\n",
    "    \n",
    "op=add(34,20)"
   ]
  },
  {
   "cell_type": "code",
   "execution_count": 49,
   "id": "739de12d-038e-4649-a741-147a0fb210dd",
   "metadata": {},
   "outputs": [
    {
     "data": {
      "text/plain": [
       "(54, 14)"
      ]
     },
     "execution_count": 49,
     "metadata": {},
     "output_type": "execute_result"
    }
   ],
   "source": [
    "op  # two variables c and d are saved into one variable op and its lokks like tuple"
   ]
  },
  {
   "cell_type": "markdown",
   "id": "3c64cc18-2420-400f-bbab-01c4add68acb",
   "metadata": {},
   "source": [
    "**global keyword vs return keyword**\n",
    "- global keyword used for we can take the inside variable to outside the function\n",
    "- return can return any value outside the function\n",
    "- the value you return can be used another notebook also\n",
    "- incase in any situation one variable written in another notebook you should return the variable "
   ]
  },
  {
   "cell_type": "markdown",
   "id": "8c4850ce-10a2-410c-8fdf-17b71b1aab2d",
   "metadata": {},
   "source": [
    "# **function in function**"
   ]
  },
  {
   "cell_type": "code",
   "execution_count": 53,
   "id": "e7e1881c-98fa-4843-a9eb-1fc1a779b0b5",
   "metadata": {},
   "outputs": [],
   "source": [
    "def greet1():\n",
    "    print('helo good morning')\n",
    "def greet2():\n",
    "    print('hello good night')"
   ]
  },
  {
   "cell_type": "code",
   "execution_count": 55,
   "id": "3d9641f9-c921-4e10-87cb-bc855294fe25",
   "metadata": {},
   "outputs": [
    {
     "name": "stdout",
     "output_type": "stream",
     "text": [
      "helo good morning\n"
     ]
    }
   ],
   "source": [
    "greet1()"
   ]
  },
  {
   "cell_type": "code",
   "execution_count": 59,
   "id": "dc0bdd0b-ec46-497c-8f6e-5c174d979702",
   "metadata": {},
   "outputs": [
    {
     "name": "stdout",
     "output_type": "stream",
     "text": [
      "the greet1 function starts\n",
      "helo good morning\n",
      "hello good night\n"
     ]
    }
   ],
   "source": [
    "def greet1():\n",
    "    print('helo good morning')\n",
    "def greet2():\n",
    "    print('the greet1 function starts')\n",
    "    greet1()\n",
    "    print('hello good night')\n",
    "greet2()"
   ]
  },
  {
   "cell_type": "code",
   "execution_count": 63,
   "id": "2b0e23f6-ebfa-4141-b15c-40a5b41cbf54",
   "metadata": {},
   "outputs": [
    {
     "name": "stdout",
     "output_type": "stream",
     "text": [
      "the greet2 function starts\n",
      "hello good night\n",
      "helo good morning\n"
     ]
    }
   ],
   "source": [
    "def greet1():\n",
    "    print('the greet2 function starts')\n",
    "    greet2()\n",
    "    print('helo good morning')\n",
    "def greet2():                            # here we get the inside the function in function \n",
    "    print('hello good night')\n",
    "greet1()"
   ]
  },
  {
   "cell_type": "code",
   "execution_count": 65,
   "id": "cb5be543-c4c4-4843-b208-f107df60f29d",
   "metadata": {},
   "outputs": [],
   "source": [
    "def greet1():\n",
    "    print('the greet2 function starts')\n",
    "    greet2()\n",
    "    print('helo good morning')\n",
    "def greet2():\n",
    "    print('the greet2 function starts')\n",
    "    greet1()                                # warn this code in loops beacuse the functions in functions are calling same so it gives the unlimited prints so don't execute the code\n",
    "    print('hello good night')\n"
   ]
  },
  {
   "cell_type": "code",
   "execution_count": 67,
   "id": "0ed22eb1-fecf-4d1b-9a02-c9d459a226f9",
   "metadata": {},
   "outputs": [
    {
     "ename": "NameError",
     "evalue": "name 'name' is not defined",
     "output_type": "error",
     "traceback": [
      "\u001b[1;31m---------------------------------------------------------------------------\u001b[0m",
      "\u001b[1;31mNameError\u001b[0m                                 Traceback (most recent call last)",
      "Cell \u001b[1;32mIn[67], line 7\u001b[0m\n\u001b[0;32m      5\u001b[0m \u001b[38;5;28;01mdef\u001b[39;00m \u001b[38;5;21moutside_function\u001b[39m(name):\n\u001b[0;32m      6\u001b[0m     inside_function()\n\u001b[1;32m----> 7\u001b[0m outside_function(\u001b[38;5;124m'\u001b[39m\u001b[38;5;124mpython\u001b[39m\u001b[38;5;124m'\u001b[39m)\n",
      "Cell \u001b[1;32mIn[67], line 6\u001b[0m, in \u001b[0;36moutside_function\u001b[1;34m(name)\u001b[0m\n\u001b[0;32m      5\u001b[0m \u001b[38;5;28;01mdef\u001b[39;00m \u001b[38;5;21moutside_function\u001b[39m(name):\n\u001b[1;32m----> 6\u001b[0m     inside_function()\n",
      "Cell \u001b[1;32mIn[67], line 2\u001b[0m, in \u001b[0;36minside_function\u001b[1;34m()\u001b[0m\n\u001b[0;32m      1\u001b[0m \u001b[38;5;28;01mdef\u001b[39;00m \u001b[38;5;21minside_function\u001b[39m():\n\u001b[1;32m----> 2\u001b[0m     \u001b[38;5;28mprint\u001b[39m(\u001b[38;5;124mf\u001b[39m\u001b[38;5;124m'\u001b[39m\u001b[38;5;124mhello! \u001b[39m\u001b[38;5;132;01m{\u001b[39;00mname\u001b[38;5;132;01m}\u001b[39;00m\u001b[38;5;124m good morning\u001b[39m\u001b[38;5;124m'\u001b[39m)\n",
      "\u001b[1;31mNameError\u001b[0m: name 'name' is not defined"
     ]
    }
   ],
   "source": [
    "def inside_function():\n",
    "    print(f'hello! {name} good morning')\n",
    "    # here we got the error globally name is undefined \n",
    "    # if it calls this function gives the error\n",
    "def outside_function(name):\n",
    "    inside_function()\n",
    "outside_function('python')"
   ]
  },
  {
   "cell_type": "code",
   "execution_count": 69,
   "id": "a9b49954-01ad-4b88-a36b-2e62758709ac",
   "metadata": {},
   "outputs": [
    {
     "name": "stdout",
     "output_type": "stream",
     "text": [
      "hello! python good morning\n"
     ]
    }
   ],
   "source": [
    "def inside_function(name):\n",
    "    print(f'hello! {name} good morning')\n",
    "    # here we see variable is defined \n",
    "    # if it calls this function gives the output\n",
    "def outside_function(name):\n",
    "    inside_function(name)\n",
    "outside_function('python')"
   ]
  },
  {
   "cell_type": "code",
   "execution_count": 73,
   "id": "a98259ce-08df-45c6-8f9d-12af6a07666b",
   "metadata": {},
   "outputs": [],
   "source": [
    "def outside_function(name):\n",
    "    def inside_function(name):\n",
    "        print(f'hello! {name} good morning')\n",
    "outside_function('naresh')\n",
    "    # this function didnot give the any output or error because inside function didnot call in side "
   ]
  },
  {
   "cell_type": "code",
   "execution_count": 79,
   "id": "c7a11e92-d8a6-4389-a4b2-d5c5dc7e082a",
   "metadata": {},
   "outputs": [
    {
     "name": "stdout",
     "output_type": "stream",
     "text": [
      "hello! naresh good morning\n"
     ]
    }
   ],
   "source": [
    "def outside_function(name):\n",
    "    def inside_function(name):\n",
    "        print(f'hello! {name} good morning')\n",
    "    inside_function('naresh')\n",
    "outside_function('naresh')\n",
    "# here we give the output because we call bothe the functions "
   ]
  },
  {
   "cell_type": "code",
   "execution_count": 81,
   "id": "d8be44e5-3de8-48ef-b19d-8507b8cf3241",
   "metadata": {},
   "outputs": [
    {
     "name": "stdout",
     "output_type": "stream",
     "text": [
      "venkatesh\n"
     ]
    }
   ],
   "source": [
    "def name():\n",
    "    print('venkatesh')\n",
    "name()"
   ]
  },
  {
   "cell_type": "code",
   "execution_count": 83,
   "id": "3cd4ed7f-6e78-4bc8-8218-345e48500b0d",
   "metadata": {},
   "outputs": [
    {
     "name": "stdout",
     "output_type": "stream",
     "text": [
      "venkatesh\n"
     ]
    }
   ],
   "source": [
    "def name1():\n",
    "    def name():\n",
    "        print('venkatesh')\n",
    "    name()\n",
    "name1()"
   ]
  },
  {
   "cell_type": "code",
   "execution_count": 85,
   "id": "d95b23d0-00b3-486a-8d37-bc8f2da23b26",
   "metadata": {},
   "outputs": [
    {
     "name": "stdout",
     "output_type": "stream",
     "text": [
      "venkatesh\n"
     ]
    }
   ],
   "source": [
    "def name2():\n",
    "    def name1():\n",
    "        def name():\n",
    "            print('venkatesh')\n",
    "        name()\n",
    "    name1()\n",
    "name2()"
   ]
  },
  {
   "cell_type": "code",
   "execution_count": 87,
   "id": "440df235-820c-45d3-b49a-cf67f429b6b9",
   "metadata": {},
   "outputs": [
    {
     "name": "stdout",
     "output_type": "stream",
     "text": [
      "7\n"
     ]
    }
   ],
   "source": [
    "def add(a,b):\n",
    "    print(a+b)\n",
    "add(2,5)\n",
    "    "
   ]
  },
  {
   "cell_type": "code",
   "execution_count": 89,
   "id": "5b9eb9e3-0160-4205-a5a9-fdaaf1af476e",
   "metadata": {},
   "outputs": [
    {
     "name": "stdout",
     "output_type": "stream",
     "text": [
      "7\n"
     ]
    }
   ],
   "source": [
    "def mat():\n",
    "    def add(a,b):\n",
    "        print(a+b)\n",
    "    add(2,5)\n",
    "mat()\n",
    "\n",
    "        "
   ]
  },
  {
   "cell_type": "code",
   "execution_count": 91,
   "id": "b87e75c9-d85c-4b5b-b8ee-674d3d4a0b91",
   "metadata": {},
   "outputs": [
    {
     "name": "stdout",
     "output_type": "stream",
     "text": [
      "7\n"
     ]
    }
   ],
   "source": [
    "def mat1():\n",
    "    def mat():\n",
    "        def add(a,b):\n",
    "            print(a+b)\n",
    "        add(2,5)\n",
    "    mat()\n",
    "mat1()\n",
    "    "
   ]
  },
  {
   "cell_type": "code",
   "execution_count": 95,
   "id": "c2b2d4ed-d079-4bb8-9913-05ecf3fe9782",
   "metadata": {},
   "outputs": [
    {
     "name": "stdout",
     "output_type": "stream",
     "text": [
      "30\n"
     ]
    }
   ],
   "source": [
    "def mat(a,b):\n",
    "    def add():\n",
    "        print(a+b)      # it will works because main function define the variables   \n",
    "    add()\n",
    "mat(10,20)"
   ]
  },
  {
   "cell_type": "code",
   "execution_count": null,
   "id": "0b1873b6-1d55-45ab-acdf-c33f700e72d2",
   "metadata": {},
   "outputs": [],
   "source": []
  }
 ],
 "metadata": {
  "kernelspec": {
   "display_name": "Python 3 (ipykernel)",
   "language": "python",
   "name": "python3"
  },
  "language_info": {
   "codemirror_mode": {
    "name": "ipython",
    "version": 3
   },
   "file_extension": ".py",
   "mimetype": "text/x-python",
   "name": "python",
   "nbconvert_exporter": "python",
   "pygments_lexer": "ipython3",
   "version": "3.12.4"
  }
 },
 "nbformat": 4,
 "nbformat_minor": 5
}
