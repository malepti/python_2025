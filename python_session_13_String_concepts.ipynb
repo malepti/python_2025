{
 "cells": [
  {
   "cell_type": "markdown",
   "id": "908b3be3-8146-4fde-985c-3c36dc3c0c46",
   "metadata": {},
   "source": [
    "- string concepts\n",
    "- list concepts\n",
    "- tuple concepts\n",
    "- dictionary\n",
    "- set operations\n",
    "- list comprehension\n",
    "- lamda functions\n",
    "- file handling"
   ]
  },
  {
   "cell_type": "markdown",
   "id": "6dc15d7d-f7ed-4e7f-94d4-3d8ccd24e3e2",
   "metadata": {},
   "source": [
    "# **strings\n",
    "## part-1\n",
    "- how to intialize the strings\n",
    "- in built sunctions\n",
    "  - type\n",
    "  - print\n",
    "  - len\n",
    "  - max\n",
    "  - min\n",
    "  - reversed\n",
    "  - sorted\n",
    "- index operations\n",
    "- concatenation\n",
    "- mutable / immutable\n",
    "- slicing\n",
    "## part-2\n",
    "# **string methods**\n",
    "- "
   ]
  },
  {
   "cell_type": "markdown",
   "id": "55c303a9-8628-4380-a6b0-0264b700cb3d",
   "metadata": {},
   "source": [
    "**Intialization**\n",
    "- String represents in single quotes\n",
    "- String represents in double quotes\n",
    "- String represents in triple quotes\n",
    "- when you print a string, the output shows as with out quotes\n",
    "- A string with triple quotes, is called dot string\n",
    "- if you want to highlight in word in the entire string\n",
    "  - provide the entire string in single quote and highlight with double quote\n",
    "    "
   ]
  },
  {
   "cell_type": "code",
   "execution_count": 9,
   "id": "1f7d5638-63bd-4c44-8d13-f07049cbec1f",
   "metadata": {},
   "outputs": [],
   "source": [
    "str1=\"python\""
   ]
  },
  {
   "cell_type": "code",
   "execution_count": 11,
   "id": "1622bad1-6716-4359-9a6b-04fdc9ecb97f",
   "metadata": {},
   "outputs": [
    {
     "data": {
      "text/plain": [
       "str"
      ]
     },
     "execution_count": 11,
     "metadata": {},
     "output_type": "execute_result"
    }
   ],
   "source": [
    "type(str1)"
   ]
  },
  {
   "cell_type": "code",
   "execution_count": 13,
   "id": "19648cb0-d97f-4daa-a920-83e52d274d68",
   "metadata": {},
   "outputs": [],
   "source": [
    "str2='type'"
   ]
  },
  {
   "cell_type": "code",
   "execution_count": 17,
   "id": "98d5ead1-ec6e-4983-806b-af4a709c7c44",
   "metadata": {},
   "outputs": [
    {
     "data": {
      "text/plain": [
       "str"
      ]
     },
     "execution_count": 17,
     "metadata": {},
     "output_type": "execute_result"
    }
   ],
   "source": [
    "type(str2)"
   ]
  },
  {
   "cell_type": "markdown",
   "id": "5a078324-7a8b-485f-8c99-ad04a467c9a9",
   "metadata": {},
   "source": [
    "**doc string**"
   ]
  },
  {
   "cell_type": "code",
   "execution_count": 20,
   "id": "72b2d52c-566d-4776-a9f1-6b892182ebaf",
   "metadata": {},
   "outputs": [],
   "source": [
    "str3='''hello python \n",
    "many students not coming today\n",
    "cometo their dreams'''"
   ]
  },
  {
   "cell_type": "code",
   "execution_count": 24,
   "id": "47e8a1d1-da6d-43e6-a945-a913ca4e7ea8",
   "metadata": {},
   "outputs": [
    {
     "name": "stdout",
     "output_type": "stream",
     "text": [
      "hello python \n",
      "many students not coming today\n",
      "cometo their dreams\n"
     ]
    },
    {
     "data": {
      "text/plain": [
       "str"
      ]
     },
     "execution_count": 24,
     "metadata": {},
     "output_type": "execute_result"
    }
   ],
   "source": [
    "print(str3)\n",
    "type(str3)"
   ]
  },
  {
   "cell_type": "code",
   "execution_count": 26,
   "id": "7593ee7a-4ec8-4bf5-9778-60dd21adecc5",
   "metadata": {},
   "outputs": [],
   "source": [
    "str4=\"i like 'python'\""
   ]
  },
  {
   "cell_type": "code",
   "execution_count": 30,
   "id": "89f36b04-6a58-47ec-a303-3575b36ef636",
   "metadata": {},
   "outputs": [
    {
     "name": "stdout",
     "output_type": "stream",
     "text": [
      "i like 'python'\n"
     ]
    }
   ],
   "source": [
    "print(str4)"
   ]
  },
  {
   "cell_type": "markdown",
   "id": "6a18448f-3ade-4c36-9b81-a406098a8de9",
   "metadata": {},
   "source": [
    "**some inbuilt functions**\n",
    "- max()\n",
    "- min()\n",
    "- len()\n",
    "- print()\n",
    "- reversed()\n",
    "- sorted()\n",
    "- type()"
   ]
  },
  {
   "cell_type": "code",
   "execution_count": 34,
   "id": "e37ffc7f-e9bc-453d-845c-699fa13fde27",
   "metadata": {},
   "outputs": [
    {
     "data": {
      "text/plain": [
       "'v'"
      ]
     },
     "execution_count": 34,
     "metadata": {},
     "output_type": "execute_result"
    }
   ],
   "source": [
    "max(\"venkatesh\")"
   ]
  },
  {
   "cell_type": "code",
   "execution_count": 3,
   "id": "5dda313e-968f-4503-add1-f309d273345f",
   "metadata": {},
   "outputs": [
    {
     "data": {
      "text/plain": [
       "6"
      ]
     },
     "execution_count": 3,
     "metadata": {},
     "output_type": "execute_result"
    }
   ],
   "source": [
    "a=[1,2,3,4,5,6]\n",
    "b=max(a)\n",
    "b\n",
    "\n"
   ]
  },
  {
   "cell_type": "code",
   "execution_count": 36,
   "id": "b6106578-aaf3-41ca-8bc4-2447e2845caa",
   "metadata": {},
   "outputs": [
    {
     "data": {
      "text/plain": [
       "'a'"
      ]
     },
     "execution_count": 36,
     "metadata": {},
     "output_type": "execute_result"
    }
   ],
   "source": [
    "min(\"venkatesh\")"
   ]
  },
  {
   "cell_type": "code",
   "execution_count": 44,
   "id": "fbce51c4-7e14-4b05-95af-c20ea0982677",
   "metadata": {},
   "outputs": [
    {
     "data": {
      "text/plain": [
       "<reversed at 0x17a27439c00>"
      ]
     },
     "execution_count": 44,
     "metadata": {},
     "output_type": "execute_result"
    }
   ],
   "source": [
    "reversed(\"venkatesh\")"
   ]
  },
  {
   "cell_type": "code",
   "execution_count": 46,
   "id": "7b639353-1f5d-4814-beab-aff0dc920928",
   "metadata": {},
   "outputs": [
    {
     "data": {
      "text/plain": [
       "['a', 'e', 'e', 'h', 'k', 'n', 's', 't', 'v']"
      ]
     },
     "execution_count": 46,
     "metadata": {},
     "output_type": "execute_result"
    }
   ],
   "source": [
    "sorted(\"venkatesh\")"
   ]
  },
  {
   "cell_type": "code",
   "execution_count": 48,
   "id": "0045f418-54b8-45aa-921f-091d9121c3ab",
   "metadata": {},
   "outputs": [
    {
     "data": {
      "text/plain": [
       "9"
      ]
     },
     "execution_count": 48,
     "metadata": {},
     "output_type": "execute_result"
    }
   ],
   "source": [
    "len('venkatesh')"
   ]
  },
  {
   "cell_type": "code",
   "execution_count": 50,
   "id": "ef59b3dd-aab3-45d2-a212-61453bee4a95",
   "metadata": {},
   "outputs": [
    {
     "data": {
      "text/plain": [
       "str"
      ]
     },
     "execution_count": 50,
     "metadata": {},
     "output_type": "execute_result"
    }
   ],
   "source": [
    "type('venkatesh')"
   ]
  },
  {
   "cell_type": "markdown",
   "id": "ac888286-7542-4d32-9797-da7021becbc1",
   "metadata": {},
   "source": [
    "**sorted**\n",
    "- sorted means sorting the letters based in ascii number\n",
    "- there are two ways to sort the ascii number\n",
    "  - ascending: small to high\n",
    "  - descending: high to small"
   ]
  },
  {
   "cell_type": "code",
   "execution_count": 59,
   "id": "f42ae19e-49eb-4b1b-95d7-4859f6b13abb",
   "metadata": {},
   "outputs": [
    {
     "data": {
      "text/plain": [
       "['h', 'n', 'o', 'p', 't', 'y']"
      ]
     },
     "execution_count": 59,
     "metadata": {},
     "output_type": "execute_result"
    }
   ],
   "source": [
    "str1=\"python\"\n",
    "sorted(str1)  # by default ascending order"
   ]
  },
  {
   "cell_type": "markdown",
   "id": "ef51e4c7-51e1-4748-87b4-2ba266567644",
   "metadata": {},
   "source": [
    "- when you apply shift tab\n",
    "- there is some arguments will be available\n",
    "- focus on two arguments\n",
    "  - iterable\n",
    "  - reversed=False because of reversed = false by default it prints asscending order\n",
    "  - if we want to change the order then change the default parameter value\n",
    "  - reverse=True "
   ]
  },
  {
   "cell_type": "code",
   "execution_count": 62,
   "id": "5c9615f6-7b8c-4c07-9acb-f56ec8ce3266",
   "metadata": {},
   "outputs": [
    {
     "data": {
      "text/plain": [
       "['y', 't', 'p', 'o', 'n', 'h']"
      ]
     },
     "execution_count": 62,
     "metadata": {},
     "output_type": "execute_result"
    }
   ],
   "source": [
    "sorted(str1,reverse=True)"
   ]
  },
  {
   "cell_type": "code",
   "execution_count": 64,
   "id": "79f25649-d971-44b8-bb46-cb607f526dca",
   "metadata": {},
   "outputs": [
    {
     "data": {
      "text/plain": [
       "['y', 't', 'p', 'o', 'n', 'h']"
      ]
     },
     "execution_count": 64,
     "metadata": {},
     "output_type": "execute_result"
    }
   ],
   "source": [
    "sorted(str1,reverse=1)"
   ]
  },
  {
   "cell_type": "code",
   "execution_count": 66,
   "id": "d97c92b2-243f-4512-b345-5edcf5b2cb89",
   "metadata": {},
   "outputs": [
    {
     "data": {
      "text/plain": [
       "['y', 't', 'p', 'o', 'n', 'h']"
      ]
     },
     "execution_count": 66,
     "metadata": {},
     "output_type": "execute_result"
    }
   ],
   "source": [
    "sorted(str1,reverse=2)"
   ]
  },
  {
   "cell_type": "code",
   "execution_count": 72,
   "id": "5fce5027-801a-404a-9957-4d40d4941ade",
   "metadata": {},
   "outputs": [
    {
     "ename": "TypeError",
     "evalue": "sorted expected 1 argument, got 0",
     "output_type": "error",
     "traceback": [
      "\u001b[1;31m---------------------------------------------------------------------------\u001b[0m",
      "\u001b[1;31mTypeError\u001b[0m                                 Traceback (most recent call last)",
      "Cell \u001b[1;32mIn[72], line 1\u001b[0m\n\u001b[1;32m----> 1\u001b[0m \u001b[38;5;28msorted\u001b[39m(iterable\u001b[38;5;241m=\u001b[39mstr1,reverse\u001b[38;5;241m=\u001b[39m\u001b[38;5;28;01mTrue\u001b[39;00m)\n",
      "\u001b[1;31mTypeError\u001b[0m: sorted expected 1 argument, got 0"
     ]
    }
   ],
   "source": [
    "#sorted(iterable=str1,reverse=True)# fails\n",
    "#sorted(iterable=str1,True)# fails\n",
    "#sorted(str1,=True)# fails"
   ]
  },
  {
   "cell_type": "code",
   "execution_count": null,
   "id": "362766b4-3bcd-4d1b-99ed-e6591b610166",
   "metadata": {},
   "outputs": [],
   "source": [
    "sorted()\n",
    "# we should not allowed to use iterable argument name while provide the input\n",
    "# we should use the arguments name while provide the value after '/'\n",
    "# we should not use the argument name before '/'\n",
    "# iterable name argument is before '/'\n",
    "# so do not use iterable name "
   ]
  },
  {
   "cell_type": "code",
   "execution_count": null,
   "id": "f39f177c-bee0-4bbb-97d0-ab09dd0e4930",
   "metadata": {},
   "outputs": [],
   "source": [
    "# *\n",
    "# any function indicates star(* means )\n",
    "# you can use any variable after*\n",
    "# after * there are two arguments are there\n",
    "# - key\n",
    "# - reverse\n",
    "# you can use both\n",
    "# you can use any one\n",
    "# you no need to use anything"
   ]
  },
  {
   "cell_type": "code",
   "execution_count": null,
   "id": "0e1e1286-d9a8-4687-8155-929e243e5976",
   "metadata": {},
   "outputs": [],
   "source": [
    "sorted(\"hello\") # works\n",
    "sorted(iterable=\"hello\") # fails because not to use argument name before /"
   ]
  },
  {
   "cell_type": "code",
   "execution_count": 74,
   "id": "c64ce1bd-cf1e-4682-95d6-f798a438bda7",
   "metadata": {},
   "outputs": [
    {
     "data": {
      "text/plain": [
       "['h', 'e', 'l', 'l', 'o']"
      ]
     },
     "execution_count": 74,
     "metadata": {},
     "output_type": "execute_result"
    }
   ],
   "source": [
    "sorted(\"hello\",reverse=True,key=len)"
   ]
  },
  {
   "cell_type": "markdown",
   "id": "c0a1d843-10d3-47e1-87ec-d5a164e5be13",
   "metadata": {},
   "source": [
    "# **Reversed**\n"
   ]
  },
  {
   "cell_type": "code",
   "execution_count": 78,
   "id": "f250b767-a6f5-4067-ae04-c9b219af63ed",
   "metadata": {},
   "outputs": [
    {
     "data": {
      "text/plain": [
       "<reversed at 0x17a273816f0>"
      ]
     },
     "execution_count": 78,
     "metadata": {},
     "output_type": "execute_result"
    }
   ],
   "source": [
    "str1=\"venkatesh\"\n",
    "reversed(str1)"
   ]
  },
  {
   "cell_type": "markdown",
   "id": "57b8eeb0-01f8-43c2-8a85-a8742b8fd895",
   "metadata": {},
   "source": [
    "- here the output is stored in memory location\n",
    "- if you want ot print the output\n",
    "- there are two ways\n",
    "- one is used for loop\n",
    "- and another one is print output in list()"
   ]
  },
  {
   "cell_type": "code",
   "execution_count": 81,
   "id": "2474a785-7684-4b11-82cd-d991cf70664d",
   "metadata": {},
   "outputs": [
    {
     "name": "stdout",
     "output_type": "stream",
     "text": [
      "h s e t a k n e v "
     ]
    }
   ],
   "source": [
    "str1=\"venkatesh\"\n",
    "ans=reversed(str1)\n",
    "for i in ans:\n",
    "    print(i,end=' ')"
   ]
  },
  {
   "cell_type": "code",
   "execution_count": 83,
   "id": "a1da345a-2539-4110-8e23-8fdc191dde28",
   "metadata": {},
   "outputs": [
    {
     "data": {
      "text/plain": [
       "['h', 's', 'e', 't', 'a', 'k', 'n', 'e', 'v']"
      ]
     },
     "execution_count": 83,
     "metadata": {},
     "output_type": "execute_result"
    }
   ],
   "source": [
    "#another way\n",
    "str2=\"venkatesh\"\n",
    "ans=reversed(str2)\n",
    "list(ans)"
   ]
  },
  {
   "cell_type": "markdown",
   "id": "b2dde448-d175-4ffe-936d-386a47cc8ece",
   "metadata": {},
   "source": [
    "# **concatenation**"
   ]
  },
  {
   "cell_type": "code",
   "execution_count": 92,
   "id": "180db84a-a62e-4939-8de2-6609f01563ad",
   "metadata": {},
   "outputs": [
    {
     "data": {
      "text/plain": [
       "'hellopython'"
      ]
     },
     "execution_count": 92,
     "metadata": {},
     "output_type": "execute_result"
    }
   ],
   "source": [
    "str1=\"hello\"\n",
    "str2=\"python\"\n",
    "#str1*str2# not works\n",
    "str1+str2\n",
    "#str1-str2 # not works\n",
    "# str1/str2 not works"
   ]
  },
  {
   "cell_type": "code",
   "execution_count": 94,
   "id": "5ed15c07-996c-41e7-b9ff-f205f6237402",
   "metadata": {},
   "outputs": [
    {
     "ename": "TypeError",
     "evalue": "can't multiply sequence by non-int of type 'str'",
     "output_type": "error",
     "traceback": [
      "\u001b[1;31m---------------------------------------------------------------------------\u001b[0m",
      "\u001b[1;31mTypeError\u001b[0m                                 Traceback (most recent call last)",
      "Cell \u001b[1;32mIn[94], line 1\u001b[0m\n\u001b[1;32m----> 1\u001b[0m str1\u001b[38;5;241m*\u001b[39mstr2\n",
      "\u001b[1;31mTypeError\u001b[0m: can't multiply sequence by non-int of type 'str'"
     ]
    }
   ],
   "source": [
    "str1*str2# not works\n"
   ]
  },
  {
   "cell_type": "code",
   "execution_count": 96,
   "id": "679b77ec-3112-46ed-986a-05a711149380",
   "metadata": {},
   "outputs": [
    {
     "ename": "TypeError",
     "evalue": "unsupported operand type(s) for -: 'str' and 'str'",
     "output_type": "error",
     "traceback": [
      "\u001b[1;31m---------------------------------------------------------------------------\u001b[0m",
      "\u001b[1;31mTypeError\u001b[0m                                 Traceback (most recent call last)",
      "Cell \u001b[1;32mIn[96], line 1\u001b[0m\n\u001b[1;32m----> 1\u001b[0m str1\u001b[38;5;241m-\u001b[39mstr2\n",
      "\u001b[1;31mTypeError\u001b[0m: unsupported operand type(s) for -: 'str' and 'str'"
     ]
    }
   ],
   "source": [
    "str1-str2 # not works"
   ]
  },
  {
   "cell_type": "code",
   "execution_count": null,
   "id": "f2d3571a-e79e-4bec-be96-f2892b0f5513",
   "metadata": {},
   "outputs": [],
   "source": [
    "unsupported operand type(s) for -: 'str' and 'str'\n",
    " can't multiply sequence by non-int of type 'str'"
   ]
  },
  {
   "cell_type": "code",
   "execution_count": 104,
   "id": "76779169-964b-4506-85f0-9445fa682191",
   "metadata": {},
   "outputs": [
    {
     "data": {
      "text/plain": [
       "'pythonpythonpython'"
      ]
     },
     "execution_count": 104,
     "metadata": {},
     "output_type": "execute_result"
    }
   ],
   "source": [
    "\"python\"*3"
   ]
  },
  {
   "cell_type": "code",
   "execution_count": 106,
   "id": "aa5bb721-85c7-4d6f-b754-6f3c66375250",
   "metadata": {},
   "outputs": [
    {
     "data": {
      "text/plain": [
       "'pythonpythion'"
      ]
     },
     "execution_count": 106,
     "metadata": {},
     "output_type": "execute_result"
    }
   ],
   "source": [
    "\"python\" + \"pythion\""
   ]
  },
  {
   "cell_type": "markdown",
   "id": "03464b67-57c2-4f01-be13-a7880eff80ca",
   "metadata": {},
   "source": [
    "**index**"
   ]
  },
  {
   "cell_type": "code",
   "execution_count": null,
   "id": "229839cf-6551-4fcb-88fc-ecb3172198c7",
   "metadata": {},
   "outputs": [],
   "source": [
    "str1=\"python\"\n",
    "'p' 'y' 't' 'h' 'o' 'n' \n",
    "0    1   2   3   4   5\n",
    "-6  -5  -4  -3  -2  -1"
   ]
  },
  {
   "cell_type": "code",
   "execution_count": 109,
   "id": "7fea92d8-31af-4380-bd11-c168c3015d25",
   "metadata": {},
   "outputs": [
    {
     "data": {
      "text/plain": [
       "'h'"
      ]
     },
     "execution_count": 109,
     "metadata": {},
     "output_type": "execute_result"
    }
   ],
   "source": [
    "str1[0] # accessing the letters"
   ]
  },
  {
   "cell_type": "code",
   "execution_count": 113,
   "id": "64690897-f7c2-4547-886c-e22dad0e69b2",
   "metadata": {},
   "outputs": [
    {
     "data": {
      "text/plain": [
       "'l'"
      ]
     },
     "execution_count": 113,
     "metadata": {},
     "output_type": "execute_result"
    }
   ],
   "source": [
    "str1[-3]"
   ]
  },
  {
   "cell_type": "code",
   "execution_count": 115,
   "id": "e501549c-a9b5-45a0-8104-56d00b3a2ec5",
   "metadata": {},
   "outputs": [
    {
     "data": {
      "text/plain": [
       "'olleh'"
      ]
     },
     "execution_count": 115,
     "metadata": {},
     "output_type": "execute_result"
    }
   ],
   "source": [
    "str1[::-1]"
   ]
  },
  {
   "cell_type": "code",
   "execution_count": 119,
   "id": "e6539c17-f092-4187-9323-e90b78c909e0",
   "metadata": {},
   "outputs": [
    {
     "data": {
      "text/plain": [
       "'oll'"
      ]
     },
     "execution_count": 119,
     "metadata": {},
     "output_type": "execute_result"
    }
   ],
   "source": [
    "str1[-1:-4:-1]"
   ]
  },
  {
   "cell_type": "code",
   "execution_count": null,
   "id": "264b71f2-abc3-4efd-88f3-76200e04a884",
   "metadata": {},
   "outputs": [],
   "source": [
    "str1=\"hello python\"\n",
    "-12-11-10 -9 -8 -7 -6 -5 -4 -3 -2 -1\n",
    "h   e   l  l  o     p  y  t  h  o  n\n",
    "0   1   2  3  4  5  6  7  8  9  10 11"
   ]
  },
  {
   "cell_type": "code",
   "execution_count": 10,
   "id": "12af5d3d-6d52-4c7f-8699-8e23d396c3a1",
   "metadata": {},
   "outputs": [
    {
     "name": "stdout",
     "output_type": "stream",
     "text": [
      "p y t h o n "
     ]
    }
   ],
   "source": [
    "str1=\"python\"\n",
    "for i in range(0,6):\n",
    "    print(str1[i],end=\" \")\n",
    "# step 1= i=0 str1[0]=p\n",
    "# step 2= i=1 str1[1]=y\n",
    "# step 3= i=2 str1[2]=t\n",
    "# step 4= i=3 str1[3]=h\n",
    "# step 5= i=4 str1[4]=o\n",
    "# step 6= i=5 str1[5]=n"
   ]
  },
  {
   "cell_type": "code",
   "execution_count": 24,
   "id": "67ba6bc6-2ea5-4539-b844-4c2dc1f8bdd4",
   "metadata": {},
   "outputs": [
    {
     "name": "stdout",
     "output_type": "stream",
     "text": [
      "p y t h o n "
     ]
    }
   ],
   "source": [
    "str1=\"python\"\n",
    "for i in range(0,6):\n",
    "    print(str1[i],end=\" \")"
   ]
  },
  {
   "cell_type": "code",
   "execution_count": 26,
   "id": "c121d974-e583-44b6-8a4d-905d00b7ab16",
   "metadata": {},
   "outputs": [
    {
     "name": "stdout",
     "output_type": "stream",
     "text": [
      " the positive index of str20 is 0\n",
      " the positive index of str21 is 1\n",
      " the positive index of str22 is 2\n",
      " the positive index of str23 is 3\n",
      " the positive index of str24 is 4\n",
      " the positive index of str25 is 5\n"
     ]
    }
   ],
   "source": [
    "str2=\"python\"\n",
    "for i in range(len(str2)):\n",
    "    print(f' the positive index of str2{i} is {i}')"
   ]
  },
  {
   "cell_type": "code",
   "execution_count": 34,
   "id": "efba3df8-be1b-4a75-bb57-15bbfa00ece7",
   "metadata": {},
   "outputs": [
    {
     "name": "stdout",
     "output_type": "stream",
     "text": [
      " the positive index of p is -6\n",
      " the positive index of y is -5\n",
      " the positive index of t is -4\n",
      " the positive index of h is -3\n",
      " the positive index of o is -2\n",
      " the positive index of n is -1\n"
     ]
    }
   ],
   "source": [
    "str2=\"python\"\n",
    "for i in range(len(str2)):\n",
    "    print(f' the negative index of {str2[i]} is {i-6}')"
   ]
  },
  {
   "cell_type": "code",
   "execution_count": 38,
   "id": "326bcff0-d892-4f9a-aefe-1abbe9a4704b",
   "metadata": {},
   "outputs": [
    {
     "name": "stdout",
     "output_type": "stream",
     "text": [
      "-6 is (-) index and 0 is (+) index of p\n",
      "-5 is (-) index and 1 is (+) index of y\n",
      "-4 is (-) index and 2 is (+) index of t\n",
      "-3 is (-) index and 3 is (+) index of h\n",
      "-2 is (-) index and 4 is (+) index of o\n",
      "-1 is (-) index and 5 is (+) index of n\n"
     ]
    }
   ],
   "source": [
    "# -6 is negative index, 0 is positive index for a letter p\n",
    "n=len(str2)\n",
    "for i in range(n):\n",
    "    print(f'{i-n} is (-) index and {i} is (+) index of {str2[i]}')"
   ]
  },
  {
   "cell_type": "code",
   "execution_count": null,
   "id": "2d1b2a79-167c-4d3b-95a4-6bc7d95c1dab",
   "metadata": {},
   "outputs": [],
   "source": []
  },
  {
   "cell_type": "code",
   "execution_count": null,
   "id": "9563aaaf-d083-4019-b84e-46f9dc2f2f11",
   "metadata": {},
   "outputs": [],
   "source": []
  },
  {
   "cell_type": "markdown",
   "id": "0a13e2f4-6426-4c79-9836-64baa6611e78",
   "metadata": {},
   "source": [
    "**when to use range and when to use in operator**\n",
    "- any problem if we work with index use range operator\n",
    "- range operator will give index as well as character\n",
    "- any problem if index is not use ful, only character is useful then go with **in**\n",
    "- with in operator we can not get index"
   ]
  },
  {
   "cell_type": "code",
   "execution_count": null,
   "id": "8ac3c0b0-23bc-40d9-96fa-30b4110686fb",
   "metadata": {},
   "outputs": [],
   "source": [
    "# Q4) wap count the number of 'a' letters in a given string\n",
    "# str1='hello python how are you'\n",
    "\n",
    "# Q5) wap to find the index of 'a' letters in a given string\n",
    "# str1='hello python how are you'\n"
   ]
  },
  {
   "cell_type": "code",
   "execution_count": 67,
   "id": "ed797922-f3b7-4c06-924e-05e62fdb230f",
   "metadata": {},
   "outputs": [
    {
     "name": "stdout",
     "output_type": "stream",
     "text": [
      "the count of a is in sentence 3\n"
     ]
    }
   ],
   "source": [
    "#Q4) ans\n",
    "str1='ola ola ola'\n",
    "count=0\n",
    "for i in range(len(str1)):\n",
    "    if str1[i]=='a':\n",
    "        count+=1\n",
    "print(f'the count of a is in sentence {count}')"
   ]
  },
  {
   "cell_type": "code",
   "execution_count": 75,
   "id": "740b4263-ea25-4139-b22a-b6503b04bbc1",
   "metadata": {},
   "outputs": [
    {
     "name": "stdout",
     "output_type": "stream",
     "text": [
      "the  index of a is in sentence 2\n",
      "the  index of a is in sentence 6\n",
      "the  index of a is in sentence 10\n"
     ]
    }
   ],
   "source": [
    "#Q5) ans\n",
    "str1='ola ola ola'\n",
    "for i in range(len(str1)):\n",
    "    if str1[i]=='a':\n",
    "        print(f'the  index of a is in sentence {i}')"
   ]
  },
  {
   "cell_type": "code",
   "execution_count": 63,
   "id": "0f1959aa-04f9-4af2-b7f0-d27158f4dfa5",
   "metadata": {},
   "outputs": [
    {
     "name": "stdout",
     "output_type": "stream",
     "text": [
      "the  sum of a is in sentence 18\n"
     ]
    }
   ],
   "source": [
    "#Q6) wap to get the sum of all indexes of  'a' letters in a given string\n",
    "str1='ola ola ola'\n",
    "sum=0\n",
    "for i in range(len(str1)):\n",
    "    if str1[i]=='a':\n",
    "        sum+=i\n",
    "print(f'the  sum of a is in sentence {sum}')"
   ]
  },
  {
   "cell_type": "code",
   "execution_count": 89,
   "id": "324be278-4a78-47a6-9062-5d2423262be1",
   "metadata": {},
   "outputs": [
    {
     "name": "stdout",
     "output_type": "stream",
     "text": [
      "e\n",
      "o\n",
      "o\n",
      "a\n",
      "e\n",
      "o\n",
      "u\n",
      "the number of vowels is in sentence 7\n"
     ]
    }
   ],
   "source": [
    "#Q7 ans\n",
    "str1='hello how are you'\n",
    "count=0\n",
    "for i in str1:\n",
    "    if i in 'aeiou':  # in if condition \"in\" is also used to check the alphabets are present or not so we use in operator instead of logical operators\"==,!=,<=,>=\"\n",
    "        print(i)\n",
    "        count+=1\n",
    "print(\"the number of vowels is in sentence\",count)"
   ]
  },
  {
   "cell_type": "code",
   "execution_count": 99,
   "id": "b571dbd0-cd5c-45f1-b346-2e26a801d9ac",
   "metadata": {},
   "outputs": [
    {
     "name": "stdout",
     "output_type": "stream",
     "text": [
      "e\n",
      "o\n",
      "a\n",
      "u\n",
      "the total count is: 4\n"
     ]
    }
   ],
   "source": [
    "#Q8) ans\n",
    "c='hello how are you'\n",
    "b=\" \"\n",
    "a='aeiou'\n",
    "count=0\n",
    "for i in c:\n",
    "    if i in a and i not in b:\n",
    "        print(i)\n",
    "        b+=i\n",
    "        count+=1\n",
    "print('the total count is:',count)\n",
    "        "
   ]
  },
  {
   "cell_type": "code",
   "execution_count": 103,
   "id": "6602b70b-f463-4b9a-a960-0b7ccd6de3d4",
   "metadata": {},
   "outputs": [
    {
     "name": "stdout",
     "output_type": "stream",
     "text": [
      "e\n",
      "o\n",
      "a\n"
     ]
    }
   ],
   "source": [
    "a='aeiou'\n",
    "b=\"hello venkatesh\"\n",
    "c=\" \"\n",
    "for i in b:\n",
    "    if i in a and i not in c:\n",
    "        print(i)\n",
    "        c+=i   # this main to add the alphabet in empty string\n",
    "        "
   ]
  },
  {
   "cell_type": "code",
   "execution_count": 39,
   "id": "f9e0d5df-25dc-4119-9970-4e28ae0866e8",
   "metadata": {},
   "outputs": [
    {
     "name": "stdout",
     "output_type": "stream",
     "text": [
      "e\n",
      "o\n",
      "a\n",
      "i\n",
      "u\n"
     ]
    }
   ],
   "source": [
    "a='aeiou'\n",
    "b=\"hello venkatesh aaeiou\"\n",
    "c=\" \"\n",
    "for i in b:\n",
    "    if i in a and i not in c:\n",
    "        print(i)\n",
    "        c+=i \n",
    "    \n",
    "            \n"
   ]
  },
  {
   "cell_type": "code",
   "execution_count": 37,
   "id": "9efe6a47-a2f6-439a-af63-65e885591284",
   "metadata": {},
   "outputs": [
    {
     "name": "stdout",
     "output_type": "stream",
     "text": [
      "o a "
     ]
    }
   ],
   "source": [
    "a='aeiou'\n",
    "b=\"hello this is venkatesh\"\n",
    "c=' '\n",
    "for i in b: # iterate the string in b\n",
    "    count=0 # count variable intialize\n",
    "    for j in b: # iterate to check common letters\n",
    "        if i==j:# compare the iterative\n",
    "            count+=1 #add the  letters more than 1\n",
    "        if count>1:\n",
    "            break # brak more than one letter\n",
    "    if count==1:   # count one letter print\n",
    "        #print(i,end=' ')\n",
    "        c+=i # stores in empty string\n",
    "for i in c: # iterate the empty string\n",
    "    if i in a: # check the vowels in c\n",
    "        print(i,end=' ') # print vowels in c"
   ]
  },
  {
   "cell_type": "code",
   "execution_count": 5,
   "id": "de41a6d7-9dfa-468c-8903-58c15c4a3ff4",
   "metadata": {},
   "outputs": [
    {
     "name": "stdin",
     "output_type": "stream",
     "text": [
      "enter a sentence namaste submadyahn\n"
     ]
    },
    {
     "name": "stdout",
     "output_type": "stream",
     "text": [
      "a\n",
      "a\n",
      "e\n",
      "u\n",
      "a\n",
      "a\n",
      "the count of all vowels 6\n"
     ]
    }
   ],
   "source": [
    "a=\"aeiou\"\n",
    "b=input('enter a sentence')\n",
    "c=\" \"\n",
    "count=0\n",
    "for i in b:\n",
    "    if i in a:\n",
    "        print(i)\n",
    "        count+=1\n",
    "print(f'the count of all vowels {count}')\n",
    "        "
   ]
  },
  {
   "cell_type": "code",
   "execution_count": 1,
   "id": "4b9a580f-ab4d-4b3a-a9e4-90532fff1cde",
   "metadata": {},
   "outputs": [
    {
     "name": "stdin",
     "output_type": "stream",
     "text": [
      "enter the sentence namaste bagunnara\n"
     ]
    },
    {
     "name": "stdout",
     "output_type": "stream",
     "text": [
      "e\n",
      "u\n",
      "the non repeated vowels are 2\n"
     ]
    }
   ],
   "source": [
    "#Q8) ans wap to find the non repeated vowels in a given string\n",
    "\n",
    "a=\"aeiou\"\n",
    "b=input(\"enter the sentence\")\n",
    "c=\" \"\n",
    "count1=0\n",
    "for i in b:\n",
    "    count=0\n",
    "    for x in b:\n",
    "        if i==x:\n",
    "            count+=1\n",
    "        if count>1:\n",
    "            break\n",
    "    if count==1:\n",
    "        #print(i,end=\" \")\n",
    "        c+=i\n",
    "        \n",
    "for i in c:\n",
    "    if i in a:\n",
    "        print(i)\n",
    "        count1+=1\n",
    "print(f'the non repeated vowels are {count1}')"
   ]
  },
  {
   "cell_type": "markdown",
   "id": "0a405642-d4a0-43fd-ace2-2ffe33f8a93c",
   "metadata": {},
   "source": [
    "# **mutable and immutable**"
   ]
  },
  {
   "cell_type": "code",
   "execution_count": null,
   "id": "4886e758-795e-4118-a4a6-1f307a0963ad",
   "metadata": {},
   "outputs": [],
   "source": [
    "# mutable: change \n",
    "# immutable: no change\n",
    "str1=\"welcome\"\n",
    "# i want to change \"L\" with 'l'\n",
    "# can we change \"l\" with 'l'"
   ]
  },
  {
   "cell_type": "markdown",
   "id": "fe0fb62a-a6ca-4c06-865e-b83636b3b0b1",
   "metadata": {},
   "source": [
    "- if the elements will change using indexing is called as mutable\n",
    "- otherwise immutable"
   ]
  },
  {
   "cell_type": "markdown",
   "id": "ce76f12d-b9c4-46c5-b778-907ab620d6f5",
   "metadata": {},
   "source": [
    "# **slicing**\n",
    "- slice means peace of the string\n",
    "- it is similar to for loop\n",
    "  - start\n",
    "  - stop\n",
    "  - step"
   ]
  },
  {
   "cell_type": "code",
   "execution_count": 4,
   "id": "b22683ba-2247-46b0-96f7-da66d4eb3310",
   "metadata": {},
   "outputs": [
    {
     "data": {
      "text/plain": [
       "17"
      ]
     },
     "execution_count": 4,
     "metadata": {},
     "output_type": "execute_result"
    }
   ],
   "source": [
    "str1=\"hello how are you\"\n",
    "len(str1)"
   ]
  },
  {
   "cell_type": "code",
   "execution_count": null,
   "id": "0c07001f-02e8-4db6-9a75-b1486dc16b64",
   "metadata": {},
   "outputs": [],
   "source": [
    "-17 -16 -15 -14 -13 -12 -11 -10 -9 -8 -7 -6 -5 -4 -3 -2 -1\n",
    "h    e   l    l   o       h   o  w     a  r  e     y  o  u\n",
    "0    1   2    3   4   5   6   7  8  9  10 11 12 13 14 15 16"
   ]
  },
  {
   "cell_type": "markdown",
   "id": "a4947c5a-f5dc-42cd-b0c9-0b3b22141a30",
   "metadata": {},
   "source": [
    "**case 1**: str1[start:]"
   ]
  },
  {
   "cell_type": "code",
   "execution_count": 7,
   "id": "8b25423a-21c2-40d8-8a30-b6186c7e8839",
   "metadata": {},
   "outputs": [
    {
     "data": {
      "text/plain": [
       "'hello how are you'"
      ]
     },
     "execution_count": 7,
     "metadata": {},
     "output_type": "execute_result"
    }
   ],
   "source": [
    "str1[0:]\n",
    "# start = start value only\n",
    "# not mention stop value it automatically takes last value"
   ]
  },
  {
   "cell_type": "code",
   "execution_count": 9,
   "id": "aad8c643-2dbd-4b41-960a-e354babe9bf4",
   "metadata": {},
   "outputs": [
    {
     "data": {
      "text/plain": [
       "' how are you'"
      ]
     },
     "execution_count": 9,
     "metadata": {},
     "output_type": "execute_result"
    }
   ],
   "source": [
    "str1[5:]"
   ]
  },
  {
   "cell_type": "code",
   "execution_count": 13,
   "id": "ff44ec93-262c-42b1-9a85-2ca9c39407e2",
   "metadata": {},
   "outputs": [
    {
     "data": {
      "text/plain": [
       "'e you'"
      ]
     },
     "execution_count": 13,
     "metadata": {},
     "output_type": "execute_result"
    }
   ],
   "source": [
    "str1[-5:]"
   ]
  },
  {
   "cell_type": "code",
   "execution_count": 15,
   "id": "61ab3ae0-9d3e-434e-a51e-3599575acdb1",
   "metadata": {},
   "outputs": [
    {
     "data": {
      "text/plain": [
       "'e '"
      ]
     },
     "execution_count": 15,
     "metadata": {},
     "output_type": "execute_result"
    }
   ],
   "source": [
    "str1[-5:14]"
   ]
  },
  {
   "cell_type": "markdown",
   "id": "1116ebaf-1f5c-48ef-a876-76af47d2330f",
   "metadata": {},
   "source": [
    "# **case 2** "
   ]
  },
  {
   "cell_type": "code",
   "execution_count": 18,
   "id": "80886b89-f975-43e6-a365-13c0b240c582",
   "metadata": {},
   "outputs": [
    {
     "data": {
      "text/plain": [
       "' how are y'"
      ]
     },
     "execution_count": 18,
     "metadata": {},
     "output_type": "execute_result"
    }
   ],
   "source": [
    "#-17 -16 -15 -14 -13 -12 -11 -10 -9 -8 -7 -6 -5 -4 -3 -2 -1\n",
    "#h    e   l    l   o       h   o  w     a  r  e     y  o  u\n",
    "#0    1   2    3   4   5   6   7  8  9  10 11 12 13 14 15 16\n",
    "str1[-12:-2]\n",
    "# start value=-12\n",
    "# stop value=-2 -2-1=-3\n",
    "# step = no but it takes positive value one"
   ]
  },
  {
   "cell_type": "markdown",
   "id": "64ff90c1-16d8-4436-97ea-cca742985f33",
   "metadata": {},
   "source": [
    "# **case-3**:[start:stop:step]"
   ]
  },
  {
   "cell_type": "code",
   "execution_count": 22,
   "id": "ed2c1618-c0a3-4506-ac59-859a7a0c5a54",
   "metadata": {},
   "outputs": [
    {
     "data": {
      "text/plain": [
       "'lohwaey'"
      ]
     },
     "execution_count": 22,
     "metadata": {},
     "output_type": "execute_result"
    }
   ],
   "source": [
    "str1[2:15:2]\n"
   ]
  },
  {
   "cell_type": "code",
   "execution_count": 24,
   "id": "0f55f7da-9849-459e-a200-e1501e716380",
   "metadata": {},
   "outputs": [
    {
     "data": {
      "text/plain": [
       "''"
      ]
     },
     "execution_count": 24,
     "metadata": {},
     "output_type": "execute_result"
    }
   ],
   "source": [
    "str1[2:15:-2]"
   ]
  },
  {
   "cell_type": "code",
   "execution_count": 26,
   "id": "ab0c483c-0d3c-4839-9065-63d766e03070",
   "metadata": {},
   "outputs": [
    {
     "data": {
      "text/plain": [
       "''"
      ]
     },
     "execution_count": 26,
     "metadata": {},
     "output_type": "execute_result"
    }
   ],
   "source": [
    "str1[15:-2:-2]"
   ]
  },
  {
   "cell_type": "code",
   "execution_count": 28,
   "id": "0fa68a2a-38f1-4e32-b898-39a813c7d36d",
   "metadata": {},
   "outputs": [
    {
     "data": {
      "text/plain": [
       "'l'"
      ]
     },
     "execution_count": 28,
     "metadata": {},
     "output_type": "execute_result"
    }
   ],
   "source": [
    "str1[2:-14:2]"
   ]
  },
  {
   "cell_type": "code",
   "execution_count": 32,
   "id": "ae234ec1-2960-4a11-a31c-78fbfc733b45",
   "metadata": {},
   "outputs": [
    {
     "data": {
      "text/plain": [
       "'llo how are you'"
      ]
     },
     "execution_count": 32,
     "metadata": {},
     "output_type": "execute_result"
    }
   ],
   "source": [
    "str1[2:250] # its also works because slicing only give the available part how much it cintains it gives"
   ]
  },
  {
   "cell_type": "markdown",
   "id": "d7b65e4c-6117-4f6e-a5cb-024e6d67e3c0",
   "metadata": {},
   "source": [
    "- intialization\n",
    "- some inbuilt functions\n",
    "- print\n",
    "- type\n",
    "- min\n",
    "- max\n",
    "- sorted\n",
    "- reversed\n",
    "- index\n",
    "- slicing\n",
    "- mutable vs immutable\n"
   ]
  },
  {
   "cell_type": "markdown",
   "id": "1fc0969d-35d9-4f5b-8cf7-a08e4f2f2f15",
   "metadata": {},
   "source": [
    "# **methods**"
   ]
  },
  {
   "cell_type": "code",
   "execution_count": 36,
   "id": "7f9c5fca-b91c-4a13-b00d-5e69bdbbf750",
   "metadata": {},
   "outputs": [
    {
     "data": {
      "text/plain": [
       "['__add__',\n",
       " '__class__',\n",
       " '__contains__',\n",
       " '__delattr__',\n",
       " '__dir__',\n",
       " '__doc__',\n",
       " '__eq__',\n",
       " '__format__',\n",
       " '__ge__',\n",
       " '__getattribute__',\n",
       " '__getitem__',\n",
       " '__getnewargs__',\n",
       " '__getstate__',\n",
       " '__gt__',\n",
       " '__hash__',\n",
       " '__init__',\n",
       " '__init_subclass__',\n",
       " '__iter__',\n",
       " '__le__',\n",
       " '__len__',\n",
       " '__lt__',\n",
       " '__mod__',\n",
       " '__mul__',\n",
       " '__ne__',\n",
       " '__new__',\n",
       " '__reduce__',\n",
       " '__reduce_ex__',\n",
       " '__repr__',\n",
       " '__rmod__',\n",
       " '__rmul__',\n",
       " '__setattr__',\n",
       " '__sizeof__',\n",
       " '__str__',\n",
       " '__subclasshook__',\n",
       " 'capitalize',\n",
       " 'casefold',\n",
       " 'center',\n",
       " 'count',\n",
       " 'encode',\n",
       " 'endswith',\n",
       " 'expandtabs',\n",
       " 'find',\n",
       " 'format',\n",
       " 'format_map',\n",
       " 'index',\n",
       " 'isalnum',\n",
       " 'isalpha',\n",
       " 'isascii',\n",
       " 'isdecimal',\n",
       " 'isdigit',\n",
       " 'isidentifier',\n",
       " 'islower',\n",
       " 'isnumeric',\n",
       " 'isprintable',\n",
       " 'isspace',\n",
       " 'istitle',\n",
       " 'isupper',\n",
       " 'join',\n",
       " 'ljust',\n",
       " 'lower',\n",
       " 'lstrip',\n",
       " 'maketrans',\n",
       " 'partition',\n",
       " 'removeprefix',\n",
       " 'removesuffix',\n",
       " 'replace',\n",
       " 'rfind',\n",
       " 'rindex',\n",
       " 'rjust',\n",
       " 'rpartition',\n",
       " 'rsplit',\n",
       " 'rstrip',\n",
       " 'split',\n",
       " 'splitlines',\n",
       " 'startswith',\n",
       " 'strip',\n",
       " 'swapcase',\n",
       " 'title',\n",
       " 'translate',\n",
       " 'upper',\n",
       " 'zfill']"
      ]
     },
     "execution_count": 36,
     "metadata": {},
     "output_type": "execute_result"
    }
   ],
   "source": [
    "name=\"venkatesh\"\n",
    "dir(name)"
   ]
  },
  {
   "cell_type": "code",
   "execution_count": 38,
   "id": "e2d97a6b-6e3b-49c0-a709-a77a7ae70c34",
   "metadata": {},
   "outputs": [
    {
     "data": {
      "text/plain": [
       "'VENKATESH'"
      ]
     },
     "execution_count": 38,
     "metadata": {},
     "output_type": "execute_result"
    }
   ],
   "source": [
    "name.upper()"
   ]
  },
  {
   "cell_type": "code",
   "execution_count": 54,
   "id": "ba132e72-9201-4d3c-9995-ff68c5cca234",
   "metadata": {},
   "outputs": [
    {
     "data": {
      "text/plain": [
       "'venkatesh'"
      ]
     },
     "execution_count": 54,
     "metadata": {},
     "output_type": "execute_result"
    }
   ],
   "source": [
    "name.lower()"
   ]
  },
  {
   "cell_type": "code",
   "execution_count": 56,
   "id": "4c3f2e4c-476a-4859-a17c-7795348812c1",
   "metadata": {},
   "outputs": [
    {
     "data": {
      "text/plain": [
       "'venkatesh'"
      ]
     },
     "execution_count": 56,
     "metadata": {},
     "output_type": "execute_result"
    }
   ],
   "source": [
    "name.casefold()"
   ]
  },
  {
   "cell_type": "code",
   "execution_count": 74,
   "id": "35195e6c-7fd6-4f9b-b7b5-223142067595",
   "metadata": {},
   "outputs": [
    {
     "data": {
      "text/plain": [
       "'venkatesh'"
      ]
     },
     "execution_count": 74,
     "metadata": {},
     "output_type": "execute_result"
    }
   ],
   "source": [
    "name.center(2)"
   ]
  },
  {
   "cell_type": "code",
   "execution_count": 76,
   "id": "166375b7-cc6a-4837-80bc-8f91fd78612c",
   "metadata": {},
   "outputs": [
    {
     "data": {
      "text/plain": [
       "'Venkatesh'"
      ]
     },
     "execution_count": 76,
     "metadata": {},
     "output_type": "execute_result"
    }
   ],
   "source": [
    "name.capitalize()"
   ]
  },
  {
   "cell_type": "code",
   "execution_count": 78,
   "id": "26b69b54-373b-46ae-9658-3fdc5b48478b",
   "metadata": {},
   "outputs": [
    {
     "data": {
      "text/plain": [
       "'Venkatesh'"
      ]
     },
     "execution_count": 78,
     "metadata": {},
     "output_type": "execute_result"
    }
   ],
   "source": [
    "name.title()"
   ]
  },
  {
   "cell_type": "code",
   "execution_count": 80,
   "id": "fffae1de-fa4f-4a66-9b85-8b03fa5cf96f",
   "metadata": {},
   "outputs": [
    {
     "data": {
      "text/plain": [
       "'hi this is venkatesh\\ngood evening\\ngood night'"
      ]
     },
     "execution_count": 80,
     "metadata": {},
     "output_type": "execute_result"
    }
   ],
   "source": [
    "doc=\"\"\"hi this is venkatesh\n",
    "good evening\n",
    "good night\"\"\"\n",
    "doc.center()"
   ]
  },
  {
   "cell_type": "markdown",
   "id": "f215b24c-fb42-4bb2-bd69-c6a4959a0ccf",
   "metadata": {},
   "source": [
    "- out put not overwrite\n",
    "- when ever apply the function\n",
    "- always apply shift+tab\n",
    "- then try to understand the arguments\n",
    "- in that one argument name is called as **implace**\n",
    "- implace=true means the result will be overwrite in original variable\n",
    "- if implace are not availlable or implace=false the output should not be overwrite\n",
    "- in upper case there is no arguments\n",
    "- so when we apply upper the output will not overwrite"
   ]
  },
  {
   "cell_type": "code",
   "execution_count": 85,
   "id": "6c33ffdd-e9be-4a54-972d-533c53563179",
   "metadata": {},
   "outputs": [
    {
     "ename": "NameError",
     "evalue": "name 'lower' is not defined",
     "output_type": "error",
     "traceback": [
      "\u001b[1;31m---------------------------------------------------------------------------\u001b[0m",
      "\u001b[1;31mNameError\u001b[0m                                 Traceback (most recent call last)",
      "Cell \u001b[1;32mIn[85], line 1\u001b[0m\n\u001b[1;32m----> 1\u001b[0m lower(\u001b[38;5;124m\"\u001b[39m\u001b[38;5;124mPYTHON\u001b[39m\u001b[38;5;124m\"\u001b[39m)\n",
      "\u001b[1;31mNameError\u001b[0m: name 'lower' is not defined"
     ]
    }
   ],
   "source": [
    "lower(\"PYTHON\")"
   ]
  },
  {
   "cell_type": "markdown",
   "id": "b72b462e-9ad1-4f40-a27d-91c1c76580c8",
   "metadata": {},
   "source": [
    "# **METHODS VS INBUILD FUNCTIONS**\n",
    "- inbuilt functions applicable for all python data types \n",
    "- ex: print,type,min,max....\n",
    "- access: inbuilt_function(<value>)\n",
    "- method is a specific use for different data types\n",
    "- access: package.method_name()\n",
    "- access: element.method_name()"
   ]
  },
  {
   "cell_type": "code",
   "execution_count": 91,
   "id": "efa1fa69-50b4-4664-bfdb-767df7836d3a",
   "metadata": {},
   "outputs": [
    {
     "data": {
      "text/plain": [
       "'python'"
      ]
     },
     "execution_count": 91,
     "metadata": {},
     "output_type": "execute_result"
    }
   ],
   "source": [
    "\"PYTHON\".casefold()# it means it gives the caseless lower letters"
   ]
  },
  {
   "cell_type": "code",
   "execution_count": 93,
   "id": "3cbe78e0-f487-4c78-bac9-692feda57600",
   "metadata": {},
   "outputs": [
    {
     "data": {
      "text/plain": [
       "'Hello How Are You'"
      ]
     },
     "execution_count": 93,
     "metadata": {},
     "output_type": "execute_result"
    }
   ],
   "source": [
    "str1=\"hello how are you\"\n",
    "str1.title()"
   ]
  },
  {
   "cell_type": "code",
   "execution_count": 95,
   "id": "08f17684-39e0-46c2-91fa-deb7ba4b06c3",
   "metadata": {},
   "outputs": [
    {
     "data": {
      "text/plain": [
       "'Welcome'"
      ]
     },
     "execution_count": 95,
     "metadata": {},
     "output_type": "execute_result"
    }
   ],
   "source": [
    "\"welcome\".title()"
   ]
  },
  {
   "cell_type": "markdown",
   "id": "1482b09c-b07a-478d-8462-5d45f1b142ec",
   "metadata": {},
   "source": [
    "# **center**"
   ]
  },
  {
   "cell_type": "code",
   "execution_count": 112,
   "id": "1d968fd4-32ed-48a5-a965-f116a589ce1e",
   "metadata": {},
   "outputs": [
    {
     "name": "stdout",
     "output_type": "stream",
     "text": [
      "$$$$$python$$$$\n"
     ]
    },
    {
     "data": {
      "text/plain": [
       "15"
      ]
     },
     "execution_count": 112,
     "metadata": {},
     "output_type": "execute_result"
    }
   ],
   "source": [
    "str1=\"python\"\n",
    "a=str1.center(15,'$')\n",
    "print(a)\n",
    "len(a)"
   ]
  },
  {
   "cell_type": "code",
   "execution_count": 114,
   "id": "cf0e0c2d-7fec-40f7-8da4-dd7cb04aff46",
   "metadata": {},
   "outputs": [],
   "source": [
    "# here center the spaces will gives equally and also filling the characters"
   ]
  },
  {
   "cell_type": "code",
   "execution_count": 116,
   "id": "a3bb6a69-a769-4f61-81c2-3cc7411aafd3",
   "metadata": {},
   "outputs": [
    {
     "name": "stdout",
     "output_type": "stream",
     "text": [
      "     python    \n"
     ]
    },
    {
     "data": {
      "text/plain": [
       "15"
      ]
     },
     "execution_count": 116,
     "metadata": {},
     "output_type": "execute_result"
    }
   ],
   "source": [
    "str1=\"python\"\n",
    "a=str1.center(15,)\n",
    "print(a)\n",
    "len(a)"
   ]
  },
  {
   "cell_type": "code",
   "execution_count": 118,
   "id": "38a7ccd2-7680-4734-89f7-cc2ed3e696c5",
   "metadata": {},
   "outputs": [
    {
     "data": {
      "text/plain": [
       "'weucome'"
      ]
     },
     "execution_count": 118,
     "metadata": {},
     "output_type": "execute_result"
    }
   ],
   "source": [
    "str1=\"welcome\"\n",
    "str1.replace(\"l\",\"u\")"
   ]
  },
  {
   "cell_type": "code",
   "execution_count": 128,
   "id": "e6f2e87d-bdb1-4d84-b570-71ac3b29d25d",
   "metadata": {},
   "outputs": [
    {
     "data": {
      "text/plain": [
       "'weuuuuuuuuuucome'"
      ]
     },
     "execution_count": 128,
     "metadata": {},
     "output_type": "execute_result"
    }
   ],
   "source": [
    "str1=\"wellllllllllcome\"\n",
    "str1.replace(\"l\",\"u\",11)"
   ]
  },
  {
   "cell_type": "code",
   "execution_count": 47,
   "id": "d5e4615d-6b02-4cc6-8a13-c16e90f7ab87",
   "metadata": {},
   "outputs": [
    {
     "name": "stdout",
     "output_type": "stream",
     "text": [
      "the no of times occured 1\n"
     ]
    }
   ],
   "source": [
    "str1=\"wellllllllllcome\"\n",
    "\n",
    "c=str1.count('co')\n",
    "print(f'the no of times occured {c}')\n",
    "# here count in string is used how mant times the letter should be occured in the string"
   ]
  },
  {
   "cell_type": "code",
   "execution_count": 49,
   "id": "e00ce286-23f2-453d-a617-42a7ed13f597",
   "metadata": {},
   "outputs": [
    {
     "data": {
      "text/plain": [
       "3"
      ]
     },
     "execution_count": 49,
     "metadata": {},
     "output_type": "execute_result"
    }
   ],
   "source": [
    "a='ho this is venkatesh malepati i love python'\n",
    "b=a.count(\"s\")\n",
    "print(f'the given letter occured no of times in string')"
   ]
  },
  {
   "cell_type": "code",
   "execution_count": 67,
   "id": "3527616c-2c5c-4142-809e-3f7faa81299f",
   "metadata": {},
   "outputs": [
    {
     "name": "stdout",
     "output_type": "stream",
     "text": [
      "b't?ll me your name '\n"
     ]
    }
   ],
   "source": [
    "hi=\"tell me your name \"\n",
    "c=hi.encode()\n",
    "print(c)"
   ]
  },
  {
   "cell_type": "code",
   "execution_count": 73,
   "id": "c4f0af89-9c20-4ce2-9596-2cfbb6163e35",
   "metadata": {},
   "outputs": [
    {
     "name": "stdout",
     "output_type": "stream",
     "text": [
      "b'venkatesh'\n"
     ]
    }
   ],
   "source": [
    "value=\"venkatesh\"\n",
    "en_code=value.encode('ascii', 'replace')\n",
    "print(en_code)"
   ]
  },
  {
   "cell_type": "code",
   "execution_count": 81,
   "id": "22a6bd15-b96e-42cf-83bd-3b4b260949cf",
   "metadata": {},
   "outputs": [
    {
     "name": "stdout",
     "output_type": "stream",
     "text": [
      "tell me your name \n"
     ]
    }
   ],
   "source": [
    "hi=\"tell me your name \"\n",
    "c=hi.format({'45'})\n",
    "print(c)\n"
   ]
  },
  {
   "cell_type": "code",
   "execution_count": 101,
   "id": "323fdebb-7580-4773-a28e-e6b4ab851ca9",
   "metadata": {},
   "outputs": [
    {
     "name": "stdout",
     "output_type": "stream",
     "text": [
      "-1\n"
     ]
    }
   ],
   "source": [
    "a=\"venkatesh\"\n",
    "vowel=\"aeiou\"\n",
    "print(a.find('aeiou'))"
   ]
  },
  {
   "cell_type": "markdown",
   "id": "42423106-1b6c-4c61-8c38-ab250d31beb4",
   "metadata": {},
   "source": [
    "# **strip in string**\n",
    "- strip is in three types\n",
    "- there are three types\n",
    "  - left strip=lstrip===it removes the left side of the string spaces\n",
    "  - rightstrip=rstrip== it removes the right side of the string spaces\n",
    "  - strip=strip=== it removes the white spaces both sides of the string\n",
    "\n",
    "\n",
    "\n"
   ]
  },
  {
   "cell_type": "code",
   "execution_count": 140,
   "id": "6f020288-de79-4486-abc9-76fc4195763f",
   "metadata": {},
   "outputs": [
    {
     "data": {
      "text/plain": [
       "('hai how are you', 'hai how are you', 'hai how are you')"
      ]
     },
     "execution_count": 140,
     "metadata": {},
     "output_type": "execute_result"
    }
   ],
   "source": [
    "h=\"***hai how are you\"\n",
    "v=\"hai how are you******\"\n",
    "c=\"****hai how are you******\"\n",
    "h.lstrip(\"*\"),v.rstrip(\"*\"),c.strip(\"*\")"
   ]
  },
  {
   "cell_type": "code",
   "execution_count": 5,
   "id": "71ea4c8b-6fed-44f8-a6d3-2afb948d03ea",
   "metadata": {},
   "outputs": [
    {
     "name": "stdout",
     "output_type": "stream",
     "text": [
      "venk atesh\n"
     ]
    }
   ],
   "source": [
    "a=\"        venk atesh     \"\n",
    "b=a.strip()\n",
    "print(b)"
   ]
  },
  {
   "cell_type": "code",
   "execution_count": 145,
   "id": "2660eb19-b4d8-41e0-ac88-3464bfe0f739",
   "metadata": {},
   "outputs": [
    {
     "ename": "AttributeError",
     "evalue": "'str' object has no attribute 'isidentifieride'",
     "output_type": "error",
     "traceback": [
      "\u001b[1;31m---------------------------------------------------------------------------\u001b[0m",
      "\u001b[1;31mAttributeError\u001b[0m                            Traceback (most recent call last)",
      "Cell \u001b[1;32mIn[145], line 2\u001b[0m\n\u001b[0;32m      1\u001b[0m d\u001b[38;5;241m=\u001b[39m\u001b[38;5;124m\"\u001b[39m\u001b[38;5;124mnamaste bagunnara em chasetunnav\u001b[39m\u001b[38;5;124m\"\u001b[39m\n\u001b[1;32m----> 2\u001b[0m f\u001b[38;5;241m=\u001b[39md\u001b[38;5;241m.\u001b[39misidentifieride(\u001b[38;5;124m\"\u001b[39m\u001b[38;5;124m#\u001b[39m\u001b[38;5;124m\"\u001b[39m)\n\u001b[0;32m      3\u001b[0m \u001b[38;5;28mprint\u001b[39m(f)\n",
      "\u001b[1;31mAttributeError\u001b[0m: 'str' object has no attribute 'isidentifieride'"
     ]
    }
   ],
   "source": [
    "d=\"namaste bagunnara em chasetunnav\"\n",
    "f=d.isidentifieride()\n",
    "print(f)"
   ]
  },
  {
   "cell_type": "code",
   "execution_count": 148,
   "id": "1ec5be66-7060-4a16-9834-64da47504c02",
   "metadata": {},
   "outputs": [
    {
     "name": "stdout",
     "output_type": "stream",
     "text": [
      "Help on bool object:\n",
      "\n",
      "class bool(int)\n",
      " |  bool(x) -> bool\n",
      " |\n",
      " |  Returns True when the argument x is true, False otherwise.\n",
      " |  The builtins True and False are the only two instances of the class bool.\n",
      " |  The class bool is a subclass of the class int, and cannot be subclassed.\n",
      " |\n",
      " |  Method resolution order:\n",
      " |      bool\n",
      " |      int\n",
      " |      object\n",
      " |\n",
      " |  Methods defined here:\n",
      " |\n",
      " |  __and__(self, value, /)\n",
      " |      Return self&value.\n",
      " |\n",
      " |  __invert__(self, /)\n",
      " |      ~self\n",
      " |\n",
      " |  __or__(self, value, /)\n",
      " |      Return self|value.\n",
      " |\n",
      " |  __rand__(self, value, /)\n",
      " |      Return value&self.\n",
      " |\n",
      " |  __repr__(self, /)\n",
      " |      Return repr(self).\n",
      " |\n",
      " |  __ror__(self, value, /)\n",
      " |      Return value|self.\n",
      " |\n",
      " |  __rxor__(self, value, /)\n",
      " |      Return value^self.\n",
      " |\n",
      " |  __xor__(self, value, /)\n",
      " |      Return self^value.\n",
      " |\n",
      " |  ----------------------------------------------------------------------\n",
      " |  Static methods defined here:\n",
      " |\n",
      " |  __new__(*args, **kwargs)\n",
      " |      Create and return a new object.  See help(type) for accurate signature.\n",
      " |\n",
      " |  ----------------------------------------------------------------------\n",
      " |  Methods inherited from int:\n",
      " |\n",
      " |  __abs__(self, /)\n",
      " |      abs(self)\n",
      " |\n",
      " |  __add__(self, value, /)\n",
      " |      Return self+value.\n",
      " |\n",
      " |  __bool__(self, /)\n",
      " |      True if self else False\n",
      " |\n",
      " |  __ceil__(...)\n",
      " |      Ceiling of an Integral returns itself.\n",
      " |\n",
      " |  __divmod__(self, value, /)\n",
      " |      Return divmod(self, value).\n",
      " |\n",
      " |  __eq__(self, value, /)\n",
      " |      Return self==value.\n",
      " |\n",
      " |  __float__(self, /)\n",
      " |      float(self)\n",
      " |\n",
      " |  __floor__(...)\n",
      " |      Flooring an Integral returns itself.\n",
      " |\n",
      " |  __floordiv__(self, value, /)\n",
      " |      Return self//value.\n",
      " |\n",
      " |  __format__(self, format_spec, /)\n",
      " |      Convert to a string according to format_spec.\n",
      " |\n",
      " |  __ge__(self, value, /)\n",
      " |      Return self>=value.\n",
      " |\n",
      " |  __getattribute__(self, name, /)\n",
      " |      Return getattr(self, name).\n",
      " |\n",
      " |  __getnewargs__(self, /)\n",
      " |\n",
      " |  __gt__(self, value, /)\n",
      " |      Return self>value.\n",
      " |\n",
      " |  __hash__(self, /)\n",
      " |      Return hash(self).\n",
      " |\n",
      " |  __index__(self, /)\n",
      " |      Return self converted to an integer, if self is suitable for use as an index into a list.\n",
      " |\n",
      " |  __int__(self, /)\n",
      " |      int(self)\n",
      " |\n",
      " |  __le__(self, value, /)\n",
      " |      Return self<=value.\n",
      " |\n",
      " |  __lshift__(self, value, /)\n",
      " |      Return self<<value.\n",
      " |\n",
      " |  __lt__(self, value, /)\n",
      " |      Return self<value.\n",
      " |\n",
      " |  __mod__(self, value, /)\n",
      " |      Return self%value.\n",
      " |\n",
      " |  __mul__(self, value, /)\n",
      " |      Return self*value.\n",
      " |\n",
      " |  __ne__(self, value, /)\n",
      " |      Return self!=value.\n",
      " |\n",
      " |  __neg__(self, /)\n",
      " |      -self\n",
      " |\n",
      " |  __pos__(self, /)\n",
      " |      +self\n",
      " |\n",
      " |  __pow__(self, value, mod=None, /)\n",
      " |      Return pow(self, value, mod).\n",
      " |\n",
      " |  __radd__(self, value, /)\n",
      " |      Return value+self.\n",
      " |\n",
      " |  __rdivmod__(self, value, /)\n",
      " |      Return divmod(value, self).\n",
      " |\n",
      " |  __rfloordiv__(self, value, /)\n",
      " |      Return value//self.\n",
      " |\n",
      " |  __rlshift__(self, value, /)\n",
      " |      Return value<<self.\n",
      " |\n",
      " |  __rmod__(self, value, /)\n",
      " |      Return value%self.\n",
      " |\n",
      " |  __rmul__(self, value, /)\n",
      " |      Return value*self.\n",
      " |\n",
      " |  __round__(...)\n",
      " |      Rounding an Integral returns itself.\n",
      " |\n",
      " |      Rounding with an ndigits argument also returns an integer.\n",
      " |\n",
      " |  __rpow__(self, value, mod=None, /)\n",
      " |      Return pow(value, self, mod).\n",
      " |\n",
      " |  __rrshift__(self, value, /)\n",
      " |      Return value>>self.\n",
      " |\n",
      " |  __rshift__(self, value, /)\n",
      " |      Return self>>value.\n",
      " |\n",
      " |  __rsub__(self, value, /)\n",
      " |      Return value-self.\n",
      " |\n",
      " |  __rtruediv__(self, value, /)\n",
      " |      Return value/self.\n",
      " |\n",
      " |  __sizeof__(self, /)\n",
      " |      Returns size in memory, in bytes.\n",
      " |\n",
      " |  __sub__(self, value, /)\n",
      " |      Return self-value.\n",
      " |\n",
      " |  __truediv__(self, value, /)\n",
      " |      Return self/value.\n",
      " |\n",
      " |  __trunc__(...)\n",
      " |      Truncating an Integral returns itself.\n",
      " |\n",
      " |  as_integer_ratio(self, /)\n",
      " |      Return a pair of integers, whose ratio is equal to the original int.\n",
      " |\n",
      " |      The ratio is in lowest terms and has a positive denominator.\n",
      " |\n",
      " |      >>> (10).as_integer_ratio()\n",
      " |      (10, 1)\n",
      " |      >>> (-10).as_integer_ratio()\n",
      " |      (-10, 1)\n",
      " |      >>> (0).as_integer_ratio()\n",
      " |      (0, 1)\n",
      " |\n",
      " |  bit_count(self, /)\n",
      " |      Number of ones in the binary representation of the absolute value of self.\n",
      " |\n",
      " |      Also known as the population count.\n",
      " |\n",
      " |      >>> bin(13)\n",
      " |      '0b1101'\n",
      " |      >>> (13).bit_count()\n",
      " |      3\n",
      " |\n",
      " |  bit_length(self, /)\n",
      " |      Number of bits necessary to represent self in binary.\n",
      " |\n",
      " |      >>> bin(37)\n",
      " |      '0b100101'\n",
      " |      >>> (37).bit_length()\n",
      " |      6\n",
      " |\n",
      " |  conjugate(...)\n",
      " |      Returns self, the complex conjugate of any int.\n",
      " |\n",
      " |  is_integer(self, /)\n",
      " |      Returns True. Exists for duck type compatibility with float.is_integer.\n",
      " |\n",
      " |  to_bytes(self, /, length=1, byteorder='big', *, signed=False)\n",
      " |      Return an array of bytes representing an integer.\n",
      " |\n",
      " |      length\n",
      " |        Length of bytes object to use.  An OverflowError is raised if the\n",
      " |        integer is not representable with the given number of bytes.  Default\n",
      " |        is length 1.\n",
      " |      byteorder\n",
      " |        The byte order used to represent the integer.  If byteorder is 'big',\n",
      " |        the most significant byte is at the beginning of the byte array.  If\n",
      " |        byteorder is 'little', the most significant byte is at the end of the\n",
      " |        byte array.  To request the native byte order of the host system, use\n",
      " |        `sys.byteorder' as the byte order value.  Default is to use 'big'.\n",
      " |      signed\n",
      " |        Determines whether two's complement is used to represent the integer.\n",
      " |        If signed is False and a negative integer is given, an OverflowError\n",
      " |        is raised.\n",
      " |\n",
      " |  ----------------------------------------------------------------------\n",
      " |  Class methods inherited from int:\n",
      " |\n",
      " |  from_bytes(bytes, byteorder='big', *, signed=False)\n",
      " |      Return the integer represented by the given array of bytes.\n",
      " |\n",
      " |      bytes\n",
      " |        Holds the array of bytes to convert.  The argument must either\n",
      " |        support the buffer protocol or be an iterable object producing bytes.\n",
      " |        Bytes and bytearray are examples of built-in objects that support the\n",
      " |        buffer protocol.\n",
      " |      byteorder\n",
      " |        The byte order used to represent the integer.  If byteorder is 'big',\n",
      " |        the most significant byte is at the beginning of the byte array.  If\n",
      " |        byteorder is 'little', the most significant byte is at the end of the\n",
      " |        byte array.  To request the native byte order of the host system, use\n",
      " |        `sys.byteorder' as the byte order value.  Default is to use 'big'.\n",
      " |      signed\n",
      " |        Indicates whether two's complement is used to represent the integer.\n",
      " |\n",
      " |  ----------------------------------------------------------------------\n",
      " |  Data descriptors inherited from int:\n",
      " |\n",
      " |  denominator\n",
      " |      the denominator of a rational number in lowest terms\n",
      " |\n",
      " |  imag\n",
      " |      the imaginary part of a complex number\n",
      " |\n",
      " |  numerator\n",
      " |      the numerator of a rational number in lowest terms\n",
      " |\n",
      " |  real\n",
      " |      the real part of a complex number\n",
      "\n"
     ]
    }
   ],
   "source": [
    "d=\"namaste bagunnara em chasetunnav\"\n",
    "help(d.isidentifier())"
   ]
  },
  {
   "cell_type": "code",
   "execution_count": 152,
   "id": "52bf3581-d06e-4aa9-b651-c22d65c37c35",
   "metadata": {},
   "outputs": [
    {
     "data": {
      "text/plain": [
       "False"
      ]
     },
     "execution_count": 152,
     "metadata": {},
     "output_type": "execute_result"
    }
   ],
   "source": [
    "d.isidentifier()"
   ]
  },
  {
   "cell_type": "code",
   "execution_count": 154,
   "id": "f5e5a395-9347-417e-811b-94ddee3a4f34",
   "metadata": {},
   "outputs": [
    {
     "ename": "AttributeError",
     "evalue": "'str' object has no attribute 'isidentifieride'",
     "output_type": "error",
     "traceback": [
      "\u001b[1;31m---------------------------------------------------------------------------\u001b[0m",
      "\u001b[1;31mAttributeError\u001b[0m                            Traceback (most recent call last)",
      "Cell \u001b[1;32mIn[154], line 1\u001b[0m\n\u001b[1;32m----> 1\u001b[0m help(d\u001b[38;5;241m.\u001b[39misidentifieride())\n",
      "\u001b[1;31mAttributeError\u001b[0m: 'str' object has no attribute 'isidentifieride'"
     ]
    }
   ],
   "source": []
  },
  {
   "cell_type": "code",
   "execution_count": 170,
   "id": "2e697efc-1ad1-42bd-bc1d-a56927a3b06c",
   "metadata": {},
   "outputs": [
    {
     "name": "stdout",
     "output_type": "stream",
     "text": [
      "17\n",
      "v #v #v #v #v #v #v #v #v #v #v #v #v #v #v #v #v #"
     ]
    }
   ],
   "source": [
    "a=\"i=python is basic\"\n",
    "print(len(a))\n",
    "b=\"v\"\n",
    "for i in a:\n",
    "    for x in b:\n",
    "        print(x,end=\" #\")\n",
    "#it will print how many letters in a variable contains that times loop continues"
   ]
  },
  {
   "cell_type": "code",
   "execution_count": 168,
   "id": "5068bf67-dede-4f32-a28d-b3b423d2e758",
   "metadata": {},
   "outputs": [
    {
     "data": {
      "text/plain": [
       "['i=python', 'is', 'basic']"
      ]
     },
     "execution_count": 168,
     "metadata": {},
     "output_type": "execute_result"
    }
   ],
   "source": [
    "a=\"i=python is basic\"\n",
    "a.split()"
   ]
  },
  {
   "cell_type": "markdown",
   "id": "23e98b3d-aa63-4793-9d2a-88460b7b6f95",
   "metadata": {},
   "source": [
    "# **how to replace the only second letter**"
   ]
  },
  {
   "cell_type": "code",
   "execution_count": 14,
   "id": "2763ebbb-d889-4324-8327-837d050bf830",
   "metadata": {},
   "outputs": [
    {
     "data": {
      "text/plain": [
       "'$esta$t'"
      ]
     },
     "execution_count": 14,
     "metadata": {},
     "output_type": "execute_result"
    }
   ],
   "source": [
    "str1='restart'\n",
    "# ans:\"resta$t\"\n",
    "str1.replace(\"r\",\"$\")"
   ]
  },
  {
   "cell_type": "markdown",
   "id": "9d4ae51c-b56f-4970-9985-b2aeff860088",
   "metadata": {},
   "source": [
    "- till first 'r' is one string\n",
    "- after first 'r' is the another string"
   ]
  },
  {
   "cell_type": "code",
   "execution_count": 17,
   "id": "fbec0b48-6276-45a4-b581-57d4d7d7b7fe",
   "metadata": {},
   "outputs": [
    {
     "name": "stdout",
     "output_type": "stream",
     "text": [
      "resta$t\n"
     ]
    }
   ],
   "source": [
    "str1='restart'\n",
    "# ans:\"resta$t\"\n",
    "s1=str1[0]\n",
    "s2=str1[1:]\n",
    "s3=s2.replace(\"r\",\"$\")\n",
    "print(s1+s3)\n"
   ]
  },
  {
   "cell_type": "code",
   "execution_count": 19,
   "id": "e443e4cc-5ff8-4ddf-94a0-b472ec39b9ea",
   "metadata": {},
   "outputs": [
    {
     "data": {
      "text/plain": [
       "'resta$t'"
      ]
     },
     "execution_count": 19,
     "metadata": {},
     "output_type": "execute_result"
    }
   ],
   "source": [
    "str1='restart'\n",
    "# ans:\"resta$t\"\n",
    "str1[::-1].replace(\"r\",\"$\",1)[::-1] # another way is to written the answer."
   ]
  },
  {
   "cell_type": "markdown",
   "id": "5cbc49ca-3044-4e2e-95db-fb00f84174d8",
   "metadata": {},
   "source": [
    "# **index and find method**"
   ]
  },
  {
   "cell_type": "markdown",
   "id": "ace4851c-659c-41e4-9aa6-d634002ce91c",
   "metadata": {},
   "source": [
    "# index"
   ]
  },
  {
   "cell_type": "code",
   "execution_count": 23,
   "id": "474569b3-87e5-45f4-afe5-d1454804a00d",
   "metadata": {},
   "outputs": [
    {
     "data": {
      "text/plain": [
       "11"
      ]
     },
     "execution_count": 23,
     "metadata": {},
     "output_type": "execute_result"
    }
   ],
   "source": [
    "str1=\"hi hello how are you\"\n",
    "str1.index(\"w\")"
   ]
  },
  {
   "cell_type": "code",
   "execution_count": 25,
   "id": "185607ba-e5b9-4e28-b112-c3e09d5b0ae5",
   "metadata": {},
   "outputs": [
    {
     "data": {
      "text/plain": [
       "5"
      ]
     },
     "execution_count": 25,
     "metadata": {},
     "output_type": "execute_result"
    }
   ],
   "source": [
    "str1=\"hi hello how are you\"\n",
    "str1.index(\"l\") # it gives the lowest index value only when there are multiple values"
   ]
  },
  {
   "cell_type": "code",
   "execution_count": 29,
   "id": "e7c39d4b-0ced-4e59-b28a-1a72340d2aee",
   "metadata": {},
   "outputs": [
    {
     "data": {
      "text/plain": [
       "(0, 3, 9, 21)"
      ]
     },
     "execution_count": 29,
     "metadata": {},
     "output_type": "execute_result"
    }
   ],
   "source": [
    "str1=\"hi hello how are you hai\"\n",
    "i1=str1.index('h') # it shows the first index of 'h'\n",
    "i2=str1.index('h',i1+1) # we are sarching for 'h' from i1+1(0+1=1) increase the index til 'h'\n",
    "i3=str1.index('h',i2+1) # we are sarching for 'h' from i2+1(3+1=1)increase the index til 'h'\n",
    "i4=str1.index('h',i3+1) # we are sarching for 'h' from i3+1(9+1=1)increase the index til 'h'\n",
    "i1,i2,i3,i4"
   ]
  },
  {
   "cell_type": "code",
   "execution_count": null,
   "id": "3f8d586c-75b2-494b-86bf-87ae15e954a7",
   "metadata": {},
   "outputs": [],
   "source": [
    "str1=\"hi hello how are you hai\"\n",
    "i1=str1.index('h') # it shows the first index of 'h'\n",
    "i2=str1.index('h',i1+1,) # we are sarching for 'h' from i1+1(0+1=1) increase the index til 'h'\n",
    "i3=str1.index('h',i2+1) # we are sarching for 'h' from i2+1(3+1=1)increase the index til 'h'\n",
    "i4=str1.index('h',i3+1) # we are sarching for 'h' from i3+1(9+1=1)increase the index til 'h'\n",
    "i1,i2,i3,i4"
   ]
  },
  {
   "cell_type": "code",
   "execution_count": 31,
   "id": "841f9b65-f79f-4da1-a9b1-c51818f6ce9c",
   "metadata": {},
   "outputs": [
    {
     "data": {
      "text/plain": [
       "21"
      ]
     },
     "execution_count": 31,
     "metadata": {},
     "output_type": "execute_result"
    }
   ],
   "source": [
    "# another way of this logic written\n",
    "str1.index('h',str1.index('h',str1.index('h',str1.index('h')+1)+1)+1)"
   ]
  },
  {
   "cell_type": "code",
   "execution_count": 51,
   "id": "f90cbcb7-de7f-4004-a18a-e48a9af9bf5c",
   "metadata": {},
   "outputs": [
    {
     "data": {
      "text/plain": [
       "'restart $estart'"
      ]
     },
     "execution_count": 51,
     "metadata": {},
     "output_type": "execute_result"
    }
   ],
   "source": [
    "str2='restart restart'\n",
    "s1=str2.index('r')\n",
    "s2=str2.index('r',s1+1)\n",
    "i1=str2[:s2+1]  # restar :strating : second_r_index+1\n",
    "s3=str2[s2+1:]  # t restar : starting: end of the string\n",
    "s4=s3.replace('r',\"$\",1)\n",
    "i1+s4"
   ]
  },
  {
   "cell_type": "markdown",
   "id": "2c20b2dc-f423-42f2-986e-02b636d68247",
   "metadata": {},
   "source": [
    "# find\n",
    "- this is used to find the value but it not shows the error\n",
    "- incase the find letter is not there it gives -1\n",
    "- find didnot gives any error"
   ]
  },
  {
   "cell_type": "code",
   "execution_count": 55,
   "id": "1bfaebe8-06d8-4fb5-9c0b-384d7d8f0a5b",
   "metadata": {},
   "outputs": [
    {
     "data": {
      "text/plain": [
       "(0, 3, 9, 21)"
      ]
     },
     "execution_count": 55,
     "metadata": {},
     "output_type": "execute_result"
    }
   ],
   "source": [
    "str1=\"hi hello how are you hai\"\n",
    "i1=str1.find('h') # it shows the first index of 'h'\n",
    "i2=str1.find('h',i1+1) # we are sarching for 'h' from i1+1(0+1=1) increase the index til 'h'\n",
    "i3=str1.find('h',i2+1) # we are sarching for 'h' from i2+1(3+1=1)increase the index til 'h'\n",
    "i4=str1.find('h',i3+1) # we are sarching for 'h' from i3+1(9+1=1)increase the index til 'h'\n",
    "i1,i2,i3,i4"
   ]
  },
  {
   "cell_type": "markdown",
   "id": "4fedbf63-d667-4c93-ab62-99feb78623d5",
   "metadata": {},
   "source": [
    "# find vs index\n",
    "- index and find both are same to find the index of a letter\n",
    "- if any substring not found index will throw error\n",
    "- but find method will give -1"
   ]
  },
  {
   "cell_type": "markdown",
   "id": "4e1f9e1b-353b-4491-a4de-bfbea991081e",
   "metadata": {},
   "source": [
    "# **count**"
   ]
  },
  {
   "cell_type": "code",
   "execution_count": 60,
   "id": "bef32eac-19c7-4551-a8f2-be9221e107c8",
   "metadata": {},
   "outputs": [
    {
     "data": {
      "text/plain": [
       "4"
      ]
     },
     "execution_count": 60,
     "metadata": {},
     "output_type": "execute_result"
    }
   ],
   "source": [
    "str1=\"hai hai hai hai\"\n",
    "str1.count('a')"
   ]
  },
  {
   "cell_type": "code",
   "execution_count": 62,
   "id": "8db7c776-2190-4596-81e8-88a0df6b2329",
   "metadata": {},
   "outputs": [
    {
     "name": "stdout",
     "output_type": "stream",
     "text": [
      "the count of a is 4\n"
     ]
    }
   ],
   "source": [
    "# it is basic method to improve the logic but insteed of this we use count method count()\n",
    "str1=\"hai hai hai hai\"   \n",
    "count=0\n",
    "for i in str1:\n",
    "    if i==\"a\":\n",
    "        count+=1\n",
    "print(f'the count of a is {count}')"
   ]
  },
  {
   "cell_type": "code",
   "execution_count": 64,
   "id": "d3dcd098-00c1-4d4c-aea9-0d7e12cec1a1",
   "metadata": {},
   "outputs": [
    {
     "data": {
      "text/plain": [
       "3"
      ]
     },
     "execution_count": 64,
     "metadata": {},
     "output_type": "execute_result"
    }
   ],
   "source": [
    "str1=\"hai hai hai hai\"\n",
    "str1.count('a',2,-1)"
   ]
  },
  {
   "cell_type": "code",
   "execution_count": 80,
   "id": "244bea3c-cf6b-43db-b5dc-1acb29e51ac0",
   "metadata": {},
   "outputs": [
    {
     "data": {
      "text/plain": [
       "1"
      ]
     },
     "execution_count": 80,
     "metadata": {},
     "output_type": "execute_result"
    }
   ],
   "source": [
    "str1=\"hai hai hai hai\"\n",
    "str1.count('a',2,6) # start and end of the index"
   ]
  },
  {
   "cell_type": "code",
   "execution_count": 78,
   "id": "aa565c59-2f05-42c3-b64d-07bb99627f6c",
   "metadata": {},
   "outputs": [
    {
     "name": "stdout",
     "output_type": "stream",
     "text": [
      "the count of a is 0\n"
     ]
    }
   ],
   "source": [
    "str1=\"hai hai hai hai\"   \n",
    "count=0\n",
    "for i in str1:\n",
    "    if i=='hai hai hai hai':\n",
    "        count+=1\n",
    "print(f'the count of a is {count}')"
   ]
  },
  {
   "cell_type": "code",
   "execution_count": 76,
   "id": "350ade65-88ba-4f73-b9f6-0edeef966f75",
   "metadata": {},
   "outputs": [
    {
     "data": {
      "text/plain": [
       "1"
      ]
     },
     "execution_count": 76,
     "metadata": {},
     "output_type": "execute_result"
    }
   ],
   "source": [
    "str1=\"hai hai hai hai\"\n",
    "str1.count('hai hai hai hai')"
   ]
  },
  {
   "cell_type": "code",
   "execution_count": 82,
   "id": "4da71aa8-789d-407a-aa77-df216cbde599",
   "metadata": {},
   "outputs": [
    {
     "name": "stdout",
     "output_type": "stream",
     "text": [
      "the count of a is 0\n"
     ]
    }
   ],
   "source": [
    "str1=\"hai hai hai hai\"   \n",
    "count=0\n",
    "for i in str1:\n",
    "    if i=='ha':\n",
    "        count+=1\n",
    "print(f'the count of a is {count}')"
   ]
  },
  {
   "cell_type": "markdown",
   "id": "c769324e-44b7-4ff0-b5aa-93436c65a42b",
   "metadata": {},
   "source": [
    "# **sliding wimdow approach**\n",
    "# sliding window approach we will get the count of a substring "
   ]
  },
  {
   "cell_type": "code",
   "execution_count": 87,
   "id": "a36ba898-c2db-46fa-8b19-30110907aa53",
   "metadata": {},
   "outputs": [
    {
     "name": "stdout",
     "output_type": "stream",
     "text": [
      "the count of a is 4\n"
     ]
    }
   ],
   "source": [
    "str1=\"hai hai hai hai\"   \n",
    "count=0\n",
    "for i in range(len(str1)):\n",
    "    if str1[i:i+3]=='hai':\n",
    "        count+=1\n",
    "print(f'the count of a is {count}')\n",
    "# step1= i=0 if string str1[0:0+3]: hai=hai # true then count=1\n",
    "# step2= i=1 if string str1[1:1+3]: 'ai '=hai # false\n",
    "# step3= i=2 if string str1[2:2+3]: 'i h'=hai # false\n",
    "# step4= i=3 if string str1[3:3+3]: ' ha'=hai # false\n",
    "# step5= i=4 if string str1[4:4+3]: hai=hai # true then count=2"
   ]
  },
  {
   "cell_type": "code",
   "execution_count": 117,
   "id": "dd3c02d2-b5b3-48bc-8f15-0534ba81c87a",
   "metadata": {},
   "outputs": [
    {
     "name": "stdout",
     "output_type": "stream",
     "text": [
      "first name virat\n",
      "second name kohli\n",
      "company name rcb\n",
      "first name rohith\n",
      "second name sharma\n",
      "company name mi\n",
      "first name m\n",
      "second name dhoni\n",
      "company name chennai\n",
      "first name omkar\n",
      "second name nallagoni\n",
      "company name cts\n"
     ]
    }
   ],
   "source": [
    "str1='virat.kohli@rcb.com'\n",
    "\n",
    "\n",
    "# derive the code to get\n",
    "# first name, second name,cname\n",
    "# idea\n",
    "# find the first dot index\n",
    "# find the @ index\n",
    "# find the second.index\n",
    "\n",
    "s1=str1.index(\".\")\n",
    "s2=str1.index('@')\n",
    "s3=str1.index('.',s1+1)\n",
    "first=str1[:s1]\n",
    "second=str1[s1+1:s2]\n",
    "company=str1[s2+1:s3]\n",
    "print(f'first name {first}')\n",
    "print(f'second name {second}')\n",
    "print(f'company name {company}')\n",
    "\n",
    "\n",
    "str2='rohith.sharma@mi.com'\n",
    "r1=str2.index(\".\")\n",
    "r2=str2.index('@')\n",
    "r3=str2.index('.',r1+1)\n",
    "first_=str2[:r1]\n",
    "second_=str2[r1+1:r2]\n",
    "company_=str2[r2+1:r3]\n",
    "print(f'first name {first_}')\n",
    "print(f'second name {second_}')\n",
    "print(f'company name {company_}')\n",
    "\n",
    "\n",
    "str3='m.dhoni@chennai.com'\n",
    "s1=str3.index(\".\")\n",
    "s2=str3.index('@')\n",
    "s3=str3.index('.',s1+1)\n",
    "first=str3[:s1]\n",
    "second=str3[s1+1:s2]\n",
    "company=str3[s2+1:s3]\n",
    "print(f'first name {first}')\n",
    "print(f'second name {second}')\n",
    "print(f'company name {company}')\n",
    "\n",
    "str4='omkar.nallagoni@cts.com'\n",
    "s1=str4.index(\".\")\n",
    "s2=str4.index('@')\n",
    "s3=str4.index('.',s1+1)\n",
    "first=str4[:s1]\n",
    "second=str4[s1+1:s2]\n",
    "company=str4[s2+1:s3]\n",
    "print(f'first name {first}')\n",
    "print(f'second name {second}')\n",
    "print(f'company name {company}')\n"
   ]
  },
  {
   "cell_type": "code",
   "execution_count": 123,
   "id": "f8366b2b-e61e-4076-ac86-6cc5f031d085",
   "metadata": {},
   "outputs": [],
   "source": [
    "def separation():\n",
    "    str1=input('enter the data ')\n",
    "    s1=str1.index(\".\")\n",
    "    s2=str1.index('@')\n",
    "    s3=str1.index('.',s1+1)\n",
    "    first=str1[:s1]\n",
    "    second=str1[s1+1:s2]\n",
    "    company=str1[s2+1:s3]\n",
    "    print(f'first name {first}')\n",
    "    print(f'second name {second}')\n",
    "    print(f'company name {company}')\n",
    "\n",
    "    "
   ]
  },
  {
   "cell_type": "code",
   "execution_count": 125,
   "id": "80b813cf-10d4-4ed0-a7e6-77a4247a5dfa",
   "metadata": {},
   "outputs": [
    {
     "name": "stdin",
     "output_type": "stream",
     "text": [
      "enter the data  omkar.nallagoni@cts.com\n"
     ]
    },
    {
     "name": "stdout",
     "output_type": "stream",
     "text": [
      "first name omkar\n",
      "second name nallagoni\n",
      "company name cts\n"
     ]
    }
   ],
   "source": [
    "separation()"
   ]
  },
  {
   "cell_type": "code",
   "execution_count": 129,
   "id": "85d59733-a589-4309-8721-ce0a335a0de9",
   "metadata": {},
   "outputs": [
    {
     "name": "stdin",
     "output_type": "stream",
     "text": [
      "enter the name which details you want\n",
      "virat\n",
      "rohith\n",
      "dhoni\n",
      "omkar\n",
      " rohith\n"
     ]
    },
    {
     "name": "stdout",
     "output_type": "stream",
     "text": [
      "first name rohith\n",
      "second name sharma\n",
      "company name mi\n"
     ]
    }
   ],
   "source": [
    "def virat():\n",
    "    str1='virat.kohli@rcb.com'\n",
    "    s1=str1.index(\".\")\n",
    "    s2=str1.index('@')\n",
    "    s3=str1.index('.',s1+1)\n",
    "    first=str1[:s1]\n",
    "    second=str1[s1+1:s2]\n",
    "    company=str1[s2+1:s3]\n",
    "    print(f'first name {first}')\n",
    "    print(f'second name {second}')\n",
    "    print(f'company name {company}')\n",
    "def rohith():\n",
    "    str2='rohith.sharma@mi.com'\n",
    "    r1=str2.index(\".\")\n",
    "    r2=str2.index('@')\n",
    "    r3=str2.index('.',r1+1)\n",
    "    first_=str2[:r1]\n",
    "    second_=str2[r1+1:r2]\n",
    "    company_=str2[r2+1:r3]\n",
    "    print(f'first name {first_}')\n",
    "    print(f'second name {second_}')\n",
    "    print(f'company name {company_}')\n",
    "\n",
    "def dhoni():\n",
    "    str3='m.dhoni@chennai.com'\n",
    "    s1=str3.index(\".\")\n",
    "    s2=str3.index('@')\n",
    "    s3=str3.index('.',s1+1)\n",
    "    first=str3[:s1]\n",
    "    second=str3[s1+1:s2]\n",
    "    company=str3[s2+1:s3]\n",
    "    print(f'first name {first}')\n",
    "    print(f'second name {second}')\n",
    "    print(f'company name {company}')\n",
    "def omkar():\n",
    "    str4='omkar.nallagoni@cts.com'\n",
    "    s1=str4.index(\".\")\n",
    "    s2=str4.index('@')\n",
    "    s3=str4.index('.',s1+1)\n",
    "    first=str4[:s1]\n",
    "    second=str4[s1+1:s2]\n",
    "    company=str4[s2+1:s3]\n",
    "    print(f'first name {first}')\n",
    "    print(f'second name {second}')\n",
    "    print(f'company name {company}')\n",
    "\n",
    "choice=input('enter the name which details you want\\nvirat\\nrohith\\ndhoni\\nomkar\\n')\n",
    "\n",
    "if choice==\"virat\":\n",
    "    virat()\n",
    "elif choice==\"rohith\":\n",
    "    rohith()\n",
    "elif choice==\"dhoni\":\n",
    "    dhoni()\n",
    "elif choice==\"omkar\":\n",
    "    omkar()\n",
    "else:\n",
    "    print('enter a valid choice')"
   ]
  },
  {
   "cell_type": "markdown",
   "id": "30416969-378d-4cd1-8c95-70ec332bdbf0",
   "metadata": {},
   "source": [
    "# starts with and ends with"
   ]
  },
  {
   "cell_type": "code",
   "execution_count": 143,
   "id": "63c74d0c-2170-4ce6-85c1-10f40b2de66a",
   "metadata": {},
   "outputs": [
    {
     "data": {
      "text/plain": [
       "True"
      ]
     },
     "execution_count": 143,
     "metadata": {},
     "output_type": "execute_result"
    }
   ],
   "source": [
    "str1=\"how are you\"\n",
    "str1.startswith('how')"
   ]
  },
  {
   "cell_type": "code",
   "execution_count": 145,
   "id": "3c2d2d68-8075-48da-8851-f5a352be5881",
   "metadata": {},
   "outputs": [
    {
     "data": {
      "text/plain": [
       "True"
      ]
     },
     "execution_count": 145,
     "metadata": {},
     "output_type": "execute_result"
    }
   ],
   "source": [
    "str1.endswith('you')"
   ]
  },
  {
   "cell_type": "code",
   "execution_count": 147,
   "id": "7fc40cc5-dda2-4478-9ee0-88ee6251b87a",
   "metadata": {},
   "outputs": [
    {
     "data": {
      "text/plain": [
       "True"
      ]
     },
     "execution_count": 147,
     "metadata": {},
     "output_type": "execute_result"
    }
   ],
   "source": [
    "str1.endswith('u')"
   ]
  },
  {
   "cell_type": "code",
   "execution_count": 160,
   "id": "299fa0d8-088c-4358-b2ce-352481e3c041",
   "metadata": {},
   "outputs": [
    {
     "data": {
      "text/plain": [
       "False"
      ]
     },
     "execution_count": 160,
     "metadata": {},
     "output_type": "execute_result"
    }
   ],
   "source": [
    "str1.endswith(' ')"
   ]
  },
  {
   "cell_type": "markdown",
   "id": "d55e75bb-9162-4963-a0ec-358246e7b0df",
   "metadata": {},
   "source": [
    "**split**"
   ]
  },
  {
   "cell_type": "code",
   "execution_count": 152,
   "id": "1b60e7dc-cf03-46d7-8aae-a6cf6b935c85",
   "metadata": {},
   "outputs": [
    {
     "data": {
      "text/plain": [
       "['hello', 'how', 'are', 'you']"
      ]
     },
     "execution_count": 152,
     "metadata": {},
     "output_type": "execute_result"
    }
   ],
   "source": [
    "str1=\"hello how are you\"\n",
    "str1.split()\n",
    "#for i in range()"
   ]
  },
  {
   "cell_type": "code",
   "execution_count": 154,
   "id": "e3a42cdc-ee8c-4418-85e6-74fcee4d3b19",
   "metadata": {},
   "outputs": [
    {
     "data": {
      "text/plain": [
       "['hello', 'how', 'are', 'you']"
      ]
     },
     "execution_count": 154,
     "metadata": {},
     "output_type": "execute_result"
    }
   ],
   "source": [
    "str1=\"hello&how&are&you\"\n",
    "str1.split('&')"
   ]
  },
  {
   "cell_type": "code",
   "execution_count": 156,
   "id": "959c96a1-7632-4839-b677-bce27cc1bd0a",
   "metadata": {},
   "outputs": [
    {
     "data": {
      "text/plain": [
       "['', 'ello ', 'ow are you']"
      ]
     },
     "execution_count": 156,
     "metadata": {},
     "output_type": "execute_result"
    }
   ],
   "source": [
    "str1=\"hello how are you\"\n",
    "str1.split('h')"
   ]
  },
  {
   "cell_type": "code",
   "execution_count": 158,
   "id": "4c38f464-6f5d-45da-9379-a6ab1e2e80d7",
   "metadata": {},
   "outputs": [
    {
     "data": {
      "text/plain": [
       "['hello how ', 're you']"
      ]
     },
     "execution_count": 158,
     "metadata": {},
     "output_type": "execute_result"
    }
   ],
   "source": [
    "str1=\"hello how are you\"\n",
    "str1.split('a')"
   ]
  },
  {
   "cell_type": "code",
   "execution_count": null,
   "id": "a9a7f7d6-a24e-4fcd-b8d6-06e596fe495a",
   "metadata": {},
   "outputs": [],
   "source": [
    "# in a given sentence find the most repeated word\n",
    "# ina given dentence find the min max length of word\n",
    "# ina given sentence most occured second max length of word\n",
    "# sliding window\n",
    "# strings===list vise versa"
   ]
  },
  {
   "cell_type": "code",
   "execution_count": null,
   "id": "d4db0471-b4b4-4bba-bc3e-694246ad8b15",
   "metadata": {},
   "outputs": [],
   "source": [
    "#'isalnum',\n",
    "#'isalpha',\n",
    "#'isascii',\n",
    "#'isdecimal',\n",
    "#'isdigit',\n",
    "#'isidentifier',\n",
    "#'islower',\n",
    "#'isnumeric',\n",
    "#'isprintable',\n",
    "#'isspace',\n",
    "#'istitle',\n",
    "#'isupper',"
   ]
  },
  {
   "cell_type": "markdown",
   "id": "61a93d30-3fa7-4225-8cf5-9f6b61b0d328",
   "metadata": {},
   "source": [
    "# **is alnum**\n",
    "- is alnum gives the boolean values as output\n",
    "- is alnum when the string contains both alphabets and numeric\n",
    "- it gives true when both contains or any one of them it gives true  "
   ]
  },
  {
   "cell_type": "code",
   "execution_count": 1,
   "id": "af6a6805-9b14-4c61-8edf-d98787f3a518",
   "metadata": {},
   "outputs": [
    {
     "data": {
      "text/plain": [
       "True"
      ]
     },
     "execution_count": 1,
     "metadata": {},
     "output_type": "execute_result"
    }
   ],
   "source": [
    "str2=\"python\"\n",
    "str2.isalnum()"
   ]
  },
  {
   "cell_type": "markdown",
   "id": "a7cd44a3-0821-4b24-b7ab-426b88035233",
   "metadata": {},
   "source": [
    "# **isalpha**\n",
    "- is alpha gives the boolean values as output\n",
    "- is alpha only alphabets are true\n",
    "- numbers and special characters are present it gives false as out put\n",
    "   "
   ]
  },
  {
   "cell_type": "code",
   "execution_count": 5,
   "id": "2a1d93c4-040c-45fc-aa99-7b2ab8c16e11",
   "metadata": {},
   "outputs": [
    {
     "data": {
      "text/plain": [
       "True"
      ]
     },
     "execution_count": 5,
     "metadata": {},
     "output_type": "execute_result"
    }
   ],
   "source": [
    "str2=\"python\"\n",
    "str2.isalpha()"
   ]
  },
  {
   "cell_type": "code",
   "execution_count": 7,
   "id": "facd5be3-9331-44d9-9477-604965d76ee8",
   "metadata": {},
   "outputs": [
    {
     "data": {
      "text/plain": [
       "False"
      ]
     },
     "execution_count": 7,
     "metadata": {},
     "output_type": "execute_result"
    }
   ],
   "source": [
    "str2=\"python123\"\n",
    "str2.isalpha()"
   ]
  },
  {
   "cell_type": "code",
   "execution_count": 9,
   "id": "f024378c-d517-44a9-aca1-8f0cb553c266",
   "metadata": {},
   "outputs": [
    {
     "data": {
      "text/plain": [
       "False"
      ]
     },
     "execution_count": 9,
     "metadata": {},
     "output_type": "execute_result"
    }
   ],
   "source": [
    "str2=\"@#python\"\n",
    "str2.isalpha()"
   ]
  },
  {
   "cell_type": "markdown",
   "id": "2e487fcb-289d-46c9-b21a-adbd497c56ba",
   "metadata": {},
   "source": [
    "# **isascii**\n",
    "- Return True if all characters in the string are ASCII, False otherwise.\n",
    "- \r\n",
    "ASCII characters have code points in thRange7F- .\r\n",
    "Empty string ascii.\n",
    "- it does not gives error. oo."
   ]
  },
  {
   "cell_type": "code",
   "execution_count": 15,
   "id": "6c18d37f-3e37-4e27-a709-6e723a147170",
   "metadata": {},
   "outputs": [
    {
     "data": {
      "text/plain": [
       "True"
      ]
     },
     "execution_count": 15,
     "metadata": {},
     "output_type": "execute_result"
    }
   ],
   "source": [
    "str2=\"@#python\"\n",
    "str2.isascii()"
   ]
  },
  {
   "cell_type": "code",
   "execution_count": 17,
   "id": "063ebee4-8017-4958-aee1-ca9e67d020ef",
   "metadata": {},
   "outputs": [
    {
     "data": {
      "text/plain": [
       "True"
      ]
     },
     "execution_count": 17,
     "metadata": {},
     "output_type": "execute_result"
    }
   ],
   "source": [
    "str2=\"   \"\n",
    "str2.isascii()"
   ]
  },
  {
   "cell_type": "code",
   "execution_count": 19,
   "id": "9c2817fc-c844-4e39-89c2-3dca5199d62e",
   "metadata": {},
   "outputs": [
    {
     "data": {
      "text/plain": [
       "True"
      ]
     },
     "execution_count": 19,
     "metadata": {},
     "output_type": "execute_result"
    }
   ],
   "source": [
    "str2=\" #\"\n",
    "str2.isascii()"
   ]
  },
  {
   "cell_type": "markdown",
   "id": "794f4f93-c604-4623-be22-6b6e17eda69e",
   "metadata": {},
   "source": [
    "# **isdecimal**\n",
    "- return true if the string is a decimal string False otherwise \n",
    "- A string is a decimal string if all characters in the string are decimal and there\n",
    "  is at least one character in the string"
   ]
  },
  {
   "cell_type": "code",
   "execution_count": 31,
   "id": "31a81811-c885-4682-9c21-f45eaf5f59a0",
   "metadata": {},
   "outputs": [
    {
     "data": {
      "text/plain": [
       "False"
      ]
     },
     "execution_count": 31,
     "metadata": {},
     "output_type": "execute_result"
    }
   ],
   "source": [
    "str2=\"python\"\n",
    "str2.isdecimal()"
   ]
  },
  {
   "cell_type": "code",
   "execution_count": 33,
   "id": "b18aacc7-e2ad-42c6-92f5-af128851f41a",
   "metadata": {},
   "outputs": [
    {
     "data": {
      "text/plain": [
       "False"
      ]
     },
     "execution_count": 33,
     "metadata": {},
     "output_type": "execute_result"
    }
   ],
   "source": [
    "str2=\"7.882\"\n",
    "str2.isdecimal()"
   ]
  },
  {
   "cell_type": "code",
   "execution_count": 35,
   "id": "9e88d0e3-6a1b-4cd2-b2a4-500ec504637c",
   "metadata": {},
   "outputs": [
    {
     "data": {
      "text/plain": [
       "True"
      ]
     },
     "execution_count": 35,
     "metadata": {},
     "output_type": "execute_result"
    }
   ],
   "source": [
    "str2=\"7882\"\n",
    "str2.isdecimal()"
   ]
  },
  {
   "cell_type": "markdown",
   "id": "93f60c6f-a940-434f-a812-99260a4c8d2f",
   "metadata": {},
   "source": [
    "# **isdigit**\n",
    "- return True if the string is a digit string, False otherwise\n",
    "- A string is a digit string if all characters in the string are digits and\n",
    "- there is atleast one character in the string"
   ]
  },
  {
   "cell_type": "code",
   "execution_count": 37,
   "id": "64c1334a-ee78-4752-9405-600db13b07d3",
   "metadata": {},
   "outputs": [
    {
     "data": {
      "text/plain": [
       "False"
      ]
     },
     "execution_count": 37,
     "metadata": {},
     "output_type": "execute_result"
    }
   ],
   "source": [
    "str2=\"python123\"\n",
    "str2.isdigit()"
   ]
  },
  {
   "cell_type": "code",
   "execution_count": 39,
   "id": "dde0670a-bf91-44fe-b525-91a17a9d1ce0",
   "metadata": {},
   "outputs": [
    {
     "data": {
      "text/plain": [
       "True"
      ]
     },
     "execution_count": 39,
     "metadata": {},
     "output_type": "execute_result"
    }
   ],
   "source": [
    "str2=\"1234\"\n",
    "str2.isdigit()"
   ]
  },
  {
   "cell_type": "markdown",
   "id": "989b5734-5bd2-43ed-a0e4-c028497d5db3",
   "metadata": {},
   "source": [
    "# **isidentifier**\n",
    "- Return True if the string a valid python identifier, false otherwise.\n",
    "- call keyword.iskeyword(s) to test whether string s is a reserved identifier\n",
    "- such as \"def\" or \"class\"\n",
    "- isidentifier true when a valid identifier if it only contains alphanumeric letters (a-z)&(0-9) or underscore(_).\n",
    "- A valid identifier cannot start with a number, or contains any spaces it gives false\n",
    "- isidentifier deos not have any parameters"
   ]
  },
  {
   "cell_type": "code",
   "execution_count": 42,
   "id": "7dfcc923-7ac3-40c1-868e-636a401945df",
   "metadata": {},
   "outputs": [
    {
     "data": {
      "text/plain": [
       "False"
      ]
     },
     "execution_count": 42,
     "metadata": {},
     "output_type": "execute_result"
    }
   ],
   "source": [
    "str2.isidentifier()"
   ]
  },
  {
   "cell_type": "code",
   "execution_count": 1,
   "id": "ed88848e-d686-4966-b6b2-310db870d2a8",
   "metadata": {},
   "outputs": [
    {
     "data": {
      "text/plain": [
       "True"
      ]
     },
     "execution_count": 1,
     "metadata": {},
     "output_type": "execute_result"
    }
   ],
   "source": [
    "v=\"venkatesh\"\n",
    "v.isidentifier()"
   ]
  },
  {
   "cell_type": "code",
   "execution_count": 3,
   "id": "dfda648e-057a-4062-acb6-8866fc9d7e08",
   "metadata": {},
   "outputs": [
    {
     "data": {
      "text/plain": [
       "False"
      ]
     },
     "execution_count": 3,
     "metadata": {},
     "output_type": "execute_result"
    }
   ],
   "source": [
    "e=\"1234\"\n",
    "e.isidentifier()"
   ]
  },
  {
   "cell_type": "code",
   "execution_count": 6,
   "id": "95b2d65c-543b-4c02-9e6b-c9c3fc0bd2d8",
   "metadata": {},
   "outputs": [
    {
     "data": {
      "text/plain": [
       "True"
      ]
     },
     "execution_count": 6,
     "metadata": {},
     "output_type": "execute_result"
    }
   ],
   "source": [
    "n=\"python123\"\n",
    "n.isidentifier()"
   ]
  },
  {
   "cell_type": "code",
   "execution_count": 8,
   "id": "bdcf1e89-3d90-4464-a0c2-0c5da3878205",
   "metadata": {},
   "outputs": [
    {
     "data": {
      "text/plain": [
       "True"
      ]
     },
     "execution_count": 8,
     "metadata": {},
     "output_type": "execute_result"
    }
   ],
   "source": [
    "n=\"python_12345\"\n",
    "n.isidentifier()"
   ]
  },
  {
   "cell_type": "code",
   "execution_count": 10,
   "id": "3fd9685d-1b57-42df-ba63-bbbacaf01529",
   "metadata": {},
   "outputs": [
    {
     "data": {
      "text/plain": [
       "False"
      ]
     },
     "execution_count": 10,
     "metadata": {},
     "output_type": "execute_result"
    }
   ],
   "source": [
    "k=\"pyth on\"\n",
    "k.isidentifier()"
   ]
  },
  {
   "cell_type": "markdown",
   "id": "bc0b0f43-9298-47c4-8661-3595d79e8b7b",
   "metadata": {},
   "source": [
    "# islower\n",
    "- Return true if the string is a lowercase, otherwise false\n",
    "- A string is lower case in all the characters are also in lower case\n",
    "- and there is at least one cased characters in the string\n",
    "- except capital letters any thing in the string it takes as a lower case "
   ]
  },
  {
   "cell_type": "code",
   "execution_count": 12,
   "id": "ecfa45dc-7877-4956-9a50-c1aae66c53b2",
   "metadata": {},
   "outputs": [
    {
     "data": {
      "text/plain": [
       "True"
      ]
     },
     "execution_count": 12,
     "metadata": {},
     "output_type": "execute_result"
    }
   ],
   "source": [
    "s=\"venkatesh\"\n",
    "s.islower()"
   ]
  },
  {
   "cell_type": "code",
   "execution_count": 14,
   "id": "589d00cb-1727-4a47-a389-d6e33058ec0d",
   "metadata": {},
   "outputs": [
    {
     "data": {
      "text/plain": [
       "False"
      ]
     },
     "execution_count": 14,
     "metadata": {},
     "output_type": "execute_result"
    }
   ],
   "source": [
    "s1=\"Venkatesh\"\n",
    "s1.islower()"
   ]
  },
  {
   "cell_type": "code",
   "execution_count": 16,
   "id": "6a35c3fa-d18a-457e-8b8c-8126f5976099",
   "metadata": {},
   "outputs": [
    {
     "data": {
      "text/plain": [
       "True"
      ]
     },
     "execution_count": 16,
     "metadata": {},
     "output_type": "execute_result"
    }
   ],
   "source": [
    "s2=\"pyrhon1\"\n",
    "s2.islower()"
   ]
  },
  {
   "cell_type": "code",
   "execution_count": 18,
   "id": "f353293f-76c1-4558-8730-020afa4b8463",
   "metadata": {},
   "outputs": [
    {
     "data": {
      "text/plain": [
       "True"
      ]
     },
     "execution_count": 18,
     "metadata": {},
     "output_type": "execute_result"
    }
   ],
   "source": [
    "s3=\"123python\"\n",
    "s3.islower()"
   ]
  },
  {
   "cell_type": "code",
   "execution_count": 20,
   "id": "ad28917e-c94b-495b-aec9-e22429f49071",
   "metadata": {},
   "outputs": [
    {
     "data": {
      "text/plain": [
       "True"
      ]
     },
     "execution_count": 20,
     "metadata": {},
     "output_type": "execute_result"
    }
   ],
   "source": [
    "s4=\"python&%@123\"\n",
    "s4.islower()"
   ]
  },
  {
   "cell_type": "code",
   "execution_count": 23,
   "id": "4ee10386-53d1-4551-b52a-c93e43a12859",
   "metadata": {},
   "outputs": [
    {
     "data": {
      "text/plain": [
       "False"
      ]
     },
     "execution_count": 23,
     "metadata": {},
     "output_type": "execute_result"
    }
   ],
   "source": [
    "s5=\"heLLo@python\"\n",
    "s5.islower()"
   ]
  },
  {
   "cell_type": "code",
   "execution_count": 31,
   "id": "7b12fd40-3d23-4505-9482-a0ee68ce9732",
   "metadata": {},
   "outputs": [
    {
     "data": {
      "text/plain": [
       "True"
      ]
     },
     "execution_count": 31,
     "metadata": {},
     "output_type": "execute_result"
    }
   ],
   "source": [
    "s6=\"pytho n\"\n",
    "s6.islower()"
   ]
  },
  {
   "cell_type": "markdown",
   "id": "458d9053-9e79-457b-a0e8-a6bffb6bc55a",
   "metadata": {},
   "source": [
    "# isnumeric\n",
    "- Return True if the string is a numeric string, otherwise False\n",
    "- A string is a numeric if all the characters are also numeric in the string\n",
    "- and there is atleast one character in the string\n",
    "- in case one letter is another than numbers it gives false"
   ]
  },
  {
   "cell_type": "code",
   "execution_count": 27,
   "id": "a0557404-4e7f-4d8c-87f0-7481f47f9675",
   "metadata": {},
   "outputs": [
    {
     "data": {
      "text/plain": [
       "True"
      ]
     },
     "execution_count": 27,
     "metadata": {},
     "output_type": "execute_result"
    }
   ],
   "source": [
    "n=\"1234567\"\n",
    "n.isnumeric()"
   ]
  },
  {
   "cell_type": "code",
   "execution_count": 33,
   "id": "85064b90-54d2-4b2a-a254-295e87b2e479",
   "metadata": {},
   "outputs": [
    {
     "data": {
      "text/plain": [
       "False"
      ]
     },
     "execution_count": 33,
     "metadata": {},
     "output_type": "execute_result"
    }
   ],
   "source": [
    "n1=\"1234567 \"\n",
    "n1.isnumeric()\n"
   ]
  },
  {
   "cell_type": "code",
   "execution_count": 35,
   "id": "a7e52ba2-f776-4917-8524-0f77bce01430",
   "metadata": {},
   "outputs": [
    {
     "data": {
      "text/plain": [
       "False"
      ]
     },
     "execution_count": 35,
     "metadata": {},
     "output_type": "execute_result"
    }
   ],
   "source": [
    "n2=\"1234567a\"\n",
    "n2.isnumeric()"
   ]
  },
  {
   "cell_type": "code",
   "execution_count": 37,
   "id": "06c3dcb7-c01c-46bb-98ca-031a7dd26136",
   "metadata": {},
   "outputs": [
    {
     "data": {
      "text/plain": [
       "True"
      ]
     },
     "execution_count": 37,
     "metadata": {},
     "output_type": "execute_result"
    }
   ],
   "source": [
    "n3=\"9542597018\"\n",
    "n3.isnumeric()"
   ]
  },
  {
   "cell_type": "markdown",
   "id": "d1b6e5ca-12f1-43f6-b2a8-c673bfb6add3",
   "metadata": {},
   "source": [
    "# isprintable\n",
    "- Return True if the string is printable, False otherwise.\n",
    "- A string is printable if all of its characters are considered printable in\n",
    "repr() or if it is empty."
   ]
  },
  {
   "cell_type": "code",
   "execution_count": 39,
   "id": "ecbc7154-c107-440c-8b81-0b33040ef6c0",
   "metadata": {},
   "outputs": [
    {
     "data": {
      "text/plain": [
       "True"
      ]
     },
     "execution_count": 39,
     "metadata": {},
     "output_type": "execute_result"
    }
   ],
   "source": [
    "p=\"hello how are you\"\n",
    "p.isprintable()"
   ]
  },
  {
   "cell_type": "code",
   "execution_count": 42,
   "id": "6d643ff2-0d0b-4710-9027-533efb2d56e4",
   "metadata": {},
   "outputs": [
    {
     "data": {
      "text/plain": [
       "True"
      ]
     },
     "execution_count": 42,
     "metadata": {},
     "output_type": "execute_result"
    }
   ],
   "source": [
    "p1=\"\"\n",
    "p1.isprintable()"
   ]
  },
  {
   "cell_type": "code",
   "execution_count": 44,
   "id": "86a290f0-abab-423b-83c8-de8be5ada6a1",
   "metadata": {},
   "outputs": [
    {
     "data": {
      "text/plain": [
       "True"
      ]
     },
     "execution_count": 44,
     "metadata": {},
     "output_type": "execute_result"
    }
   ],
   "source": [
    "p2=\"@#$%\"\n",
    "p2.isprintable()"
   ]
  },
  {
   "cell_type": "code",
   "execution_count": 46,
   "id": "3f2fa4e9-ae99-451d-9c66-65643c08d46c",
   "metadata": {},
   "outputs": [
    {
     "data": {
      "text/plain": [
       "True"
      ]
     },
     "execution_count": 46,
     "metadata": {},
     "output_type": "execute_result"
    }
   ],
   "source": [
    "p3=\"1234 5\"\n",
    "p3.isprintable()"
   ]
  },
  {
   "cell_type": "markdown",
   "id": "ad225569-3abe-4325-9478-8ab11b77436c",
   "metadata": {},
   "source": [
    "# isspace\n",
    "- Return True if the string is a whitespace string, False otherwise.\n",
    "- A string is whitespace if all characters in the string are whitespace and there\n",
    "is at least one character in the string.\n",
    "- all the string contain space only other than space any single character it give False"
   ]
  },
  {
   "cell_type": "code",
   "execution_count": 48,
   "id": "b4d7d26f-9d27-4bd2-b9e5-82fc6ffbc849",
   "metadata": {},
   "outputs": [
    {
     "data": {
      "text/plain": [
       "False"
      ]
     },
     "execution_count": 48,
     "metadata": {},
     "output_type": "execute_result"
    }
   ],
   "source": [
    "s=\"wel come\"\n",
    "s.isspace()"
   ]
  },
  {
   "cell_type": "code",
   "execution_count": 51,
   "id": "f460163b-994c-48cb-a712-b0f9cd51e4a2",
   "metadata": {},
   "outputs": [
    {
     "data": {
      "text/plain": [
       "True"
      ]
     },
     "execution_count": 51,
     "metadata": {},
     "output_type": "execute_result"
    }
   ],
   "source": [
    "s=\"    \"\n",
    "s.isspace()"
   ]
  },
  {
   "cell_type": "code",
   "execution_count": 62,
   "id": "eae71128-3128-46ce-b821-c839d857470b",
   "metadata": {},
   "outputs": [
    {
     "data": {
      "text/plain": [
       "False"
      ]
     },
     "execution_count": 62,
     "metadata": {},
     "output_type": "execute_result"
    }
   ],
   "source": [
    "s1=\"   space\"\n",
    "s1.isspace()"
   ]
  },
  {
   "cell_type": "code",
   "execution_count": 64,
   "id": "fdd5c864-c7f1-4570-a173-6151db929e7a",
   "metadata": {},
   "outputs": [
    {
     "data": {
      "text/plain": [
       "False"
      ]
     },
     "execution_count": 64,
     "metadata": {},
     "output_type": "execute_result"
    }
   ],
   "source": [
    "s2=''\n",
    "s2.isspace()"
   ]
  },
  {
   "cell_type": "markdown",
   "id": "31722914-14c1-4b76-9a72-2d249a191beb",
   "metadata": {},
   "source": [
    "# istitle\n",
    "- Return True if the string is a title-cased string, False otherwise.\n",
    "- In a title-cased string, upper- and title-case characters may only\n",
    "follow uncased characters and lowercase characters only cased ones.\n",
    "- only title in the string  it gives true other wise it givs false"
   ]
  },
  {
   "cell_type": "code",
   "execution_count": 66,
   "id": "e1059d75-6150-45c7-8fd1-cde574767893",
   "metadata": {},
   "outputs": [
    {
     "data": {
      "text/plain": [
       "True"
      ]
     },
     "execution_count": 66,
     "metadata": {},
     "output_type": "execute_result"
    }
   ],
   "source": [
    "t=\"Python Welcome\"\n",
    "t.istitle()"
   ]
  },
  {
   "cell_type": "code",
   "execution_count": 69,
   "id": "1946954c-7a3d-4f0c-a7d6-bcb3f863a137",
   "metadata": {},
   "outputs": [
    {
     "data": {
      "text/plain": [
       "False"
      ]
     },
     "execution_count": 69,
     "metadata": {},
     "output_type": "execute_result"
    }
   ],
   "source": [
    "t1=\"Python welcome\"\n",
    "t1.istitle()"
   ]
  },
  {
   "cell_type": "code",
   "execution_count": 71,
   "id": "a1fa97ed-ed61-44e0-bf6a-12d075622f4f",
   "metadata": {},
   "outputs": [
    {
     "data": {
      "text/plain": [
       "True"
      ]
     },
     "execution_count": 71,
     "metadata": {},
     "output_type": "execute_result"
    }
   ],
   "source": [
    "t=\"Python\"\n",
    "t.istitle()"
   ]
  },
  {
   "cell_type": "code",
   "execution_count": 73,
   "id": "75156640-538c-4a45-947c-7e7e627aecb7",
   "metadata": {},
   "outputs": [
    {
     "data": {
      "text/plain": [
       "False"
      ]
     },
     "execution_count": 73,
     "metadata": {},
     "output_type": "execute_result"
    }
   ],
   "source": [
    "t=\"Wel come\"\n",
    "t.istitle()"
   ]
  },
  {
   "cell_type": "markdown",
   "id": "5a659d7c-928f-4085-9179-2e72a0f70b64",
   "metadata": {},
   "source": [
    "# isupper\n",
    "- Return True if the string is an uppercase string, False otherwise.\n",
    "- A string is uppercase if all cased characters in the string are uppercase and\n",
    "there is at least one cased character in the string.\n",
    "- it gives False when the string contain lower character only\n",
    "- other than lower character any thing it gives along with upper case it gives true"
   ]
  },
  {
   "cell_type": "code",
   "execution_count": 76,
   "id": "1a09a76d-d990-4c73-b8db-708f627c7b16",
   "metadata": {},
   "outputs": [
    {
     "data": {
      "text/plain": [
       "True"
      ]
     },
     "execution_count": 76,
     "metadata": {},
     "output_type": "execute_result"
    }
   ],
   "source": [
    "u=\"PYTHON\"\n",
    "u.isupper()"
   ]
  },
  {
   "cell_type": "code",
   "execution_count": 78,
   "id": "fafeb0d9-5a41-4c0e-9c0f-66cc32ad8e61",
   "metadata": {},
   "outputs": [
    {
     "data": {
      "text/plain": [
       "False"
      ]
     },
     "execution_count": 78,
     "metadata": {},
     "output_type": "execute_result"
    }
   ],
   "source": [
    "u1=\"Python\"\n",
    "u1.isupper()"
   ]
  },
  {
   "cell_type": "code",
   "execution_count": 80,
   "id": "561630b7-7bf8-4449-89f6-de6cc049adb0",
   "metadata": {},
   "outputs": [
    {
     "data": {
      "text/plain": [
       "True"
      ]
     },
     "execution_count": 80,
     "metadata": {},
     "output_type": "execute_result"
    }
   ],
   "source": [
    "u2=\"PYTHON HI\"\n",
    "u2.isupper()"
   ]
  },
  {
   "cell_type": "code",
   "execution_count": 82,
   "id": "386be265-866b-4d41-a6c4-11eb363d7c85",
   "metadata": {},
   "outputs": [
    {
     "data": {
      "text/plain": [
       "True"
      ]
     },
     "execution_count": 82,
     "metadata": {},
     "output_type": "execute_result"
    }
   ],
   "source": [
    "u3=\"WELCOME @ $12234\"\n",
    "u3.isupper()"
   ]
  },
  {
   "cell_type": "code",
   "execution_count": 89,
   "id": "a93f2bdf-f09f-4df9-acd6-7efa33e1a86a",
   "metadata": {},
   "outputs": [
    {
     "data": {
      "text/plain": [
       "False"
      ]
     },
     "execution_count": 89,
     "metadata": {},
     "output_type": "execute_result"
    }
   ],
   "source": [
    "u4=\"123@#$\"  # atleast one upper case letter in the string\n",
    "u4.isupper()"
   ]
  },
  {
   "cell_type": "code",
   "execution_count": 91,
   "id": "0d091e43-fc3a-4ddf-b4e7-d290c040429e",
   "metadata": {},
   "outputs": [
    {
     "data": {
      "text/plain": [
       "True"
      ]
     },
     "execution_count": 91,
     "metadata": {},
     "output_type": "execute_result"
    }
   ],
   "source": [
    "u4=\"H123@#$\"\n",
    "u4.isupper()"
   ]
  },
  {
   "cell_type": "markdown",
   "id": "90fe55ef-c0e4-46cd-8574-493f6c829a55",
   "metadata": {},
   "source": []
  },
  {
   "cell_type": "code",
   "execution_count": null,
   "id": "6a26a8f9-3567-4e58-910d-dddd47a23719",
   "metadata": {},
   "outputs": [],
   "source": []
  },
  {
   "cell_type": "code",
   "execution_count": null,
   "id": "2d36a766-f1ee-43ef-9c78-fa440c2ae320",
   "metadata": {},
   "outputs": [],
   "source": []
  }
 ],
 "metadata": {
  "kernelspec": {
   "display_name": "Python 3 (ipykernel)",
   "language": "python",
   "name": "python3"
  },
  "language_info": {
   "codemirror_mode": {
    "name": "ipython",
    "version": 3
   },
   "file_extension": ".py",
   "mimetype": "text/x-python",
   "name": "python",
   "nbconvert_exporter": "python",
   "pygments_lexer": "ipython3",
   "version": "3.12.4"
  }
 },
 "nbformat": 4,
 "nbformat_minor": 5
}
