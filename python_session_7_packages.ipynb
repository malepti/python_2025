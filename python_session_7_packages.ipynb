{
 "cells": [
  {
   "cell_type": "markdown",
   "id": "0fc59c2a-7472-4016-bc05-059f99fb927b",
   "metadata": {},
   "source": [
    "# DS & AI are the heart of packages\n",
    "# person deveopled a code\n",
    "# addition of two words\n",
    "# he feels that in the entire world\n",
    "# he wants to give the addition code to entire world\n",
    "# he went to anaconda organization\n",
    "# who ever istall your software\n",
    "# what is your code mode: Addition\n",
    "# this is known as package\n",
    "# module \n",
    "# **import**"
   ]
  },
  {
   "cell_type": "code",
   "execution_count": null,
   "id": "d1771be5-e1b3-486d-a012-3d430fa30893",
   "metadata": {},
   "outputs": [],
   "source": [
    "#import <package name>"
   ]
  },
  {
   "cell_type": "code",
   "execution_count": 6,
   "id": "415ec76b-d7fb-4099-a56c-70662df9046f",
   "metadata": {},
   "outputs": [],
   "source": [
    "# package name :random\n",
    "import random"
   ]
  },
  {
   "cell_type": "code",
   "execution_count": 23,
   "id": "6a4b00d3-9cec-4a48-84ca-7e320c9b97b4",
   "metadata": {},
   "outputs": [],
   "source": [
    "# package name :math\n",
    "import math"
   ]
  },
  {
   "cell_type": "code",
   "execution_count": 25,
   "id": "e912c6c4-7d67-4713-afc3-308bcd3b9792",
   "metadata": {},
   "outputs": [],
   "source": [
    "# package name :keyword\n",
    "import keyword"
   ]
  },
  {
   "cell_type": "code",
   "execution_count": 27,
   "id": "c2e33555-c26a-496e-8a77-a80bfc7193a8",
   "metadata": {},
   "outputs": [],
   "source": [
    "# package name :string\n",
    "import string"
   ]
  },
  {
   "cell_type": "code",
   "execution_count": 29,
   "id": "68ba1375-a9c9-444c-a425-06c5006fc54d",
   "metadata": {},
   "outputs": [],
   "source": [
    "# package name :time\n",
    "import time"
   ]
  },
  {
   "cell_type": "code",
   "execution_count": 31,
   "id": "ba5b3768-3942-4fe0-bfad-79df30cae3de",
   "metadata": {},
   "outputs": [
    {
     "ename": "ModuleNotFoundError",
     "evalue": "No module named 'cv2'",
     "output_type": "error",
     "traceback": [
      "\u001b[1;31m---------------------------------------------------------------------------\u001b[0m",
      "\u001b[1;31mModuleNotFoundError\u001b[0m                       Traceback (most recent call last)",
      "Cell \u001b[1;32mIn[31], line 2\u001b[0m\n\u001b[0;32m      1\u001b[0m \u001b[38;5;66;03m# package name :cv2\u001b[39;00m\n\u001b[1;32m----> 2\u001b[0m \u001b[38;5;28;01mimport\u001b[39;00m \u001b[38;5;21;01mcv2\u001b[39;00m\n",
      "\u001b[1;31mModuleNotFoundError\u001b[0m: No module named 'cv2'"
     ]
    }
   ],
   "source": [
    "# package name :cv2\n",
    "import cv2"
   ]
  },
  {
   "cell_type": "markdown",
   "id": "ca01fe9b-7ffd-4978-a43c-c63a834ada7a",
   "metadata": {},
   "source": [
    "# if package is not available\n",
    "# no module found"
   ]
  },
  {
   "cell_type": "code",
   "execution_count": 21,
   "id": "05484292-1210-4c50-8326-586529eba61e",
   "metadata": {},
   "outputs": [
    {
     "data": {
      "text/plain": [
       "<module 'random' from 'C:\\\\Users\\\\prasanna\\\\anaconda3\\\\Lib\\\\random.py'>"
      ]
     },
     "execution_count": 21,
     "metadata": {},
     "output_type": "execute_result"
    }
   ],
   "source": [
    "random"
   ]
  },
  {
   "cell_type": "markdown",
   "id": "0a58c8b2-a11a-490d-9694-7b3aaa903a3a",
   "metadata": {},
   "source": [
    "# **dir**"
   ]
  },
  {
   "cell_type": "code",
   "execution_count": 34,
   "id": "9c05ce21-0570-4e0a-8adb-dbd51302d609",
   "metadata": {},
   "outputs": [
    {
     "data": {
      "text/plain": [
       "['BPF',\n",
       " 'LOG4',\n",
       " 'NV_MAGICCONST',\n",
       " 'RECIP_BPF',\n",
       " 'Random',\n",
       " 'SG_MAGICCONST',\n",
       " 'SystemRandom',\n",
       " 'TWOPI',\n",
       " '_ONE',\n",
       " '_Sequence',\n",
       " '__all__',\n",
       " '__builtins__',\n",
       " '__cached__',\n",
       " '__doc__',\n",
       " '__file__',\n",
       " '__loader__',\n",
       " '__name__',\n",
       " '__package__',\n",
       " '__spec__',\n",
       " '_accumulate',\n",
       " '_acos',\n",
       " '_bisect',\n",
       " '_ceil',\n",
       " '_cos',\n",
       " '_e',\n",
       " '_exp',\n",
       " '_fabs',\n",
       " '_floor',\n",
       " '_index',\n",
       " '_inst',\n",
       " '_isfinite',\n",
       " '_lgamma',\n",
       " '_log',\n",
       " '_log2',\n",
       " '_os',\n",
       " '_pi',\n",
       " '_random',\n",
       " '_repeat',\n",
       " '_sha512',\n",
       " '_sin',\n",
       " '_sqrt',\n",
       " '_test',\n",
       " '_test_generator',\n",
       " '_urandom',\n",
       " '_warn',\n",
       " 'betavariate',\n",
       " 'binomialvariate',\n",
       " 'choice',\n",
       " 'choices',\n",
       " 'expovariate',\n",
       " 'gammavariate',\n",
       " 'gauss',\n",
       " 'getrandbits',\n",
       " 'getstate',\n",
       " 'lognormvariate',\n",
       " 'normalvariate',\n",
       " 'paretovariate',\n",
       " 'randbytes',\n",
       " 'randint',\n",
       " 'random',\n",
       " 'randrange',\n",
       " 'sample',\n",
       " 'seed',\n",
       " 'setstate',\n",
       " 'shuffle',\n",
       " 'triangular',\n",
       " 'uniform',\n",
       " 'vonmisesvariate',\n",
       " 'weibullvariate']"
      ]
     },
     "execution_count": 34,
     "metadata": {},
     "output_type": "execute_result"
    }
   ],
   "source": [
    "# step 1 import <package name>\n",
    "# step 2 dir (<package name>)\n",
    "# step 3 <package name >.<method name>\n",
    "import random\n",
    "dir(random)"
   ]
  },
  {
   "cell_type": "markdown",
   "id": "2de1beda-978f-445a-854b-e62de71c13ca",
   "metadata": {},
   "source": [
    "# **help**\n",
    "## how do we know which package to  use?\n",
    "## so here we use help"
   ]
  },
  {
   "cell_type": "code",
   "execution_count": 40,
   "id": "5c48f5d4-87b2-4a62-b25a-f115083ba67b",
   "metadata": {},
   "outputs": [
    {
     "name": "stdout",
     "output_type": "stream",
     "text": [
      "Help on method randint in module random:\n",
      "\n",
      "randint(a, b) method of random.Random instance\n",
      "    Return random integer in range [a, b], including both end points.\n",
      "\n"
     ]
    }
   ],
   "source": [
    "# i want to learn about a method called randint \n",
    "# help(<package name >.<method name>)\n",
    "help(random.randint)"
   ]
  },
  {
   "cell_type": "code",
   "execution_count": 42,
   "id": "c5049c82-a189-418c-a416-5dd28779ce69",
   "metadata": {},
   "outputs": [
    {
     "name": "stdout",
     "output_type": "stream",
     "text": [
      "Help on method randint in module random:\n",
      "\n",
      "randint(a, b) method of random.Random instance\n",
      "    Return random integer in range [a, b], including both end points.\n",
      "\n"
     ]
    }
   ],
   "source": [
    "import random\n",
    "dir(random)\n",
    "help(random.randint)"
   ]
  },
  {
   "cell_type": "code",
   "execution_count": 46,
   "id": "c7372125-8c32-4857-b4a7-9f6fce7bbeaa",
   "metadata": {},
   "outputs": [
    {
     "data": {
      "text/plain": [
       "6"
      ]
     },
     "execution_count": 46,
     "metadata": {},
     "output_type": "execute_result"
    }
   ],
   "source": [
    "random.randint(1,10)"
   ]
  },
  {
   "cell_type": "code",
   "execution_count": 56,
   "id": "4cc8d5e3-f398-468d-898e-977db93227a1",
   "metadata": {},
   "outputs": [
    {
     "data": {
      "text/plain": [
       "196"
      ]
     },
     "execution_count": 56,
     "metadata": {},
     "output_type": "execute_result"
    }
   ],
   "source": [
    "import random\n",
    "random.randint(100,200) #using this we get random number between the numbers "
   ]
  },
  {
   "cell_type": "code",
   "execution_count": 58,
   "id": "83eb52b4-67e1-4fc9-8ab1-747d5638cdd3",
   "metadata": {},
   "outputs": [
    {
     "name": "stdout",
     "output_type": "stream",
     "text": [
      "Help on method randint in module random:\n",
      "\n",
      "randint(a, b) method of random.Random instance\n",
      "    Return random integer in range [a, b], including both end points.\n",
      "\n"
     ]
    },
    {
     "data": {
      "text/plain": [
       "1188"
      ]
     },
     "execution_count": 58,
     "metadata": {},
     "output_type": "execute_result"
    }
   ],
   "source": [
    "import random\n",
    "dir(random)\n",
    "help(random.randint)\n",
    "random.randint(1000,2000)"
   ]
  },
  {
   "cell_type": "code",
   "execution_count": 60,
   "id": "95d73aa3-e216-4c23-a3e8-76850e131a37",
   "metadata": {},
   "outputs": [
    {
     "name": "stdout",
     "output_type": "stream",
     "text": [
      "Help on built-in function random:\n",
      "\n",
      "random() method of random.Random instance\n",
      "    random() -> x in the interval [0, 1).\n",
      "\n"
     ]
    }
   ],
   "source": [
    "help(random.random)"
   ]
  },
  {
   "cell_type": "code",
   "execution_count": 90,
   "id": "8b812ebd-d4d5-44f8-a858-cbd6af109e60",
   "metadata": {},
   "outputs": [
    {
     "data": {
      "text/plain": [
       "0.9278638848670749"
      ]
     },
     "execution_count": 90,
     "metadata": {},
     "output_type": "execute_result"
    }
   ],
   "source": [
    "random.random() # we use random.random only the number get in between 0 to 1"
   ]
  },
  {
   "cell_type": "code",
   "execution_count": 98,
   "id": "cb83b7ee-00dc-461e-b3e6-0b6aca2ff7f8",
   "metadata": {},
   "outputs": [
    {
     "name": "stdout",
     "output_type": "stream",
     "text": [
      "Help on method shuffle in module random:\n",
      "\n",
      "shuffle(x) method of random.Random instance\n",
      "    Shuffle list x in place, and return None.\n",
      "\n"
     ]
    }
   ],
   "source": [
    "help(random.shuffle) # here shuffle is used in list only can shuffle the list"
   ]
  },
  {
   "cell_type": "code",
   "execution_count": 96,
   "id": "a03fb969-c8f2-4b91-a527-43370ef8a7aa",
   "metadata": {},
   "outputs": [
    {
     "name": "stdout",
     "output_type": "stream",
     "text": [
      "[3, 6, 5, 8, 2, 9, 7, 1, 4]\n"
     ]
    }
   ],
   "source": [
    "x=[1,2,3,4,5,6,7,8,9]\n",
    "random.shuffle(x)\n",
    "print(x)"
   ]
  },
  {
   "cell_type": "markdown",
   "id": "85328ef5-453e-48cd-b105-0201ebda6528",
   "metadata": {},
   "source": [
    "# randrange"
   ]
  },
  {
   "cell_type": "code",
   "execution_count": 101,
   "id": "3004226f-78ac-48b2-8b59-7f3f86e101a3",
   "metadata": {},
   "outputs": [],
   "source": [
    "# package name : random\n",
    "# method name : randrange"
   ]
  },
  {
   "cell_type": "code",
   "execution_count": 103,
   "id": "d6c3043b-ca74-4177-a59d-b093d915e9f0",
   "metadata": {},
   "outputs": [
    {
     "name": "stdout",
     "output_type": "stream",
     "text": [
      "Help on method randrange in module random:\n",
      "\n",
      "randrange(start, stop=None, step=1) method of random.Random instance\n",
      "    Choose a random item from range(stop) or range(start, stop[, step]).\n",
      "\n",
      "    Roughly equivalent to ``choice(range(start, stop, step))`` but\n",
      "    supports arbitrarily large ranges and is optimized for common cases.\n",
      "\n"
     ]
    }
   ],
   "source": [
    "help(random.randrange)"
   ]
  },
  {
   "cell_type": "code",
   "execution_count": 125,
   "id": "67347358-b142-43db-97a0-e09f94946da1",
   "metadata": {},
   "outputs": [
    {
     "data": {
      "text/plain": [
       "2"
      ]
     },
     "execution_count": 125,
     "metadata": {},
     "output_type": "execute_result"
    }
   ],
   "source": [
    "random.randrange(2,10,3)\n",
    "# here start = 2   stop = 10    step=3\n",
    "# 2 3 4 5 6 7 8 9 10 start and stop here we take step=3 so\n",
    "# 2     5     8 these three numbers will be stored in this three on random number will be appeared"
   ]
  },
  {
   "cell_type": "markdown",
   "id": "b4c31a33-282a-4c6c-b11c-50e92869b7f6",
   "metadata": {},
   "source": [
    "# exercise questions\n",
    "# package name : math\n",
    "# method name : pow,pi,sqrt,sin,cos"
   ]
  },
  {
   "cell_type": "code",
   "execution_count": 128,
   "id": "05655381-59a5-4aa5-9742-2feafe37faf1",
   "metadata": {},
   "outputs": [
    {
     "name": "stdout",
     "output_type": "stream",
     "text": [
      "Help on built-in function pow in module math:\n",
      "\n",
      "pow(x, y, /)\n",
      "    Return x**y (x to the power of y).\n",
      "\n"
     ]
    }
   ],
   "source": [
    "help(math.pow)"
   ]
  },
  {
   "cell_type": "code",
   "execution_count": 134,
   "id": "e0f6743e-76f5-478e-9655-ba5859e582a1",
   "metadata": {},
   "outputs": [
    {
     "data": {
      "text/plain": [
       "8.0"
      ]
     },
     "execution_count": 134,
     "metadata": {},
     "output_type": "execute_result"
    }
   ],
   "source": [
    "math.pow(2,3)"
   ]
  },
  {
   "cell_type": "code",
   "execution_count": 138,
   "id": "ecaa70f5-fcae-44a4-9383-3291978d4ca6",
   "metadata": {},
   "outputs": [
    {
     "name": "stdout",
     "output_type": "stream",
     "text": [
      "Help on built-in function sqrt in module math:\n",
      "\n",
      "sqrt(x, /)\n",
      "    Return the square root of x.\n",
      "\n"
     ]
    }
   ],
   "source": [
    "help(math.sqrt)"
   ]
  },
  {
   "cell_type": "code",
   "execution_count": 140,
   "id": "1ae786b4-71e3-4228-a467-4dadad8cd25d",
   "metadata": {},
   "outputs": [
    {
     "data": {
      "text/plain": [
       "8.774964387392123"
      ]
     },
     "execution_count": 140,
     "metadata": {},
     "output_type": "execute_result"
    }
   ],
   "source": [
    "math.sqrt(77)"
   ]
  },
  {
   "cell_type": "code",
   "execution_count": 142,
   "id": "758bd734-50e1-4aa6-8447-efb3c4a115ec",
   "metadata": {},
   "outputs": [
    {
     "name": "stdout",
     "output_type": "stream",
     "text": [
      "Help on float object:\n",
      "\n",
      "class float(object)\n",
      " |  float(x=0, /)\n",
      " |\n",
      " |  Convert a string or number to a floating point number, if possible.\n",
      " |\n",
      " |  Methods defined here:\n",
      " |\n",
      " |  __abs__(self, /)\n",
      " |      abs(self)\n",
      " |\n",
      " |  __add__(self, value, /)\n",
      " |      Return self+value.\n",
      " |\n",
      " |  __bool__(self, /)\n",
      " |      True if self else False\n",
      " |\n",
      " |  __ceil__(self, /)\n",
      " |      Return the ceiling as an Integral.\n",
      " |\n",
      " |  __divmod__(self, value, /)\n",
      " |      Return divmod(self, value).\n",
      " |\n",
      " |  __eq__(self, value, /)\n",
      " |      Return self==value.\n",
      " |\n",
      " |  __float__(self, /)\n",
      " |      float(self)\n",
      " |\n",
      " |  __floor__(self, /)\n",
      " |      Return the floor as an Integral.\n",
      " |\n",
      " |  __floordiv__(self, value, /)\n",
      " |      Return self//value.\n",
      " |\n",
      " |  __format__(self, format_spec, /)\n",
      " |      Formats the float according to format_spec.\n",
      " |\n",
      " |  __ge__(self, value, /)\n",
      " |      Return self>=value.\n",
      " |\n",
      " |  __getattribute__(self, name, /)\n",
      " |      Return getattr(self, name).\n",
      " |\n",
      " |  __getnewargs__(self, /)\n",
      " |\n",
      " |  __gt__(self, value, /)\n",
      " |      Return self>value.\n",
      " |\n",
      " |  __hash__(self, /)\n",
      " |      Return hash(self).\n",
      " |\n",
      " |  __int__(self, /)\n",
      " |      int(self)\n",
      " |\n",
      " |  __le__(self, value, /)\n",
      " |      Return self<=value.\n",
      " |\n",
      " |  __lt__(self, value, /)\n",
      " |      Return self<value.\n",
      " |\n",
      " |  __mod__(self, value, /)\n",
      " |      Return self%value.\n",
      " |\n",
      " |  __mul__(self, value, /)\n",
      " |      Return self*value.\n",
      " |\n",
      " |  __ne__(self, value, /)\n",
      " |      Return self!=value.\n",
      " |\n",
      " |  __neg__(self, /)\n",
      " |      -self\n",
      " |\n",
      " |  __pos__(self, /)\n",
      " |      +self\n",
      " |\n",
      " |  __pow__(self, value, mod=None, /)\n",
      " |      Return pow(self, value, mod).\n",
      " |\n",
      " |  __radd__(self, value, /)\n",
      " |      Return value+self.\n",
      " |\n",
      " |  __rdivmod__(self, value, /)\n",
      " |      Return divmod(value, self).\n",
      " |\n",
      " |  __repr__(self, /)\n",
      " |      Return repr(self).\n",
      " |\n",
      " |  __rfloordiv__(self, value, /)\n",
      " |      Return value//self.\n",
      " |\n",
      " |  __rmod__(self, value, /)\n",
      " |      Return value%self.\n",
      " |\n",
      " |  __rmul__(self, value, /)\n",
      " |      Return value*self.\n",
      " |\n",
      " |  __round__(self, ndigits=None, /)\n",
      " |      Return the Integral closest to x, rounding half toward even.\n",
      " |\n",
      " |      When an argument is passed, work like built-in round(x, ndigits).\n",
      " |\n",
      " |  __rpow__(self, value, mod=None, /)\n",
      " |      Return pow(value, self, mod).\n",
      " |\n",
      " |  __rsub__(self, value, /)\n",
      " |      Return value-self.\n",
      " |\n",
      " |  __rtruediv__(self, value, /)\n",
      " |      Return value/self.\n",
      " |\n",
      " |  __sub__(self, value, /)\n",
      " |      Return self-value.\n",
      " |\n",
      " |  __truediv__(self, value, /)\n",
      " |      Return self/value.\n",
      " |\n",
      " |  __trunc__(self, /)\n",
      " |      Return the Integral closest to x between 0 and x.\n",
      " |\n",
      " |  as_integer_ratio(self, /)\n",
      " |      Return a pair of integers, whose ratio is exactly equal to the original float.\n",
      " |\n",
      " |      The ratio is in lowest terms and has a positive denominator.  Raise\n",
      " |      OverflowError on infinities and a ValueError on NaNs.\n",
      " |\n",
      " |      >>> (10.0).as_integer_ratio()\n",
      " |      (10, 1)\n",
      " |      >>> (0.0).as_integer_ratio()\n",
      " |      (0, 1)\n",
      " |      >>> (-.25).as_integer_ratio()\n",
      " |      (-1, 4)\n",
      " |\n",
      " |  conjugate(self, /)\n",
      " |      Return self, the complex conjugate of any float.\n",
      " |\n",
      " |  hex(self, /)\n",
      " |      Return a hexadecimal representation of a floating-point number.\n",
      " |\n",
      " |      >>> (-0.1).hex()\n",
      " |      '-0x1.999999999999ap-4'\n",
      " |      >>> 3.14159.hex()\n",
      " |      '0x1.921f9f01b866ep+1'\n",
      " |\n",
      " |  is_integer(self, /)\n",
      " |      Return True if the float is an integer.\n",
      " |\n",
      " |  ----------------------------------------------------------------------\n",
      " |  Class methods defined here:\n",
      " |\n",
      " |  __getformat__(typestr, /)\n",
      " |      You probably don't want to use this function.\n",
      " |\n",
      " |        typestr\n",
      " |          Must be 'double' or 'float'.\n",
      " |\n",
      " |      It exists mainly to be used in Python's test suite.\n",
      " |\n",
      " |      This function returns whichever of 'unknown', 'IEEE, big-endian' or 'IEEE,\n",
      " |      little-endian' best describes the format of floating point numbers used by the\n",
      " |      C type named by typestr.\n",
      " |\n",
      " |  fromhex(string, /)\n",
      " |      Create a floating-point number from a hexadecimal string.\n",
      " |\n",
      " |      >>> float.fromhex('0x1.ffffp10')\n",
      " |      2047.984375\n",
      " |      >>> float.fromhex('-0x1p-1074')\n",
      " |      -5e-324\n",
      " |\n",
      " |  ----------------------------------------------------------------------\n",
      " |  Static methods defined here:\n",
      " |\n",
      " |  __new__(*args, **kwargs)\n",
      " |      Create and return a new object.  See help(type) for accurate signature.\n",
      " |\n",
      " |  ----------------------------------------------------------------------\n",
      " |  Data descriptors defined here:\n",
      " |\n",
      " |  imag\n",
      " |      the imaginary part of a complex number\n",
      " |\n",
      " |  real\n",
      " |      the real part of a complex number\n",
      "\n"
     ]
    }
   ],
   "source": [
    "help(math.pi)"
   ]
  },
  {
   "cell_type": "code",
   "execution_count": 176,
   "id": "4e154efd-2316-4eec-872c-5195d395fab8",
   "metadata": {},
   "outputs": [
    {
     "data": {
      "text/plain": [
       "3.141592653589793"
      ]
     },
     "execution_count": 176,
     "metadata": {},
     "output_type": "execute_result"
    }
   ],
   "source": [
    "math.pi  # do not give the brackets in pi method"
   ]
  },
  {
   "cell_type": "code",
   "execution_count": 164,
   "id": "7e4208ef-4e05-40a2-9c61-745df32edc59",
   "metadata": {},
   "outputs": [
    {
     "name": "stdout",
     "output_type": "stream",
     "text": [
      "Help on built-in function sin in module math:\n",
      "\n",
      "sin(x, /)\n",
      "    Return the sine of x (measured in radians).\n",
      "\n"
     ]
    }
   ],
   "source": [
    "help(math.sin)"
   ]
  },
  {
   "cell_type": "code",
   "execution_count": 166,
   "id": "accc01a0-1d3b-4807-be39-9b80d8d53676",
   "metadata": {},
   "outputs": [
    {
     "data": {
      "text/plain": [
       "0.8939966636005579"
      ]
     },
     "execution_count": 166,
     "metadata": {},
     "output_type": "execute_result"
    }
   ],
   "source": [
    "math.sin(90)"
   ]
  },
  {
   "cell_type": "code",
   "execution_count": 174,
   "id": "eec75960-d5da-4f7b-bc0d-4a62caf4403a",
   "metadata": {},
   "outputs": [
    {
     "data": {
      "text/plain": [
       "-0.4480736161291701"
      ]
     },
     "execution_count": 174,
     "metadata": {},
     "output_type": "execute_result"
    }
   ],
   "source": [
    "math.cos(90)"
   ]
  },
  {
   "cell_type": "markdown",
   "id": "3c04fe68-db74-491e-abd4-f7da26529f82",
   "metadata": {},
   "source": [
    "***keyword***"
   ]
  },
  {
   "cell_type": "markdown",
   "id": "4d6eeac8-856b-482a-8532-2e499e98ab13",
   "metadata": {},
   "source": [
    "- import the package\n",
    "- apply th dir\n",
    "- method name: kwlist"
   ]
  },
  {
   "cell_type": "code",
   "execution_count": 192,
   "id": "80a13efd-51d8-4b04-86a7-d46cccbc6c80",
   "metadata": {},
   "outputs": [
    {
     "data": {
      "text/plain": [
       "35"
      ]
     },
     "execution_count": 192,
     "metadata": {},
     "output_type": "execute_result"
    }
   ],
   "source": [
    "import keyword\n",
    "keyword.kwlist # it hows the list of kwlist\n",
    "len(keyword.kwlist) # it shows count of methods in the kwlist"
   ]
  },
  {
   "cell_type": "markdown",
   "id": "63409ae4-5379-4158-a7c7-fd50e0d3da27",
   "metadata": {},
   "source": [
    "***time***"
   ]
  },
  {
   "cell_type": "code",
   "execution_count": 190,
   "id": "f1fc5bfb-545b-4e27-b74a-f215afd8e2aa",
   "metadata": {},
   "outputs": [
    {
     "name": "stdout",
     "output_type": "stream",
     "text": [
      "hello\n"
     ]
    }
   ],
   "source": [
    "import time\n",
    "time.sleep(5) # this sleep is used to pause the time and after sleep time the output will appear\n",
    "print('hello')"
   ]
  },
  {
   "cell_type": "code",
   "execution_count": 194,
   "id": "453230f3-0f41-4a58-b77b-16ad1155f867",
   "metadata": {},
   "outputs": [],
   "source": [
    "# assesment\n",
    " # string and chech each and every method \n"
   ]
  },
  {
   "cell_type": "code",
   "execution_count": 196,
   "id": "c3a9c876-9649-4295-a2b0-6087b73dfcaf",
   "metadata": {},
   "outputs": [
    {
     "data": {
      "text/plain": [
       "['Formatter',\n",
       " 'Template',\n",
       " '_ChainMap',\n",
       " '__all__',\n",
       " '__builtins__',\n",
       " '__cached__',\n",
       " '__doc__',\n",
       " '__file__',\n",
       " '__loader__',\n",
       " '__name__',\n",
       " '__package__',\n",
       " '__spec__',\n",
       " '_re',\n",
       " '_sentinel_dict',\n",
       " '_string',\n",
       " 'ascii_letters',\n",
       " 'ascii_lowercase',\n",
       " 'ascii_uppercase',\n",
       " 'capwords',\n",
       " 'digits',\n",
       " 'hexdigits',\n",
       " 'octdigits',\n",
       " 'printable',\n",
       " 'punctuation',\n",
       " 'whitespace']"
      ]
     },
     "execution_count": 196,
     "metadata": {},
     "output_type": "execute_result"
    }
   ],
   "source": [
    "import string\n",
    "dir(string)"
   ]
  },
  {
   "cell_type": "code",
   "execution_count": 200,
   "id": "8eb2f6ff-c0f3-4e0c-acd3-5002ceeea5c6",
   "metadata": {},
   "outputs": [
    {
     "data": {
      "text/plain": [
       "'abcdefghijklmnopqrstuvwxyzABCDEFGHIJKLMNOPQRSTUVWXYZ'"
      ]
     },
     "execution_count": 200,
     "metadata": {},
     "output_type": "execute_result"
    }
   ],
   "source": [
    "string.ascii_letters"
   ]
  },
  {
   "cell_type": "code",
   "execution_count": 202,
   "id": "0417b0b6-d498-4d93-9cc0-5f89aee897c9",
   "metadata": {},
   "outputs": [
    {
     "data": {
      "text/plain": [
       "'abcdefghijklmnopqrstuvwxyz'"
      ]
     },
     "execution_count": 202,
     "metadata": {},
     "output_type": "execute_result"
    }
   ],
   "source": [
    "string.ascii_lowercase"
   ]
  },
  {
   "cell_type": "code",
   "execution_count": 204,
   "id": "35827ed2-a7ed-480d-b7b8-6d6c324c06fa",
   "metadata": {},
   "outputs": [
    {
     "data": {
      "text/plain": [
       "'ABCDEFGHIJKLMNOPQRSTUVWXYZ'"
      ]
     },
     "execution_count": 204,
     "metadata": {},
     "output_type": "execute_result"
    }
   ],
   "source": [
    "string.ascii_uppercase"
   ]
  },
  {
   "cell_type": "code",
   "execution_count": 206,
   "id": "1ca23370-c4f4-4b9a-9343-fd3b11e2286f",
   "metadata": {},
   "outputs": [
    {
     "data": {
      "text/plain": [
       "'!\"#$%&\\'()*+,-./:;<=>?@[\\\\]^_`{|}~'"
      ]
     },
     "execution_count": 206,
     "metadata": {},
     "output_type": "execute_result"
    }
   ],
   "source": [
    "string.punctuation"
   ]
  },
  {
   "cell_type": "code",
   "execution_count": 1,
   "id": "c281946d-45b9-459e-8861-ce50b351431b",
   "metadata": {},
   "outputs": [
    {
     "name": "stdout",
     "output_type": "stream",
     "text": [
      "the total of values:60 and average20.0\n"
     ]
    }
   ],
   "source": [
    "# we use three methods to get the output\n",
    "# 1st method hard code method\n",
    "# 2nd method input method\n",
    "# 3rd method random method\n",
    "# method 1\n",
    "num1=10\n",
    "num2=20\n",
    "num3=30\n",
    "total=num1+num2+num3\n",
    "avg=(num1+num2+num3)/3\n",
    "print(f'the total of values:{total} and average{avg}')"
   ]
  },
  {
   "cell_type": "code",
   "execution_count": 3,
   "id": "82d7e56c-b84d-4315-ac40-b3d4e28a45fb",
   "metadata": {},
   "outputs": [
    {
     "name": "stdin",
     "output_type": "stream",
     "text": [
      "enter the number1 10\n",
      "enter the number2 20\n",
      "enter the number3 30\n"
     ]
    },
    {
     "name": "stdout",
     "output_type": "stream",
     "text": [
      "the total of values:60 and average20.0\n"
     ]
    }
   ],
   "source": [
    "#method 2\n",
    "num1=eval(input('enter the number1'))\n",
    "num2=eval(input('enter the number2'))\n",
    "num3=eval(input('enter the number3'))\n",
    "total=num1+num2+num3\n",
    "avg=(num1+num2+num3)/3\n",
    "print(f'the total of values:{total} and average{avg}')"
   ]
  },
  {
   "cell_type": "code",
   "execution_count": 7,
   "id": "d68884b3-be0e-4a4b-a7e3-a5a2b120a7cc",
   "metadata": {},
   "outputs": [
    {
     "name": "stdout",
     "output_type": "stream",
     "text": [
      "the values 48,62,7total of values:117 and average39.0\n"
     ]
    }
   ],
   "source": [
    "# method 3\n",
    "import random\n",
    "n1=random.randint(1,100)\n",
    "n2=random.randint(1,100)\n",
    "n3=random.randint(1,100)\n",
    "total=n1+n2+n3\n",
    "avg=(n1+n2+n3)/3\n",
    "print(f'the values {n1},{n2},{n3}total of values:{total} and average{avg}')"
   ]
  },
  {
   "cell_type": "code",
   "execution_count": 9,
   "id": "9b4079e7-fba4-4364-97ec-c71f1b9818fd",
   "metadata": {},
   "outputs": [
    {
     "name": "stdout",
     "output_type": "stream",
     "text": [
      "area of right angle triangle breadth=23,height=50,area=575.0\n"
     ]
    }
   ],
   "source": [
    "import random\n",
    "breadth=random.randint(1,100)\n",
    "height=random.randint(1,100)\n",
    "area=0.5*breadth*height\n",
    "print(f'area of right angle triangle breadth={breadth},height={height},area={area}')"
   ]
  },
  {
   "cell_type": "code",
   "execution_count": 11,
   "id": "53183f2c-ca1b-4d8a-abb5-13a4744510f5",
   "metadata": {},
   "outputs": [
    {
     "name": "stdout",
     "output_type": "stream",
     "text": [
      "area of circle raradius=6,area=113.03999999999999\n"
     ]
    }
   ],
   "source": [
    "import random\n",
    "radius=random.randint(1,100)\n",
    "pi=3.14\n",
    "area=pi*radius*radius\n",
    "print(f'area of circle raradius={radius},area={area}')"
   ]
  },
  {
   "cell_type": "code",
   "execution_count": 13,
   "id": "1213e6a4-1100-427d-b56f-9fd0fee4be81",
   "metadata": {},
   "outputs": [
    {
     "name": "stdout",
     "output_type": "stream",
     "text": [
      "bill_amount=69,tip=93, total_bill_amount=162\n"
     ]
    }
   ],
   "source": [
    "amount=random.randint(1,100)\n",
    "tip=random.randint(1,100)\n",
    "total=amount+tip\n",
    "print(f'bill_amount={amount},tip={tip}, total_bill_amount={total}')"
   ]
  },
  {
   "cell_type": "code",
   "execution_count": 17,
   "id": "99fcc4a0-102d-4bec-a981-89e362485878",
   "metadata": {},
   "outputs": [
    {
     "name": "stdout",
     "output_type": "stream",
     "text": [
      "total amount= amount2596,tip_per=100=total_amount5192.0\n"
     ]
    }
   ],
   "source": [
    "from random import randint\n",
    "amount=randint(1,10000)\n",
    "tip_per=randint(1,100)\n",
    "tip_amount=tip_per/100*amount\n",
    "total=amount+tip_amount\n",
    "print(f'total amount= amount{amount},tip_per={tip_per}=total_amount{total}')"
   ]
  },
  {
   "cell_type": "code",
   "execution_count": 27,
   "id": "1fa9040b-2ee5-494d-90a7-d05d38b564df",
   "metadata": {},
   "outputs": [
    {
     "name": "stdout",
     "output_type": "stream",
     "text": [
      "area of circle raradius=57,area=10207.03\n"
     ]
    }
   ],
   "source": [
    "from random import randint # using math and random package\n",
    "from math import pi,pow\n",
    "radius=randint(1,100)\n",
    "area=pi*pow(radius,2)\n",
    "area1=round(area,2)\n",
    "print(f'area of circle raradius={radius},area={area1}')"
   ]
  },
  {
   "cell_type": "code",
   "execution_count": 29,
   "id": "877bb18e-514a-402a-ae49-f118b1b6f9b9",
   "metadata": {},
   "outputs": [
    {
     "name": "stdout",
     "output_type": "stream",
     "text": [
      "9\n",
      "254.46900494077323\n",
      "254.47\n",
      "area of circle raradius=9,area=254.47\n"
     ]
    }
   ],
   "source": [
    "# now we use the time package for the above code \n",
    "# for ex: we take the sleep method in time package the output print after some time \n",
    "from random import randint # using math and random package\n",
    "from math import pi,pow\n",
    "from time import sleep\n",
    "radius=randint(1,100)  # random\n",
    "sleep(3)               #time\n",
    "print(radius)\n",
    "area=pi*pow(radius,2)   # math\n",
    "sleep(3)\n",
    "print(area)\n",
    "area1=round(area,2)\n",
    "sleep(3)\n",
    "print(area1)\n",
    "print(f'area of circle raradius={radius},area={area1}')"
   ]
  },
  {
   "cell_type": "code",
   "execution_count": 33,
   "id": "ef21c2c8-87f4-4523-bdb5-eeb7e4a95846",
   "metadata": {},
   "outputs": [
    {
     "name": "stdout",
     "output_type": "stream",
     "text": [
      "father: hey son!\n",
      "daughter: hello daddy\n",
      "father:i heard your results came out\n",
      "daughter: yes papa\n",
      "father:what is the percentage you got\n",
      "daughter: i will give my marks you tell me the my percentage\n",
      "father:okay!\n"
     ]
    },
    {
     "name": "stdin",
     "output_type": "stream",
     "text": [
      "telugu 94\n",
      "hindi 95\n",
      "english 99\n",
      "maths 100\n",
      "science 100\n"
     ]
    },
    {
     "name": "stdout",
     "output_type": "stream",
     "text": [
      "daughter: now tell me what is the percentage oif my marks\n",
      "father: what is the total marks in each subject\n"
     ]
    },
    {
     "name": "stdin",
     "output_type": "stream",
     "text": [
      "daughter: 100\n"
     ]
    },
    {
     "name": "stdout",
     "output_type": "stream",
     "text": [
      "the total percentage is :98%\n"
     ]
    }
   ],
   "source": [
    "from time import sleep\n",
    "print('father: hey son!')\n",
    "sleep(2)\n",
    "print('daughter: hello daddy')\n",
    "sleep(2)\n",
    "print('father:i heard your results came out')\n",
    "sleep(2)\n",
    "print('daughter: yes papa')\n",
    "sleep(2)\n",
    "print('father:what is the percentage you got')\n",
    "sleep(2)\n",
    "print('daughter: i will give my marks you tell me the my percentage')\n",
    "sleep(2)\n",
    "print('father:okay!')\n",
    "sleep(2)\n",
    "tel=eval(input('telugu'))\n",
    "sleep(2)\n",
    "hin=eval(input('hindi'))\n",
    "sleep(2)\n",
    "eng=eval(input('english'))\n",
    "sleep(2)\n",
    "mat=eval(input('maths'))\n",
    "sleep(2)\n",
    "sc=eval(input('science'))\n",
    "sleep(2)\n",
    "print('daughter: now tell me what is the percentage oif my marks')\n",
    "sleep(2)\n",
    "print('father: what is the total marks in each subject')\n",
    "sleep(2)\n",
    "max_marks=eval(input(\"daughter:\"))\n",
    "sleep(2)\n",
    "total_per=round((tel+hin+eng+mat+sc)/5)\n",
    "sleep(2)\n",
    "print(f'the total percentage is :{total_per}%')"
   ]
  },
  {
   "cell_type": "markdown",
   "id": "3814a89b-9a9c-4458-94f3-851fffeb4ed8",
   "metadata": {},
   "source": [
    "# here we use time.sleep is used in the conversation messages \n",
    "# it gives the real conversation feels"
   ]
  },
  {
   "cell_type": "code",
   "execution_count": 36,
   "id": "464a0e61-1528-4b38-825e-318c45d3b7ca",
   "metadata": {},
   "outputs": [
    {
     "ename": "ModuleNotFoundError",
     "evalue": "No module named 'cv2'",
     "output_type": "error",
     "traceback": [
      "\u001b[1;31m---------------------------------------------------------------------------\u001b[0m",
      "\u001b[1;31mModuleNotFoundError\u001b[0m                       Traceback (most recent call last)",
      "Cell \u001b[1;32mIn[36], line 1\u001b[0m\n\u001b[1;32m----> 1\u001b[0m \u001b[38;5;28;01mimport\u001b[39;00m \u001b[38;5;21;01mcv2\u001b[39;00m\n",
      "\u001b[1;31mModuleNotFoundError\u001b[0m: No module named 'cv2'"
     ]
    }
   ],
   "source": [
    "import cv2  # image operations\n",
    "# computer vision"
   ]
  },
  {
   "cell_type": "code",
   "execution_count": 38,
   "id": "130bbf9d-64f2-4220-891b-eb24c6d0ccd3",
   "metadata": {},
   "outputs": [],
   "source": [
    "import flask # API"
   ]
  },
  {
   "cell_type": "code",
   "execution_count": 40,
   "id": "632a72e4-6a4b-4360-a689-f2f1adbd65d8",
   "metadata": {},
   "outputs": [
    {
     "ename": "ModuleNotFoundError",
     "evalue": "No module named 'stremlit'",
     "output_type": "error",
     "traceback": [
      "\u001b[1;31m---------------------------------------------------------------------------\u001b[0m",
      "\u001b[1;31mModuleNotFoundError\u001b[0m                       Traceback (most recent call last)",
      "Cell \u001b[1;32mIn[40], line 1\u001b[0m\n\u001b[1;32m----> 1\u001b[0m \u001b[38;5;28;01mimport\u001b[39;00m \u001b[38;5;21;01mstremlit\u001b[39;00m\n",
      "\u001b[1;31mModuleNotFoundError\u001b[0m: No module named 'stremlit'"
     ]
    }
   ],
   "source": [
    "import stremlit # applications"
   ]
  },
  {
   "cell_type": "code",
   "execution_count": 42,
   "id": "64fd214d-7774-46ba-b2e8-9290f2fef90a",
   "metadata": {},
   "outputs": [
    {
     "ename": "ModuleNotFoundError",
     "evalue": "No module named 'tensorflow'",
     "output_type": "error",
     "traceback": [
      "\u001b[1;31m---------------------------------------------------------------------------\u001b[0m",
      "\u001b[1;31mModuleNotFoundError\u001b[0m                       Traceback (most recent call last)",
      "Cell \u001b[1;32mIn[42], line 1\u001b[0m\n\u001b[1;32m----> 1\u001b[0m \u001b[38;5;28;01mimport\u001b[39;00m \u001b[38;5;21;01mtensorflow\u001b[39;00m\n",
      "\u001b[1;31mModuleNotFoundError\u001b[0m: No module named 'tensorflow'"
     ]
    }
   ],
   "source": [
    "import tensorflow"
   ]
  },
  {
   "cell_type": "markdown",
   "id": "03cc9538-8719-470c-937e-122cb5905126",
   "metadata": {},
   "source": [
    "- if we want to install the pckages we can do two ways \n",
    "- using **anaconda prompt** \n",
    "- using **jupiter notebook**\n",
    "- !pip install packagename with or without exclamatory mark install but weput its looks professinal\n",
    "- when ever we install any packages must and should need internet\n",
    "- incase there is any problem in internet https error will come \n",
    "- 90% the packge install name and reading name is same \n",
    "- packagename=flask installname:pip install flask\n",
    "- packagename=streamlit installname:pip install streamlit"
   ]
  },
  {
   "cell_type": "code",
   "execution_count": 45,
   "id": "0e7435c7-0293-4426-9528-b889b589f7de",
   "metadata": {},
   "outputs": [
    {
     "name": "stdout",
     "output_type": "stream",
     "text": [
      "Requirement already satisfied: opencv-python in c:\\users\\prasanna\\anaconda3\\lib\\site-packages (4.10.0.84)\n",
      "Requirement already satisfied: numpy>=1.21.2 in c:\\users\\prasanna\\anaconda3\\lib\\site-packages (from opencv-python) (1.26.4)\n"
     ]
    }
   ],
   "source": [
    "!pip install opencv-python"
   ]
  },
  {
   "cell_type": "code",
   "execution_count": 49,
   "id": "a0d74437-0cef-4ff3-bda4-bdb599d58f70",
   "metadata": {
    "scrolled": true
   },
   "outputs": [
    {
     "data": {
      "text/plain": [
       "['ACCESS_FAST',\n",
       " 'ACCESS_MASK',\n",
       " 'ACCESS_READ',\n",
       " 'ACCESS_RW',\n",
       " 'ACCESS_WRITE',\n",
       " 'ADAPTIVE_THRESH_GAUSSIAN_C',\n",
       " 'ADAPTIVE_THRESH_MEAN_C',\n",
       " 'AGAST_FEATURE_DETECTOR_AGAST_5_8',\n",
       " 'AGAST_FEATURE_DETECTOR_AGAST_7_12D',\n",
       " 'AGAST_FEATURE_DETECTOR_AGAST_7_12S',\n",
       " 'AGAST_FEATURE_DETECTOR_NONMAX_SUPPRESSION',\n",
       " 'AGAST_FEATURE_DETECTOR_OAST_9_16',\n",
       " 'AGAST_FEATURE_DETECTOR_THRESHOLD',\n",
       " 'AKAZE',\n",
       " 'AKAZE_DESCRIPTOR_KAZE',\n",
       " 'AKAZE_DESCRIPTOR_KAZE_UPRIGHT',\n",
       " 'AKAZE_DESCRIPTOR_MLDB',\n",
       " 'AKAZE_DESCRIPTOR_MLDB_UPRIGHT',\n",
       " 'AKAZE_create',\n",
       " 'AffineFeature',\n",
       " 'AffineFeature_create',\n",
       " 'AgastFeatureDetector',\n",
       " 'AgastFeatureDetector_AGAST_5_8',\n",
       " 'AgastFeatureDetector_AGAST_7_12d',\n",
       " 'AgastFeatureDetector_AGAST_7_12s',\n",
       " 'AgastFeatureDetector_NONMAX_SUPPRESSION',\n",
       " 'AgastFeatureDetector_OAST_9_16',\n",
       " 'AgastFeatureDetector_THRESHOLD',\n",
       " 'AgastFeatureDetector_create',\n",
       " 'Algorithm',\n",
       " 'AlignExposures',\n",
       " 'AlignMTB',\n",
       " 'AsyncArray',\n",
       " 'BFMatcher',\n",
       " 'BFMatcher_create',\n",
       " 'BORDER_CONSTANT',\n",
       " 'BORDER_DEFAULT',\n",
       " 'BORDER_ISOLATED',\n",
       " 'BORDER_REFLECT',\n",
       " 'BORDER_REFLECT101',\n",
       " 'BORDER_REFLECT_101',\n",
       " 'BORDER_REPLICATE',\n",
       " 'BORDER_TRANSPARENT',\n",
       " 'BORDER_WRAP',\n",
       " 'BOWImgDescriptorExtractor',\n",
       " 'BOWKMeansTrainer',\n",
       " 'BOWTrainer',\n",
       " 'BRISK',\n",
       " 'BRISK_create',\n",
       " 'BackgroundSubtractor',\n",
       " 'BackgroundSubtractorKNN',\n",
       " 'BackgroundSubtractorMOG2',\n",
       " 'BaseCascadeClassifier',\n",
       " 'CALIB_CB_ACCURACY',\n",
       " 'CALIB_CB_ADAPTIVE_THRESH',\n",
       " 'CALIB_CB_ASYMMETRIC_GRID',\n",
       " 'CALIB_CB_CLUSTERING',\n",
       " 'CALIB_CB_EXHAUSTIVE',\n",
       " 'CALIB_CB_FAST_CHECK',\n",
       " 'CALIB_CB_FILTER_QUADS',\n",
       " 'CALIB_CB_LARGER',\n",
       " 'CALIB_CB_MARKER',\n",
       " 'CALIB_CB_NORMALIZE_IMAGE',\n",
       " 'CALIB_CB_PLAIN',\n",
       " 'CALIB_CB_SYMMETRIC_GRID',\n",
       " 'CALIB_FIX_ASPECT_RATIO',\n",
       " 'CALIB_FIX_FOCAL_LENGTH',\n",
       " 'CALIB_FIX_INTRINSIC',\n",
       " 'CALIB_FIX_K1',\n",
       " 'CALIB_FIX_K2',\n",
       " 'CALIB_FIX_K3',\n",
       " 'CALIB_FIX_K4',\n",
       " 'CALIB_FIX_K5',\n",
       " 'CALIB_FIX_K6',\n",
       " 'CALIB_FIX_PRINCIPAL_POINT',\n",
       " 'CALIB_FIX_S1_S2_S3_S4',\n",
       " 'CALIB_FIX_TANGENT_DIST',\n",
       " 'CALIB_FIX_TAUX_TAUY',\n",
       " 'CALIB_HAND_EYE_ANDREFF',\n",
       " 'CALIB_HAND_EYE_DANIILIDIS',\n",
       " 'CALIB_HAND_EYE_HORAUD',\n",
       " 'CALIB_HAND_EYE_PARK',\n",
       " 'CALIB_HAND_EYE_TSAI',\n",
       " 'CALIB_NINTRINSIC',\n",
       " 'CALIB_RATIONAL_MODEL',\n",
       " 'CALIB_ROBOT_WORLD_HAND_EYE_LI',\n",
       " 'CALIB_ROBOT_WORLD_HAND_EYE_SHAH',\n",
       " 'CALIB_SAME_FOCAL_LENGTH',\n",
       " 'CALIB_THIN_PRISM_MODEL',\n",
       " 'CALIB_TILTED_MODEL',\n",
       " 'CALIB_USE_EXTRINSIC_GUESS',\n",
       " 'CALIB_USE_INTRINSIC_GUESS',\n",
       " 'CALIB_USE_LU',\n",
       " 'CALIB_USE_QR',\n",
       " 'CALIB_ZERO_DISPARITY',\n",
       " 'CALIB_ZERO_TANGENT_DIST',\n",
       " 'CAP_ANDROID',\n",
       " 'CAP_ANY',\n",
       " 'CAP_ARAVIS',\n",
       " 'CAP_AVFOUNDATION',\n",
       " 'CAP_CMU1394',\n",
       " 'CAP_DC1394',\n",
       " 'CAP_DSHOW',\n",
       " 'CAP_FFMPEG',\n",
       " 'CAP_FIREWARE',\n",
       " 'CAP_FIREWIRE',\n",
       " 'CAP_GIGANETIX',\n",
       " 'CAP_GPHOTO2',\n",
       " 'CAP_GSTREAMER',\n",
       " 'CAP_IEEE1394',\n",
       " 'CAP_IMAGES',\n",
       " 'CAP_INTELPERC',\n",
       " 'CAP_INTELPERC_DEPTH_GENERATOR',\n",
       " 'CAP_INTELPERC_DEPTH_MAP',\n",
       " 'CAP_INTELPERC_GENERATORS_MASK',\n",
       " 'CAP_INTELPERC_IMAGE',\n",
       " 'CAP_INTELPERC_IMAGE_GENERATOR',\n",
       " 'CAP_INTELPERC_IR_GENERATOR',\n",
       " 'CAP_INTELPERC_IR_MAP',\n",
       " 'CAP_INTELPERC_UVDEPTH_MAP',\n",
       " 'CAP_INTEL_MFX',\n",
       " 'CAP_MSMF',\n",
       " 'CAP_OBSENSOR',\n",
       " 'CAP_OBSENSOR_BGR_IMAGE',\n",
       " 'CAP_OBSENSOR_DEPTH_GENERATOR',\n",
       " 'CAP_OBSENSOR_DEPTH_MAP',\n",
       " 'CAP_OBSENSOR_GENERATORS_MASK',\n",
       " 'CAP_OBSENSOR_IMAGE_GENERATOR',\n",
       " 'CAP_OBSENSOR_IR_GENERATOR',\n",
       " 'CAP_OBSENSOR_IR_IMAGE',\n",
       " 'CAP_OPENCV_MJPEG',\n",
       " 'CAP_OPENNI',\n",
       " 'CAP_OPENNI2',\n",
       " 'CAP_OPENNI2_ASTRA',\n",
       " 'CAP_OPENNI2_ASUS',\n",
       " 'CAP_OPENNI_ASUS',\n",
       " 'CAP_OPENNI_BGR_IMAGE',\n",
       " 'CAP_OPENNI_DEPTH_GENERATOR',\n",
       " 'CAP_OPENNI_DEPTH_GENERATOR_BASELINE',\n",
       " 'CAP_OPENNI_DEPTH_GENERATOR_FOCAL_LENGTH',\n",
       " 'CAP_OPENNI_DEPTH_GENERATOR_PRESENT',\n",
       " 'CAP_OPENNI_DEPTH_GENERATOR_REGISTRATION',\n",
       " 'CAP_OPENNI_DEPTH_GENERATOR_REGISTRATION_ON',\n",
       " 'CAP_OPENNI_DEPTH_MAP',\n",
       " 'CAP_OPENNI_DISPARITY_MAP',\n",
       " 'CAP_OPENNI_DISPARITY_MAP_32F',\n",
       " 'CAP_OPENNI_GENERATORS_MASK',\n",
       " 'CAP_OPENNI_GRAY_IMAGE',\n",
       " 'CAP_OPENNI_IMAGE_GENERATOR',\n",
       " 'CAP_OPENNI_IMAGE_GENERATOR_OUTPUT_MODE',\n",
       " 'CAP_OPENNI_IMAGE_GENERATOR_PRESENT',\n",
       " 'CAP_OPENNI_IR_GENERATOR',\n",
       " 'CAP_OPENNI_IR_GENERATOR_PRESENT',\n",
       " 'CAP_OPENNI_IR_IMAGE',\n",
       " 'CAP_OPENNI_POINT_CLOUD_MAP',\n",
       " 'CAP_OPENNI_QVGA_30HZ',\n",
       " 'CAP_OPENNI_QVGA_60HZ',\n",
       " 'CAP_OPENNI_SXGA_15HZ',\n",
       " 'CAP_OPENNI_SXGA_30HZ',\n",
       " 'CAP_OPENNI_VALID_DEPTH_MASK',\n",
       " 'CAP_OPENNI_VGA_30HZ',\n",
       " 'CAP_PROP_APERTURE',\n",
       " 'CAP_PROP_ARAVIS_AUTOTRIGGER',\n",
       " 'CAP_PROP_AUDIO_BASE_INDEX',\n",
       " 'CAP_PROP_AUDIO_DATA_DEPTH',\n",
       " 'CAP_PROP_AUDIO_POS',\n",
       " 'CAP_PROP_AUDIO_SAMPLES_PER_SECOND',\n",
       " 'CAP_PROP_AUDIO_SHIFT_NSEC',\n",
       " 'CAP_PROP_AUDIO_STREAM',\n",
       " 'CAP_PROP_AUDIO_SYNCHRONIZE',\n",
       " 'CAP_PROP_AUDIO_TOTAL_CHANNELS',\n",
       " 'CAP_PROP_AUDIO_TOTAL_STREAMS',\n",
       " 'CAP_PROP_AUTOFOCUS',\n",
       " 'CAP_PROP_AUTO_EXPOSURE',\n",
       " 'CAP_PROP_AUTO_WB',\n",
       " 'CAP_PROP_BACKEND',\n",
       " 'CAP_PROP_BACKLIGHT',\n",
       " 'CAP_PROP_BITRATE',\n",
       " 'CAP_PROP_BRIGHTNESS',\n",
       " 'CAP_PROP_BUFFERSIZE',\n",
       " 'CAP_PROP_CHANNEL',\n",
       " 'CAP_PROP_CODEC_EXTRADATA_INDEX',\n",
       " 'CAP_PROP_CODEC_PIXEL_FORMAT',\n",
       " 'CAP_PROP_CONTRAST',\n",
       " 'CAP_PROP_CONVERT_RGB',\n",
       " 'CAP_PROP_DC1394_MAX',\n",
       " 'CAP_PROP_DC1394_MODE_AUTO',\n",
       " 'CAP_PROP_DC1394_MODE_MANUAL',\n",
       " 'CAP_PROP_DC1394_MODE_ONE_PUSH_AUTO',\n",
       " 'CAP_PROP_DC1394_OFF',\n",
       " 'CAP_PROP_EXPOSURE',\n",
       " 'CAP_PROP_EXPOSUREPROGRAM',\n",
       " 'CAP_PROP_FOCUS',\n",
       " 'CAP_PROP_FORMAT',\n",
       " 'CAP_PROP_FOURCC',\n",
       " 'CAP_PROP_FPS',\n",
       " 'CAP_PROP_FRAME_COUNT',\n",
       " 'CAP_PROP_FRAME_HEIGHT',\n",
       " 'CAP_PROP_FRAME_TYPE',\n",
       " 'CAP_PROP_FRAME_WIDTH',\n",
       " 'CAP_PROP_GAIN',\n",
       " 'CAP_PROP_GAMMA',\n",
       " 'CAP_PROP_GIGA_FRAME_HEIGH_MAX',\n",
       " 'CAP_PROP_GIGA_FRAME_OFFSET_X',\n",
       " 'CAP_PROP_GIGA_FRAME_OFFSET_Y',\n",
       " 'CAP_PROP_GIGA_FRAME_SENS_HEIGH',\n",
       " 'CAP_PROP_GIGA_FRAME_SENS_WIDTH',\n",
       " 'CAP_PROP_GIGA_FRAME_WIDTH_MAX',\n",
       " 'CAP_PROP_GPHOTO2_COLLECT_MSGS',\n",
       " 'CAP_PROP_GPHOTO2_FLUSH_MSGS',\n",
       " 'CAP_PROP_GPHOTO2_PREVIEW',\n",
       " 'CAP_PROP_GPHOTO2_RELOAD_CONFIG',\n",
       " 'CAP_PROP_GPHOTO2_RELOAD_ON_CHANGE',\n",
       " 'CAP_PROP_GPHOTO2_WIDGET_ENUMERATE',\n",
       " 'CAP_PROP_GSTREAMER_QUEUE_LENGTH',\n",
       " 'CAP_PROP_GUID',\n",
       " 'CAP_PROP_HUE',\n",
       " 'CAP_PROP_HW_ACCELERATION',\n",
       " 'CAP_PROP_HW_ACCELERATION_USE_OPENCL',\n",
       " 'CAP_PROP_HW_DEVICE',\n",
       " 'CAP_PROP_IMAGES_BASE',\n",
       " 'CAP_PROP_IMAGES_LAST',\n",
       " 'CAP_PROP_INTELPERC_DEPTH_CONFIDENCE_THRESHOLD',\n",
       " 'CAP_PROP_INTELPERC_DEPTH_FOCAL_LENGTH_HORZ',\n",
       " 'CAP_PROP_INTELPERC_DEPTH_FOCAL_LENGTH_VERT',\n",
       " 'CAP_PROP_INTELPERC_DEPTH_LOW_CONFIDENCE_VALUE',\n",
       " 'CAP_PROP_INTELPERC_DEPTH_SATURATION_VALUE',\n",
       " 'CAP_PROP_INTELPERC_PROFILE_COUNT',\n",
       " 'CAP_PROP_INTELPERC_PROFILE_IDX',\n",
       " 'CAP_PROP_IOS_DEVICE_EXPOSURE',\n",
       " 'CAP_PROP_IOS_DEVICE_FLASH',\n",
       " 'CAP_PROP_IOS_DEVICE_FOCUS',\n",
       " 'CAP_PROP_IOS_DEVICE_TORCH',\n",
       " 'CAP_PROP_IOS_DEVICE_WHITEBALANCE',\n",
       " 'CAP_PROP_IRIS',\n",
       " 'CAP_PROP_ISO_SPEED',\n",
       " 'CAP_PROP_LRF_HAS_KEY_FRAME',\n",
       " 'CAP_PROP_MODE',\n",
       " 'CAP_PROP_MONOCHROME',\n",
       " 'CAP_PROP_N_THREADS',\n",
       " 'CAP_PROP_OBSENSOR_INTRINSIC_CX',\n",
       " 'CAP_PROP_OBSENSOR_INTRINSIC_CY',\n",
       " 'CAP_PROP_OBSENSOR_INTRINSIC_FX',\n",
       " 'CAP_PROP_OBSENSOR_INTRINSIC_FY',\n",
       " 'CAP_PROP_OPENNI2_MIRROR',\n",
       " 'CAP_PROP_OPENNI2_SYNC',\n",
       " 'CAP_PROP_OPENNI_APPROX_FRAME_SYNC',\n",
       " 'CAP_PROP_OPENNI_BASELINE',\n",
       " 'CAP_PROP_OPENNI_CIRCLE_BUFFER',\n",
       " 'CAP_PROP_OPENNI_FOCAL_LENGTH',\n",
       " 'CAP_PROP_OPENNI_FRAME_MAX_DEPTH',\n",
       " 'CAP_PROP_OPENNI_GENERATOR_PRESENT',\n",
       " 'CAP_PROP_OPENNI_MAX_BUFFER_SIZE',\n",
       " 'CAP_PROP_OPENNI_MAX_TIME_DURATION',\n",
       " 'CAP_PROP_OPENNI_OUTPUT_MODE',\n",
       " 'CAP_PROP_OPENNI_REGISTRATION',\n",
       " 'CAP_PROP_OPENNI_REGISTRATION_ON',\n",
       " 'CAP_PROP_OPEN_TIMEOUT_MSEC',\n",
       " 'CAP_PROP_ORIENTATION_AUTO',\n",
       " 'CAP_PROP_ORIENTATION_META',\n",
       " 'CAP_PROP_PAN',\n",
       " 'CAP_PROP_POS_AVI_RATIO',\n",
       " 'CAP_PROP_POS_FRAMES',\n",
       " 'CAP_PROP_POS_MSEC',\n",
       " 'CAP_PROP_PVAPI_BINNINGX',\n",
       " 'CAP_PROP_PVAPI_BINNINGY',\n",
       " 'CAP_PROP_PVAPI_DECIMATIONHORIZONTAL',\n",
       " 'CAP_PROP_PVAPI_DECIMATIONVERTICAL',\n",
       " 'CAP_PROP_PVAPI_FRAMESTARTTRIGGERMODE',\n",
       " 'CAP_PROP_PVAPI_MULTICASTIP',\n",
       " 'CAP_PROP_PVAPI_PIXELFORMAT',\n",
       " 'CAP_PROP_READ_TIMEOUT_MSEC',\n",
       " 'CAP_PROP_RECTIFICATION',\n",
       " 'CAP_PROP_ROLL',\n",
       " 'CAP_PROP_SAR_DEN',\n",
       " 'CAP_PROP_SAR_NUM',\n",
       " 'CAP_PROP_SATURATION',\n",
       " 'CAP_PROP_SETTINGS',\n",
       " 'CAP_PROP_SHARPNESS',\n",
       " 'CAP_PROP_SPEED',\n",
       " 'CAP_PROP_STREAM_OPEN_TIME_USEC',\n",
       " 'CAP_PROP_TEMPERATURE',\n",
       " 'CAP_PROP_TILT',\n",
       " 'CAP_PROP_TRIGGER',\n",
       " 'CAP_PROP_TRIGGER_DELAY',\n",
       " 'CAP_PROP_VIDEO_STREAM',\n",
       " 'CAP_PROP_VIDEO_TOTAL_CHANNELS',\n",
       " 'CAP_PROP_VIEWFINDER',\n",
       " 'CAP_PROP_WB_TEMPERATURE',\n",
       " 'CAP_PROP_WHITE_BALANCE_BLUE_U',\n",
       " 'CAP_PROP_WHITE_BALANCE_RED_V',\n",
       " 'CAP_PROP_XI_ACQ_BUFFER_SIZE',\n",
       " 'CAP_PROP_XI_ACQ_BUFFER_SIZE_UNIT',\n",
       " 'CAP_PROP_XI_ACQ_FRAME_BURST_COUNT',\n",
       " 'CAP_PROP_XI_ACQ_TIMING_MODE',\n",
       " 'CAP_PROP_XI_ACQ_TRANSPORT_BUFFER_COMMIT',\n",
       " 'CAP_PROP_XI_ACQ_TRANSPORT_BUFFER_SIZE',\n",
       " 'CAP_PROP_XI_AEAG',\n",
       " 'CAP_PROP_XI_AEAG_LEVEL',\n",
       " 'CAP_PROP_XI_AEAG_ROI_HEIGHT',\n",
       " 'CAP_PROP_XI_AEAG_ROI_OFFSET_X',\n",
       " 'CAP_PROP_XI_AEAG_ROI_OFFSET_Y',\n",
       " 'CAP_PROP_XI_AEAG_ROI_WIDTH',\n",
       " 'CAP_PROP_XI_AE_MAX_LIMIT',\n",
       " 'CAP_PROP_XI_AG_MAX_LIMIT',\n",
       " 'CAP_PROP_XI_APPLY_CMS',\n",
       " 'CAP_PROP_XI_AUTO_BANDWIDTH_CALCULATION',\n",
       " 'CAP_PROP_XI_AUTO_WB',\n",
       " 'CAP_PROP_XI_AVAILABLE_BANDWIDTH',\n",
       " 'CAP_PROP_XI_BINNING_HORIZONTAL',\n",
       " 'CAP_PROP_XI_BINNING_PATTERN',\n",
       " 'CAP_PROP_XI_BINNING_SELECTOR',\n",
       " 'CAP_PROP_XI_BINNING_VERTICAL',\n",
       " 'CAP_PROP_XI_BPC',\n",
       " 'CAP_PROP_XI_BUFFERS_QUEUE_SIZE',\n",
       " 'CAP_PROP_XI_BUFFER_POLICY',\n",
       " 'CAP_PROP_XI_CC_MATRIX_00',\n",
       " 'CAP_PROP_XI_CC_MATRIX_01',\n",
       " 'CAP_PROP_XI_CC_MATRIX_02',\n",
       " 'CAP_PROP_XI_CC_MATRIX_03',\n",
       " 'CAP_PROP_XI_CC_MATRIX_10',\n",
       " 'CAP_PROP_XI_CC_MATRIX_11',\n",
       " 'CAP_PROP_XI_CC_MATRIX_12',\n",
       " 'CAP_PROP_XI_CC_MATRIX_13',\n",
       " 'CAP_PROP_XI_CC_MATRIX_20',\n",
       " 'CAP_PROP_XI_CC_MATRIX_21',\n",
       " 'CAP_PROP_XI_CC_MATRIX_22',\n",
       " 'CAP_PROP_XI_CC_MATRIX_23',\n",
       " 'CAP_PROP_XI_CC_MATRIX_30',\n",
       " 'CAP_PROP_XI_CC_MATRIX_31',\n",
       " 'CAP_PROP_XI_CC_MATRIX_32',\n",
       " 'CAP_PROP_XI_CC_MATRIX_33',\n",
       " 'CAP_PROP_XI_CHIP_TEMP',\n",
       " 'CAP_PROP_XI_CMS',\n",
       " 'CAP_PROP_XI_COLOR_FILTER_ARRAY',\n",
       " 'CAP_PROP_XI_COLUMN_FPN_CORRECTION',\n",
       " 'CAP_PROP_XI_COOLING',\n",
       " 'CAP_PROP_XI_COUNTER_SELECTOR',\n",
       " 'CAP_PROP_XI_COUNTER_VALUE',\n",
       " 'CAP_PROP_XI_DATA_FORMAT',\n",
       " 'CAP_PROP_XI_DEBOUNCE_EN',\n",
       " 'CAP_PROP_XI_DEBOUNCE_POL',\n",
       " 'CAP_PROP_XI_DEBOUNCE_T0',\n",
       " 'CAP_PROP_XI_DEBOUNCE_T1',\n",
       " 'CAP_PROP_XI_DEBUG_LEVEL',\n",
       " 'CAP_PROP_XI_DECIMATION_HORIZONTAL',\n",
       " 'CAP_PROP_XI_DECIMATION_PATTERN',\n",
       " 'CAP_PROP_XI_DECIMATION_SELECTOR',\n",
       " 'CAP_PROP_XI_DECIMATION_VERTICAL',\n",
       " 'CAP_PROP_XI_DEFAULT_CC_MATRIX',\n",
       " 'CAP_PROP_XI_DEVICE_MODEL_ID',\n",
       " 'CAP_PROP_XI_DEVICE_RESET',\n",
       " 'CAP_PROP_XI_DEVICE_SN',\n",
       " 'CAP_PROP_XI_DOWNSAMPLING',\n",
       " 'CAP_PROP_XI_DOWNSAMPLING_TYPE',\n",
       " 'CAP_PROP_XI_EXPOSURE',\n",
       " 'CAP_PROP_XI_EXPOSURE_BURST_COUNT',\n",
       " 'CAP_PROP_XI_EXP_PRIORITY',\n",
       " 'CAP_PROP_XI_FFS_ACCESS_KEY',\n",
       " 'CAP_PROP_XI_FFS_FILE_ID',\n",
       " 'CAP_PROP_XI_FFS_FILE_SIZE',\n",
       " 'CAP_PROP_XI_FRAMERATE',\n",
       " 'CAP_PROP_XI_FREE_FFS_SIZE',\n",
       " 'CAP_PROP_XI_GAIN',\n",
       " 'CAP_PROP_XI_GAIN_SELECTOR',\n",
       " 'CAP_PROP_XI_GAMMAC',\n",
       " 'CAP_PROP_XI_GAMMAY',\n",
       " 'CAP_PROP_XI_GPI_LEVEL',\n",
       " 'CAP_PROP_XI_GPI_MODE',\n",
       " 'CAP_PROP_XI_GPI_SELECTOR',\n",
       " 'CAP_PROP_XI_GPO_MODE',\n",
       " 'CAP_PROP_XI_GPO_SELECTOR',\n",
       " 'CAP_PROP_XI_HDR',\n",
       " 'CAP_PROP_XI_HDR_KNEEPOINT_COUNT',\n",
       " 'CAP_PROP_XI_HDR_T1',\n",
       " 'CAP_PROP_XI_HDR_T2',\n",
       " 'CAP_PROP_XI_HEIGHT',\n",
       " 'CAP_PROP_XI_HOUS_BACK_SIDE_TEMP',\n",
       " 'CAP_PROP_XI_HOUS_TEMP',\n",
       " 'CAP_PROP_XI_HW_REVISION',\n",
       " 'CAP_PROP_XI_IMAGE_BLACK_LEVEL',\n",
       " 'CAP_PROP_XI_IMAGE_DATA_BIT_DEPTH',\n",
       " 'CAP_PROP_XI_IMAGE_DATA_FORMAT',\n",
       " 'CAP_PROP_XI_IMAGE_DATA_FORMAT_RGB32_ALPHA',\n",
       " 'CAP_PROP_XI_IMAGE_IS_COLOR',\n",
       " 'CAP_PROP_XI_IMAGE_PAYLOAD_SIZE',\n",
       " 'CAP_PROP_XI_IS_COOLED',\n",
       " 'CAP_PROP_XI_IS_DEVICE_EXIST',\n",
       " 'CAP_PROP_XI_KNEEPOINT1',\n",
       " 'CAP_PROP_XI_KNEEPOINT2',\n",
       " 'CAP_PROP_XI_LED_MODE',\n",
       " 'CAP_PROP_XI_LED_SELECTOR',\n",
       " 'CAP_PROP_XI_LENS_APERTURE_VALUE',\n",
       " 'CAP_PROP_XI_LENS_FEATURE',\n",
       " 'CAP_PROP_XI_LENS_FEATURE_SELECTOR',\n",
       " 'CAP_PROP_XI_LENS_FOCAL_LENGTH',\n",
       " 'CAP_PROP_XI_LENS_FOCUS_DISTANCE',\n",
       " 'CAP_PROP_XI_LENS_FOCUS_MOVE',\n",
       " 'CAP_PROP_XI_LENS_FOCUS_MOVEMENT_VALUE',\n",
       " 'CAP_PROP_XI_LENS_MODE',\n",
       " 'CAP_PROP_XI_LIMIT_BANDWIDTH',\n",
       " 'CAP_PROP_XI_LUT_EN',\n",
       " 'CAP_PROP_XI_LUT_INDEX',\n",
       " 'CAP_PROP_XI_LUT_VALUE',\n",
       " 'CAP_PROP_XI_MANUAL_WB',\n",
       " 'CAP_PROP_XI_OFFSET_X',\n",
       " 'CAP_PROP_XI_OFFSET_Y',\n",
       " 'CAP_PROP_XI_OUTPUT_DATA_BIT_DEPTH',\n",
       " 'CAP_PROP_XI_OUTPUT_DATA_PACKING',\n",
       " 'CAP_PROP_XI_OUTPUT_DATA_PACKING_TYPE',\n",
       " 'CAP_PROP_XI_RECENT_FRAME',\n",
       " 'CAP_PROP_XI_REGION_MODE',\n",
       " 'CAP_PROP_XI_REGION_SELECTOR',\n",
       " 'CAP_PROP_XI_ROW_FPN_CORRECTION',\n",
       " 'CAP_PROP_XI_SENSOR_BOARD_TEMP',\n",
       " 'CAP_PROP_XI_SENSOR_CLOCK_FREQ_HZ',\n",
       " 'CAP_PROP_XI_SENSOR_CLOCK_FREQ_INDEX',\n",
       " 'CAP_PROP_XI_SENSOR_DATA_BIT_DEPTH',\n",
       " 'CAP_PROP_XI_SENSOR_FEATURE_SELECTOR',\n",
       " 'CAP_PROP_XI_SENSOR_FEATURE_VALUE',\n",
       " 'CAP_PROP_XI_SENSOR_MODE',\n",
       " 'CAP_PROP_XI_SENSOR_OUTPUT_CHANNEL_COUNT',\n",
       " 'CAP_PROP_XI_SENSOR_TAPS',\n",
       " 'CAP_PROP_XI_SHARPNESS',\n",
       " 'CAP_PROP_XI_SHUTTER_TYPE',\n",
       " 'CAP_PROP_XI_TARGET_TEMP',\n",
       " 'CAP_PROP_XI_TEST_PATTERN',\n",
       " 'CAP_PROP_XI_TEST_PATTERN_GENERATOR_SELECTOR',\n",
       " 'CAP_PROP_XI_TIMEOUT',\n",
       " 'CAP_PROP_XI_TRANSPORT_PIXEL_FORMAT',\n",
       " 'CAP_PROP_XI_TRG_DELAY',\n",
       " 'CAP_PROP_XI_TRG_SELECTOR',\n",
       " 'CAP_PROP_XI_TRG_SOFTWARE',\n",
       " 'CAP_PROP_XI_TRG_SOURCE',\n",
       " 'CAP_PROP_XI_TS_RST_MODE',\n",
       " 'CAP_PROP_XI_TS_RST_SOURCE',\n",
       " 'CAP_PROP_XI_USED_FFS_SIZE',\n",
       " 'CAP_PROP_XI_WB_KB',\n",
       " 'CAP_PROP_XI_WB_KG',\n",
       " 'CAP_PROP_XI_WB_KR',\n",
       " 'CAP_PROP_XI_WIDTH',\n",
       " 'CAP_PROP_ZOOM',\n",
       " 'CAP_PVAPI',\n",
       " 'CAP_PVAPI_DECIMATION_2OUTOF16',\n",
       " 'CAP_PVAPI_DECIMATION_2OUTOF4',\n",
       " 'CAP_PVAPI_DECIMATION_2OUTOF8',\n",
       " 'CAP_PVAPI_DECIMATION_OFF',\n",
       " 'CAP_PVAPI_FSTRIGMODE_FIXEDRATE',\n",
       " 'CAP_PVAPI_FSTRIGMODE_FREERUN',\n",
       " 'CAP_PVAPI_FSTRIGMODE_SOFTWARE',\n",
       " 'CAP_PVAPI_FSTRIGMODE_SYNCIN1',\n",
       " 'CAP_PVAPI_FSTRIGMODE_SYNCIN2',\n",
       " 'CAP_PVAPI_PIXELFORMAT_BAYER16',\n",
       " 'CAP_PVAPI_PIXELFORMAT_BAYER8',\n",
       " 'CAP_PVAPI_PIXELFORMAT_BGR24',\n",
       " 'CAP_PVAPI_PIXELFORMAT_BGRA32',\n",
       " 'CAP_PVAPI_PIXELFORMAT_MONO16',\n",
       " 'CAP_PVAPI_PIXELFORMAT_MONO8',\n",
       " 'CAP_PVAPI_PIXELFORMAT_RGB24',\n",
       " 'CAP_PVAPI_PIXELFORMAT_RGBA32',\n",
       " 'CAP_QT',\n",
       " 'CAP_REALSENSE',\n",
       " 'CAP_UEYE',\n",
       " 'CAP_UNICAP',\n",
       " 'CAP_V4L',\n",
       " 'CAP_V4L2',\n",
       " 'CAP_VFW',\n",
       " 'CAP_WINRT',\n",
       " 'CAP_XIAPI',\n",
       " 'CAP_XINE',\n",
       " 'CASCADE_DO_CANNY_PRUNING',\n",
       " 'CASCADE_DO_ROUGH_SEARCH',\n",
       " 'CASCADE_FIND_BIGGEST_OBJECT',\n",
       " 'CASCADE_SCALE_IMAGE',\n",
       " 'CCL_BBDT',\n",
       " 'CCL_BOLELLI',\n",
       " 'CCL_DEFAULT',\n",
       " 'CCL_GRANA',\n",
       " 'CCL_SAUF',\n",
       " 'CCL_SPAGHETTI',\n",
       " 'CCL_WU',\n",
       " 'CC_STAT_AREA',\n",
       " 'CC_STAT_HEIGHT',\n",
       " 'CC_STAT_LEFT',\n",
       " 'CC_STAT_MAX',\n",
       " 'CC_STAT_TOP',\n",
       " 'CC_STAT_WIDTH',\n",
       " 'CHAIN_APPROX_NONE',\n",
       " 'CHAIN_APPROX_SIMPLE',\n",
       " 'CHAIN_APPROX_TC89_KCOS',\n",
       " 'CHAIN_APPROX_TC89_L1',\n",
       " 'CIRCLES_GRID_FINDER_PARAMETERS_ASYMMETRIC_GRID',\n",
       " 'CIRCLES_GRID_FINDER_PARAMETERS_SYMMETRIC_GRID',\n",
       " 'CLAHE',\n",
       " 'CMP_EQ',\n",
       " 'CMP_GE',\n",
       " 'CMP_GT',\n",
       " 'CMP_LE',\n",
       " 'CMP_LT',\n",
       " 'CMP_NE',\n",
       " 'COLORMAP_AUTUMN',\n",
       " 'COLORMAP_BONE',\n",
       " 'COLORMAP_CIVIDIS',\n",
       " 'COLORMAP_COOL',\n",
       " 'COLORMAP_DEEPGREEN',\n",
       " 'COLORMAP_HOT',\n",
       " 'COLORMAP_HSV',\n",
       " 'COLORMAP_INFERNO',\n",
       " 'COLORMAP_JET',\n",
       " 'COLORMAP_MAGMA',\n",
       " 'COLORMAP_OCEAN',\n",
       " 'COLORMAP_PARULA',\n",
       " 'COLORMAP_PINK',\n",
       " 'COLORMAP_PLASMA',\n",
       " 'COLORMAP_RAINBOW',\n",
       " 'COLORMAP_SPRING',\n",
       " 'COLORMAP_SUMMER',\n",
       " 'COLORMAP_TURBO',\n",
       " 'COLORMAP_TWILIGHT',\n",
       " 'COLORMAP_TWILIGHT_SHIFTED',\n",
       " 'COLORMAP_VIRIDIS',\n",
       " 'COLORMAP_WINTER',\n",
       " 'COLOR_BAYER_BG2BGR',\n",
       " 'COLOR_BAYER_BG2BGRA',\n",
       " 'COLOR_BAYER_BG2BGR_EA',\n",
       " 'COLOR_BAYER_BG2BGR_VNG',\n",
       " 'COLOR_BAYER_BG2GRAY',\n",
       " 'COLOR_BAYER_BG2RGB',\n",
       " 'COLOR_BAYER_BG2RGBA',\n",
       " 'COLOR_BAYER_BG2RGB_EA',\n",
       " 'COLOR_BAYER_BG2RGB_VNG',\n",
       " 'COLOR_BAYER_BGGR2BGR',\n",
       " 'COLOR_BAYER_BGGR2BGRA',\n",
       " 'COLOR_BAYER_BGGR2BGR_EA',\n",
       " 'COLOR_BAYER_BGGR2BGR_VNG',\n",
       " 'COLOR_BAYER_BGGR2GRAY',\n",
       " 'COLOR_BAYER_BGGR2RGB',\n",
       " 'COLOR_BAYER_BGGR2RGBA',\n",
       " 'COLOR_BAYER_BGGR2RGB_EA',\n",
       " 'COLOR_BAYER_BGGR2RGB_VNG',\n",
       " 'COLOR_BAYER_GB2BGR',\n",
       " 'COLOR_BAYER_GB2BGRA',\n",
       " 'COLOR_BAYER_GB2BGR_EA',\n",
       " 'COLOR_BAYER_GB2BGR_VNG',\n",
       " 'COLOR_BAYER_GB2GRAY',\n",
       " 'COLOR_BAYER_GB2RGB',\n",
       " 'COLOR_BAYER_GB2RGBA',\n",
       " 'COLOR_BAYER_GB2RGB_EA',\n",
       " 'COLOR_BAYER_GB2RGB_VNG',\n",
       " 'COLOR_BAYER_GBRG2BGR',\n",
       " 'COLOR_BAYER_GBRG2BGRA',\n",
       " 'COLOR_BAYER_GBRG2BGR_EA',\n",
       " 'COLOR_BAYER_GBRG2BGR_VNG',\n",
       " 'COLOR_BAYER_GBRG2GRAY',\n",
       " 'COLOR_BAYER_GBRG2RGB',\n",
       " 'COLOR_BAYER_GBRG2RGBA',\n",
       " 'COLOR_BAYER_GBRG2RGB_EA',\n",
       " 'COLOR_BAYER_GBRG2RGB_VNG',\n",
       " 'COLOR_BAYER_GR2BGR',\n",
       " 'COLOR_BAYER_GR2BGRA',\n",
       " 'COLOR_BAYER_GR2BGR_EA',\n",
       " 'COLOR_BAYER_GR2BGR_VNG',\n",
       " 'COLOR_BAYER_GR2GRAY',\n",
       " 'COLOR_BAYER_GR2RGB',\n",
       " 'COLOR_BAYER_GR2RGBA',\n",
       " 'COLOR_BAYER_GR2RGB_EA',\n",
       " 'COLOR_BAYER_GR2RGB_VNG',\n",
       " 'COLOR_BAYER_GRBG2BGR',\n",
       " 'COLOR_BAYER_GRBG2BGRA',\n",
       " 'COLOR_BAYER_GRBG2BGR_EA',\n",
       " 'COLOR_BAYER_GRBG2BGR_VNG',\n",
       " 'COLOR_BAYER_GRBG2GRAY',\n",
       " 'COLOR_BAYER_GRBG2RGB',\n",
       " 'COLOR_BAYER_GRBG2RGBA',\n",
       " 'COLOR_BAYER_GRBG2RGB_EA',\n",
       " 'COLOR_BAYER_GRBG2RGB_VNG',\n",
       " 'COLOR_BAYER_RG2BGR',\n",
       " 'COLOR_BAYER_RG2BGRA',\n",
       " 'COLOR_BAYER_RG2BGR_EA',\n",
       " 'COLOR_BAYER_RG2BGR_VNG',\n",
       " 'COLOR_BAYER_RG2GRAY',\n",
       " 'COLOR_BAYER_RG2RGB',\n",
       " 'COLOR_BAYER_RG2RGBA',\n",
       " 'COLOR_BAYER_RG2RGB_EA',\n",
       " 'COLOR_BAYER_RG2RGB_VNG',\n",
       " 'COLOR_BAYER_RGGB2BGR',\n",
       " 'COLOR_BAYER_RGGB2BGRA',\n",
       " 'COLOR_BAYER_RGGB2BGR_EA',\n",
       " 'COLOR_BAYER_RGGB2BGR_VNG',\n",
       " 'COLOR_BAYER_RGGB2GRAY',\n",
       " 'COLOR_BAYER_RGGB2RGB',\n",
       " 'COLOR_BAYER_RGGB2RGBA',\n",
       " 'COLOR_BAYER_RGGB2RGB_EA',\n",
       " 'COLOR_BAYER_RGGB2RGB_VNG',\n",
       " 'COLOR_BGR2BGR555',\n",
       " 'COLOR_BGR2BGR565',\n",
       " 'COLOR_BGR2BGRA',\n",
       " 'COLOR_BGR2GRAY',\n",
       " 'COLOR_BGR2HLS',\n",
       " 'COLOR_BGR2HLS_FULL',\n",
       " 'COLOR_BGR2HSV',\n",
       " 'COLOR_BGR2HSV_FULL',\n",
       " 'COLOR_BGR2LAB',\n",
       " 'COLOR_BGR2LUV',\n",
       " 'COLOR_BGR2Lab',\n",
       " 'COLOR_BGR2Luv',\n",
       " 'COLOR_BGR2RGB',\n",
       " 'COLOR_BGR2RGBA',\n",
       " 'COLOR_BGR2XYZ',\n",
       " 'COLOR_BGR2YCR_CB',\n",
       " 'COLOR_BGR2YCrCb',\n",
       " 'COLOR_BGR2YUV',\n",
       " 'COLOR_BGR2YUV_I420',\n",
       " 'COLOR_BGR2YUV_IYUV',\n",
       " 'COLOR_BGR2YUV_UYNV',\n",
       " 'COLOR_BGR2YUV_UYVY',\n",
       " 'COLOR_BGR2YUV_Y422',\n",
       " 'COLOR_BGR2YUV_YUNV',\n",
       " 'COLOR_BGR2YUV_YUY2',\n",
       " 'COLOR_BGR2YUV_YUYV',\n",
       " 'COLOR_BGR2YUV_YV12',\n",
       " 'COLOR_BGR2YUV_YVYU',\n",
       " 'COLOR_BGR5552BGR',\n",
       " 'COLOR_BGR5552BGRA',\n",
       " 'COLOR_BGR5552GRAY',\n",
       " 'COLOR_BGR5552RGB',\n",
       " 'COLOR_BGR5552RGBA',\n",
       " 'COLOR_BGR5652BGR',\n",
       " 'COLOR_BGR5652BGRA',\n",
       " 'COLOR_BGR5652GRAY',\n",
       " 'COLOR_BGR5652RGB',\n",
       " 'COLOR_BGR5652RGBA',\n",
       " 'COLOR_BGRA2BGR',\n",
       " 'COLOR_BGRA2BGR555',\n",
       " 'COLOR_BGRA2BGR565',\n",
       " 'COLOR_BGRA2GRAY',\n",
       " 'COLOR_BGRA2RGB',\n",
       " 'COLOR_BGRA2RGBA',\n",
       " 'COLOR_BGRA2YUV_I420',\n",
       " 'COLOR_BGRA2YUV_IYUV',\n",
       " 'COLOR_BGRA2YUV_UYNV',\n",
       " 'COLOR_BGRA2YUV_UYVY',\n",
       " 'COLOR_BGRA2YUV_Y422',\n",
       " 'COLOR_BGRA2YUV_YUNV',\n",
       " 'COLOR_BGRA2YUV_YUY2',\n",
       " 'COLOR_BGRA2YUV_YUYV',\n",
       " 'COLOR_BGRA2YUV_YV12',\n",
       " 'COLOR_BGRA2YUV_YVYU',\n",
       " 'COLOR_BayerBG2BGR',\n",
       " 'COLOR_BayerBG2BGRA',\n",
       " 'COLOR_BayerBG2BGR_EA',\n",
       " 'COLOR_BayerBG2BGR_VNG',\n",
       " 'COLOR_BayerBG2GRAY',\n",
       " 'COLOR_BayerBG2RGB',\n",
       " 'COLOR_BayerBG2RGBA',\n",
       " 'COLOR_BayerBG2RGB_EA',\n",
       " 'COLOR_BayerBG2RGB_VNG',\n",
       " 'COLOR_BayerBGGR2BGR',\n",
       " 'COLOR_BayerBGGR2BGRA',\n",
       " 'COLOR_BayerBGGR2BGR_EA',\n",
       " 'COLOR_BayerBGGR2BGR_VNG',\n",
       " 'COLOR_BayerBGGR2GRAY',\n",
       " 'COLOR_BayerBGGR2RGB',\n",
       " 'COLOR_BayerBGGR2RGBA',\n",
       " 'COLOR_BayerBGGR2RGB_EA',\n",
       " 'COLOR_BayerBGGR2RGB_VNG',\n",
       " 'COLOR_BayerGB2BGR',\n",
       " 'COLOR_BayerGB2BGRA',\n",
       " 'COLOR_BayerGB2BGR_EA',\n",
       " 'COLOR_BayerGB2BGR_VNG',\n",
       " 'COLOR_BayerGB2GRAY',\n",
       " 'COLOR_BayerGB2RGB',\n",
       " 'COLOR_BayerGB2RGBA',\n",
       " 'COLOR_BayerGB2RGB_EA',\n",
       " 'COLOR_BayerGB2RGB_VNG',\n",
       " 'COLOR_BayerGBRG2BGR',\n",
       " 'COLOR_BayerGBRG2BGRA',\n",
       " 'COLOR_BayerGBRG2BGR_EA',\n",
       " 'COLOR_BayerGBRG2BGR_VNG',\n",
       " 'COLOR_BayerGBRG2GRAY',\n",
       " 'COLOR_BayerGBRG2RGB',\n",
       " 'COLOR_BayerGBRG2RGBA',\n",
       " 'COLOR_BayerGBRG2RGB_EA',\n",
       " 'COLOR_BayerGBRG2RGB_VNG',\n",
       " 'COLOR_BayerGR2BGR',\n",
       " 'COLOR_BayerGR2BGRA',\n",
       " 'COLOR_BayerGR2BGR_EA',\n",
       " 'COLOR_BayerGR2BGR_VNG',\n",
       " 'COLOR_BayerGR2GRAY',\n",
       " 'COLOR_BayerGR2RGB',\n",
       " 'COLOR_BayerGR2RGBA',\n",
       " 'COLOR_BayerGR2RGB_EA',\n",
       " 'COLOR_BayerGR2RGB_VNG',\n",
       " 'COLOR_BayerGRBG2BGR',\n",
       " 'COLOR_BayerGRBG2BGRA',\n",
       " 'COLOR_BayerGRBG2BGR_EA',\n",
       " 'COLOR_BayerGRBG2BGR_VNG',\n",
       " 'COLOR_BayerGRBG2GRAY',\n",
       " 'COLOR_BayerGRBG2RGB',\n",
       " 'COLOR_BayerGRBG2RGBA',\n",
       " 'COLOR_BayerGRBG2RGB_EA',\n",
       " 'COLOR_BayerGRBG2RGB_VNG',\n",
       " 'COLOR_BayerRG2BGR',\n",
       " 'COLOR_BayerRG2BGRA',\n",
       " 'COLOR_BayerRG2BGR_EA',\n",
       " 'COLOR_BayerRG2BGR_VNG',\n",
       " 'COLOR_BayerRG2GRAY',\n",
       " 'COLOR_BayerRG2RGB',\n",
       " 'COLOR_BayerRG2RGBA',\n",
       " 'COLOR_BayerRG2RGB_EA',\n",
       " 'COLOR_BayerRG2RGB_VNG',\n",
       " 'COLOR_BayerRGGB2BGR',\n",
       " 'COLOR_BayerRGGB2BGRA',\n",
       " 'COLOR_BayerRGGB2BGR_EA',\n",
       " 'COLOR_BayerRGGB2BGR_VNG',\n",
       " 'COLOR_BayerRGGB2GRAY',\n",
       " 'COLOR_BayerRGGB2RGB',\n",
       " 'COLOR_BayerRGGB2RGBA',\n",
       " 'COLOR_BayerRGGB2RGB_EA',\n",
       " 'COLOR_BayerRGGB2RGB_VNG',\n",
       " 'COLOR_COLORCVT_MAX',\n",
       " 'COLOR_GRAY2BGR',\n",
       " 'COLOR_GRAY2BGR555',\n",
       " 'COLOR_GRAY2BGR565',\n",
       " 'COLOR_GRAY2BGRA',\n",
       " 'COLOR_GRAY2RGB',\n",
       " 'COLOR_GRAY2RGBA',\n",
       " 'COLOR_HLS2BGR',\n",
       " 'COLOR_HLS2BGR_FULL',\n",
       " 'COLOR_HLS2RGB',\n",
       " 'COLOR_HLS2RGB_FULL',\n",
       " 'COLOR_HSV2BGR',\n",
       " 'COLOR_HSV2BGR_FULL',\n",
       " 'COLOR_HSV2RGB',\n",
       " 'COLOR_HSV2RGB_FULL',\n",
       " 'COLOR_LAB2BGR',\n",
       " 'COLOR_LAB2LBGR',\n",
       " 'COLOR_LAB2LRGB',\n",
       " 'COLOR_LAB2RGB',\n",
       " 'COLOR_LBGR2LAB',\n",
       " 'COLOR_LBGR2LUV',\n",
       " 'COLOR_LBGR2Lab',\n",
       " 'COLOR_LBGR2Luv',\n",
       " 'COLOR_LRGB2LAB',\n",
       " 'COLOR_LRGB2LUV',\n",
       " 'COLOR_LRGB2Lab',\n",
       " 'COLOR_LRGB2Luv',\n",
       " 'COLOR_LUV2BGR',\n",
       " 'COLOR_LUV2LBGR',\n",
       " 'COLOR_LUV2LRGB',\n",
       " 'COLOR_LUV2RGB',\n",
       " 'COLOR_Lab2BGR',\n",
       " 'COLOR_Lab2LBGR',\n",
       " 'COLOR_Lab2LRGB',\n",
       " 'COLOR_Lab2RGB',\n",
       " 'COLOR_Luv2BGR',\n",
       " 'COLOR_Luv2LBGR',\n",
       " 'COLOR_Luv2LRGB',\n",
       " 'COLOR_Luv2RGB',\n",
       " 'COLOR_M_RGBA2RGBA',\n",
       " 'COLOR_RGB2BGR',\n",
       " 'COLOR_RGB2BGR555',\n",
       " 'COLOR_RGB2BGR565',\n",
       " 'COLOR_RGB2BGRA',\n",
       " 'COLOR_RGB2GRAY',\n",
       " 'COLOR_RGB2HLS',\n",
       " 'COLOR_RGB2HLS_FULL',\n",
       " 'COLOR_RGB2HSV',\n",
       " 'COLOR_RGB2HSV_FULL',\n",
       " 'COLOR_RGB2LAB',\n",
       " 'COLOR_RGB2LUV',\n",
       " 'COLOR_RGB2Lab',\n",
       " 'COLOR_RGB2Luv',\n",
       " 'COLOR_RGB2RGBA',\n",
       " 'COLOR_RGB2XYZ',\n",
       " 'COLOR_RGB2YCR_CB',\n",
       " 'COLOR_RGB2YCrCb',\n",
       " 'COLOR_RGB2YUV',\n",
       " 'COLOR_RGB2YUV_I420',\n",
       " 'COLOR_RGB2YUV_IYUV',\n",
       " 'COLOR_RGB2YUV_UYNV',\n",
       " 'COLOR_RGB2YUV_UYVY',\n",
       " 'COLOR_RGB2YUV_Y422',\n",
       " 'COLOR_RGB2YUV_YUNV',\n",
       " 'COLOR_RGB2YUV_YUY2',\n",
       " 'COLOR_RGB2YUV_YUYV',\n",
       " 'COLOR_RGB2YUV_YV12',\n",
       " 'COLOR_RGB2YUV_YVYU',\n",
       " 'COLOR_RGBA2BGR',\n",
       " 'COLOR_RGBA2BGR555',\n",
       " 'COLOR_RGBA2BGR565',\n",
       " 'COLOR_RGBA2BGRA',\n",
       " 'COLOR_RGBA2GRAY',\n",
       " 'COLOR_RGBA2M_RGBA',\n",
       " 'COLOR_RGBA2RGB',\n",
       " 'COLOR_RGBA2YUV_I420',\n",
       " 'COLOR_RGBA2YUV_IYUV',\n",
       " 'COLOR_RGBA2YUV_UYNV',\n",
       " 'COLOR_RGBA2YUV_UYVY',\n",
       " 'COLOR_RGBA2YUV_Y422',\n",
       " 'COLOR_RGBA2YUV_YUNV',\n",
       " 'COLOR_RGBA2YUV_YUY2',\n",
       " 'COLOR_RGBA2YUV_YUYV',\n",
       " 'COLOR_RGBA2YUV_YV12',\n",
       " 'COLOR_RGBA2YUV_YVYU',\n",
       " 'COLOR_RGBA2mRGBA',\n",
       " 'COLOR_XYZ2BGR',\n",
       " 'COLOR_XYZ2RGB',\n",
       " 'COLOR_YCR_CB2BGR',\n",
       " 'COLOR_YCR_CB2RGB',\n",
       " 'COLOR_YCrCb2BGR',\n",
       " 'COLOR_YCrCb2RGB',\n",
       " 'COLOR_YUV2BGR',\n",
       " 'COLOR_YUV2BGRA_I420',\n",
       " 'COLOR_YUV2BGRA_IYUV',\n",
       " 'COLOR_YUV2BGRA_NV12',\n",
       " 'COLOR_YUV2BGRA_NV21',\n",
       " 'COLOR_YUV2BGRA_UYNV',\n",
       " 'COLOR_YUV2BGRA_UYVY',\n",
       " 'COLOR_YUV2BGRA_Y422',\n",
       " 'COLOR_YUV2BGRA_YUNV',\n",
       " 'COLOR_YUV2BGRA_YUY2',\n",
       " 'COLOR_YUV2BGRA_YUYV',\n",
       " 'COLOR_YUV2BGRA_YV12',\n",
       " 'COLOR_YUV2BGRA_YVYU',\n",
       " 'COLOR_YUV2BGR_I420',\n",
       " 'COLOR_YUV2BGR_IYUV',\n",
       " 'COLOR_YUV2BGR_NV12',\n",
       " 'COLOR_YUV2BGR_NV21',\n",
       " 'COLOR_YUV2BGR_UYNV',\n",
       " 'COLOR_YUV2BGR_UYVY',\n",
       " 'COLOR_YUV2BGR_Y422',\n",
       " 'COLOR_YUV2BGR_YUNV',\n",
       " 'COLOR_YUV2BGR_YUY2',\n",
       " 'COLOR_YUV2BGR_YUYV',\n",
       " 'COLOR_YUV2BGR_YV12',\n",
       " 'COLOR_YUV2BGR_YVYU',\n",
       " 'COLOR_YUV2GRAY_420',\n",
       " 'COLOR_YUV2GRAY_I420',\n",
       " 'COLOR_YUV2GRAY_IYUV',\n",
       " 'COLOR_YUV2GRAY_NV12',\n",
       " 'COLOR_YUV2GRAY_NV21',\n",
       " 'COLOR_YUV2GRAY_UYNV',\n",
       " 'COLOR_YUV2GRAY_UYVY',\n",
       " 'COLOR_YUV2GRAY_Y422',\n",
       " 'COLOR_YUV2GRAY_YUNV',\n",
       " 'COLOR_YUV2GRAY_YUY2',\n",
       " 'COLOR_YUV2GRAY_YUYV',\n",
       " 'COLOR_YUV2GRAY_YV12',\n",
       " 'COLOR_YUV2GRAY_YVYU',\n",
       " 'COLOR_YUV2RGB',\n",
       " 'COLOR_YUV2RGBA_I420',\n",
       " 'COLOR_YUV2RGBA_IYUV',\n",
       " 'COLOR_YUV2RGBA_NV12',\n",
       " 'COLOR_YUV2RGBA_NV21',\n",
       " 'COLOR_YUV2RGBA_UYNV',\n",
       " 'COLOR_YUV2RGBA_UYVY',\n",
       " 'COLOR_YUV2RGBA_Y422',\n",
       " 'COLOR_YUV2RGBA_YUNV',\n",
       " 'COLOR_YUV2RGBA_YUY2',\n",
       " 'COLOR_YUV2RGBA_YUYV',\n",
       " 'COLOR_YUV2RGBA_YV12',\n",
       " 'COLOR_YUV2RGBA_YVYU',\n",
       " 'COLOR_YUV2RGB_I420',\n",
       " 'COLOR_YUV2RGB_IYUV',\n",
       " 'COLOR_YUV2RGB_NV12',\n",
       " 'COLOR_YUV2RGB_NV21',\n",
       " 'COLOR_YUV2RGB_UYNV',\n",
       " 'COLOR_YUV2RGB_UYVY',\n",
       " 'COLOR_YUV2RGB_Y422',\n",
       " 'COLOR_YUV2RGB_YUNV',\n",
       " 'COLOR_YUV2RGB_YUY2',\n",
       " 'COLOR_YUV2RGB_YUYV',\n",
       " 'COLOR_YUV2RGB_YV12',\n",
       " 'COLOR_YUV2RGB_YVYU',\n",
       " 'COLOR_YUV420P2BGR',\n",
       " 'COLOR_YUV420P2BGRA',\n",
       " 'COLOR_YUV420P2GRAY',\n",
       " 'COLOR_YUV420P2RGB',\n",
       " 'COLOR_YUV420P2RGBA',\n",
       " 'COLOR_YUV420SP2BGR',\n",
       " 'COLOR_YUV420SP2BGRA',\n",
       " 'COLOR_YUV420SP2GRAY',\n",
       " 'COLOR_YUV420SP2RGB',\n",
       " 'COLOR_YUV420SP2RGBA',\n",
       " 'COLOR_YUV420p2BGR',\n",
       " 'COLOR_YUV420p2BGRA',\n",
       " 'COLOR_YUV420p2GRAY',\n",
       " 'COLOR_YUV420p2RGB',\n",
       " 'COLOR_YUV420p2RGBA',\n",
       " 'COLOR_YUV420sp2BGR',\n",
       " 'COLOR_YUV420sp2BGRA',\n",
       " 'COLOR_YUV420sp2GRAY',\n",
       " 'COLOR_YUV420sp2RGB',\n",
       " 'COLOR_YUV420sp2RGBA',\n",
       " 'COLOR_mRGBA2RGBA',\n",
       " 'CONTOURS_MATCH_I1',\n",
       " 'CONTOURS_MATCH_I2',\n",
       " 'CONTOURS_MATCH_I3',\n",
       " 'COVAR_COLS',\n",
       " 'COVAR_NORMAL',\n",
       " 'COVAR_ROWS',\n",
       " 'COVAR_SCALE',\n",
       " 'COVAR_SCRAMBLED',\n",
       " 'COVAR_USE_AVG',\n",
       " 'COV_POLISHER',\n",
       " 'CV_16F',\n",
       " 'CV_16FC',\n",
       " 'CV_16FC1',\n",
       " 'CV_16FC2',\n",
       " 'CV_16FC3',\n",
       " 'CV_16FC4',\n",
       " 'CV_16S',\n",
       " 'CV_16SC',\n",
       " 'CV_16SC1',\n",
       " 'CV_16SC2',\n",
       " 'CV_16SC3',\n",
       " 'CV_16SC4',\n",
       " 'CV_16U',\n",
       " 'CV_16UC',\n",
       " 'CV_16UC1',\n",
       " 'CV_16UC2',\n",
       " 'CV_16UC3',\n",
       " 'CV_16UC4',\n",
       " 'CV_32F',\n",
       " 'CV_32FC',\n",
       " 'CV_32FC1',\n",
       " 'CV_32FC2',\n",
       " 'CV_32FC3',\n",
       " 'CV_32FC4',\n",
       " 'CV_32S',\n",
       " 'CV_32SC',\n",
       " 'CV_32SC1',\n",
       " 'CV_32SC2',\n",
       " 'CV_32SC3',\n",
       " 'CV_32SC4',\n",
       " 'CV_64F',\n",
       " 'CV_64FC',\n",
       " 'CV_64FC1',\n",
       " 'CV_64FC2',\n",
       " 'CV_64FC3',\n",
       " 'CV_64FC4',\n",
       " 'CV_8S',\n",
       " 'CV_8SC',\n",
       " 'CV_8SC1',\n",
       " 'CV_8SC2',\n",
       " 'CV_8SC3',\n",
       " 'CV_8SC4',\n",
       " 'CV_8U',\n",
       " 'CV_8UC',\n",
       " 'CV_8UC1',\n",
       " 'CV_8UC2',\n",
       " 'CV_8UC3',\n",
       " 'CV_8UC4',\n",
       " 'CV_MAKETYPE',\n",
       " 'CalibrateCRF',\n",
       " 'CalibrateDebevec',\n",
       " 'CalibrateRobertson',\n",
       " 'CamShift',\n",
       " 'Canny',\n",
       " 'CascadeClassifier',\n",
       " 'CascadeClassifier_convert',\n",
       " 'CirclesGridFinderParameters',\n",
       " 'CirclesGridFinderParameters_ASYMMETRIC_GRID',\n",
       " 'CirclesGridFinderParameters_SYMMETRIC_GRID',\n",
       " 'DCT_INVERSE',\n",
       " 'DCT_ROWS',\n",
       " 'DECOMP_CHOLESKY',\n",
       " 'DECOMP_EIG',\n",
       " 'DECOMP_LU',\n",
       " 'DECOMP_NORMAL',\n",
       " 'DECOMP_QR',\n",
       " 'DECOMP_SVD',\n",
       " 'DESCRIPTOR_MATCHER_BRUTEFORCE',\n",
       " 'DESCRIPTOR_MATCHER_BRUTEFORCE_HAMMING',\n",
       " 'DESCRIPTOR_MATCHER_BRUTEFORCE_HAMMINGLUT',\n",
       " 'DESCRIPTOR_MATCHER_BRUTEFORCE_L1',\n",
       " 'DESCRIPTOR_MATCHER_BRUTEFORCE_SL2',\n",
       " 'DESCRIPTOR_MATCHER_FLANNBASED',\n",
       " 'DFT_COMPLEX_INPUT',\n",
       " 'DFT_COMPLEX_OUTPUT',\n",
       " 'DFT_INVERSE',\n",
       " 'DFT_REAL_OUTPUT',\n",
       " 'DFT_ROWS',\n",
       " 'DFT_SCALE',\n",
       " 'DISOPTICAL_FLOW_PRESET_FAST',\n",
       " 'DISOPTICAL_FLOW_PRESET_MEDIUM',\n",
       " 'DISOPTICAL_FLOW_PRESET_ULTRAFAST',\n",
       " 'DISOpticalFlow',\n",
       " 'DISOpticalFlow_PRESET_FAST',\n",
       " 'DISOpticalFlow_PRESET_MEDIUM',\n",
       " 'DISOpticalFlow_PRESET_ULTRAFAST',\n",
       " 'DISOpticalFlow_create',\n",
       " 'DIST_C',\n",
       " 'DIST_FAIR',\n",
       " 'DIST_HUBER',\n",
       " 'DIST_L1',\n",
       " 'DIST_L12',\n",
       " 'DIST_L2',\n",
       " 'DIST_LABEL_CCOMP',\n",
       " ...]"
      ]
     },
     "execution_count": 49,
     "metadata": {},
     "output_type": "execute_result"
    }
   ],
   "source": [
    "import cv2\n",
    "dir(cv2)"
   ]
  },
  {
   "cell_type": "code",
   "execution_count": 53,
   "id": "445c2b8d-ba69-4d14-a064-b5daf92b33d5",
   "metadata": {},
   "outputs": [
    {
     "data": {
      "text/plain": [
       "'4.10.0'"
      ]
     },
     "execution_count": 53,
     "metadata": {},
     "output_type": "execute_result"
    }
   ],
   "source": [
    "cv2.__version__"
   ]
  },
  {
   "cell_type": "code",
   "execution_count": 55,
   "id": "5920f335-476f-4787-a5d1-03446aec3274",
   "metadata": {},
   "outputs": [
    {
     "name": "stdout",
     "output_type": "stream",
     "text": [
      "Help on int object:\n",
      "\n",
      "class int(object)\n",
      " |  int([x]) -> integer\n",
      " |  int(x, base=10) -> integer\n",
      " |\n",
      " |  Convert a number or string to an integer, or return 0 if no arguments\n",
      " |  are given.  If x is a number, return x.__int__().  For floating point\n",
      " |  numbers, this truncates towards zero.\n",
      " |\n",
      " |  If x is not a number or if base is given, then x must be a string,\n",
      " |  bytes, or bytearray instance representing an integer literal in the\n",
      " |  given base.  The literal can be preceded by '+' or '-' and be surrounded\n",
      " |  by whitespace.  The base defaults to 10.  Valid bases are 0 and 2-36.\n",
      " |  Base 0 means to interpret the base from the string as an integer literal.\n",
      " |  >>> int('0b100', base=0)\n",
      " |  4\n",
      " |\n",
      " |  Built-in subclasses:\n",
      " |      bool\n",
      " |\n",
      " |  Methods defined here:\n",
      " |\n",
      " |  __abs__(self, /)\n",
      " |      abs(self)\n",
      " |\n",
      " |  __add__(self, value, /)\n",
      " |      Return self+value.\n",
      " |\n",
      " |  __and__(self, value, /)\n",
      " |      Return self&value.\n",
      " |\n",
      " |  __bool__(self, /)\n",
      " |      True if self else False\n",
      " |\n",
      " |  __ceil__(...)\n",
      " |      Ceiling of an Integral returns itself.\n",
      " |\n",
      " |  __divmod__(self, value, /)\n",
      " |      Return divmod(self, value).\n",
      " |\n",
      " |  __eq__(self, value, /)\n",
      " |      Return self==value.\n",
      " |\n",
      " |  __float__(self, /)\n",
      " |      float(self)\n",
      " |\n",
      " |  __floor__(...)\n",
      " |      Flooring an Integral returns itself.\n",
      " |\n",
      " |  __floordiv__(self, value, /)\n",
      " |      Return self//value.\n",
      " |\n",
      " |  __format__(self, format_spec, /)\n",
      " |      Convert to a string according to format_spec.\n",
      " |\n",
      " |  __ge__(self, value, /)\n",
      " |      Return self>=value.\n",
      " |\n",
      " |  __getattribute__(self, name, /)\n",
      " |      Return getattr(self, name).\n",
      " |\n",
      " |  __getnewargs__(self, /)\n",
      " |\n",
      " |  __gt__(self, value, /)\n",
      " |      Return self>value.\n",
      " |\n",
      " |  __hash__(self, /)\n",
      " |      Return hash(self).\n",
      " |\n",
      " |  __index__(self, /)\n",
      " |      Return self converted to an integer, if self is suitable for use as an index into a list.\n",
      " |\n",
      " |  __int__(self, /)\n",
      " |      int(self)\n",
      " |\n",
      " |  __invert__(self, /)\n",
      " |      ~self\n",
      " |\n",
      " |  __le__(self, value, /)\n",
      " |      Return self<=value.\n",
      " |\n",
      " |  __lshift__(self, value, /)\n",
      " |      Return self<<value.\n",
      " |\n",
      " |  __lt__(self, value, /)\n",
      " |      Return self<value.\n",
      " |\n",
      " |  __mod__(self, value, /)\n",
      " |      Return self%value.\n",
      " |\n",
      " |  __mul__(self, value, /)\n",
      " |      Return self*value.\n",
      " |\n",
      " |  __ne__(self, value, /)\n",
      " |      Return self!=value.\n",
      " |\n",
      " |  __neg__(self, /)\n",
      " |      -self\n",
      " |\n",
      " |  __or__(self, value, /)\n",
      " |      Return self|value.\n",
      " |\n",
      " |  __pos__(self, /)\n",
      " |      +self\n",
      " |\n",
      " |  __pow__(self, value, mod=None, /)\n",
      " |      Return pow(self, value, mod).\n",
      " |\n",
      " |  __radd__(self, value, /)\n",
      " |      Return value+self.\n",
      " |\n",
      " |  __rand__(self, value, /)\n",
      " |      Return value&self.\n",
      " |\n",
      " |  __rdivmod__(self, value, /)\n",
      " |      Return divmod(value, self).\n",
      " |\n",
      " |  __repr__(self, /)\n",
      " |      Return repr(self).\n",
      " |\n",
      " |  __rfloordiv__(self, value, /)\n",
      " |      Return value//self.\n",
      " |\n",
      " |  __rlshift__(self, value, /)\n",
      " |      Return value<<self.\n",
      " |\n",
      " |  __rmod__(self, value, /)\n",
      " |      Return value%self.\n",
      " |\n",
      " |  __rmul__(self, value, /)\n",
      " |      Return value*self.\n",
      " |\n",
      " |  __ror__(self, value, /)\n",
      " |      Return value|self.\n",
      " |\n",
      " |  __round__(...)\n",
      " |      Rounding an Integral returns itself.\n",
      " |\n",
      " |      Rounding with an ndigits argument also returns an integer.\n",
      " |\n",
      " |  __rpow__(self, value, mod=None, /)\n",
      " |      Return pow(value, self, mod).\n",
      " |\n",
      " |  __rrshift__(self, value, /)\n",
      " |      Return value>>self.\n",
      " |\n",
      " |  __rshift__(self, value, /)\n",
      " |      Return self>>value.\n",
      " |\n",
      " |  __rsub__(self, value, /)\n",
      " |      Return value-self.\n",
      " |\n",
      " |  __rtruediv__(self, value, /)\n",
      " |      Return value/self.\n",
      " |\n",
      " |  __rxor__(self, value, /)\n",
      " |      Return value^self.\n",
      " |\n",
      " |  __sizeof__(self, /)\n",
      " |      Returns size in memory, in bytes.\n",
      " |\n",
      " |  __sub__(self, value, /)\n",
      " |      Return self-value.\n",
      " |\n",
      " |  __truediv__(self, value, /)\n",
      " |      Return self/value.\n",
      " |\n",
      " |  __trunc__(...)\n",
      " |      Truncating an Integral returns itself.\n",
      " |\n",
      " |  __xor__(self, value, /)\n",
      " |      Return self^value.\n",
      " |\n",
      " |  as_integer_ratio(self, /)\n",
      " |      Return a pair of integers, whose ratio is equal to the original int.\n",
      " |\n",
      " |      The ratio is in lowest terms and has a positive denominator.\n",
      " |\n",
      " |      >>> (10).as_integer_ratio()\n",
      " |      (10, 1)\n",
      " |      >>> (-10).as_integer_ratio()\n",
      " |      (-10, 1)\n",
      " |      >>> (0).as_integer_ratio()\n",
      " |      (0, 1)\n",
      " |\n",
      " |  bit_count(self, /)\n",
      " |      Number of ones in the binary representation of the absolute value of self.\n",
      " |\n",
      " |      Also known as the population count.\n",
      " |\n",
      " |      >>> bin(13)\n",
      " |      '0b1101'\n",
      " |      >>> (13).bit_count()\n",
      " |      3\n",
      " |\n",
      " |  bit_length(self, /)\n",
      " |      Number of bits necessary to represent self in binary.\n",
      " |\n",
      " |      >>> bin(37)\n",
      " |      '0b100101'\n",
      " |      >>> (37).bit_length()\n",
      " |      6\n",
      " |\n",
      " |  conjugate(...)\n",
      " |      Returns self, the complex conjugate of any int.\n",
      " |\n",
      " |  is_integer(self, /)\n",
      " |      Returns True. Exists for duck type compatibility with float.is_integer.\n",
      " |\n",
      " |  to_bytes(self, /, length=1, byteorder='big', *, signed=False)\n",
      " |      Return an array of bytes representing an integer.\n",
      " |\n",
      " |      length\n",
      " |        Length of bytes object to use.  An OverflowError is raised if the\n",
      " |        integer is not representable with the given number of bytes.  Default\n",
      " |        is length 1.\n",
      " |      byteorder\n",
      " |        The byte order used to represent the integer.  If byteorder is 'big',\n",
      " |        the most significant byte is at the beginning of the byte array.  If\n",
      " |        byteorder is 'little', the most significant byte is at the end of the\n",
      " |        byte array.  To request the native byte order of the host system, use\n",
      " |        `sys.byteorder' as the byte order value.  Default is to use 'big'.\n",
      " |      signed\n",
      " |        Determines whether two's complement is used to represent the integer.\n",
      " |        If signed is False and a negative integer is given, an OverflowError\n",
      " |        is raised.\n",
      " |\n",
      " |  ----------------------------------------------------------------------\n",
      " |  Class methods defined here:\n",
      " |\n",
      " |  from_bytes(bytes, byteorder='big', *, signed=False)\n",
      " |      Return the integer represented by the given array of bytes.\n",
      " |\n",
      " |      bytes\n",
      " |        Holds the array of bytes to convert.  The argument must either\n",
      " |        support the buffer protocol or be an iterable object producing bytes.\n",
      " |        Bytes and bytearray are examples of built-in objects that support the\n",
      " |        buffer protocol.\n",
      " |      byteorder\n",
      " |        The byte order used to represent the integer.  If byteorder is 'big',\n",
      " |        the most significant byte is at the beginning of the byte array.  If\n",
      " |        byteorder is 'little', the most significant byte is at the end of the\n",
      " |        byte array.  To request the native byte order of the host system, use\n",
      " |        `sys.byteorder' as the byte order value.  Default is to use 'big'.\n",
      " |      signed\n",
      " |        Indicates whether two's complement is used to represent the integer.\n",
      " |\n",
      " |  ----------------------------------------------------------------------\n",
      " |  Static methods defined here:\n",
      " |\n",
      " |  __new__(*args, **kwargs)\n",
      " |      Create and return a new object.  See help(type) for accurate signature.\n",
      " |\n",
      " |  ----------------------------------------------------------------------\n",
      " |  Data descriptors defined here:\n",
      " |\n",
      " |  denominator\n",
      " |      the denominator of a rational number in lowest terms\n",
      " |\n",
      " |  imag\n",
      " |      the imaginary part of a complex number\n",
      " |\n",
      " |  numerator\n",
      " |      the numerator of a rational number in lowest terms\n",
      " |\n",
      " |  real\n",
      " |      the real part of a complex number\n",
      "\n"
     ]
    }
   ],
   "source": [
    "help(cv2.ACCESS_FAST)"
   ]
  },
  {
   "cell_type": "code",
   "execution_count": null,
   "id": "cb8402ec-f1fc-4976-8b74-a9747879b412",
   "metadata": {},
   "outputs": [],
   "source": []
  }
 ],
 "metadata": {
  "kernelspec": {
   "display_name": "Python 3 (ipykernel)",
   "language": "python",
   "name": "python3"
  },
  "language_info": {
   "codemirror_mode": {
    "name": "ipython",
    "version": 3
   },
   "file_extension": ".py",
   "mimetype": "text/x-python",
   "name": "python",
   "nbconvert_exporter": "python",
   "pygments_lexer": "ipython3",
   "version": "3.12.4"
  }
 },
 "nbformat": 4,
 "nbformat_minor": 5
}
