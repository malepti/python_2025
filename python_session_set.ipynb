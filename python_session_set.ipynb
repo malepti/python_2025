{
 "cells": [
  {
   "cell_type": "markdown",
   "id": "dc66cccc-5026-4ee8-af72-dfab3d383830",
   "metadata": {},
   "source": [
    "# set \n",
    "- set is a mutable\n",
    "- set can accept the heterogenious values\n",
    "- set cannot accept the duplicate values\n",
    "- set cannot preserve insertion order\n",
    "- set cannot accept the index ans slicing operations"
   ]
  },
  {
   "cell_type": "code",
   "execution_count": 1,
   "id": "88727360-a5f7-4924-8446-49d787a84c98",
   "metadata": {},
   "outputs": [
    {
     "data": {
      "text/plain": [
       "{1, 2, 11}"
      ]
     },
     "execution_count": 1,
     "metadata": {},
     "output_type": "execute_result"
    }
   ],
   "source": [
    "s={1,11,2,2,}\n",
    "s"
   ]
  },
  {
   "cell_type": "code",
   "execution_count": 3,
   "id": "e5d9ca14-6e97-49c9-8e86-cda841528d36",
   "metadata": {},
   "outputs": [
    {
     "ename": "TypeError",
     "evalue": "'set' object is not subscriptable",
     "output_type": "error",
     "traceback": [
      "\u001b[1;31m---------------------------------------------------------------------------\u001b[0m",
      "\u001b[1;31mTypeError\u001b[0m                                 Traceback (most recent call last)",
      "Cell \u001b[1;32mIn[3], line 1\u001b[0m\n\u001b[1;32m----> 1\u001b[0m s[\u001b[38;5;241m1\u001b[39m]\n",
      "\u001b[1;31mTypeError\u001b[0m: 'set' object is not subscriptable"
     ]
    }
   ],
   "source": [
    "s[1] #cannot accept the indexing in set"
   ]
  },
  {
   "cell_type": "code",
   "execution_count": 6,
   "id": "8350ac51-aec0-4f2f-b165-998bb45909b6",
   "metadata": {},
   "outputs": [
    {
     "data": {
      "text/plain": [
       "set"
      ]
     },
     "execution_count": 6,
     "metadata": {},
     "output_type": "execute_result"
    }
   ],
   "source": [
    "s={1,11,2,2,}\n",
    "type(s)"
   ]
  },
  {
   "cell_type": "markdown",
   "id": "005ac7c7-776c-4b20-bb59-83f8cd1ae597",
   "metadata": {},
   "source": [
    "type\n",
    "print\n",
    "len\n",
    "max\n",
    "min\n",
    "reversed\n",
    "sorted\n",
    "index operations\n",
    "concatenation\n",
    "mutable / immutable\n",
    "slicingble slicing"
   ]
  },
  {
   "cell_type": "markdown",
   "id": "3dfdfd3c-8f0b-4f77-bd74-17939905c9ab",
   "metadata": {},
   "source": [
    "**len**\n",
    "- to find the length of the set"
   ]
  },
  {
   "cell_type": "code",
   "execution_count": 10,
   "id": "f6bf8243-9436-412f-852b-b986eee601c9",
   "metadata": {},
   "outputs": [
    {
     "data": {
      "text/plain": [
       "7"
      ]
     },
     "execution_count": 10,
     "metadata": {},
     "output_type": "execute_result"
    }
   ],
   "source": [
    "s={1,2,3,4,5,6,7,5}\n",
    "len(s)"
   ]
  },
  {
   "cell_type": "markdown",
   "id": "9b190fde-8001-4a51-bfd1-0773a28539e3",
   "metadata": {},
   "source": [
    "**max**\n",
    "- to find the maximum number \n"
   ]
  },
  {
   "cell_type": "code",
   "execution_count": 13,
   "id": "7cd7397e-4124-4e49-ba44-ba4b73ffb42e",
   "metadata": {},
   "outputs": [
    {
     "data": {
      "text/plain": [
       "7"
      ]
     },
     "execution_count": 13,
     "metadata": {},
     "output_type": "execute_result"
    }
   ],
   "source": [
    "s={1,2,3,4,5,6,7,5}\n",
    "max(s)"
   ]
  },
  {
   "cell_type": "markdown",
   "id": "de145d8d-a683-4f6a-9386-6acfb648a4bf",
   "metadata": {},
   "source": [
    "**min**\n",
    "- to get the minimum number \n"
   ]
  },
  {
   "cell_type": "code",
   "execution_count": 16,
   "id": "c226059d-308a-4c53-8a6b-46326c7b1ef4",
   "metadata": {},
   "outputs": [
    {
     "data": {
      "text/plain": [
       "1"
      ]
     },
     "execution_count": 16,
     "metadata": {},
     "output_type": "execute_result"
    }
   ],
   "source": [
    "s={1,2,3,4,5,6,7,5}\n",
    "min(s)"
   ]
  },
  {
   "cell_type": "markdown",
   "id": "c7676fc5-4304-480a-a69a-fb55cc5f6689",
   "metadata": {},
   "source": [
    "# reversed \n",
    "- to reverse the set\n",
    "- in set reversed is not work\n",
    "- because the set does not contain index or slicing"
   ]
  },
  {
   "cell_type": "code",
   "execution_count": 28,
   "id": "25937832-377d-45e7-acea-aa67d56a0b49",
   "metadata": {},
   "outputs": [
    {
     "ename": "TypeError",
     "evalue": "'set' object is not reversible",
     "output_type": "error",
     "traceback": [
      "\u001b[1;31m---------------------------------------------------------------------------\u001b[0m",
      "\u001b[1;31mTypeError\u001b[0m                                 Traceback (most recent call last)",
      "Cell \u001b[1;32mIn[28], line 2\u001b[0m\n\u001b[0;32m      1\u001b[0m s\u001b[38;5;241m=\u001b[39m{\u001b[38;5;241m1\u001b[39m,\u001b[38;5;241m2\u001b[39m,\u001b[38;5;241m3\u001b[39m,\u001b[38;5;241m4\u001b[39m,\u001b[38;5;241m5\u001b[39m,\u001b[38;5;241m6\u001b[39m,\u001b[38;5;241m7\u001b[39m,\u001b[38;5;241m5\u001b[39m}\n\u001b[1;32m----> 2\u001b[0m \u001b[38;5;28mreversed\u001b[39m(s)\n",
      "\u001b[1;31mTypeError\u001b[0m: 'set' object is not reversible"
     ]
    }
   ],
   "source": [
    "s={1,2,3,4,5,6,7,5}\n",
    "reversed(s)"
   ]
  },
  {
   "cell_type": "markdown",
   "id": "56f3cba4-084b-48bb-ac1d-812547054ca9",
   "metadata": {},
   "source": [
    "**sorted**\n",
    "- sorted the set in accending order or decending order\n",
    "- sorted is worked because it compare the numbers"
   ]
  },
  {
   "cell_type": "code",
   "execution_count": 33,
   "id": "138300a7-911f-46ec-bd8a-2a53b3345ea7",
   "metadata": {},
   "outputs": [
    {
     "data": {
      "text/plain": [
       "[1, 2, 3, 4, 5, 6, 7]"
      ]
     },
     "execution_count": 33,
     "metadata": {},
     "output_type": "execute_result"
    }
   ],
   "source": [
    "sorted(s)"
   ]
  },
  {
   "cell_type": "markdown",
   "id": "97724802-27ce-4972-9836-016604c7708a",
   "metadata": {},
   "source": [
    "# index operation\n",
    "- index operation is not work in set\n",
    "- the set already store the values in preserve order\n",
    "- the index values are not present in set"
   ]
  },
  {
   "cell_type": "markdown",
   "id": "de2da258-60d4-44d7-ba97-d19e7a81b983",
   "metadata": {},
   "source": [
    "# concatenation\n",
    "- in concatenation both add\n",
    "- and mul concatenations are not work"
   ]
  },
  {
   "cell_type": "code",
   "execution_count": 41,
   "id": "5c4fd759-bb19-4954-a0d0-802793982d7c",
   "metadata": {},
   "outputs": [
    {
     "ename": "TypeError",
     "evalue": "unsupported operand type(s) for +: 'set' and 'set'",
     "output_type": "error",
     "traceback": [
      "\u001b[1;31m---------------------------------------------------------------------------\u001b[0m",
      "\u001b[1;31mTypeError\u001b[0m                                 Traceback (most recent call last)",
      "Cell \u001b[1;32mIn[41], line 3\u001b[0m\n\u001b[0;32m      1\u001b[0m s\u001b[38;5;241m=\u001b[39m{\u001b[38;5;241m1\u001b[39m,\u001b[38;5;241m2\u001b[39m,\u001b[38;5;241m3\u001b[39m,\u001b[38;5;241m4\u001b[39m,\u001b[38;5;241m5\u001b[39m,\u001b[38;5;241m6\u001b[39m,\u001b[38;5;241m7\u001b[39m,\u001b[38;5;241m5\u001b[39m}\n\u001b[0;32m      2\u001b[0m s1\u001b[38;5;241m=\u001b[39m{\u001b[38;5;241m9\u001b[39m,\u001b[38;5;241m8\u001b[39m}\n\u001b[1;32m----> 3\u001b[0m \u001b[38;5;28mprint\u001b[39m(s\u001b[38;5;241m+\u001b[39ms1)\n",
      "\u001b[1;31mTypeError\u001b[0m: unsupported operand type(s) for +: 'set' and 'set'"
     ]
    }
   ],
   "source": [
    "s={1,2,3,4,5,6,7,5}\n",
    "s1={9,8}\n",
    "print(s+s1)"
   ]
  },
  {
   "cell_type": "code",
   "execution_count": 44,
   "id": "72788fe6-a268-49cb-ae90-0a1165ce4c43",
   "metadata": {},
   "outputs": [
    {
     "ename": "TypeError",
     "evalue": "unsupported operand type(s) for *: 'set' and 'int'",
     "output_type": "error",
     "traceback": [
      "\u001b[1;31m---------------------------------------------------------------------------\u001b[0m",
      "\u001b[1;31mTypeError\u001b[0m                                 Traceback (most recent call last)",
      "Cell \u001b[1;32mIn[44], line 1\u001b[0m\n\u001b[1;32m----> 1\u001b[0m s\u001b[38;5;241m*\u001b[39m\u001b[38;5;241m2\u001b[39m\n",
      "\u001b[1;31mTypeError\u001b[0m: unsupported operand type(s) for *: 'set' and 'int'"
     ]
    }
   ],
   "source": [
    "s*2"
   ]
  },
  {
   "cell_type": "markdown",
   "id": "80a4b166-3093-45a6-80d6-310547854cee",
   "metadata": {},
   "source": [
    "# mutable\n",
    "- we cannot replace the elements using index in set\n",
    "- but we use methods to replace the value\n",
    "- thetre are two methods \n",
    "  - add()\n",
    "  - update()"
   ]
  },
  {
   "cell_type": "code",
   "execution_count": 49,
   "id": "e414f09b-5912-4eb2-9f4c-217ef06d9111",
   "metadata": {},
   "outputs": [
    {
     "ename": "TypeError",
     "evalue": "'set' object does not support item assignment",
     "output_type": "error",
     "traceback": [
      "\u001b[1;31m---------------------------------------------------------------------------\u001b[0m",
      "\u001b[1;31mTypeError\u001b[0m                                 Traceback (most recent call last)",
      "Cell \u001b[1;32mIn[49], line 2\u001b[0m\n\u001b[0;32m      1\u001b[0m s\u001b[38;5;241m=\u001b[39m{\u001b[38;5;241m1\u001b[39m,\u001b[38;5;241m2\u001b[39m,\u001b[38;5;241m3\u001b[39m,\u001b[38;5;241m4\u001b[39m,\u001b[38;5;241m5\u001b[39m,\u001b[38;5;241m6\u001b[39m,\u001b[38;5;241m7\u001b[39m,\u001b[38;5;241m5\u001b[39m}\n\u001b[1;32m----> 2\u001b[0m s[\u001b[38;5;241m3\u001b[39m]\u001b[38;5;241m=\u001b[39m\u001b[38;5;124m\"\u001b[39m\u001b[38;5;124mh\u001b[39m\u001b[38;5;124m\"\u001b[39m\n\u001b[0;32m      3\u001b[0m s\n",
      "\u001b[1;31mTypeError\u001b[0m: 'set' object does not support item assignment"
     ]
    }
   ],
   "source": [
    "s={1,2,3,4,5,6,7,5}\n",
    "s[3]=\"h\"\n",
    "s"
   ]
  },
  {
   "cell_type": "code",
   "execution_count": 52,
   "id": "748353c5-48bf-47d7-b5ea-5679770a355c",
   "metadata": {},
   "outputs": [
    {
     "data": {
      "text/plain": [
       "{1, 2, 3, 4, 5, 6, 7, 'h'}"
      ]
     },
     "execution_count": 52,
     "metadata": {},
     "output_type": "execute_result"
    }
   ],
   "source": [
    "s.add(\"h\")\n",
    "s"
   ]
  },
  {
   "cell_type": "markdown",
   "id": "a16c773f-1770-473b-bcb0-e4e617634f1a",
   "metadata": {},
   "source": [
    "# **set methods**"
   ]
  },
  {
   "cell_type": "code",
   "execution_count": 57,
   "id": "a14cc07e-f957-4ab8-894b-4fe679694319",
   "metadata": {},
   "outputs": [
    {
     "data": {
      "text/plain": [
       "['__and__',\n",
       " '__class__',\n",
       " '__class_getitem__',\n",
       " '__contains__',\n",
       " '__delattr__',\n",
       " '__dir__',\n",
       " '__doc__',\n",
       " '__eq__',\n",
       " '__format__',\n",
       " '__ge__',\n",
       " '__getattribute__',\n",
       " '__getstate__',\n",
       " '__gt__',\n",
       " '__hash__',\n",
       " '__iand__',\n",
       " '__init__',\n",
       " '__init_subclass__',\n",
       " '__ior__',\n",
       " '__isub__',\n",
       " '__iter__',\n",
       " '__ixor__',\n",
       " '__le__',\n",
       " '__len__',\n",
       " '__lt__',\n",
       " '__ne__',\n",
       " '__new__',\n",
       " '__or__',\n",
       " '__rand__',\n",
       " '__reduce__',\n",
       " '__reduce_ex__',\n",
       " '__repr__',\n",
       " '__ror__',\n",
       " '__rsub__',\n",
       " '__rxor__',\n",
       " '__setattr__',\n",
       " '__sizeof__',\n",
       " '__str__',\n",
       " '__sub__',\n",
       " '__subclasshook__',\n",
       " '__xor__',\n",
       " 'add',\n",
       " 'clear',\n",
       " 'copy',\n",
       " 'difference',\n",
       " 'difference_update',\n",
       " 'discard',\n",
       " 'intersection',\n",
       " 'intersection_update',\n",
       " 'isdisjoint',\n",
       " 'issubset',\n",
       " 'issuperset',\n",
       " 'pop',\n",
       " 'remove',\n",
       " 'symmetric_difference',\n",
       " 'symmetric_difference_update',\n",
       " 'union',\n",
       " 'update']"
      ]
     },
     "execution_count": 57,
     "metadata": {},
     "output_type": "execute_result"
    }
   ],
   "source": [
    "dir(set)"
   ]
  },
  {
   "cell_type": "markdown",
   "id": "e1121bb5-b15c-48ce-bf7a-ac70c265105b",
   "metadata": {},
   "source": [
    "- add()\n",
    "- clear()\n",
    "- copy()\n",
    "- difference()\n",
    "- discard()\n",
    "- pop()\n",
    "- remove()\n",
    "- union()\n",
    "- update()\n",
    "- is disjoint()\n",
    "- is subset()\n",
    "- is superset()"
   ]
  },
  {
   "cell_type": "markdown",
   "id": "02cba390-c285-43c7-a7f4-3c4ec767b340",
   "metadata": {},
   "source": [
    "# add()\n",
    "- to add the values in the set\n",
    "- add the values in order"
   ]
  },
  {
   "cell_type": "code",
   "execution_count": 61,
   "id": "155c32b7-70db-4593-b897-a39d5b989d72",
   "metadata": {},
   "outputs": [
    {
     "data": {
      "text/plain": [
       "{1, 2, 3, 4, 5, 7, 9}"
      ]
     },
     "execution_count": 61,
     "metadata": {},
     "output_type": "execute_result"
    }
   ],
   "source": [
    "s={9,5,3,7,2,4}\n",
    "s.add(1)\n",
    "s"
   ]
  },
  {
   "cell_type": "code",
   "execution_count": 64,
   "id": "ea670f75-516b-4ba5-8775-45b93cf6d8e4",
   "metadata": {},
   "outputs": [
    {
     "data": {
      "text/plain": [
       "{2, 3, 4, 5, 7, 9, 'hai'}"
      ]
     },
     "execution_count": 64,
     "metadata": {},
     "output_type": "execute_result"
    }
   ],
   "source": [
    "s={9,5,3,7,2,4}\n",
    "s.add(\"hai\")\n",
    "s"
   ]
  },
  {
   "cell_type": "code",
   "execution_count": 5,
   "id": "a07a1d7f-1507-4912-a987-947b87c5c5dc",
   "metadata": {},
   "outputs": [
    {
     "ename": "TypeError",
     "evalue": "unhashable type: 'set'",
     "output_type": "error",
     "traceback": [
      "\u001b[1;31m---------------------------------------------------------------------------\u001b[0m",
      "\u001b[1;31mTypeError\u001b[0m                                 Traceback (most recent call last)",
      "Cell \u001b[1;32mIn[5], line 3\u001b[0m\n\u001b[0;32m      1\u001b[0m set1 \u001b[38;5;241m=\u001b[39m {\u001b[38;5;241m10\u001b[39m, \u001b[38;5;241m20\u001b[39m, \u001b[38;5;241m30\u001b[39m, \u001b[38;5;241m40\u001b[39m, \u001b[38;5;241m50\u001b[39m} \n\u001b[0;32m      2\u001b[0m set2 \u001b[38;5;241m=\u001b[39m {\u001b[38;5;241m30\u001b[39m, \u001b[38;5;241m40\u001b[39m, \u001b[38;5;241m50\u001b[39m, \u001b[38;5;241m60\u001b[39m, \u001b[38;5;241m70\u001b[39m}\n\u001b[1;32m----> 3\u001b[0m set1\u001b[38;5;241m.\u001b[39madd(set2)\n",
      "\u001b[1;31mTypeError\u001b[0m: unhashable type: 'set'"
     ]
    }
   ],
   "source": [
    "set1 = {10, 20, 30, 40, 50} \n",
    "set2 = {30, 40, 50, 60, 70}\n",
    "set1.add(set2)\n",
    "\n",
    "#{10, 20, 30, 40, 50, 60, 70}"
   ]
  },
  {
   "cell_type": "code",
   "execution_count": 76,
   "id": "02f01514-ec39-4c6a-9056-a31c8fcb31fc",
   "metadata": {},
   "outputs": [
    {
     "ename": "TypeError",
     "evalue": "unhashable type: 'set'",
     "output_type": "error",
     "traceback": [
      "\u001b[1;31m---------------------------------------------------------------------------\u001b[0m",
      "\u001b[1;31mTypeError\u001b[0m                                 Traceback (most recent call last)",
      "Cell \u001b[1;32mIn[76], line 1\u001b[0m\n\u001b[1;32m----> 1\u001b[0m s11\u001b[38;5;241m=\u001b[39m{\u001b[38;5;241m9\u001b[39m,\u001b[38;5;241m5\u001b[39m,\u001b[38;5;241m3\u001b[39m,\u001b[38;5;241m7\u001b[39m,\u001b[38;5;241m2\u001b[39m,\u001b[38;5;241m4\u001b[39m,{\u001b[38;5;124m\"\u001b[39m\u001b[38;5;124mhello\u001b[39m\u001b[38;5;124m\"\u001b[39m,\u001b[38;5;124m\"\u001b[39m\u001b[38;5;124mhai\u001b[39m\u001b[38;5;124m\"\u001b[39m}}\n\u001b[0;32m      2\u001b[0m s\n",
      "\u001b[1;31mTypeError\u001b[0m: unhashable type: 'set'"
     ]
    }
   ],
   "source": [
    "s11={9,5,3,7,2,4,{\"hello\",\"hai\"}}\n",
    "s"
   ]
  },
  {
   "cell_type": "markdown",
   "id": "bc4168de-d078-43e6-aaba-d2fde77153e1",
   "metadata": {},
   "source": [
    "# clear()\n",
    "- clear all the elements in the set\n",
    "- it returns empty set"
   ]
  },
  {
   "cell_type": "code",
   "execution_count": 81,
   "id": "e2d6b2d6-4b90-4ece-baac-b174c8c4a647",
   "metadata": {},
   "outputs": [
    {
     "data": {
      "text/plain": [
       "set()"
      ]
     },
     "execution_count": 81,
     "metadata": {},
     "output_type": "execute_result"
    }
   ],
   "source": [
    "s={9,5,3,7,2,4}\n",
    "s.clear()\n",
    "s"
   ]
  },
  {
   "cell_type": "markdown",
   "id": "5e22c753-fa24-4106-aac8-78a7ff0c1b72",
   "metadata": {},
   "source": [
    "# copy()\n",
    "- it copy the set and store in another variable"
   ]
  },
  {
   "cell_type": "code",
   "execution_count": 85,
   "id": "8e5a4b77-2602-4eb0-92ad-6fc402a617a4",
   "metadata": {},
   "outputs": [
    {
     "data": {
      "text/plain": [
       "{2, 3, 4, 5, 7, 9}"
      ]
     },
     "execution_count": 85,
     "metadata": {},
     "output_type": "execute_result"
    }
   ],
   "source": [
    "s={9,5,3,7,2,4}\n",
    "s1=s.copy()\n",
    "s1"
   ]
  },
  {
   "cell_type": "markdown",
   "id": "86c55fc8-34d5-4a64-a01c-4825a7e08658",
   "metadata": {},
   "source": [
    "# difference()\n",
    "- return thr difference of two are more sets as a new set\n",
    "- take two sets and return the difference in another new set\n",
    "- it shows the different values in given set only\n"
   ]
  },
  {
   "cell_type": "code",
   "execution_count": 90,
   "id": "72af8543-b3f4-44ed-8f6a-b09d5bf04d3a",
   "metadata": {},
   "outputs": [
    {
     "data": {
      "text/plain": [
       "{2, 'hai'}"
      ]
     },
     "execution_count": 90,
     "metadata": {},
     "output_type": "execute_result"
    }
   ],
   "source": [
    "s={1,2,3,\"hai\"}\n",
    "s1={3,1,\"hello\"}\n",
    "s2=s.difference(s1)\n",
    "s2"
   ]
  },
  {
   "cell_type": "code",
   "execution_count": 97,
   "id": "13dfe8f7-49c3-4a5f-862b-566a1aad8dbc",
   "metadata": {},
   "outputs": [
    {
     "data": {
      "text/plain": [
       "{'hello'}"
      ]
     },
     "execution_count": 97,
     "metadata": {},
     "output_type": "execute_result"
    }
   ],
   "source": [
    "s2=s1.difference(s)\n",
    "s2"
   ]
  },
  {
   "cell_type": "markdown",
   "id": "41712c33-2596-4081-85c7-72ee2fce2020",
   "metadata": {},
   "source": [
    "# difference update()\n",
    "- remove all the same elements of the set\n",
    "- and update same set with different values "
   ]
  },
  {
   "cell_type": "code",
   "execution_count": 114,
   "id": "eeb264ac-84db-4db2-a78f-b262e16b2f0c",
   "metadata": {},
   "outputs": [
    {
     "data": {
      "text/plain": [
       "{2, 'apple', 'hai'}"
      ]
     },
     "execution_count": 114,
     "metadata": {},
     "output_type": "execute_result"
    }
   ],
   "source": [
    "s3={1,2,3,\"hai\",\"apple\"}\n",
    "s4={3,1,\"hello\",5,6,7,\"class\"}\n",
    "s3.difference_update(s4)\n",
    "s3 # we can observe the set s3 common in s4 are removed and s3 set will update with different letters "
   ]
  },
  {
   "cell_type": "code",
   "execution_count": 118,
   "id": "3ce5a99a-cc22-4f14-abb9-a7cf5497e083",
   "metadata": {},
   "outputs": [
    {
     "data": {
      "text/plain": [
       "{5, 6, 7, 'class', 'hello'}"
      ]
     },
     "execution_count": 118,
     "metadata": {},
     "output_type": "execute_result"
    }
   ],
   "source": [
    "s3={1,2,3,\"hai\",\"apple\"}\n",
    "s4={3,1,\"hello\",5,6,7,\"class\"}\n",
    "s4.difference_update(s3)\n",
    "s4 # we give the which set we want to update that set gives first and then difference update "
   ]
  },
  {
   "cell_type": "markdown",
   "id": "b1fd5654-7897-4f7c-bee8-5ce77853ad02",
   "metadata": {},
   "source": [
    "# discard()\n",
    "- remove an element from the set \n",
    "- if it is a member\n",
    "- if the element is not in the set\n",
    "- it does not give error it remains same"
   ]
  },
  {
   "cell_type": "code",
   "execution_count": 127,
   "id": "1dcf5377-c7f7-4ce4-b201-ff9416bd65b5",
   "metadata": {},
   "outputs": [
    {
     "data": {
      "text/plain": [
       "{1, 3, 5, 6, 7, 'class', 'hello'}"
      ]
     },
     "execution_count": 127,
     "metadata": {},
     "output_type": "execute_result"
    }
   ],
   "source": [
    "s4={3,1,\"hello\",5,6,7,\"class\"}\n",
    "s4.discard(\"error\") # here we observe the set does not contain \"error\" but it does not raise error\n",
    "s4"
   ]
  },
  {
   "cell_type": "code",
   "execution_count": 135,
   "id": "a77e8a8e-fb32-4535-b6cb-2eb5d9b8b36c",
   "metadata": {},
   "outputs": [
    {
     "data": {
      "text/plain": [
       "{1, 3, 5, 6, 7, 'hello'}"
      ]
     },
     "execution_count": 135,
     "metadata": {},
     "output_type": "execute_result"
    }
   ],
   "source": [
    "s4={3,1,\"hello\",5,6,7,\"class\"}\n",
    "s4.discard(\"class\") # here we observe the set contain \"class\" it removes from the set\n",
    "s4"
   ]
  },
  {
   "cell_type": "markdown",
   "id": "35294d14-b1f0-4800-ac65-6582a36d5982",
   "metadata": {},
   "source": [
    "# intersection()\n",
    "- it returns the intersection of two sets\n",
    "- it returns in a new set\n",
    "- it returns only common elements in both the sets in new set"
   ]
  },
  {
   "cell_type": "code",
   "execution_count": 140,
   "id": "c31f3dff-1e74-43dc-8efc-1fe252c49863",
   "metadata": {},
   "outputs": [
    {
     "data": {
      "text/plain": [
       "{1, 3}"
      ]
     },
     "execution_count": 140,
     "metadata": {},
     "output_type": "execute_result"
    }
   ],
   "source": [
    "s3={1,2,3,\"hai\",\"apple\"}\n",
    "s4={3,1,\"hello\",5,6,7,\"class\"}\n",
    "s=s3.intersection(s4) # it returns the intersection elemeents only\n",
    "s"
   ]
  },
  {
   "cell_type": "code",
   "execution_count": 142,
   "id": "ecf6b100-28ab-4c4e-bf8e-fa92c3a2bca6",
   "metadata": {},
   "outputs": [
    {
     "data": {
      "text/plain": [
       "{1, 3}"
      ]
     },
     "execution_count": 142,
     "metadata": {},
     "output_type": "execute_result"
    }
   ],
   "source": [
    "s3={1,2,3,\"hai\",\"apple\"}\n",
    "s4={3,1,\"hello\",5,6,7,\"class\"}\n",
    "s=s4.intersection(s3) # it returns the intersection elemeents only\n",
    "s"
   ]
  },
  {
   "cell_type": "markdown",
   "id": "2dc429fe-20d6-4649-b4e4-1b53e5200776",
   "metadata": {},
   "source": [
    "# insertion_update()\n",
    "- here update means overwrite the set \n",
    "- the set over write with the common elements in the both sets "
   ]
  },
  {
   "cell_type": "code",
   "execution_count": 149,
   "id": "66174243-d463-4897-898c-c4a4ae9c1429",
   "metadata": {},
   "outputs": [
    {
     "data": {
      "text/plain": [
       "{1, 3}"
      ]
     },
     "execution_count": 149,
     "metadata": {},
     "output_type": "execute_result"
    }
   ],
   "source": [
    "s3={1,2,3,\"hai\",\"apple\"}\n",
    "s4={3,1,\"hello\",5,6,7,\"class\"}\n",
    "s3.intersection_update(s4) # it returns the intersection elemeents only and overwrite it in to s3\n",
    "s3"
   ]
  },
  {
   "cell_type": "code",
   "execution_count": 151,
   "id": "85dc3428-c703-4666-a3da-c442d3ff34a6",
   "metadata": {},
   "outputs": [
    {
     "data": {
      "text/plain": [
       "{1, 3}"
      ]
     },
     "execution_count": 151,
     "metadata": {},
     "output_type": "execute_result"
    }
   ],
   "source": [
    "s3={1,2,3,\"hai\",\"apple\"}\n",
    "s4={3,1,\"hello\",5,6,7,\"class\"}\n",
    "s4.intersection_update(s3) # it returns the intersection elemeents only and overwrite it in to s4\n",
    "s4"
   ]
  },
  {
   "cell_type": "markdown",
   "id": "c5d7c34c-dee4-4f7d-8416-2e9e34284e32",
   "metadata": {},
   "source": [
    "# isdisjoint()\n",
    "- ity return True if two sets have a null intersection\n",
    "- incase any one element will be interset \n",
    "- it return False as a output"
   ]
  },
  {
   "cell_type": "code",
   "execution_count": 160,
   "id": "5fcd1b3b-b7d5-4e21-bb9b-3d0d229bace8",
   "metadata": {},
   "outputs": [
    {
     "data": {
      "text/plain": [
       "False"
      ]
     },
     "execution_count": 160,
     "metadata": {},
     "output_type": "execute_result"
    }
   ],
   "source": [
    "s3={1,2,3,\"hai\",\"apple\"}\n",
    "s4={3,1,\"hello\",5,6,7,\"class\"}\n",
    "s3.isdisjoint(s4)"
   ]
  },
  {
   "cell_type": "code",
   "execution_count": 162,
   "id": "948db099-01ad-4bb2-896e-0ed1061c590b",
   "metadata": {},
   "outputs": [
    {
     "data": {
      "text/plain": [
       "True"
      ]
     },
     "execution_count": 162,
     "metadata": {},
     "output_type": "execute_result"
    }
   ],
   "source": [
    "s={1,2,3}\n",
    "s1={10,20,30}\n",
    "s.isdisjoint(s1)"
   ]
  },
  {
   "cell_type": "markdown",
   "id": "2cd07aca-f750-4eb3-9fab-f15a2218a499",
   "metadata": {},
   "source": [
    "# is subset()\n",
    "- it report wheather another set contain this set\n",
    "- it returns the boolean value\n",
    "- the subset all values in set it gives True"
   ]
  },
  {
   "cell_type": "code",
   "execution_count": 165,
   "id": "bc79f82f-5b13-4cf3-8b4d-0ef26b6ec47a",
   "metadata": {},
   "outputs": [
    {
     "data": {
      "text/plain": [
       "False"
      ]
     },
     "execution_count": 165,
     "metadata": {},
     "output_type": "execute_result"
    }
   ],
   "source": [
    "s3={1,2,3,\"hai\",\"apple\"}\n",
    "s4={3,1,\"hello\",5,6,7,\"class\"}\n",
    "s3.issubset(s4)"
   ]
  },
  {
   "cell_type": "code",
   "execution_count": 172,
   "id": "059e6fc0-3716-437b-ae96-24d92df09d71",
   "metadata": {},
   "outputs": [
    {
     "data": {
      "text/plain": [
       "True"
      ]
     },
     "execution_count": 172,
     "metadata": {},
     "output_type": "execute_result"
    }
   ],
   "source": [
    "s1={1,3,2,4,5,6}\n",
    "s={1,2,3}\n",
    "s.issubset(s1)"
   ]
  },
  {
   "cell_type": "markdown",
   "id": "9b4f0b8a-c0bc-4d51-b098-7069fba2ee67",
   "metadata": {},
   "source": [
    "# pop\n",
    "- pop will remove and return the elements from the set\n",
    "- raise error when set is empty\n",
    "- pop randomly eliminated elements from the set"
   ]
  },
  {
   "cell_type": "code",
   "execution_count": 175,
   "id": "02d989fb-94eb-4eb9-be0b-eb50f8145c1b",
   "metadata": {},
   "outputs": [
    {
     "data": {
      "text/plain": [
       "'hello'"
      ]
     },
     "execution_count": 175,
     "metadata": {},
     "output_type": "execute_result"
    }
   ],
   "source": [
    "s4={3,1,\"hello\",5,6,7,\"class\"}"
   ]
  },
  {
   "cell_type": "code",
   "execution_count": 179,
   "id": "6f00b983-c156-4222-b2d2-c8c1f9c4f7c6",
   "metadata": {},
   "outputs": [
    {
     "data": {
      "text/plain": [
       "'hello'"
      ]
     },
     "execution_count": 179,
     "metadata": {},
     "output_type": "execute_result"
    }
   ],
   "source": [
    "s4={3,1,\"hello\",5,6,7,\"class\"}\n",
    "s4.pop()"
   ]
  },
  {
   "cell_type": "code",
   "execution_count": 181,
   "id": "79256fd6-49c7-4d8d-8474-2117cd9d2a38",
   "metadata": {},
   "outputs": [
    {
     "data": {
      "text/plain": [
       "1"
      ]
     },
     "execution_count": 181,
     "metadata": {},
     "output_type": "execute_result"
    }
   ],
   "source": [
    "s4.pop()"
   ]
  },
  {
   "cell_type": "markdown",
   "id": "c0ef2b91-934d-4e7e-b038-b83a5e2bc4e4",
   "metadata": {},
   "source": [
    "# remove()\n",
    "- remove an element from the set \n",
    "- the element must be in a set\n",
    "- if element is not in set \n",
    "- it raises an error"
   ]
  },
  {
   "cell_type": "code",
   "execution_count": 186,
   "id": "5ed906c4-431f-41f8-8f09-05499802aafc",
   "metadata": {},
   "outputs": [
    {
     "data": {
      "text/plain": [
       "{1, 3, 5, 6, 7, 'hello'}"
      ]
     },
     "execution_count": 186,
     "metadata": {},
     "output_type": "execute_result"
    }
   ],
   "source": [
    "s4={3,1,\"hello\",5,6,7,\"class\"}\n",
    "s4.remove(\"class\")\n",
    "s4"
   ]
  },
  {
   "cell_type": "code",
   "execution_count": 188,
   "id": "8d73c90c-d037-404d-a739-e9b3117af8f9",
   "metadata": {},
   "outputs": [
    {
     "ename": "KeyError",
     "evalue": "10",
     "output_type": "error",
     "traceback": [
      "\u001b[1;31m---------------------------------------------------------------------------\u001b[0m",
      "\u001b[1;31mKeyError\u001b[0m                                  Traceback (most recent call last)",
      "Cell \u001b[1;32mIn[188], line 2\u001b[0m\n\u001b[0;32m      1\u001b[0m s4\u001b[38;5;241m=\u001b[39m{\u001b[38;5;241m3\u001b[39m,\u001b[38;5;241m1\u001b[39m,\u001b[38;5;124m\"\u001b[39m\u001b[38;5;124mhello\u001b[39m\u001b[38;5;124m\"\u001b[39m,\u001b[38;5;241m5\u001b[39m,\u001b[38;5;241m6\u001b[39m,\u001b[38;5;241m7\u001b[39m,\u001b[38;5;124m\"\u001b[39m\u001b[38;5;124mclass\u001b[39m\u001b[38;5;124m\"\u001b[39m}\n\u001b[1;32m----> 2\u001b[0m s4\u001b[38;5;241m.\u001b[39mremove(\u001b[38;5;241m10\u001b[39m)\n\u001b[0;32m      3\u001b[0m s4\n",
      "\u001b[1;31mKeyError\u001b[0m: 10"
     ]
    }
   ],
   "source": [
    "s4={3,1,\"hello\",5,6,7,\"class\"}\n",
    "s4.remove(10)\n",
    "s4"
   ]
  },
  {
   "cell_type": "markdown",
   "id": "2f0e9b84-33f3-43e6-9596-fa25017d8aec",
   "metadata": {},
   "source": [
    "# union\n",
    "- it returns the new set \n",
    "- it combines the two sets and make new set"
   ]
  },
  {
   "cell_type": "code",
   "execution_count": 4,
   "id": "b585ed15-b274-42cf-95b0-4869669d99f0",
   "metadata": {},
   "outputs": [
    {
     "data": {
      "text/plain": [
       "{1, 3, 5, 6, 7, 8, 9, 'class', 'hello'}"
      ]
     },
     "execution_count": 4,
     "metadata": {},
     "output_type": "execute_result"
    }
   ],
   "source": [
    "s4={3,1,\"hello\",5,6,7,\"class\"}\n",
    "s={9,8}\n",
    "s2=s4.union(s)\n",
    "s2"
   ]
  },
  {
   "cell_type": "code",
   "execution_count": 9,
   "id": "5ff74889-126d-40fb-bf2a-bb76b449e339",
   "metadata": {},
   "outputs": [
    {
     "data": {
      "text/plain": [
       "{'apple', 'mango', 'red', 'yellow'}"
      ]
     },
     "execution_count": 9,
     "metadata": {},
     "output_type": "execute_result"
    }
   ],
   "source": [
    "s={\"apple\",'mango'}\n",
    "s1={'red','yellow'}\n",
    "s2=s.union(s1)\n",
    "s2"
   ]
  },
  {
   "cell_type": "markdown",
   "id": "ba78cb97-e12e-41cd-95f2-cb024d3d86ce",
   "metadata": {},
   "source": [
    "# update\n",
    "- here Update a set with the union of itself and others.\n",
    "- the sets are updated with the new value or set \n",
    "- this is the reason to say sets are mutable\n",
    "- if we upsate the string it add single lettrs and extend the set"
   ]
  },
  {
   "cell_type": "code",
   "execution_count": 11,
   "id": "1f33c308-3b6c-472b-bb67-51f939f99714",
   "metadata": {},
   "outputs": [
    {
     "data": {
      "text/plain": [
       "{'apple', 'mango', 'red', 'yellow'}"
      ]
     },
     "execution_count": 11,
     "metadata": {},
     "output_type": "execute_result"
    }
   ],
   "source": [
    "s={\"apple\",'mango'}\n",
    "s1={'red','yellow'}\n",
    "s.update(s1)\n",
    "s"
   ]
  },
  {
   "cell_type": "code",
   "execution_count": 14,
   "id": "3c5909a8-88a9-46df-96b5-6138ba83b95c",
   "metadata": {},
   "outputs": [
    {
     "data": {
      "text/plain": [
       "{'apple', 'f', 'i', 'mango', 'r', 'red', 's', 't', 'u', 'yellow'}"
      ]
     },
     "execution_count": 14,
     "metadata": {},
     "output_type": "execute_result"
    }
   ],
   "source": [
    "s={'apple', 'mango', 'red', 'yellow'}\n",
    "s.update(\"fruits\")\n",
    "s"
   ]
  },
  {
   "cell_type": "code",
   "execution_count": 9,
   "id": "9db0cdd2-cfdd-46bc-b84b-8305bb2d9f9a",
   "metadata": {},
   "outputs": [
    {
     "data": {
      "text/plain": [
       "{10, 20, 30, 40, 50, 60, 70}"
      ]
     },
     "execution_count": 9,
     "metadata": {},
     "output_type": "execute_result"
    }
   ],
   "source": [
    "#2. Retrivethe uncommon elements from 2nd set and store it in set3 and add these all elements to the 1st set\n",
    "     # Given:\n",
    "set1 = {10, 20, 30, 40, 50} \n",
    "set2 = {30, 40, 50, 60, 70}\n",
    "set3= set2-set1\n",
    "set1.update(set3)\n",
    "print(set1)     \n",
    "\n",
    "\n",
    "\n",
    "#Expected output:\n",
    "#{10, 20, 30, 40, 50, 60, 70}\n"
   ]
  },
  {
   "cell_type": "markdown",
   "id": "94236a0b-30d2-41d1-85ef-029d1532d0a2",
   "metadata": {},
   "source": [
    "1. Given a Python set, write a program to add all its elements into a given set.\n",
    "   sample_set = {\"Yellow\", \"Orange\", \"Black\"} \n",
    "   sample_list = [\"Blue\", \"Green\", \"Red\"]\n",
    "   Expected output: Note: Set is unordered.\n",
    "   {'Green', 'Yellow', 'Black', 'Orange', 'Red', 'Blue'}\n"
   ]
  },
  {
   "cell_type": "code",
   "execution_count": 14,
   "id": "3ff69fed-e6a4-4d46-864f-305ddbe2ff19",
   "metadata": {},
   "outputs": [
    {
     "name": "stdout",
     "output_type": "stream",
     "text": [
      "{'Green', 'Yellow', 'Red', 'Blue', 'Black', 'Orange'}\n"
     ]
    }
   ],
   "source": [
    "sample_set = {\"Yellow\", \"Orange\", \"Black\"} \n",
    "sample_list = [\"Blue\", \"Green\", \"Red\"]\n",
    "sample_set.update(sample_list)\n",
    "print(sample_set)"
   ]
  },
  {
   "cell_type": "markdown",
   "id": "12f258d7-f4d7-4197-9551-9a9825678516",
   "metadata": {},
   "source": [
    "# symmetric differennce"
   ]
  },
  {
   "cell_type": "markdown",
   "id": "160f2d9a-f75f-4f1a-883b-db51caecca4b",
   "metadata": {},
   "source": [
    "3. Write a Python program to return a new set with uncommon elements from both sets by removing common elements.\n",
    "   Given:\n",
    "   set1 = {\"Hello\",\"India\",\"Iam\"} \n",
    "   set2 = {\"Iam\",\"MSD\",\"From\",\"India\"}\n",
    "   Expected output:\n",
    "   {\"Hello\",\"India\",\"MSD\",\"From\",\"India\"}"
   ]
  },
  {
   "cell_type": "code",
   "execution_count": 23,
   "id": "729ed22a-29a1-42e4-b9d7-e9e77fbc95a0",
   "metadata": {},
   "outputs": [
    {
     "name": "stdout",
     "output_type": "stream",
     "text": [
      "{'MSD', 'Hello', 'From'}\n"
     ]
    }
   ],
   "source": [
    "set1 = {\"Hello\",\"India\",\"Iam\"} \n",
    "set2 = {\"Iam\",\"MSD\",\"From\",\"India\"}\n",
    "s=set1.symmetric_difference(set2)\n",
    "print(s)"
   ]
  },
  {
   "cell_type": "code",
   "execution_count": 41,
   "id": "f1dc643e-e8a0-4c6b-b521-d329c97441da",
   "metadata": {},
   "outputs": [
    {
     "name": "stdout",
     "output_type": "stream",
     "text": [
      "{20, 70, (40, 50, 30), 10, 60}\n"
     ]
    }
   ],
   "source": [
    "set1 = {10, 20, 30, 40, 50}\n",
    "set2 = {30, 40, 50, 60, 70}\n",
    "set3=set1.symmetric_difference(set2)\n",
    "u=set1.intersection(set2)\n",
    "r=set3.union({tuple(u)})\n",
    "print(r)"
   ]
  },
  {
   "cell_type": "code",
   "execution_count": 37,
   "id": "218eb083-0fd0-4218-982a-404f7c94397e",
   "metadata": {},
   "outputs": [
    {
     "name": "stdout",
     "output_type": "stream",
     "text": [
      "{20, 70, (40, 50, 30), 10, 60}\n"
     ]
    }
   ],
   "source": [
    "# Given sets\n",
    "set1 = {10, 20, 30, 40, 50}\n",
    "set2 = {30, 40, 50, 60, 70}\n",
    "\n",
    "# Find elements present in set1 or set2, but not both\n",
    "uncommon_elements = set1.symmetric_difference(set2)\n",
    "\n",
    "# Identify common elements between the two sets\n",
    "common_elements = set1.intersection(set2)\n",
    "\n",
    "# Combine results with common elements as a tuple\n",
    "result = uncommon_elements.union({tuple(common_elements)})\n",
    "\n",
    "# Output the result\n",
    "print(result)\n"
   ]
  },
  {
   "cell_type": "code",
   "execution_count": 51,
   "id": "388f41f1-21cb-4133-9f9a-66722d8db087",
   "metadata": {},
   "outputs": [
    {
     "name": "stdout",
     "output_type": "stream",
     "text": [
      "{'40', '70', '20', '30', '50', '60'}\n"
     ]
    }
   ],
   "source": [
    "a = {30,40,70,20} \n",
    "b = {20,50,60,40}\n",
    "d=a.union(b)\n",
    "c={str(element) for element in d}\n",
    "print(c)\n"
   ]
  },
  {
   "cell_type": "code",
   "execution_count": null,
   "id": "6832cccb-b9bf-4113-bf6b-43aae77c8424",
   "metadata": {},
   "outputs": [],
   "source": []
  }
 ],
 "metadata": {
  "kernelspec": {
   "display_name": "Python 3 (ipykernel)",
   "language": "python",
   "name": "python3"
  },
  "language_info": {
   "codemirror_mode": {
    "name": "ipython",
    "version": 3
   },
   "file_extension": ".py",
   "mimetype": "text/x-python",
   "name": "python",
   "nbconvert_exporter": "python",
   "pygments_lexer": "ipython3",
   "version": "3.12.4"
  }
 },
 "nbformat": 4,
 "nbformat_minor": 5
}
