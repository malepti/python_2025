{
 "cells": [
  {
   "cell_type": "markdown",
   "id": "3cfba7e5-af8e-403f-9735-f90a09abd71d",
   "metadata": {},
   "source": [
    "**type cast**"
   ]
  },
  {
   "cell_type": "markdown",
   "id": "ea136a0f-67d9-473e-9075-e86966f9dfd1",
   "metadata": {},
   "source": [
    "- chaging one data type to another data type\n",
    "- means int to float\n",
    "- int to string\n",
    "- int to boolean\n",
    "- int to complex"
   ]
  },
  {
   "cell_type": "code",
   "execution_count": 5,
   "id": "e937529e-192a-4bf4-bce6-14ca15d079d7",
   "metadata": {},
   "outputs": [
    {
     "name": "stdout",
     "output_type": "stream",
     "text": [
      "10\n"
     ]
    },
    {
     "data": {
      "text/plain": [
       "int"
      ]
     },
     "execution_count": 5,
     "metadata": {},
     "output_type": "execute_result"
    }
   ],
   "source": [
    "num=10\n",
    "print(num)\n",
    "type(num)"
   ]
  },
  {
   "cell_type": "code",
   "execution_count": 7,
   "id": "e88ef5df-fb41-445b-a24f-bfbe1e4a31ea",
   "metadata": {},
   "outputs": [
    {
     "data": {
      "text/plain": [
       "10.0"
      ]
     },
     "execution_count": 7,
     "metadata": {},
     "output_type": "execute_result"
    }
   ],
   "source": [
    "# change to float\n",
    "float(num)"
   ]
  },
  {
   "cell_type": "code",
   "execution_count": 9,
   "id": "6fd48851-4691-4460-a86d-1aeaf11bcfed",
   "metadata": {},
   "outputs": [
    {
     "data": {
      "text/plain": [
       "'10'"
      ]
     },
     "execution_count": 9,
     "metadata": {},
     "output_type": "execute_result"
    }
   ],
   "source": [
    "str(num)"
   ]
  },
  {
   "cell_type": "code",
   "execution_count": 11,
   "id": "da87339e-36fe-4c5b-9e85-413e5eca4b31",
   "metadata": {},
   "outputs": [
    {
     "data": {
      "text/plain": [
       "True"
      ]
     },
     "execution_count": 11,
     "metadata": {},
     "output_type": "execute_result"
    }
   ],
   "source": [
    "bool(num)"
   ]
  },
  {
   "cell_type": "code",
   "execution_count": 13,
   "id": "b7cc82b4-4304-496a-be28-ce6466861071",
   "metadata": {},
   "outputs": [
    {
     "data": {
      "text/plain": [
       "(10+0j)"
      ]
     },
     "execution_count": 13,
     "metadata": {},
     "output_type": "execute_result"
    }
   ],
   "source": [
    "complex(num)"
   ]
  },
  {
   "cell_type": "markdown",
   "id": "2b351a9e-ff87-449e-b5d9-c6b88eec5b10",
   "metadata": {},
   "source": [
    "**Float to other data Types**"
   ]
  },
  {
   "cell_type": "code",
   "execution_count": 21,
   "id": "ac48e663-4205-41a5-850d-82f55deb8917",
   "metadata": {},
   "outputs": [
    {
     "data": {
      "text/plain": [
       "float"
      ]
     },
     "execution_count": 21,
     "metadata": {},
     "output_type": "execute_result"
    }
   ],
   "source": [
    "num=10.0\n",
    "type(num)"
   ]
  },
  {
   "cell_type": "code",
   "execution_count": 23,
   "id": "150b3705-6951-40c8-be97-b8fb85839d03",
   "metadata": {},
   "outputs": [
    {
     "data": {
      "text/plain": [
       "10"
      ]
     },
     "execution_count": 23,
     "metadata": {},
     "output_type": "execute_result"
    }
   ],
   "source": [
    "int(num)"
   ]
  },
  {
   "cell_type": "code",
   "execution_count": 25,
   "id": "b8791344-967b-4501-aeab-44123a47849d",
   "metadata": {},
   "outputs": [
    {
     "data": {
      "text/plain": [
       "'10.0'"
      ]
     },
     "execution_count": 25,
     "metadata": {},
     "output_type": "execute_result"
    }
   ],
   "source": [
    "str(num)"
   ]
  },
  {
   "cell_type": "code",
   "execution_count": 27,
   "id": "e9876503-5d09-4a44-905a-a7a5f624c8e4",
   "metadata": {},
   "outputs": [
    {
     "data": {
      "text/plain": [
       "True"
      ]
     },
     "execution_count": 27,
     "metadata": {},
     "output_type": "execute_result"
    }
   ],
   "source": [
    "bool(num)"
   ]
  },
  {
   "cell_type": "code",
   "execution_count": 29,
   "id": "875bee07-d326-485d-b2cb-39a9551660af",
   "metadata": {},
   "outputs": [
    {
     "data": {
      "text/plain": [
       "(10+0j)"
      ]
     },
     "execution_count": 29,
     "metadata": {},
     "output_type": "execute_result"
    }
   ],
   "source": [
    "complex(num)"
   ]
  },
  {
   "cell_type": "markdown",
   "id": "982ccfc0-a2c7-4ee7-ab15-b776f390d911",
   "metadata": {},
   "source": [
    "**string to other Data types**"
   ]
  },
  {
   "cell_type": "code",
   "execution_count": 43,
   "id": "918cf36d-914a-4c1a-b87a-adaf522f70d2",
   "metadata": {},
   "outputs": [
    {
     "ename": "ValueError",
     "evalue": "could not convert string to float: 'hi'",
     "output_type": "error",
     "traceback": [
      "\u001b[1;31m---------------------------------------------------------------------------\u001b[0m",
      "\u001b[1;31mValueError\u001b[0m                                Traceback (most recent call last)",
      "Cell \u001b[1;32mIn[43], line 3\u001b[0m\n\u001b[0;32m      1\u001b[0m num\u001b[38;5;241m=\u001b[39m\u001b[38;5;124m\"\u001b[39m\u001b[38;5;124mhi\u001b[39m\u001b[38;5;124m\"\u001b[39m\n\u001b[0;32m      2\u001b[0m \u001b[38;5;28mtype\u001b[39m(num)\n\u001b[1;32m----> 3\u001b[0m \u001b[38;5;28mfloat\u001b[39m(num)\n",
      "\u001b[1;31mValueError\u001b[0m: could not convert string to float: 'hi'"
     ]
    }
   ],
   "source": [
    "num=\"hi\"\n",
    "type(num)\n",
    "float(num)  ## here we observe in string numbers only can convert any type but string in alphabets string cannot covert in to any data type"
   ]
  },
  {
   "cell_type": "code",
   "execution_count": 37,
   "id": "c4165945-a8ad-4ce3-968b-9614cc02ae04",
   "metadata": {},
   "outputs": [
    {
     "data": {
      "text/plain": [
       "1"
      ]
     },
     "execution_count": 37,
     "metadata": {},
     "output_type": "execute_result"
    }
   ],
   "source": [
    "int(num)"
   ]
  },
  {
   "cell_type": "code",
   "execution_count": 39,
   "id": "58a39248-b885-48fe-b830-68f923cbaf3c",
   "metadata": {},
   "outputs": [
    {
     "data": {
      "text/plain": [
       "1.0"
      ]
     },
     "execution_count": 39,
     "metadata": {},
     "output_type": "execute_result"
    }
   ],
   "source": [
    "float(num)"
   ]
  },
  {
   "cell_type": "code",
   "execution_count": 45,
   "id": "775ef963-7c13-4d6c-9d2f-9ed00f6d5e03",
   "metadata": {},
   "outputs": [
    {
     "data": {
      "text/plain": [
       "True"
      ]
     },
     "execution_count": 45,
     "metadata": {},
     "output_type": "execute_result"
    }
   ],
   "source": [
    "bool('0')"
   ]
  },
  {
   "cell_type": "code",
   "execution_count": 47,
   "id": "27861baf-8dc7-4b0b-bbb2-3966853c0e4a",
   "metadata": {},
   "outputs": [
    {
     "data": {
      "text/plain": [
       "False"
      ]
     },
     "execution_count": 47,
     "metadata": {},
     "output_type": "execute_result"
    }
   ],
   "source": [
    "bool('') # we observe there is nothing it means False any thing it means true "
   ]
  },
  {
   "cell_type": "code",
   "execution_count": 49,
   "id": "318fd5f8-2254-4d24-a250-624a7544dbcb",
   "metadata": {},
   "outputs": [
    {
     "data": {
      "text/plain": [
       "10"
      ]
     },
     "execution_count": 49,
     "metadata": {},
     "output_type": "execute_result"
    }
   ],
   "source": [
    "int('10')"
   ]
  },
  {
   "cell_type": "code",
   "execution_count": 51,
   "id": "4b7aa208-3b39-4fc7-9311-1a83c0015f85",
   "metadata": {},
   "outputs": [
    {
     "data": {
      "text/plain": [
       "True"
      ]
     },
     "execution_count": 51,
     "metadata": {},
     "output_type": "execute_result"
    }
   ],
   "source": [
    "bool('10')"
   ]
  },
  {
   "cell_type": "code",
   "execution_count": 53,
   "id": "172ccae5-b9e0-4c4d-b97b-0e1982fd77a1",
   "metadata": {},
   "outputs": [
    {
     "data": {
      "text/plain": [
       "10.0"
      ]
     },
     "execution_count": 53,
     "metadata": {},
     "output_type": "execute_result"
    }
   ],
   "source": [
    "float('10')"
   ]
  },
  {
   "cell_type": "code",
   "execution_count": 55,
   "id": "8015c5ca-7d36-43ee-83cc-c7b712882212",
   "metadata": {},
   "outputs": [
    {
     "ename": "ValueError",
     "evalue": "invalid literal for int() with base 10: '10.5'",
     "output_type": "error",
     "traceback": [
      "\u001b[1;31m---------------------------------------------------------------------------\u001b[0m",
      "\u001b[1;31mValueError\u001b[0m                                Traceback (most recent call last)",
      "Cell \u001b[1;32mIn[55], line 2\u001b[0m\n\u001b[0;32m      1\u001b[0m \u001b[38;5;28mint\u001b[39m(\u001b[38;5;124m'\u001b[39m\u001b[38;5;124m10\u001b[39m\u001b[38;5;124m'\u001b[39m)\u001b[38;5;66;03m#works\u001b[39;00m\n\u001b[1;32m----> 2\u001b[0m \u001b[38;5;28mint\u001b[39m(\u001b[38;5;124m'\u001b[39m\u001b[38;5;124m10.5\u001b[39m\u001b[38;5;124m'\u001b[39m)\n",
      "\u001b[1;31mValueError\u001b[0m: invalid literal for int() with base 10: '10.5'"
     ]
    }
   ],
   "source": [
    "int('10')#works\n",
    "int('10.5')#not works"
   ]
  },
  {
   "cell_type": "code",
   "execution_count": 57,
   "id": "2ffe8f6d-5f74-4b08-bf16-d9390831eb78",
   "metadata": {},
   "outputs": [
    {
     "ename": "ValueError",
     "evalue": "invalid literal for int() with base 10: '10.5'",
     "output_type": "error",
     "traceback": [
      "\u001b[1;31m---------------------------------------------------------------------------\u001b[0m",
      "\u001b[1;31mValueError\u001b[0m                                Traceback (most recent call last)",
      "Cell \u001b[1;32mIn[57], line 2\u001b[0m\n\u001b[0;32m      1\u001b[0m \u001b[38;5;28mint\u001b[39m(\u001b[38;5;241m10.5\u001b[39m)\u001b[38;5;66;03m#works\u001b[39;00m\n\u001b[1;32m----> 2\u001b[0m \u001b[38;5;28mint\u001b[39m(\u001b[38;5;124m'\u001b[39m\u001b[38;5;124m10.5\u001b[39m\u001b[38;5;124m'\u001b[39m)\n",
      "\u001b[1;31mValueError\u001b[0m: invalid literal for int() with base 10: '10.5'"
     ]
    }
   ],
   "source": [
    "int(10.5)#works\n",
    "int('10.5')#not works"
   ]
  },
  {
   "cell_type": "code",
   "execution_count": 61,
   "id": "1f16811d-3717-4022-9665-eb2887b537e4",
   "metadata": {},
   "outputs": [
    {
     "data": {
      "text/plain": [
       "10"
      ]
     },
     "execution_count": 61,
     "metadata": {},
     "output_type": "execute_result"
    }
   ],
   "source": [
    "int(10.5)#works it converts like float and gives the nearest integer"
   ]
  },
  {
   "cell_type": "code",
   "execution_count": null,
   "id": "213a3ae1-1edd-491a-b644-480879741356",
   "metadata": {},
   "outputs": [],
   "source": []
  }
 ],
 "metadata": {
  "kernelspec": {
   "display_name": "Python 3 (ipykernel)",
   "language": "python",
   "name": "python3"
  },
  "language_info": {
   "codemirror_mode": {
    "name": "ipython",
    "version": 3
   },
   "file_extension": ".py",
   "mimetype": "text/x-python",
   "name": "python",
   "nbconvert_exporter": "python",
   "pygments_lexer": "ipython3",
   "version": "3.12.4"
  }
 },
 "nbformat": 4,
 "nbformat_minor": 5
}
