{
 "cells": [
  {
   "cell_type": "markdown",
   "id": "bcb3e828-6fbe-4f85-86ea-1829299b0da5",
   "metadata": {},
   "source": [
    "- list comprehension is a way to write the code line in a single line\n",
    "- whenever we use for loops and if conditions the time will be increases\n",
    "- list comprehension will able to write for loop and if condition in a single line\n",
    "- which reduce the time to get the output"
   ]
  },
  {
   "cell_type": "code",
   "execution_count": 2,
   "id": "179628f3-4b53-4680-8999-6829ca797f3c",
   "metadata": {},
   "outputs": [
    {
     "name": "stdout",
     "output_type": "stream",
     "text": [
      "0 1 2 3 4 5 6 7 8 9 "
     ]
    }
   ],
   "source": [
    "for i in range(10):\n",
    "    print(i,end=' ')"
   ]
  },
  {
   "cell_type": "code",
   "execution_count": 6,
   "id": "bfdc61f4-f7c0-4598-98b0-8f065ef2a02b",
   "metadata": {},
   "outputs": [
    {
     "data": {
      "text/plain": [
       "[0, 1, 2, 3, 4, 5, 6, 7, 8, 9]"
      ]
     },
     "execution_count": 6,
     "metadata": {},
     "output_type": "execute_result"
    }
   ],
   "source": [
    "# in list\n",
    "list1=[]\n",
    "for i in range(10):\n",
    "    list1.append(i)\n",
    "list1"
   ]
  },
  {
   "cell_type": "markdown",
   "id": "2fa0a21f-4ada-4361-b8d9-741d8b4d9de8",
   "metadata": {},
   "source": [
    "# method-1: only for loop"
   ]
  },
  {
   "cell_type": "code",
   "execution_count": null,
   "id": "ffec972d-9477-476a-9aa0-2ec750c00aee",
   "metadata": {},
   "outputs": [],
   "source": [
    "list1=[<code here>]\n",
    "list1={<output here>]\n"
   ]
  },
  {
   "cell_type": "code",
   "execution_count": 9,
   "id": "838de70d-f24e-425d-955f-69653d60c72c",
   "metadata": {},
   "outputs": [
    {
     "data": {
      "text/plain": [
       "[0, 1, 2, 3, 4, 5, 6, 7, 8, 9]"
      ]
     },
     "execution_count": 9,
     "metadata": {},
     "output_type": "execute_result"
    }
   ],
   "source": [
    "list1=[i for i in range(10)]\n",
    "list1"
   ]
  },
  {
   "cell_type": "code",
   "execution_count": 21,
   "id": "4383a739-2cea-4e30-9af5-e635d3d8f5e5",
   "metadata": {},
   "outputs": [
    {
     "data": {
      "text/plain": [
       "['Hyd', 'Chennai', 'Mumbai', 'Pune']"
      ]
     },
     "execution_count": 21,
     "metadata": {},
     "output_type": "execute_result"
    }
   ],
   "source": [
    "list2=['hyd','chennai','mumbai','pune']\n",
    "list3=[i.title() for i in list2]\n",
    "list3"
   ]
  },
  {
   "cell_type": "code",
   "execution_count": 25,
   "id": "9071b086-88d4-4947-9978-9efb3a6107b2",
   "metadata": {},
   "outputs": [
    {
     "data": {
      "text/plain": [
       "['Hyd', 'Chennai', 'Mumbai', 'Pune']"
      ]
     },
     "execution_count": 25,
     "metadata": {},
     "output_type": "execute_result"
    }
   ],
   "source": [
    "l2=['hyd','chennai','mumbai','pune']\n",
    "ans=[i.capitalize() for i in l2]\n",
    "ans\n"
   ]
  },
  {
   "cell_type": "code",
   "execution_count": 27,
   "id": "c215d52f-9b9c-4775-b626-9c370dc7e395",
   "metadata": {},
   "outputs": [
    {
     "data": {
      "text/plain": [
       "['Hyd', 'Chennai', 'Mumbai', 'Pune']"
      ]
     },
     "execution_count": 27,
     "metadata": {},
     "output_type": "execute_result"
    }
   ],
   "source": [
    "ans=[i.capitalize() for i in ['hyd','chennai','mumbai','pune']]\n",
    "ans"
   ]
  },
  {
   "cell_type": "code",
   "execution_count": 37,
   "id": "9dd69241-71d1-4b8e-8fbe-63375af345e1",
   "metadata": {},
   "outputs": [
    {
     "name": "stdout",
     "output_type": "stream",
     "text": [
      "0\n",
      "10\n",
      "20\n",
      "30\n"
     ]
    },
    {
     "data": {
      "text/plain": [
       "[0, 10, 20, 30]"
      ]
     },
     "execution_count": 37,
     "metadata": {},
     "output_type": "execute_result"
    }
   ],
   "source": [
    "# basic ans \n",
    "l2=['hyd','chennai','mumbai','pune']\n",
    "ans=[]\n",
    "for i in l2:\n",
    "    print(l2.index(i)*10)\n",
    "\n",
    "# list comprehension method\n",
    "ans=[l2.index(i)*10 for i in l2]  # it gives single answer\n",
    "ans"
   ]
  },
  {
   "cell_type": "code",
   "execution_count": 45,
   "id": "09d7a78e-e882-4994-a015-6883e4b3ff06",
   "metadata": {},
   "outputs": [
    {
     "name": "stdout",
     "output_type": "stream",
     "text": [
      "6\n",
      "6\n"
     ]
    }
   ],
   "source": [
    "l2=['hyd','chennai','mumbai','pune']\n",
    "summ=0\n",
    "for i in l2:\n",
    "    summ+=l2.index(i)\n",
    "print(summ)   \n",
    "\n",
    "# using list comprehension\n",
    "l2=['hyd','chennai','mumbai','pune']\n",
    "ans=[l2.index(i) for i in l2]\n",
    "print(sum(ans))"
   ]
  },
  {
   "cell_type": "markdown",
   "id": "40f165b3-6279-486a-a9c8-d5f2c23e17e2",
   "metadata": {},
   "source": [
    "# method-2\n",
    "- for loop with if condition"
   ]
  },
  {
   "cell_type": "code",
   "execution_count": 48,
   "id": "4936b51c-89bc-4888-964f-97e77ed23a44",
   "metadata": {},
   "outputs": [
    {
     "data": {
      "text/plain": [
       "['chen#ai', 'mu#bai']"
      ]
     },
     "execution_count": 48,
     "metadata": {},
     "output_type": "execute_result"
    }
   ],
   "source": [
    "l2=['hyd','chen#ai','mu#bai','pune']\n",
    "ans=[]\n",
    "for i in l2:\n",
    "    if '#' in i:\n",
    "        ans.append(i)\n",
    "ans\n",
    "\n"
   ]
  },
  {
   "cell_type": "code",
   "execution_count": 52,
   "id": "f1e44ef6-71e0-4723-a068-1194a626dcec",
   "metadata": {},
   "outputs": [
    {
     "data": {
      "text/plain": [
       "['chen#ai', 'mu#bai']"
      ]
     },
     "execution_count": 52,
     "metadata": {},
     "output_type": "execute_result"
    }
   ],
   "source": [
    "# using list comprehension   [<output> <for loop> <if condition>]\n",
    "l2=['hyd','chen#ai','mu#bai','pune']\n",
    "ans=[i for i in l2 if \"#\" in i]\n",
    "ans"
   ]
  },
  {
   "cell_type": "code",
   "execution_count": 54,
   "id": "7f89b9eb-6384-458f-9de8-33be05735f40",
   "metadata": {},
   "outputs": [
    {
     "data": {
      "text/plain": [
       "['hyd', 'pune']"
      ]
     },
     "execution_count": 54,
     "metadata": {},
     "output_type": "execute_result"
    }
   ],
   "source": [
    "l2=['hyd','chen#ai','mu#bai','pune']\n",
    "ans=[i for i in l2 if \"#\" not in i]\n",
    "ans"
   ]
  },
  {
   "cell_type": "code",
   "execution_count": 62,
   "id": "25ec746a-c3a2-470e-9c36-568beaf5c375",
   "metadata": {},
   "outputs": [
    {
     "name": "stdout",
     "output_type": "stream",
     "text": [
      "[100, 20, 38, 52]\n",
      "[27, 47, 87]\n"
     ]
    }
   ],
   "source": [
    "#Q)3) list1=[100,20,27,38,47,52,87]\n",
    "l3=[100,20,27,38,47,52,87]\n",
    "even=[i for i in l3 if i%2==0]\n",
    "odd=[i for i in l3 if i%2!=0]\n",
    "print(even)\n",
    "print(odd)"
   ]
  },
  {
   "cell_type": "markdown",
   "id": "6be320a5-a30a-4c52-95d5-c6fad173300d",
   "metadata": {},
   "source": [
    "# method 3\n",
    "# for loop-if-else\n"
   ]
  },
  {
   "cell_type": "code",
   "execution_count": 67,
   "id": "425daf6d-959b-4e5f-a8d7-413b9f1cceca",
   "metadata": {},
   "outputs": [],
   "source": [
    "# syntax:[<if output> <if condition>else<else output> <for loop>]"
   ]
  },
  {
   "cell_type": "code",
   "execution_count": 88,
   "id": "9eb68fd6-3608-4408-b7f7-54ed84814c0f",
   "metadata": {},
   "outputs": [
    {
     "data": {
      "text/plain": [
       "['even', 'even', 'odd', 'even', 'odd', 'even', 'odd']"
      ]
     },
     "execution_count": 88,
     "metadata": {},
     "output_type": "execute_result"
    }
   ],
   "source": [
    "l3=[100,20,27,38,47,52,87]\n",
    "ans1=['even' if i%2==0 else 'odd' for i in l3]\n",
    "ans1"
   ]
  },
  {
   "cell_type": "code",
   "execution_count": 92,
   "id": "590c318d-1c6d-4748-860a-667becebb742",
   "metadata": {},
   "outputs": [
    {
     "data": {
      "text/plain": [
       "['even100', 'even20', 'odd27', 'even38', 'odd47', 'even52', 'odd87']"
      ]
     },
     "execution_count": 92,
     "metadata": {},
     "output_type": "execute_result"
    }
   ],
   "source": [
    "l3=[100,20,27,38,47,52,87]\n",
    "ans1=[f'even{i}' if i%2==0 else f'odd{i}' for i in l3]\n",
    "ans1"
   ]
  },
  {
   "cell_type": "code",
   "execution_count": 94,
   "id": "e91616c1-54e1-4f25-a44f-fcff2caca368",
   "metadata": {},
   "outputs": [
    {
     "data": {
      "text/plain": [
       "[76, 89, 53, 67, 90, 82, 99]"
      ]
     },
     "execution_count": 94,
     "metadata": {},
     "output_type": "execute_result"
    }
   ],
   "source": [
    "l=[45,76,89,53,67,90,82,49,33,99]\n",
    "# 1. filter the students who passes marks >=50\n",
    "# 2. calculate grades of all the students\n",
    "        # A: 85+,B:70-85C: 50-69 D:<50\n",
    "#3. add 5 grace marks to students who failed <50\n",
    "# 4. find the average marks of the calss \n",
    "\n",
    "\n",
    "# 1) ans \n",
    "l=[45,76,89,53,67,90,82,49,33,99]\n",
    "l1=[i for i in l if i>=50]\n",
    "l1"
   ]
  },
  {
   "cell_type": "code",
   "execution_count": 98,
   "id": "d4e566b9-6647-4da7-ad6f-b1956af5e990",
   "metadata": {},
   "outputs": [
    {
     "name": "stdout",
     "output_type": "stream",
     "text": [
      "[89, 90, 99]\n",
      "[76, 82]\n",
      "[53, 67]\n",
      "[45, 49, 33]\n"
     ]
    }
   ],
   "source": [
    "# 2. calculate grades of all the students\n",
    "        # A: 85+,B:70-85C: 50-69 D:<50\n",
    "l=[45,76,89,53,67,90,82,49,33,99]\n",
    "A=[i for i in l i if>85]\n",
    "B=[i for i in l if i>=70 and i<=85]\n",
    "C=[i for i in l if i>=50 and i<70]\n",
    "D=[i for i in l if i<50]\n",
    "print(A)\n",
    "print(B)\n",
    "print(C)\n",
    "print(D)"
   ]
  },
  {
   "cell_type": "code",
   "execution_count": 102,
   "id": "c5b15455-8a6f-426b-bacd-3e6bf3403bef",
   "metadata": {},
   "outputs": [
    {
     "data": {
      "text/plain": [
       "[50, 54, 38]"
      ]
     },
     "execution_count": 102,
     "metadata": {},
     "output_type": "execute_result"
    }
   ],
   "source": [
    "#3. add 5 grace marks to students who failed <50\n",
    "l=[45,76,89,53,67,90,82,49,33,99]\n",
    "ans=[i+5 for i in l if i<50] \n",
    "ans"
   ]
  },
  {
   "cell_type": "code",
   "execution_count": 112,
   "id": "85a30131-9ed0-4db3-b4b7-e148e7728d61",
   "metadata": {},
   "outputs": [
    {
     "name": "stdout",
     "output_type": "stream",
     "text": [
      "68.3\n"
     ]
    }
   ],
   "source": [
    "# 4. find the average marks of the calss\n",
    "l=[45,76,89,53,67,90,82,49,33,99]\n",
    "average=sum(l)/len(l)\n",
    "print(average)"
   ]
  },
  {
   "cell_type": "markdown",
   "id": "d551150a-7441-4209-941e-1226bb8a8944",
   "metadata": {},
   "source": [
    "**method-4: for if elif else**\n",
    "- there is no elif in list comprehension\n",
    "- elif also we can write : else+if"
   ]
  },
  {
   "cell_type": "code",
   "execution_count": null,
   "id": "92ea9f71-aed6-4da6-84a6-4d61dfc175ce",
   "metadata": {},
   "outputs": [],
   "source": [
    "- method-3 [<if output><if condition>else<else output>]\n",
    "- method-4 [<if output><if condition>else<elif output> <elif condition>else <else output><for loop>]"
   ]
  },
  {
   "cell_type": "code",
   "execution_count": 129,
   "id": "669657b4-9e02-44f2-9b3e-189c39fdd54b",
   "metadata": {},
   "outputs": [
    {
     "data": {
      "text/plain": [
       "['D:45',\n",
       " 'B:76',\n",
       " 'A:89',\n",
       " 'C:53',\n",
       " 'C:67',\n",
       " 'A:90',\n",
       " 'B:82',\n",
       " 'D:49',\n",
       " 'D:33',\n",
       " 'A:99']"
      ]
     },
     "execution_count": 129,
     "metadata": {},
     "output_type": "execute_result"
    }
   ],
   "source": [
    "l=[45,76,89,53,67,90,82,49,33,99]\n",
    "[f'A:{i}' if i>=85 else f'B:{i}' if i>=70 else f'C:{i}' if i>=50 else f'D:{i}' for i in l]"
   ]
  },
  {
   "cell_type": "markdown",
   "id": "f5703532-0687-47f1-83ed-5c85f12fa2e0",
   "metadata": {},
   "source": [
    "**Walrus operator**\n",
    "- list comprention = will not work\n",
    "- if you want to write equal to(=), then will use Walrus operatoris (:=)"
   ]
  },
  {
   "cell_type": "code",
   "execution_count": 3,
   "id": "2cac1656-00ca-4076-8063-d055573262e0",
   "metadata": {},
   "outputs": [
    {
     "data": {
      "text/plain": [
       "68.3"
      ]
     },
     "execution_count": 3,
     "metadata": {},
     "output_type": "execute_result"
    }
   ],
   "source": [
    "l7=[45,76,89,53,67,90,82,49,33,99]\n",
    "total=0\n",
    "ans1=[total:=total+i for i in l7 ]\n",
    "total/len(ans1)"
   ]
  },
  {
   "cell_type": "code",
   "execution_count": null,
   "id": "38174005-8728-44b4-a98b-06b9c72c82b1",
   "metadata": {},
   "outputs": [],
   "source": []
  }
 ],
 "metadata": {
  "kernelspec": {
   "display_name": "Python 3 (ipykernel)",
   "language": "python",
   "name": "python3"
  },
  "language_info": {
   "codemirror_mode": {
    "name": "ipython",
    "version": 3
   },
   "file_extension": ".py",
   "mimetype": "text/x-python",
   "name": "python",
   "nbconvert_exporter": "python",
   "pygments_lexer": "ipython3",
   "version": "3.12.4"
  }
 },
 "nbformat": 4,
 "nbformat_minor": 5
}
