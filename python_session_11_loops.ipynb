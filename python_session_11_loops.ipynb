{
 "cells": [
  {
   "cell_type": "markdown",
   "id": "f6a14d00-b751-4b13-b5b7-1ff785bc4918",
   "metadata": {},
   "source": [
    "# **Loops**\n",
    "- iterating code\n",
    "- repeating the code"
   ]
  },
  {
   "cell_type": "markdown",
   "id": "8913aee1-d6e1-4b09-9247-1b998320c274",
   "metadata": {},
   "source": [
    "- there are two types of loops\n",
    "    -  for loops\n",
    "    -  while loops"
   ]
  },
  {
   "cell_type": "markdown",
   "id": "21aae9a3-54f0-405c-a282-85f6e4040707",
   "metadata": {},
   "source": [
    "- intialization (intial point to start the loop)\n",
    "- increment or decrement\n",
    "- condition to stop the loop"
   ]
  },
  {
   "cell_type": "markdown",
   "id": "9e4276fa-8110-43da-b125-0dd87b2704a5",
   "metadata": {},
   "source": [
    "# **for loop**"
   ]
  },
  {
   "cell_type": "code",
   "execution_count": 8,
   "id": "e47b55cb-83cc-45de-b6cc-2b23cdf23be2",
   "metadata": {},
   "outputs": [
    {
     "ename": "SyntaxError",
     "evalue": "invalid syntax (3639151380.py, line 2)",
     "output_type": "error",
     "traceback": [
      "\u001b[1;36m  Cell \u001b[1;32mIn[8], line 2\u001b[1;36m\u001b[0m\n\u001b[1;33m    for <avariable> in range(<value>):\u001b[0m\n\u001b[1;37m        ^\u001b[0m\n\u001b[1;31mSyntaxError\u001b[0m\u001b[1;31m:\u001b[0m invalid syntax\n"
     ]
    }
   ],
   "source": [
    "# syntax\n",
    "for <avariable> in range(<value>):\n",
    "    <write your code here>"
   ]
  },
  {
   "cell_type": "code",
   "execution_count": 5,
   "id": "1f290a58-799d-4606-9dda-cd2b24cad7be",
   "metadata": {},
   "outputs": [
    {
     "name": "stdout",
     "output_type": "stream",
     "text": [
      "0\n",
      "1\n",
      "2\n"
     ]
    }
   ],
   "source": [
    "for i in range(3):\n",
    "    print(i)\n"
   ]
  },
  {
   "cell_type": "markdown",
   "id": "bad5cd67-e991-418d-80d8-9fc567e05f20",
   "metadata": {},
   "source": [
    "# Case no1 range of stop\n",
    "**range(stop)**\n",
    "- start value=0\n",
    "- step size=1\n",
    "- last stop=stop-1\n",
    "- range(3)\n",
    "    - start value=0\n",
    "    - increment=1\n",
    "    - last= stop-1=3-1=2"
   ]
  },
  {
   "cell_type": "code",
   "execution_count": 15,
   "id": "c82079ef-b2ae-4501-8277-96e03db5c244",
   "metadata": {},
   "outputs": [
    {
     "name": "stdout",
     "output_type": "stream",
     "text": [
      "0\n",
      "1\n",
      "2\n",
      "3\n",
      "4\n"
     ]
    }
   ],
   "source": [
    "for i in range(5):\n",
    "    print(i)\n",
    "# variable name is any thing\n",
    "# start=0, step=+1, stop=5-1=4"
   ]
  },
  {
   "cell_type": "code",
   "execution_count": 21,
   "id": "7895d3cc-55a2-477b-90d0-f170ccf0cdb0",
   "metadata": {},
   "outputs": [
    {
     "name": "stdout",
     "output_type": "stream",
     "text": [
      "good evening \n",
      "good evening \n",
      "good evening \n",
      "good evening \n",
      "good evening \n"
     ]
    }
   ],
   "source": [
    "for i in range(5):\n",
    "    print(\"good evening \")"
   ]
  },
  {
   "cell_type": "code",
   "execution_count": 17,
   "id": "0fefa1e6-f3c6-47d7-b54c-039e73a7d50c",
   "metadata": {},
   "outputs": [
    {
     "name": "stdout",
     "output_type": "stream",
     "text": [
      "0 1 2 3 4 "
     ]
    }
   ],
   "source": [
    "for i in range(5):\n",
    "    print(i,end=' ')\n",
    "# end is used to print the numbers in vertically"
   ]
  },
  {
   "cell_type": "markdown",
   "id": "c6424b32-39ac-4936-b238-dea74e500d65",
   "metadata": {},
   "source": [
    "**case-2**\n",
    "**range(start,stop)**\n",
    "- start value=start\n",
    "- step=1\n",
    "- last=stop-1\n",
    "- range(2,7):\n",
    "    - start=2\n",
    "    - step=1\n",
    "    - stop=7-1=6\n",
    "- 2,3,4,5,6\n"
   ]
  },
  {
   "cell_type": "code",
   "execution_count": 24,
   "id": "278f0a68-c5fc-4f6b-b51e-dff7c6208f16",
   "metadata": {},
   "outputs": [
    {
     "name": "stdout",
     "output_type": "stream",
     "text": [
      "2 3 4 5 6 "
     ]
    }
   ],
   "source": [
    "for x in range(2,7):\n",
    "    print(x,end=' ')"
   ]
  },
  {
   "cell_type": "code",
   "execution_count": 1,
   "id": "63ad3bca-efaa-49a4-a721-d252aee679dc",
   "metadata": {},
   "outputs": [
    {
     "name": "stdout",
     "output_type": "stream",
     "text": [
      "1\n",
      "4\n",
      "9\n",
      "16\n",
      "25\n"
     ]
    }
   ],
   "source": [
    "# wap ask the user to print square of the first five numbers\n",
    "from math import pow\n",
    "for x in range(1,6):\n",
    "    c=pow(x,2)\n",
    "    print(int(c))"
   ]
  },
  {
   "cell_type": "code",
   "execution_count": 30,
   "id": "ee0856cd-805a-4d3b-bdec-99e07852ea22",
   "metadata": {},
   "outputs": [
    {
     "name": "stdout",
     "output_type": "stream",
     "text": [
      "1\n",
      "4\n",
      "9\n",
      "16\n",
      "25\n"
     ]
    }
   ],
   "source": [
    "for x in range(1,6):\n",
    "    print(x*x)"
   ]
  },
  {
   "cell_type": "code",
   "execution_count": 25,
   "id": "27a3a77b-50e8-4ad2-9284-f1c31cdc5e5a",
   "metadata": {},
   "outputs": [
    {
     "name": "stdin",
     "output_type": "stream",
     "text": [
      "enter the number 5\n"
     ]
    },
    {
     "name": "stdout",
     "output_type": "stream",
     "text": [
      "the square of 5 is25\n"
     ]
    },
    {
     "name": "stdin",
     "output_type": "stream",
     "text": [
      "enter the number 4\n"
     ]
    },
    {
     "name": "stdout",
     "output_type": "stream",
     "text": [
      "the square of 4 is16\n"
     ]
    },
    {
     "name": "stdin",
     "output_type": "stream",
     "text": [
      "enter the number 7\n"
     ]
    },
    {
     "name": "stdout",
     "output_type": "stream",
     "text": [
      "the square of 7 is49\n"
     ]
    },
    {
     "name": "stdin",
     "output_type": "stream",
     "text": [
      "enter the number 8\n"
     ]
    },
    {
     "name": "stdout",
     "output_type": "stream",
     "text": [
      "the square of 8 is64\n"
     ]
    },
    {
     "name": "stdin",
     "output_type": "stream",
     "text": [
      "enter the number 9\n"
     ]
    },
    {
     "name": "stdout",
     "output_type": "stream",
     "text": [
      "the square of 9 is81\n"
     ]
    }
   ],
   "source": [
    "for x in range(5):    # this line is used for only iterating the loops in number of times\n",
    "    a=int(input('enter the number'))\n",
    "    print(f'the square of {a} is{a*a}')"
   ]
  },
  {
   "cell_type": "code",
   "execution_count": 38,
   "id": "d72660f1-65b2-405b-92b5-b79a3b22930d",
   "metadata": {},
   "outputs": [
    {
     "name": "stdout",
     "output_type": "stream",
     "text": [
      "the square of 4 is16\n",
      "the square of 8 is64\n",
      "the square of 7 is49\n",
      "the square of 4 is16\n",
      "the square of 6 is36\n"
     ]
    }
   ],
   "source": [
    "from random import randint\n",
    "for x in range(5):    # this line is used for only iterating the loops in number of times\n",
    "    a=randint(3,9)\n",
    "    print(f'the square of {a} is{a*a}')"
   ]
  },
  {
   "cell_type": "code",
   "execution_count": 95,
   "id": "64fc0db1-7e75-4061-bafd-9bd629ddb1a8",
   "metadata": {},
   "outputs": [
    {
     "name": "stdout",
     "output_type": "stream",
     "text": [
      "      * \n",
      "     * * \n",
      "    *   * \n",
      "   * * * * \n",
      "  *       * \n",
      " *         * \n"
     ]
    }
   ],
   "source": [
    "for x in range(6):\n",
    "    for j in range(6-x):\n",
    "        print('',end=' ')\n",
    "    for y in range(x+1):\n",
    "        if x==6/2:\n",
    "            print('*',end=' ')\n",
    "        elif y==0 or y==x:\n",
    "            print('*',end=' ')\n",
    "        else:\n",
    "            print(\" \",end=' ')\n",
    "    print()"
   ]
  },
  {
   "cell_type": "markdown",
   "id": "8bf6a9df-f075-48ca-b5ff-da7f33234e40",
   "metadata": {},
   "source": [
    "**case 3: range(start,stop,step)**\n",
    "- start value=start\n",
    "- step=positive means + sign\n",
    "    - gap = positive step\n",
    "    - last= stop-1\n",
    "- step= negative means - sign\n",
    "    - gap = negative step size\n",
    "    - last = stop+1"
   ]
  },
  {
   "cell_type": "code",
   "execution_count": 63,
   "id": "f9471298-7270-4a7d-9089-ba27eb9ff624",
   "metadata": {},
   "outputs": [
    {
     "name": "stdout",
     "output_type": "stream",
     "text": [
      "2 4 6 8 10 12 14 16 18 "
     ]
    }
   ],
   "source": [
    "for i in range(2,20,2):\n",
    "    print(i,end=' ')"
   ]
  },
  {
   "cell_type": "code",
   "execution_count": 65,
   "id": "8b313064-8aad-4e8f-9e79-c382b3c7de22",
   "metadata": {},
   "outputs": [
    {
     "name": "stdout",
     "output_type": "stream",
     "text": [
      "2 0 -2 -4 -6 -8 -10 -12 -14 -16 -18 "
     ]
    }
   ],
   "source": [
    "for i in range(2,-20,-2):\n",
    "    print(i,end=' ')"
   ]
  },
  {
   "cell_type": "code",
   "execution_count": 27,
   "id": "9f60da64-ae3a-444c-8e3a-1baa51b84525",
   "metadata": {},
   "outputs": [
    {
     "name": "stdout",
     "output_type": "stream",
     "text": [
      "2 0 -2 -4 -6 -8 -10 -12 -14 -16 -18 "
     ]
    }
   ],
   "source": [
    "for i in range(2,-20,-2):\n",
    "    print(i,end=' ')"
   ]
  },
  {
   "cell_type": "code",
   "execution_count": 31,
   "id": "e99d5458-e1ec-4953-8e6c-7f61bd5dbf21",
   "metadata": {},
   "outputs": [],
   "source": [
    "for i in range(2,-20,2):\n",
    "    print(i,end=' ')\n",
    "# the code cannot give the answer and cannot give the error\n",
    "# because the start is positive and step is positive \n",
    "# but the code stop value is negative so the code didn't give any answer"
   ]
  },
  {
   "cell_type": "code",
   "execution_count": 71,
   "id": "2b8ca6c1-49e0-43e1-ba9c-2ffe9716a4c5",
   "metadata": {},
   "outputs": [],
   "source": [
    "for i in range(2,20,-2):\n",
    "    print(i,end=' ')\n",
    "# the code cannot give the answer and cannot give the error\n",
    "# because the start is positive and stop is positive \n",
    "# but the code step value is negative so the code didn't give any answer"
   ]
  },
  {
   "cell_type": "code",
   "execution_count": 5,
   "id": "8188eb0a-a6f1-445f-85ba-378fd157358b",
   "metadata": {},
   "outputs": [
    {
     "name": "stdin",
     "output_type": "stream",
     "text": [
      "ente the number1 4\n"
     ]
    },
    {
     "name": "stdout",
     "output_type": "stream",
     "text": [
      "even\n"
     ]
    },
    {
     "name": "stdin",
     "output_type": "stream",
     "text": [
      "ente the number1 8\n"
     ]
    },
    {
     "name": "stdout",
     "output_type": "stream",
     "text": [
      "even\n"
     ]
    },
    {
     "name": "stdin",
     "output_type": "stream",
     "text": [
      "ente the number1 9\n"
     ]
    },
    {
     "name": "stdout",
     "output_type": "stream",
     "text": [
      "odd\n"
     ]
    },
    {
     "name": "stdin",
     "output_type": "stream",
     "text": [
      "ente the number1 2\n"
     ]
    },
    {
     "name": "stdout",
     "output_type": "stream",
     "text": [
      "even\n"
     ]
    },
    {
     "name": "stdin",
     "output_type": "stream",
     "text": [
      "ente the number1 1\n"
     ]
    },
    {
     "name": "stdout",
     "output_type": "stream",
     "text": [
      "odd\n"
     ]
    }
   ],
   "source": [
    "# wap ask the user enter 5 numbers\n",
    "# print it is a even number or odd\n",
    "# looop should run 5 times\n",
    "\n",
    "\n",
    "for x in range(5):\n",
    "    n1=eval(input('ente the number1'))\n",
    "    if n1%2==0:\n",
    "        print('even')\n",
    "    else:\n",
    "        print('odd')"
   ]
  },
  {
   "cell_type": "code",
   "execution_count": 7,
   "id": "ccae2d60-e0b6-4db3-a72b-5f43688e7204",
   "metadata": {},
   "outputs": [
    {
     "name": "stdin",
     "output_type": "stream",
     "text": [
      "which table you want 7\n"
     ]
    },
    {
     "name": "stdout",
     "output_type": "stream",
     "text": [
      "7*1=7\n",
      "7*2=14\n",
      "7*3=21\n",
      "7*4=28\n",
      "7*5=35\n",
      "7*6=42\n",
      "7*7=49\n",
      "7*8=56\n",
      "7*9=63\n",
      "7*10=70\n"
     ]
    }
   ],
   "source": [
    "# wap ask th user to print 7 th table\n",
    "n1=eval(input('which table you want'))\n",
    "for x in range(1,11):\n",
    "    print(f'{n1}*{x}={n1*x}')"
   ]
  },
  {
   "cell_type": "code",
   "execution_count": 9,
   "id": "bbb415b4-d9f0-4804-9987-3ceea502ba5e",
   "metadata": {},
   "outputs": [
    {
     "name": "stdin",
     "output_type": "stream",
     "text": [
      "enter the divisor number 45\n"
     ]
    },
    {
     "name": "stdout",
     "output_type": "stream",
     "text": [
      "1\n",
      "3\n",
      "5\n",
      "9\n",
      "15\n",
      "45\n"
     ]
    }
   ],
   "source": [
    "# wap ask the divisors\n",
    "n=eval(input('enter the divisor number'))\n",
    "for x in range(1,n+1):   # \n",
    "        if n%x==0:\n",
    "            print(x)"
   ]
  },
  {
   "cell_type": "code",
   "execution_count": 13,
   "id": "b3ae4995-3393-41f6-addf-6e9df3a706b6",
   "metadata": {},
   "outputs": [
    {
     "name": "stdin",
     "output_type": "stream",
     "text": [
      "enter the divisor number 99\n"
     ]
    },
    {
     "name": "stdout",
     "output_type": "stream",
     "text": [
      "1\n",
      "3\n",
      "9\n",
      "11\n",
      "33\n",
      "99\n"
     ]
    }
   ],
   "source": [
    "def divisor():\n",
    "    n=eval(input('enter the divisor number'))\n",
    "    for x in range(1,n+1):   # \n",
    "            if n%x==0:\n",
    "                print(x)\n",
    "divisor()"
   ]
  },
  {
   "cell_type": "code",
   "execution_count": 17,
   "id": "8bf5a95e-d360-413d-935c-bb7a48ff036c",
   "metadata": {},
   "outputs": [
    {
     "name": "stdout",
     "output_type": "stream",
     "text": [
      "1\n",
      "89\n"
     ]
    }
   ],
   "source": [
    "def divisor1(n):\n",
    "    \n",
    "    for x in range(1,n+1):   # \n",
    "            if n%x==0:\n",
    "                print(x)\n",
    "divisor1(89)"
   ]
  },
  {
   "cell_type": "code",
   "execution_count": 31,
   "id": "9cbebdce-6363-442b-939f-976f2c5d433a",
   "metadata": {},
   "outputs": [
    {
     "name": "stdout",
     "output_type": "stream",
     "text": [
      "1\n",
      "29\n"
     ]
    }
   ],
   "source": [
    "def divisor1(n):\n",
    "    \n",
    "    for x in range(1,n+1):   # \n",
    "        if n%x==0:\n",
    "            print(x)\n",
    "    return(x)   # x variable will give always last value don't print x out side the for loop\n",
    "div=divisor1(29)"
   ]
  },
  {
   "cell_type": "code",
   "execution_count": 33,
   "id": "4f85ba02-6fbf-4b00-bed3-aa7e74389f17",
   "metadata": {},
   "outputs": [
    {
     "data": {
      "text/plain": [
       "29"
      ]
     },
     "execution_count": 33,
     "metadata": {},
     "output_type": "execute_result"
    }
   ],
   "source": [
    "div"
   ]
  },
  {
   "cell_type": "code",
   "execution_count": 51,
   "id": "51999adf-8a12-4840-86e9-805bd6c55788",
   "metadata": {},
   "outputs": [
    {
     "name": "stdout",
     "output_type": "stream",
     "text": [
      "1\n",
      "29\n"
     ]
    }
   ],
   "source": [
    "def divisor3(n):\n",
    "    for x in range(1,n+1):   # \n",
    "        if n%x==0:\n",
    "            print(x)\n",
    "    return(x)   # x variable will give always last value don't print x out side the for loop\n",
    "div1=divisor3(29)"
   ]
  },
  {
   "cell_type": "code",
   "execution_count": 53,
   "id": "d7d7a5ec-bb81-49ac-9a89-6015489ccafb",
   "metadata": {},
   "outputs": [
    {
     "data": {
      "text/plain": [
       "29"
      ]
     },
     "execution_count": 53,
     "metadata": {},
     "output_type": "execute_result"
    }
   ],
   "source": [
    "div1"
   ]
  },
  {
   "cell_type": "markdown",
   "id": "f725b7cb-0672-453a-bfef-48bfd05687c6",
   "metadata": {},
   "source": [
    "# **summation wrapper**\n",
    "- always intialize the sum=0 before the loop\n",
    "- inside the loop summ=summ+i\n",
    "- then print the summ value out side the loop"
   ]
  },
  {
   "cell_type": "code",
   "execution_count": 18,
   "id": "65546808-410c-47ad-9f3f-14b56d0f7199",
   "metadata": {},
   "outputs": [
    {
     "name": "stdout",
     "output_type": "stream",
     "text": [
      "1\n",
      "3\n",
      "6\n",
      "10\n",
      "15\n",
      "21\n",
      "28\n",
      "36\n",
      "45\n",
      "55\n",
      "the sum of first natural numbers55\n"
     ]
    }
   ],
   "source": [
    "# wap ask the user to print first 10 natural numbers\n",
    "#0+1=1\n",
    "#1+2=3\n",
    "#3+3=6\n",
    "#6+4=10\n",
    "#10+5=15\n",
    "#15=6=21\n",
    "#21=7=28\n",
    "#28+8=36\n",
    "#36+9=45\n",
    "#45+10=50\n",
    "summ=0\n",
    "for i in range(1,11):\n",
    "    summ=summ+i\n",
    "    print(summ)\n",
    "print(f'the sum of first natural numbers{summ}')"
   ]
  },
  {
   "cell_type": "markdown",
   "id": "755890a3-8c40-4f3a-b4cc-b46ccfbdb785",
   "metadata": {},
   "source": [
    "# **countdown wrapper**\n",
    "- before the looop count=0\n",
    "- inside the loop count=count+1, but this line under successfull operation\n",
    "- print the count outside the loop"
   ]
  },
  {
   "cell_type": "code",
   "execution_count": 62,
   "id": "53453cfa-9b9d-4b31-a0fb-9e016051ca31",
   "metadata": {},
   "outputs": [
    {
     "name": "stdin",
     "output_type": "stream",
     "text": [
      "enter the number 1000\n"
     ]
    },
    {
     "name": "stdout",
     "output_type": "stream",
     "text": [
      "the divisors of 100 is 1\n",
      "the divisors of 100 is 2\n",
      "the divisors of 100 is 4\n",
      "the divisors of 100 is 5\n",
      "the divisors of 100 is 8\n",
      "the divisors of 100 is 10\n",
      "the divisors of 100 is 20\n",
      "the divisors of 100 is 25\n",
      "the divisors of 100 is 40\n",
      "the divisors of 100 is 50\n",
      "the divisors of 100 is 100\n",
      "the divisors of 100 is 125\n",
      "the divisors of 100 is 200\n",
      "the divisors of 100 is 250\n",
      "the divisors of 100 is 500\n",
      "the divisors of 100 is 1000\n",
      "nuber of times count the numbers 16\n"
     ]
    }
   ],
   "source": [
    "count=0\n",
    "num=eval(input('enter the number'))\n",
    "for i in range(1,num+1):\n",
    "    if num%i==0:\n",
    "        count=count+1\n",
    "        print(f'the divisors of 100 is {i}')\n",
    "print(f'nuber of times count the numbers {count}')"
   ]
  },
  {
   "cell_type": "code",
   "execution_count": 66,
   "id": "f1ea78dd-1831-408d-b1bd-cebc07c8553a",
   "metadata": {},
   "outputs": [
    {
     "name": "stdin",
     "output_type": "stream",
     "text": [
      "enter the number 45\n",
      "enter the number 44\n",
      "enter the number 25\n",
      "enter the number 88\n",
      "enter the number 99\n"
     ]
    },
    {
     "name": "stdout",
     "output_type": "stream",
     "text": [
      "the count of odd num 3\n",
      "the count of even num 2\n"
     ]
    }
   ],
   "source": [
    "# wap ask the user enter the number 5 times \n",
    "# the loop should ask the 5 times\n",
    "# and get the count of even numbers and count the number of odd numbers\n",
    "odd_count=0\n",
    "even_count=0\n",
    "\n",
    "for y in range(5):\n",
    "    n=eval(input('enter the number'))\n",
    "    if n%2==0:\n",
    "        even_count=even_count+1\n",
    "\n",
    "    else:\n",
    "        odd_count=odd_count+1\n",
    "print(f'the count of odd num {odd_count}')\n",
    "print(f'the count of even num {even_count}')"
   ]
  },
  {
   "cell_type": "code",
   "execution_count": 76,
   "id": "2764ac22-7358-4442-9c7e-6d6d6e2655f0",
   "metadata": {},
   "outputs": [
    {
     "name": "stdout",
     "output_type": "stream",
     "text": [
      "the 98 should be even\n",
      "the 100 should be even\n",
      "the 83 should be odd\n",
      "the 77 should be odd\n",
      "the 74 should be even\n",
      "the count of odd num 2\n",
      "the count of even num 3\n"
     ]
    }
   ],
   "source": [
    "# same code using random numbers\n",
    "from random import randint\n",
    "odd_count=0\n",
    "even_count=0\n",
    "for y in range(5):\n",
    "    n=randint(1,100)\n",
    "    if n%2==0:\n",
    "        even_count+=1  # this plus one is also used like even_count=even_count+1\n",
    "        print(f'the {n} should be even')\n",
    "    else:\n",
    "        odd_count+=1\n",
    "        print(f'the {n} should be odd')\n",
    "print(f'the count of odd num {odd_count}')\n",
    "print(f'the count of even num {even_count}')"
   ]
  },
  {
   "cell_type": "code",
   "execution_count": 80,
   "id": "0eabf18f-4c9a-41e6-bcc0-fcae5ceaa115",
   "metadata": {},
   "outputs": [
    {
     "name": "stdin",
     "output_type": "stream",
     "text": [
      "enter the number 100\n"
     ]
    },
    {
     "name": "stdout",
     "output_type": "stream",
     "text": [
      "the divisors of 100 is 1\n",
      "the divisors of 100 is 2\n",
      "the divisors of 100 is 4\n",
      "the divisors of 100 is 5\n",
      "the divisors of 100 is 10\n",
      "the divisors of 100 is 20\n",
      "the divisors of 100 is 25\n",
      "the divisors of 100 is 50\n",
      "the divisors of 100 is 100\n",
      "nuber of times count the numbers 9\n",
      "sum of the divisor  the numbers 217\n"
     ]
    }
   ],
   "source": [
    "count=0\n",
    "sum=0\n",
    "num=eval(input('enter the number'))\n",
    "for i in range(1,num+1):\n",
    "    if num%i==0:\n",
    "        count=count+1\n",
    "        sum+=i\n",
    "        print(f'the divisors of 100 is {i}')\n",
    "print(f'nuber of times count the numbers {count}')\n",
    "print(f'sum of the divisor  the numbers {sum}')"
   ]
  },
  {
   "cell_type": "code",
   "execution_count": 98,
   "id": "da1109cf-cb98-4e9b-aa76-cbaf7980ac3a",
   "metadata": {},
   "outputs": [
    {
     "name": "stdout",
     "output_type": "stream",
     "text": [
      "the 49 should be odd\n",
      "the 60 should be even\n",
      "the 39 should be odd\n",
      "the 2 should be even\n",
      "the 86 should be even\n",
      "the count of odd num 2\n",
      "the count of even num 3\n",
      "sum of the even numbers 148\n",
      "sum of the odd numbers 88\n"
     ]
    }
   ],
   "source": [
    "odd_count=0\n",
    "even_count=0\n",
    "odd_sum=0\n",
    "even_sum=0\n",
    "for y in range(5):\n",
    "    n=randint(1,100)\n",
    "    if n%2==0:\n",
    "        even_count+=1# this plus one is also used like even_count=even_count+1\n",
    "        even_sum+=n\n",
    "        print(f'the {n} should be even')\n",
    "    else:\n",
    "        odd_count+=1\n",
    "        odd_sum+=n\n",
    "        print(f'the {n} should be odd')\n",
    "print(f'the count of odd num {odd_count}')\n",
    "print(f'the count of even num {even_count}')\n",
    "print(f'sum of the even numbers {even_sum}')\n",
    "print(f'sum of the odd numbers {odd_sum}')"
   ]
  },
  {
   "cell_type": "code",
   "execution_count": 106,
   "id": "ea892b3f-718e-4b76-8de4-1b4296ea3db8",
   "metadata": {},
   "outputs": [
    {
     "name": "stdin",
     "output_type": "stream",
     "text": [
      "enter the number between 1 to 10 1\n"
     ]
    },
    {
     "name": "stdout",
     "output_type": "stream",
     "text": [
      "you lost the game\n"
     ]
    },
    {
     "name": "stdin",
     "output_type": "stream",
     "text": [
      "enter the number between 1 to 10 5\n"
     ]
    },
    {
     "name": "stdout",
     "output_type": "stream",
     "text": [
      "you lost the game\n"
     ]
    },
    {
     "name": "stdin",
     "output_type": "stream",
     "text": [
      "enter the number between 1 to 10 5\n"
     ]
    },
    {
     "name": "stdout",
     "output_type": "stream",
     "text": [
      "you lost the game\n"
     ]
    }
   ],
   "source": [
    "from random import randint\n",
    "for x in range(3):\n",
    "    a=randint(1,10)\n",
    "    b=int(input('enter the number between 1 to 10'))\n",
    "    if a==b:\n",
    "        print('congratulation you won the game')\n",
    "        break\n",
    "    else:\n",
    "        print('you lost the game')"
   ]
  },
  {
   "cell_type": "code",
   "execution_count": 2,
   "id": "cb03544a-ad78-4b94-afb7-26c9d4f62da1",
   "metadata": {},
   "outputs": [],
   "source": [
    "# case-2 : for every failure \n",
    "# the number of chances should display\n",
    "\n",
    "# case-3: after the all the chances are finished\n",
    "# print all chances are lost try again after 24 hours"
   ]
  },
  {
   "cell_type": "code",
   "execution_count": 28,
   "id": "d8f0f314-42b9-446f-8e27-a537ace62ea8",
   "metadata": {},
   "outputs": [
    {
     "name": "stdin",
     "output_type": "stream",
     "text": [
      "enter the numbers 5\n"
     ]
    },
    {
     "name": "stdout",
     "output_type": "stream",
     "text": [
      "1\n",
      "3\n",
      "6\n",
      "10\n",
      "15\n",
      "the count of numbers 5\n"
     ]
    }
   ],
   "source": [
    "sum=0\n",
    "count=0\n",
    "n=int(input('enter the numbers'))\n",
    "for x in range(1,n+1):\n",
    "    sum+=x\n",
    "    count+=1\n",
    "    print(sum)\n",
    "print(f'the count of numbers {count}')"
   ]
  },
  {
   "cell_type": "code",
   "execution_count": null,
   "id": "de0b7dba-58f0-4f09-8de2-bd3a5033983a",
   "metadata": {},
   "outputs": [],
   "source": []
  }
 ],
 "metadata": {
  "kernelspec": {
   "display_name": "Python 3 (ipykernel)",
   "language": "python",
   "name": "python3"
  },
  "language_info": {
   "codemirror_mode": {
    "name": "ipython",
    "version": 3
   },
   "file_extension": ".py",
   "mimetype": "text/x-python",
   "name": "python",
   "nbconvert_exporter": "python",
   "pygments_lexer": "ipython3",
   "version": "3.12.4"
  }
 },
 "nbformat": 4,
 "nbformat_minor": 5
}
