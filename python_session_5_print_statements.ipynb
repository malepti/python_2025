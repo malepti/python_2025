{
 "cells": [
  {
   "cell_type": "markdown",
   "id": "2ea129db",
   "metadata": {},
   "source": [
    "# print statement"
   ]
  },
  {
   "cell_type": "code",
   "execution_count": 4,
   "id": "40379f93",
   "metadata": {},
   "outputs": [
    {
     "name": "stdout",
     "output_type": "stream",
     "text": [
      "30\n",
      "20\n"
     ]
    }
   ],
   "source": [
    "num1=30\n",
    "num2=20\n",
    "print(num1)\n",
    "print(num2)"
   ]
  },
  {
   "cell_type": "code",
   "execution_count": 5,
   "id": "19705f52",
   "metadata": {},
   "outputs": [
    {
     "name": "stdout",
     "output_type": "stream",
     "text": [
      "30\n",
      "20\n"
     ]
    },
    {
     "data": {
      "text/plain": [
       "(30, 20)"
      ]
     },
     "execution_count": 5,
     "metadata": {},
     "output_type": "execute_result"
    }
   ],
   "source": [
    "num1=30\n",
    "num2=20\n",
    "print(num1),print(num2)\n",
    "num1,num2"
   ]
  },
  {
   "cell_type": "code",
   "execution_count": 2,
   "id": "2bbf2b9f",
   "metadata": {},
   "outputs": [
    {
     "name": "stdout",
     "output_type": "stream",
     "text": [
      "30\n",
      "20\n"
     ]
    },
    {
     "data": {
      "text/plain": [
       "(None, None)"
      ]
     },
     "execution_count": 2,
     "metadata": {},
     "output_type": "execute_result"
    }
   ],
   "source": [
    "num1=30\n",
    "num2=20\n",
    "print(num1),print(num2)"
   ]
  },
  {
   "cell_type": "code",
   "execution_count": 3,
   "id": "0bd26ac1",
   "metadata": {},
   "outputs": [
    {
     "name": "stdout",
     "output_type": "stream",
     "text": [
      "30 20\n"
     ]
    }
   ],
   "source": [
    "num1=30\n",
    "num2=20\n",
    "print(num1,num2)"
   ]
  },
  {
   "cell_type": "code",
   "execution_count": 7,
   "id": "826ba128",
   "metadata": {},
   "outputs": [
    {
     "name": "stdout",
     "output_type": "stream",
     "text": [
      "the addition of 100 and 200 is 300\n"
     ]
    }
   ],
   "source": [
    "a=100\n",
    "b=200\n",
    "c=a+b\n",
    "# the addition of 100 and 200 is 300\n",
    "print('the addition of',a,'and',b,'is',c)"
   ]
  },
  {
   "cell_type": "code",
   "execution_count": 8,
   "id": "cb6fc969",
   "metadata": {},
   "outputs": [
    {
     "name": "stdout",
     "output_type": "stream",
     "text": [
      "my name is python im 10 years old and from hyd\n"
     ]
    }
   ],
   "source": [
    "name ='python'\n",
    "age=10\n",
    "city='hyd'\n",
    "# my name is python im 10 years old and from hyd\n",
    "print('my name is',name,'im',age,'years old and from',city)"
   ]
  },
  {
   "cell_type": "markdown",
   "id": "4b590b3f",
   "metadata": {},
   "source": [
    "## formate method "
   ]
  },
  {
   "cell_type": "code",
   "execution_count": 10,
   "id": "32f271f6",
   "metadata": {},
   "outputs": [
    {
     "name": "stdout",
     "output_type": "stream",
     "text": [
      "the addition of100 and 200 is c\n",
      "the addition of 100 and 200 is300\n"
     ]
    }
   ],
   "source": [
    "a=100\n",
    "b=200\n",
    "c=a+b\n",
    "# the addition of 100 and 200 is 300\n",
    "print('the addition of100 and 200 is c')\n",
    "print('the addition of {} and {} is{}'.format(a,b,c))"
   ]
  },
  {
   "cell_type": "code",
   "execution_count": 11,
   "id": "aebb67a7",
   "metadata": {},
   "outputs": [
    {
     "name": "stdout",
     "output_type": "stream",
     "text": [
      "my name is python i am 10years old and from hyd\n"
     ]
    }
   ],
   "source": [
    "name ='python'\n",
    "age=10\n",
    "city='hyd'\n",
    "# my name is python im 10 years old and from hyd\n",
    "print('my name is {} i am {}years old and from {}'.format(name,age,city))"
   ]
  },
  {
   "cell_type": "code",
   "execution_count": 6,
   "id": "f1938a3b",
   "metadata": {},
   "outputs": [
    {
     "name": "stdout",
     "output_type": "stream",
     "text": [
      "the addition of 100 and 200 is 300\n",
      "thr subtract of 100 and 200 is -100\n",
      "the multiplecation of 100 and 100 is 20000\n",
      "the division of 100 and 200 is 0.5\n"
     ]
    }
   ],
   "source": [
    "n1=100\n",
    "n2=200\n",
    "add=n1+n2\n",
    "sub=n1-n2\n",
    "mul=n1*n2\n",
    "div=n1/n2\n",
    "# the addition of 100 and 200 is 300\n",
    "# the subtraction of 100 and 200 is -100\n",
    "# the multiplecation of 100 and 200 is 2000\n",
    "# the divison of 100 and 200 is 0.5\n",
    "\n",
    "print('the addition of {} and {} is {}'.format(n1,n2,add))\n",
    "print('thr subtract of {} and {} is {}'.format(n1,n2,sub))\n",
    "print('the multiplecation of {} and {} is {}'.format(n1,n1,mul))\n",
    "print ('the division of {} and {} is {}'.format(n1,n2,div))\n",
    "\n",
    "\n"
   ]
  },
  {
   "cell_type": "markdown",
   "id": "6923dcb4",
   "metadata": {},
   "source": [
    "## f string"
   ]
  },
  {
   "cell_type": "code",
   "execution_count": 13,
   "id": "d4f3bd74",
   "metadata": {},
   "outputs": [
    {
     "name": "stdout",
     "output_type": "stream",
     "text": [
      "the addition of100 and 200 is c\n",
      "the addition of 100 and 200 is 300\n"
     ]
    }
   ],
   "source": [
    "a=100\n",
    "b=200\n",
    "c=a+b\n",
    "# the addition of 100 and 200 is 300\n",
    "print('the addition of100 and 200 is c')\n",
    "print(f'the addition of {a} and {b} is {c}')\n"
   ]
  },
  {
   "cell_type": "code",
   "execution_count": 12,
   "id": "39833c62",
   "metadata": {},
   "outputs": [
    {
     "name": "stdout",
     "output_type": "stream",
     "text": [
      "the addition of 100 and 200) is 300\n",
      "the sutraction of 100 and 200 is -100\n",
      "the multiplecation of100 and 200 is 20000\n",
      "the division of 100,and 200 is 0.5\n"
     ]
    }
   ],
   "source": [
    "n1=100\n",
    "n2=200\n",
    "add=n1+n2\n",
    "sub=n1-n2\n",
    "mul=n1*n2\n",
    "div=n1/n2\n",
    "# the addition of 100 and 200 is 300\n",
    "# the subtraction of 100 and 200 is -100\n",
    "# the multiplecation of 100 and 200 is 2000\n",
    "# the divison of 100 and 200 is 0.5\n",
    "\n",
    "print(f'the addition of {n1} and {n2}) is {add}')\n",
    "print(f'the sutraction of {n1} and {n2} is {sub}')\n",
    "print(f'the multiplecation of{n1} and {n2} is {mul}')\n",
    "print(f'the division of {n1},and {n2} is {div}')\n"
   ]
  },
  {
   "cell_type": "markdown",
   "id": "3ec39b44",
   "metadata": {},
   "source": [
    "- we have a situation wants to combine two print statements"
   ]
  },
  {
   "cell_type": "markdown",
   "id": "64215d1d",
   "metadata": {},
   "source": [
    "$end$"
   ]
  },
  {
   "cell_type": "code",
   "execution_count": 15,
   "id": "87623f61",
   "metadata": {},
   "outputs": [
    {
     "name": "stdout",
     "output_type": "stream",
     "text": [
      "20******30\n"
     ]
    }
   ],
   "source": [
    "print(20,end='******') \n",
    "print(30)"
   ]
  },
  {
   "cell_type": "code",
   "execution_count": 16,
   "id": "a70b1556",
   "metadata": {},
   "outputs": [
    {
     "name": "stdout",
     "output_type": "stream",
     "text": [
      "1 2  3\n"
     ]
    }
   ],
   "source": [
    "print(1,end=' ')\n",
    "print(2,end='  ')\n",
    "print(3)"
   ]
  },
  {
   "cell_type": "markdown",
   "id": "66d00694",
   "metadata": {},
   "source": [
    "### seperator\n",
    "- we want to seperate multipal varaibals in one print statements "
   ]
  },
  {
   "cell_type": "code",
   "execution_count": 17,
   "id": "5ed3a5e7",
   "metadata": {},
   "outputs": [
    {
     "name": "stdout",
     "output_type": "stream",
     "text": [
      "20=30=50\n"
     ]
    }
   ],
   "source": [
    "print(20,30,50,sep='=')"
   ]
  },
  {
   "cell_type": "markdown",
   "id": "80cd0e4a",
   "metadata": {},
   "source": [
    "- end operator used to combine multiple print statements\n",
    "\n",
    "- sep operator use to seperate the multiple variables in a single print statements "
   ]
  },
  {
   "cell_type": "code",
   "execution_count": 18,
   "id": "525c47a9",
   "metadata": {},
   "outputs": [
    {
     "name": "stdout",
     "output_type": "stream",
     "text": [
      "the addition of 3+4 is 7 .\n"
     ]
    }
   ],
   "source": [
    "print('the addition of 3+4 is',3+4,'.')"
   ]
  },
  {
   "cell_type": "code",
   "execution_count": 22,
   "id": "29697395",
   "metadata": {},
   "outputs": [
    {
     "name": "stdout",
     "output_type": "stream",
     "text": [
      "the addition of 3 and 4 is 7\n",
      "the addition of 3 and 4 is7\n",
      "the addition of 3 and4 is7\n",
      "the addition of 3+4 is7.\n"
     ]
    }
   ],
   "source": [
    "# use formate \n",
    "# use f string\n",
    "# use sep\n",
    "a=3\n",
    "b=4\n",
    "c=a+b\n",
    "# the addition of 3 and 4 is 7\n",
    "print('the addition of 3 and 4 is 7')\n",
    "print('the addition of {} and {} is{}'.format(a,b,c))\n",
    "\n",
    "print(f'the addition of {a} and{b} is{c}')\n",
    "\n",
    "print('the addition of 3+4 is',3+4,'.',sep='')"
   ]
  },
  {
   "cell_type": "markdown",
   "id": "667ecaee-09a0-48ed-a06b-2cbbe92ff27c",
   "metadata": {},
   "source": [
    "- basic\n",
    "- format\n",
    "- f string\n",
    "- end\n",
    "- sep"
   ]
  },
  {
   "cell_type": "code",
   "execution_count": null,
   "id": "5a9603f8-7b3d-4d01-9fac-9338d71a9605",
   "metadata": {},
   "outputs": [],
   "source": []
  }
 ],
 "metadata": {
  "kernelspec": {
   "display_name": "Python 3 (ipykernel)",
   "language": "python",
   "name": "python3"
  },
  "language_info": {
   "codemirror_mode": {
    "name": "ipython",
    "version": 3
   },
   "file_extension": ".py",
   "mimetype": "text/x-python",
   "name": "python",
   "nbconvert_exporter": "python",
   "pygments_lexer": "ipython3",
   "version": "3.12.4"
  }
 },
 "nbformat": 4,
 "nbformat_minor": 5
}
